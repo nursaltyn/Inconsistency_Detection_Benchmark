{
 "cells": [
  {
   "cell_type": "code",
   "execution_count": 1,
   "metadata": {},
   "outputs": [
    {
     "name": "stderr",
     "output_type": "stream",
     "text": [
      "C:\\Users\\Nursulu_1\\AppData\\Local\\Packages\\PythonSoftwareFoundation.Python.3.11_qbz5n2kfra8p0\\LocalCache\\local-packages\\Python311\\site-packages\\tqdm\\auto.py:21: TqdmWarning: IProgress not found. Please update jupyter and ipywidgets. See https://ipywidgets.readthedocs.io/en/stable/user_install.html\n",
      "  from .autonotebook import tqdm as notebook_tqdm\n"
     ]
    }
   ],
   "source": [
    "from transformers import pipeline\n",
    "import pandas as pd\n",
    "from tqdm import tqdm\n",
    "import torch"
   ]
  },
  {
   "cell_type": "code",
   "execution_count": 37,
   "metadata": {},
   "outputs": [],
   "source": [
    "import pickle"
   ]
  },
  {
   "cell_type": "code",
   "execution_count": 23,
   "metadata": {},
   "outputs": [],
   "source": [
    "from collections import Counter"
   ]
  },
  {
   "cell_type": "code",
   "execution_count": 2,
   "metadata": {},
   "outputs": [
    {
     "name": "stderr",
     "output_type": "stream",
     "text": [
      "Downloading shards: 100%|██████████| 5/5 [06:39<00:00, 79.93s/it]\n",
      "Loading checkpoint shards: 100%|██████████| 5/5 [00:02<00:00,  1.77it/s]\n",
      "Some weights of T5ForSequenceClassification were not initialized from the model checkpoint at google/flan-t5-xxl and are newly initialized: ['classification_head.dense.bias', 'classification_head.dense.weight', 'classification_head.out_proj.bias', 'classification_head.out_proj.weight']\n",
      "You should probably TRAIN this model on a down-stream task to be able to use it for predictions and inference.\n",
      "Device set to use cuda:0\n",
      "Failed to determine 'entailment' label id from the label2id mapping in the model config. Setting to -1. Define a descriptive label2id mapping in the model config to ensure correct outputs.\n"
     ]
    }
   ],
   "source": [
    "pipe = pipeline(\"zero-shot-classification\", model=\"google/flan-t5-xxl\")     "
   ]
  },
  {
   "cell_type": "code",
   "execution_count": 2,
   "metadata": {},
   "outputs": [
    {
     "name": "stdout",
     "output_type": "stream",
     "text": [
      "0\n",
      "0\n"
     ]
    }
   ],
   "source": [
    "# Free unused memory\n",
    "torch.cuda.empty_cache()\n",
    "\n",
    "# Optional: Check memory usage after clearing\n",
    "print(torch.cuda.memory_allocated())\n",
    "print(torch.cuda.memory_reserved())"
   ]
  },
  {
   "cell_type": "code",
   "execution_count": 3,
   "metadata": {},
   "outputs": [
    {
     "name": "stderr",
     "output_type": "stream",
     "text": [
      "Loading checkpoint shards: 100%|██████████| 5/5 [00:00<00:00,  6.53it/s]\n",
      "Device set to use cuda:0\n"
     ]
    }
   ],
   "source": [
    "pipe = pipeline(\"text2text-generation\", model=\"google/flan-t5-xxl\")     "
   ]
  },
  {
   "cell_type": "code",
   "execution_count": 5,
   "metadata": {},
   "outputs": [],
   "source": [
    "res = pipe([\"Your task is to detect relationship between Text 1 and Text 2. It can be contradiction, entailment, or unrelated. Text 1: This restaurant is bad. Text 2: This restaurant is good. Relationship between Text 1 and Text 2:\"])"
   ]
  },
  {
   "cell_type": "code",
   "execution_count": 6,
   "metadata": {},
   "outputs": [
    {
     "data": {
      "text/plain": [
       "[{'generated_text': 'contradiction'}]"
      ]
     },
     "execution_count": 6,
     "metadata": {},
     "output_type": "execute_result"
    }
   ],
   "source": [
    "res"
   ]
  },
  {
   "cell_type": "code",
   "execution_count": 7,
   "metadata": {},
   "outputs": [],
   "source": [
    "all_samples_df = pd.read_csv(r\"C:\\Users\\Nursulu_1\\Downloads\\ContraDetect\\automatic_stance_detection\\data\\qualtrics_survey\\all_samples_df.csv\")"
   ]
  },
  {
   "cell_type": "code",
   "execution_count": 8,
   "metadata": {},
   "outputs": [],
   "source": [
    "all_samples_df.columns = [\"Input\"]\n",
    "all_samples_df['t5-xxl'] = 0\n",
    "all_samples_df['confidence'] = 0"
   ]
  },
  {
   "cell_type": "code",
   "execution_count": 15,
   "metadata": {},
   "outputs": [],
   "source": [
    "input = \"Text 1: I hate apples. Text 2: I love apples.\""
   ]
  },
  {
   "cell_type": "code",
   "execution_count": 16,
   "metadata": {},
   "outputs": [
    {
     "name": "stdout",
     "output_type": "stream",
     "text": [
      "contradiction\n"
     ]
    }
   ],
   "source": [
    "# input = all_samples_df['Input'][0]\n",
    "res = pipe([f\"Your task is to detect relationship between Text 1 and Text 2. It can be contradiction, entailment, or unrelated.\\n{input}\\nRelationship between Text 1 and Text 2:\"])\n",
    "print(res[0]['generated_text'])"
   ]
  },
  {
   "cell_type": "code",
   "execution_count": 17,
   "metadata": {},
   "outputs": [],
   "source": [
    "rte_to_labels = {'contradiction': 'Inconsistent', 'entailment': 'Consistent', 'unrelated': 'Unrelated'}"
   ]
  },
  {
   "cell_type": "code",
   "execution_count": 18,
   "metadata": {},
   "outputs": [
    {
     "name": "stderr",
     "output_type": "stream",
     "text": [
      "  0%|          | 3/700 [00:09<35:23,  3.05s/it]You seem to be using the pipelines sequentially on GPU. In order to maximize efficiency please use a dataset\n",
      " 47%|████▋     | 331/700 [17:56<19:59,  3.25s/it]\n"
     ]
    },
    {
     "ename": "KeyError",
     "evalue": "'unanswerable'",
     "output_type": "error",
     "traceback": [
      "\u001b[1;31m---------------------------------------------------------------------------\u001b[0m",
      "\u001b[1;31mKeyError\u001b[0m                                  Traceback (most recent call last)",
      "Cell \u001b[1;32mIn[18], line 5\u001b[0m\n\u001b[0;32m      3\u001b[0m \u001b[38;5;28minput\u001b[39m \u001b[38;5;241m=\u001b[39m all_samples_df[\u001b[38;5;124m'\u001b[39m\u001b[38;5;124mInput\u001b[39m\u001b[38;5;124m'\u001b[39m][i]\n\u001b[0;32m      4\u001b[0m res \u001b[38;5;241m=\u001b[39m pipe([\u001b[38;5;124mf\u001b[39m\u001b[38;5;124m\"\u001b[39m\u001b[38;5;124mYour task is to detect relationship between Text 1 and Text 2. It can be contradiction, entailment, or unrelated.\u001b[39m\u001b[38;5;130;01m\\n\u001b[39;00m\u001b[38;5;132;01m{\u001b[39;00m\u001b[38;5;28minput\u001b[39m\u001b[38;5;132;01m}\u001b[39;00m\u001b[38;5;130;01m\\n\u001b[39;00m\u001b[38;5;124mRelationship between Text 1 and Text 2:\u001b[39m\u001b[38;5;124m\"\u001b[39m])\n\u001b[1;32m----> 5\u001b[0m answers_t5_xxl\u001b[38;5;241m.\u001b[39mappend(\u001b[43mrte_to_labels\u001b[49m\u001b[43m[\u001b[49m\u001b[43mres\u001b[49m\u001b[43m[\u001b[49m\u001b[38;5;241;43m0\u001b[39;49m\u001b[43m]\u001b[49m\u001b[43m[\u001b[49m\u001b[38;5;124;43m'\u001b[39;49m\u001b[38;5;124;43mgenerated_text\u001b[39;49m\u001b[38;5;124;43m'\u001b[39;49m\u001b[43m]\u001b[49m\u001b[43m]\u001b[49m)\n",
      "\u001b[1;31mKeyError\u001b[0m: 'unanswerable'"
     ]
    }
   ],
   "source": [
    "answers_t5_xxl = []\n",
    "for i in tqdm(range(len(all_samples_df))):\n",
    "    input = all_samples_df['Input'][i]\n",
    "    res = pipe([f\"Your task is to detect relationship between Text 1 and Text 2. It can be contradiction, entailment, or unrelated.\\n{input}\\nRelationship between Text 1 and Text 2:\"])\n",
    "    answers_t5_xxl.append(rte_to_labels[res[0]['generated_text']])\n"
   ]
  },
  {
   "cell_type": "code",
   "execution_count": 21,
   "metadata": {},
   "outputs": [
    {
     "data": {
      "text/plain": [
       "331"
      ]
     },
     "execution_count": 21,
     "metadata": {},
     "output_type": "execute_result"
    }
   ],
   "source": [
    "i"
   ]
  },
  {
   "cell_type": "code",
   "execution_count": 22,
   "metadata": {},
   "outputs": [
    {
     "name": "stderr",
     "output_type": "stream",
     "text": [
      "100%|██████████| 369/369 [20:33<00:00,  3.34s/it]\n"
     ]
    }
   ],
   "source": [
    "for el in tqdm(range(i, len(all_samples_df))):\n",
    "    input = all_samples_df['Input'][el]\n",
    "    try:\n",
    "        res = pipe([f\"Your task is to detect relationship between Text 1 and Text 2. It can be contradiction, entailment, or unrelated.\\n{input}\\nRelationship between Text 1 and Text 2:\"])\n",
    "        answers_t5_xxl.append(rte_to_labels[res[0]['generated_text']])\n",
    "    except:\n",
    "        answers_t5_xxl.append('error')"
   ]
  },
  {
   "cell_type": "code",
   "execution_count": 25,
   "metadata": {},
   "outputs": [],
   "source": [
    "t5_to_answer = dict(enumerate(answers_t5_xxl))"
   ]
  },
  {
   "cell_type": "code",
   "execution_count": 34,
   "metadata": {},
   "outputs": [],
   "source": [
    "input = all_samples_df['Input'][334]\n",
    "res = pipe([f\"Your task is to detect relationship between Text 1 and Text 2. It can be contradiction, entailment, or unrelated.\\n{input}\\nRelationship between Text 1 and Text 2:\"])\n"
   ]
  },
  {
   "cell_type": "code",
   "execution_count": 35,
   "metadata": {},
   "outputs": [
    {
     "data": {
      "text/plain": [
       "[{'generated_text': 'unanswerable'}]"
      ]
     },
     "execution_count": 35,
     "metadata": {},
     "output_type": "execute_result"
    }
   ],
   "source": [
    "res"
   ]
  },
  {
   "cell_type": "code",
   "execution_count": 36,
   "metadata": {},
   "outputs": [],
   "source": [
    "answers_t5_xxl[334] = 'Unrelated'"
   ]
  },
  {
   "cell_type": "markdown",
   "metadata": {},
   "source": [
    "331, 334 - said unanswerable. some sensitive topics like drugs and gender etc. we will count as unrelated"
   ]
  },
  {
   "cell_type": "code",
   "execution_count": 29,
   "metadata": {},
   "outputs": [
    {
     "data": {
      "text/plain": [
       "[{'generated_text': 'unanswerable'}]"
      ]
     },
     "execution_count": 29,
     "metadata": {},
     "output_type": "execute_result"
    }
   ],
   "source": [
    "res"
   ]
  },
  {
   "cell_type": "code",
   "execution_count": null,
   "metadata": {},
   "outputs": [],
   "source": [
    "331\n",
    "334"
   ]
  },
  {
   "cell_type": "code",
   "execution_count": 24,
   "metadata": {},
   "outputs": [
    {
     "data": {
      "text/plain": [
       "Counter({'Unrelated': 535, 'Inconsistent': 145, 'Consistent': 18, 'error': 2})"
      ]
     },
     "execution_count": 24,
     "metadata": {},
     "output_type": "execute_result"
    }
   ],
   "source": [
    "Counter(answers_t5_xxl)"
   ]
  },
  {
   "cell_type": "code",
   "execution_count": 38,
   "metadata": {},
   "outputs": [],
   "source": [
    "# with open('answers_t5_xxl_3_types.pkl', 'wb') as file:\n",
    "#     pickle.dump(answers_t5_xxl, file)"
   ]
  },
  {
   "cell_type": "code",
   "execution_count": 8,
   "metadata": {},
   "outputs": [],
   "source": [
    "res = pipe([\"Text 1: This restaurant is bad. Text 2: This restaurant is good. Relationship between Text 1 and Text 2:\"], candidate_labels=[\"unrelated\", \"contradiction\", \"entailment\"])"
   ]
  },
  {
   "cell_type": "code",
   "execution_count": 9,
   "metadata": {},
   "outputs": [
    {
     "data": {
      "text/plain": [
       "[{'sequence': 'Text 1: This restaurant is bad. Text 2: This restaurant is good. Relationship between Text 1 and Text 2:',\n",
       "  'labels': ['contradiction', 'unrelated', 'entailment'],\n",
       "  'scores': [0.3427811563014984, 0.33414897322654724, 0.32306990027427673]}]"
      ]
     },
     "execution_count": 9,
     "metadata": {},
     "output_type": "execute_result"
    }
   ],
   "source": [
    "res"
   ]
  },
  {
   "cell_type": "code",
   "execution_count": 12,
   "metadata": {},
   "outputs": [
    {
     "data": {
      "text/plain": [
       "'contradictory'"
      ]
     },
     "execution_count": 12,
     "metadata": {},
     "output_type": "execute_result"
    }
   ],
   "source": [
    "res[0]['labels'][0]"
   ]
  },
  {
   "cell_type": "code",
   "execution_count": 39,
   "metadata": {},
   "outputs": [],
   "source": [
    "df = pd.read_csv(r\"C:\\Users\\Nursulu_1\\Downloads\\ContraDetect\\automatic_stance_detection\\data\\qualtrics_survey\\results\\df_gold_part_1.csv\")"
   ]
  },
  {
   "cell_type": "code",
   "execution_count": 44,
   "metadata": {},
   "outputs": [
    {
     "data": {
      "text/html": [
       "<div>\n",
       "<style scoped>\n",
       "    .dataframe tbody tr th:only-of-type {\n",
       "        vertical-align: middle;\n",
       "    }\n",
       "\n",
       "    .dataframe tbody tr th {\n",
       "        vertical-align: top;\n",
       "    }\n",
       "\n",
       "    .dataframe thead th {\n",
       "        text-align: right;\n",
       "    }\n",
       "</style>\n",
       "<table border=\"1\" class=\"dataframe\">\n",
       "  <thead>\n",
       "    <tr style=\"text-align: right;\">\n",
       "      <th></th>\n",
       "      <th>Input</th>\n",
       "      <th>Answer</th>\n",
       "      <th>Confidence</th>\n",
       "      <th>All answers</th>\n",
       "      <th>Answer_3_classes</th>\n",
       "      <th>ChatGPT-4 5 classes</th>\n",
       "      <th>ChatGPT-4 3 classes</th>\n",
       "      <th>ChatGPT-4 5 classes aggregated</th>\n",
       "      <th>ChatGPT-3.5 5 classes</th>\n",
       "      <th>ChatGPT-3.5 3 classes</th>\n",
       "      <th>ChatGPT-3.5 5 classes aggregated</th>\n",
       "      <th>Llama3.3-70B-instruct 5 classes</th>\n",
       "      <th>Llama3.3-70B-instruct 3 classes</th>\n",
       "      <th>Llama3.3-70B-instruct 5 classes aggregated</th>\n",
       "    </tr>\n",
       "  </thead>\n",
       "  <tbody>\n",
       "    <tr>\n",
       "      <th>0</th>\n",
       "      <td>Text 1: We will abolish long-term tuition fees...</td>\n",
       "      <td>Surface contradiction</td>\n",
       "      <td>100.0</td>\n",
       "      <td>['Surface contradiction', 'Surface contradicti...</td>\n",
       "      <td>Inconsistent</td>\n",
       "      <td>Surface contradiction</td>\n",
       "      <td>Surface contradiction</td>\n",
       "      <td>Inconsistent</td>\n",
       "      <td>Surface contradiction</td>\n",
       "      <td>Inconsistent</td>\n",
       "      <td>Inconsistent</td>\n",
       "      <td>Surface contradiction</td>\n",
       "      <td>Inconsistent</td>\n",
       "      <td>Inconsistent</td>\n",
       "    </tr>\n",
       "    <tr>\n",
       "      <th>1</th>\n",
       "      <td>Text 1: The term of a prime minister should be...</td>\n",
       "      <td>Surface contradiction</td>\n",
       "      <td>40.0</td>\n",
       "      <td>['Consistent', 'Surface contradiction', 'Indir...</td>\n",
       "      <td>Inconsistent</td>\n",
       "      <td>Consistent</td>\n",
       "      <td>Consistent</td>\n",
       "      <td>Consistent</td>\n",
       "      <td>Surface contradiction</td>\n",
       "      <td>Inconsistent</td>\n",
       "      <td>Inconsistent</td>\n",
       "      <td>Consistent</td>\n",
       "      <td>Consistent</td>\n",
       "      <td>Consistent</td>\n",
       "    </tr>\n",
       "    <tr>\n",
       "      <th>2</th>\n",
       "      <td>Text 1: Food that is free from genetic modific...</td>\n",
       "      <td>Consistent</td>\n",
       "      <td>40.0</td>\n",
       "      <td>['Consistent', 'Consistent', 'Indirect inconsi...</td>\n",
       "      <td>Consistent</td>\n",
       "      <td>Consistent</td>\n",
       "      <td>Consistent</td>\n",
       "      <td>Consistent</td>\n",
       "      <td>Indirect inconsistency</td>\n",
       "      <td>Consistent</td>\n",
       "      <td>Inconsistent</td>\n",
       "      <td>Consistent</td>\n",
       "      <td>Consistent</td>\n",
       "      <td>Consistent</td>\n",
       "    </tr>\n",
       "    <tr>\n",
       "      <th>3</th>\n",
       "      <td>Text 1: The 5% hurdle prevents the representat...</td>\n",
       "      <td>Surface contradiction</td>\n",
       "      <td>60.0</td>\n",
       "      <td>['Surface contradiction', 'Surface contradicti...</td>\n",
       "      <td>Inconsistent</td>\n",
       "      <td>Surface contradiction</td>\n",
       "      <td>Surface contradiction</td>\n",
       "      <td>Inconsistent</td>\n",
       "      <td>Surface contradiction</td>\n",
       "      <td>Inconsistent</td>\n",
       "      <td>Inconsistent</td>\n",
       "      <td>Surface contradiction</td>\n",
       "      <td>Inconsistent</td>\n",
       "      <td>Inconsistent</td>\n",
       "    </tr>\n",
       "    <tr>\n",
       "      <th>4</th>\n",
       "      <td>Text 1: Germany should consistently deport for...</td>\n",
       "      <td>Unrelated</td>\n",
       "      <td>100.0</td>\n",
       "      <td>['Unrelated', 'Unrelated', 'Unrelated', 'Unrel...</td>\n",
       "      <td>Unrelated</td>\n",
       "      <td>Unrelated</td>\n",
       "      <td>Unrelated</td>\n",
       "      <td>Unrelated</td>\n",
       "      <td>Unrelated</td>\n",
       "      <td>Unrelated</td>\n",
       "      <td>Unrelated</td>\n",
       "      <td>Unrelated</td>\n",
       "      <td>ChatCompletionMessage(content=\"Label: Unrelate...</td>\n",
       "      <td>Unrelated</td>\n",
       "    </tr>\n",
       "    <tr>\n",
       "      <th>...</th>\n",
       "      <td>...</td>\n",
       "      <td>...</td>\n",
       "      <td>...</td>\n",
       "      <td>...</td>\n",
       "      <td>...</td>\n",
       "      <td>...</td>\n",
       "      <td>...</td>\n",
       "      <td>...</td>\n",
       "      <td>...</td>\n",
       "      <td>...</td>\n",
       "      <td>...</td>\n",
       "      <td>...</td>\n",
       "      <td>...</td>\n",
       "      <td>...</td>\n",
       "    </tr>\n",
       "    <tr>\n",
       "      <th>343</th>\n",
       "      <td>Text 1:  To bolster the economy, a major focus...</td>\n",
       "      <td>Indirect inconsistency</td>\n",
       "      <td>60.0</td>\n",
       "      <td>['Indirect inconsistency', 'Indirect inconsist...</td>\n",
       "      <td>Inconsistent</td>\n",
       "      <td>Factual inconsistency</td>\n",
       "      <td>Indirect inconsistency</td>\n",
       "      <td>Inconsistent</td>\n",
       "      <td>Surface contradiction</td>\n",
       "      <td>Inconsistent</td>\n",
       "      <td>Inconsistent</td>\n",
       "      <td>Indirect inconsistency</td>\n",
       "      <td>Inconsistent</td>\n",
       "      <td>Inconsistent</td>\n",
       "    </tr>\n",
       "    <tr>\n",
       "      <th>344</th>\n",
       "      <td>Text 1: Students should have the free choice b...</td>\n",
       "      <td>Surface contradiction</td>\n",
       "      <td>60.0</td>\n",
       "      <td>['Factual inconsistency', 'Factual inconsisten...</td>\n",
       "      <td>Inconsistent</td>\n",
       "      <td>Indirect inconsistency</td>\n",
       "      <td>Indirect inconsistency</td>\n",
       "      <td>Inconsistent</td>\n",
       "      <td>Surface contradiction</td>\n",
       "      <td>Inconsistent</td>\n",
       "      <td>Inconsistent</td>\n",
       "      <td>Indirect inconsistency</td>\n",
       "      <td>Consistent</td>\n",
       "      <td>Inconsistent</td>\n",
       "    </tr>\n",
       "    <tr>\n",
       "      <th>345</th>\n",
       "      <td>Text 1: Belonging to a certain social or ethni...</td>\n",
       "      <td>Indirect inconsistency</td>\n",
       "      <td>80.0</td>\n",
       "      <td>['Indirect inconsistency', 'Indirect inconsist...</td>\n",
       "      <td>Inconsistent</td>\n",
       "      <td>Indirect inconsistency</td>\n",
       "      <td>Indirect inconsistency</td>\n",
       "      <td>Inconsistent</td>\n",
       "      <td>Surface contradiction</td>\n",
       "      <td>Inconsistent</td>\n",
       "      <td>Inconsistent</td>\n",
       "      <td>Consistent</td>\n",
       "      <td>Consistent</td>\n",
       "      <td>Consistent</td>\n",
       "    </tr>\n",
       "    <tr>\n",
       "      <th>346</th>\n",
       "      <td>Text 1: The level of social basic security mus...</td>\n",
       "      <td>Factual inconsistency</td>\n",
       "      <td>40.0</td>\n",
       "      <td>['Indirect inconsistency', 'Factual inconsiste...</td>\n",
       "      <td>Inconsistent</td>\n",
       "      <td>Indirect inconsistency</td>\n",
       "      <td>Indirect inconsistency</td>\n",
       "      <td>Inconsistent</td>\n",
       "      <td>Surface contradiction</td>\n",
       "      <td>Inconsistent</td>\n",
       "      <td>Inconsistent</td>\n",
       "      <td>Indirect inconsistency</td>\n",
       "      <td>Inconsistent</td>\n",
       "      <td>Inconsistent</td>\n",
       "    </tr>\n",
       "    <tr>\n",
       "      <th>347</th>\n",
       "      <td>Text 1: We advocate for banning helicopter fli...</td>\n",
       "      <td>Factual inconsistency</td>\n",
       "      <td>60.0</td>\n",
       "      <td>['Surface contradiction', 'Surface contradicti...</td>\n",
       "      <td>Inconsistent</td>\n",
       "      <td>Indirect inconsistency</td>\n",
       "      <td>Indirect inconsistency</td>\n",
       "      <td>Inconsistent</td>\n",
       "      <td>Factual inconsistency</td>\n",
       "      <td>Inconsistent</td>\n",
       "      <td>Inconsistent</td>\n",
       "      <td>Surface contradiction</td>\n",
       "      <td>Inconsistent</td>\n",
       "      <td>Inconsistent</td>\n",
       "    </tr>\n",
       "  </tbody>\n",
       "</table>\n",
       "<p>348 rows × 14 columns</p>\n",
       "</div>"
      ],
      "text/plain": [
       "                                                 Input  \\\n",
       "0    Text 1: We will abolish long-term tuition fees...   \n",
       "1    Text 1: The term of a prime minister should be...   \n",
       "2    Text 1: Food that is free from genetic modific...   \n",
       "3    Text 1: The 5% hurdle prevents the representat...   \n",
       "4    Text 1: Germany should consistently deport for...   \n",
       "..                                                 ...   \n",
       "343  Text 1:  To bolster the economy, a major focus...   \n",
       "344  Text 1: Students should have the free choice b...   \n",
       "345  Text 1: Belonging to a certain social or ethni...   \n",
       "346  Text 1: The level of social basic security mus...   \n",
       "347  Text 1: We advocate for banning helicopter fli...   \n",
       "\n",
       "                     Answer  Confidence  \\\n",
       "0     Surface contradiction       100.0   \n",
       "1     Surface contradiction        40.0   \n",
       "2                Consistent        40.0   \n",
       "3     Surface contradiction        60.0   \n",
       "4                 Unrelated       100.0   \n",
       "..                      ...         ...   \n",
       "343  Indirect inconsistency        60.0   \n",
       "344   Surface contradiction        60.0   \n",
       "345  Indirect inconsistency        80.0   \n",
       "346   Factual inconsistency        40.0   \n",
       "347   Factual inconsistency        60.0   \n",
       "\n",
       "                                           All answers Answer_3_classes  \\\n",
       "0    ['Surface contradiction', 'Surface contradicti...     Inconsistent   \n",
       "1    ['Consistent', 'Surface contradiction', 'Indir...     Inconsistent   \n",
       "2    ['Consistent', 'Consistent', 'Indirect inconsi...       Consistent   \n",
       "3    ['Surface contradiction', 'Surface contradicti...     Inconsistent   \n",
       "4    ['Unrelated', 'Unrelated', 'Unrelated', 'Unrel...        Unrelated   \n",
       "..                                                 ...              ...   \n",
       "343  ['Indirect inconsistency', 'Indirect inconsist...     Inconsistent   \n",
       "344  ['Factual inconsistency', 'Factual inconsisten...     Inconsistent   \n",
       "345  ['Indirect inconsistency', 'Indirect inconsist...     Inconsistent   \n",
       "346  ['Indirect inconsistency', 'Factual inconsiste...     Inconsistent   \n",
       "347  ['Surface contradiction', 'Surface contradicti...     Inconsistent   \n",
       "\n",
       "        ChatGPT-4 5 classes     ChatGPT-4 3 classes  \\\n",
       "0     Surface contradiction   Surface contradiction   \n",
       "1                Consistent              Consistent   \n",
       "2                Consistent              Consistent   \n",
       "3     Surface contradiction   Surface contradiction   \n",
       "4                 Unrelated               Unrelated   \n",
       "..                      ...                     ...   \n",
       "343   Factual inconsistency  Indirect inconsistency   \n",
       "344  Indirect inconsistency  Indirect inconsistency   \n",
       "345  Indirect inconsistency  Indirect inconsistency   \n",
       "346  Indirect inconsistency  Indirect inconsistency   \n",
       "347  Indirect inconsistency  Indirect inconsistency   \n",
       "\n",
       "    ChatGPT-4 5 classes aggregated   ChatGPT-3.5 5 classes  \\\n",
       "0                     Inconsistent   Surface contradiction   \n",
       "1                       Consistent   Surface contradiction   \n",
       "2                       Consistent  Indirect inconsistency   \n",
       "3                     Inconsistent   Surface contradiction   \n",
       "4                        Unrelated               Unrelated   \n",
       "..                             ...                     ...   \n",
       "343                   Inconsistent   Surface contradiction   \n",
       "344                   Inconsistent   Surface contradiction   \n",
       "345                   Inconsistent   Surface contradiction   \n",
       "346                   Inconsistent   Surface contradiction   \n",
       "347                   Inconsistent   Factual inconsistency   \n",
       "\n",
       "    ChatGPT-3.5 3 classes ChatGPT-3.5 5 classes aggregated  \\\n",
       "0            Inconsistent                     Inconsistent   \n",
       "1            Inconsistent                     Inconsistent   \n",
       "2              Consistent                     Inconsistent   \n",
       "3            Inconsistent                     Inconsistent   \n",
       "4               Unrelated                        Unrelated   \n",
       "..                    ...                              ...   \n",
       "343          Inconsistent                     Inconsistent   \n",
       "344          Inconsistent                     Inconsistent   \n",
       "345          Inconsistent                     Inconsistent   \n",
       "346          Inconsistent                     Inconsistent   \n",
       "347          Inconsistent                     Inconsistent   \n",
       "\n",
       "    Llama3.3-70B-instruct 5 classes  \\\n",
       "0             Surface contradiction   \n",
       "1                        Consistent   \n",
       "2                        Consistent   \n",
       "3             Surface contradiction   \n",
       "4                         Unrelated   \n",
       "..                              ...   \n",
       "343          Indirect inconsistency   \n",
       "344          Indirect inconsistency   \n",
       "345                      Consistent   \n",
       "346          Indirect inconsistency   \n",
       "347           Surface contradiction   \n",
       "\n",
       "                       Llama3.3-70B-instruct 3 classes  \\\n",
       "0                                         Inconsistent   \n",
       "1                                           Consistent   \n",
       "2                                           Consistent   \n",
       "3                                         Inconsistent   \n",
       "4    ChatCompletionMessage(content=\"Label: Unrelate...   \n",
       "..                                                 ...   \n",
       "343                                       Inconsistent   \n",
       "344                                         Consistent   \n",
       "345                                         Consistent   \n",
       "346                                       Inconsistent   \n",
       "347                                       Inconsistent   \n",
       "\n",
       "    Llama3.3-70B-instruct 5 classes aggregated  \n",
       "0                                 Inconsistent  \n",
       "1                                   Consistent  \n",
       "2                                   Consistent  \n",
       "3                                 Inconsistent  \n",
       "4                                    Unrelated  \n",
       "..                                         ...  \n",
       "343                               Inconsistent  \n",
       "344                               Inconsistent  \n",
       "345                                 Consistent  \n",
       "346                               Inconsistent  \n",
       "347                               Inconsistent  \n",
       "\n",
       "[348 rows x 14 columns]"
      ]
     },
     "execution_count": 44,
     "metadata": {},
     "output_type": "execute_result"
    }
   ],
   "source": [
    "df"
   ]
  },
  {
   "cell_type": "code",
   "execution_count": 42,
   "metadata": {},
   "outputs": [],
   "source": [
    "df_selected = df.iloc[:, [0, 1]]"
   ]
  },
  {
   "cell_type": "code",
   "execution_count": 45,
   "metadata": {},
   "outputs": [],
   "source": [
    "df_selected_3_classes = df.iloc[:, [0, 4]]"
   ]
  },
  {
   "cell_type": "code",
   "execution_count": 46,
   "metadata": {},
   "outputs": [],
   "source": [
    "df_selected.to_csv(\"fine_tuning_pt_1_5_classes.csv\", index=False)"
   ]
  },
  {
   "cell_type": "code",
   "execution_count": 47,
   "metadata": {},
   "outputs": [],
   "source": [
    "df_selected_3_classes.to_csv(\"fine_tuning_pt_1_3_classes.csv\", index=False)"
   ]
  },
  {
   "cell_type": "code",
   "execution_count": null,
   "metadata": {},
   "outputs": [],
   "source": []
  }
 ],
 "metadata": {
  "kernelspec": {
   "display_name": "Python 3",
   "language": "python",
   "name": "python3"
  },
  "language_info": {
   "codemirror_mode": {
    "name": "ipython",
    "version": 3
   },
   "file_extension": ".py",
   "mimetype": "text/x-python",
   "name": "python",
   "nbconvert_exporter": "python",
   "pygments_lexer": "ipython3",
   "version": "3.11.9"
  }
 },
 "nbformat": 4,
 "nbformat_minor": 2
}
