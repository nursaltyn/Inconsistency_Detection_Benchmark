{
 "cells": [
  {
   "cell_type": "code",
   "execution_count": 4,
   "metadata": {},
   "outputs": [],
   "source": [
    "import pandas as pd\n",
    "from openai import OpenAI\n",
    "import time\n",
    "import os\n",
    "import random"
   ]
  },
  {
   "cell_type": "code",
   "execution_count": null,
   "metadata": {},
   "outputs": [],
   "source": []
  },
  {
   "cell_type": "code",
   "execution_count": 1,
   "metadata": {},
   "outputs": [
    {
     "data": {
      "text/plain": [
       "33.33333333333333"
      ]
     },
     "execution_count": 1,
     "metadata": {},
     "output_type": "execute_result"
    }
   ],
   "source": [
    "7.6/ 22.8 * 100"
   ]
  },
  {
   "cell_type": "code",
   "execution_count": 2,
   "metadata": {},
   "outputs": [
    {
     "data": {
      "text/plain": [
       "1143.8"
      ]
     },
     "execution_count": 2,
     "metadata": {},
     "output_type": "execute_result"
    }
   ],
   "source": [
    "860 * 0.33 + 860"
   ]
  },
  {
   "cell_type": "code",
   "execution_count": 7,
   "metadata": {},
   "outputs": [
    {
     "data": {
      "text/plain": [
       "172.0"
      ]
     },
     "execution_count": 7,
     "metadata": {},
     "output_type": "execute_result"
    }
   ],
   "source": [
    "860 / 5"
   ]
  },
  {
   "cell_type": "code",
   "execution_count": 8,
   "metadata": {},
   "outputs": [
    {
     "data": {
      "text/plain": [
       "11.8"
      ]
     },
     "execution_count": 8,
     "metadata": {},
     "output_type": "execute_result"
    }
   ],
   "source": [
    "59/5"
   ]
  },
  {
   "cell_type": "code",
   "execution_count": 2,
   "metadata": {},
   "outputs": [
    {
     "data": {
      "text/plain": [
       "2.9166666666666665"
      ]
     },
     "execution_count": 2,
     "metadata": {},
     "output_type": "execute_result"
    }
   ],
   "source": [
    "175 / 60"
   ]
  },
  {
   "cell_type": "code",
   "execution_count": 6,
   "metadata": {},
   "outputs": [
    {
     "data": {
      "text/plain": [
       "36.63"
      ]
     },
     "execution_count": 6,
     "metadata": {},
     "output_type": "execute_result"
    }
   ],
   "source": [
    "12.21 * 3"
   ]
  },
  {
   "cell_type": "code",
   "execution_count": 5,
   "metadata": {},
   "outputs": [
    {
     "data": {
      "text/plain": [
       "44.160000000000004"
      ]
     },
     "execution_count": 5,
     "metadata": {},
     "output_type": "execute_result"
    }
   ],
   "source": [
    "14.72 * 3"
   ]
  },
  {
   "cell_type": "code",
   "execution_count": 9,
   "metadata": {},
   "outputs": [
    {
     "data": {
      "text/plain": [
       "140.0"
      ]
     },
     "execution_count": 9,
     "metadata": {},
     "output_type": "execute_result"
    }
   ],
   "source": [
    "700/5"
   ]
  },
  {
   "cell_type": "code",
   "execution_count": 14,
   "metadata": {},
   "outputs": [
    {
     "data": {
      "text/plain": [
       "122.61760000000001"
      ]
     },
     "execution_count": 14,
     "metadata": {},
     "output_type": "execute_result"
    }
   ],
   "source": [
    "8.33 * 14.72"
   ]
  },
  {
   "cell_type": "code",
   "execution_count": 6,
   "metadata": {},
   "outputs": [
    {
     "data": {
      "text/plain": [
       "858.6661760000001"
      ]
     },
     "execution_count": 6,
     "metadata": {},
     "output_type": "execute_result"
    }
   ],
   "source": [
    "14.72 * 58.3333"
   ]
  },
  {
   "cell_type": "code",
   "execution_count": 6,
   "metadata": {},
   "outputs": [],
   "source": [
    "from tqdm import tqdm"
   ]
  },
  {
   "cell_type": "code",
   "execution_count": 2,
   "metadata": {},
   "outputs": [],
   "source": [
    "df = pd.read_csv(r\"C:\\Users\\Nursulu_1\\Downloads\\ContraDetect\\automatic_stance_detection\\data\\wahlomat\\wahlomat_statements\\all_statements_wahlomat.csv\")"
   ]
  },
  {
   "cell_type": "code",
   "execution_count": 3,
   "metadata": {},
   "outputs": [],
   "source": [
    "all_statements = list(df['Statement'].unique())"
   ]
  },
  {
   "cell_type": "code",
   "execution_count": 9,
   "metadata": {},
   "outputs": [
    {
     "data": {
      "text/plain": [
       "['Baden-Württemberg soll sich für die Einführung einer Pkw-Maut auf Autobahnen einsetzen.',\n",
       " 'Der Bau von Moscheen soll in Baden-Württemberg verboten werden.',\n",
       " 'Betriebe, die keine Ausbildungsplätze anbieten, sollen eine Abgabe zahlen müssen.',\n",
       " 'In Baden-Württemberg sollen weitere Krankenhäuser privatisiert werden.',\n",
       " 'Alle Kinder sollen ungeachtet ihres kulturellen Hintergrundes gemeinsam unterrichtet werden.',\n",
       " 'Baden-Württemberg soll eine Begrenzung staatlicher Schulden (\"Schuldenbremse\") in der Landesverfassung verankern.',\n",
       " 'Eingetragene Partnerschaften (\"Homo-Ehen\") sollen auch in Baden-Württemberg auf dem Standesamt geschlossen werden können.',\n",
       " 'Baden-Württemberg soll sich für einen flächendeckenden gesetzlichen Mindestlohn einsetzen.',\n",
       " 'Das Land soll Projekte zur Integration von Ausländern und Ausländerinnen fördern.',\n",
       " 'In Baden-Württemberg soll der Anbau von gentechnisch veränderten Pflanzen erleichtert werden.',\n",
       " 'Religiöse Bezüge sollen aus der baden-württembergischen Landesverfassung gestrichen werden.',\n",
       " 'Die gemeinsame Grundschulzeit soll mindestens bis zur sechsten Klasse ausgeweitet werden.',\n",
       " 'In den Aufsichtsgremien der öffentlich-rechtlichen Medien sollen keine Mitglieder der Landesregierung mehr vertreten sein.',\n",
       " 'Polizisten und Polizistinnen sollen bei Großeinsätzen eine gut lesbare, individuelle Kennung tragen müssen.',\n",
       " 'Das Land soll weiterhin Projekte und Programme gegen Rechtsextremismus fördern.',\n",
       " 'Wiedereinführung des 9-jährigen Gymnasiums (\"G9\") in Baden-Württemberg.',\n",
       " 'Eltern, die ihre Kinder ausschließlich zu Hause erziehen, sollen eine finanzielle Unterstützung (\"Betreuungsgeld\") erhalten.',\n",
       " 'Baden-Württemberg soll sich für ein Verbot von Unternehmensspenden an Parteien einsetzen.',\n",
       " 'Das letzte Kindergartenjahr vor der Einschulung soll in Baden-Württemberg verpflichtend sein.',\n",
       " 'Asylbewerber und Asylbewerberinnen sollen eine uneingeschränkte Arbeitserlaubnis erhalten.',\n",
       " 'Baden-Württemberg soll Informationen über Steuerhinterzieher und Steuerhinterzieherinnen kaufen, auch wenn diese Daten gestohlen worden sind.',\n",
       " 'Absolutes Rauchverbot in allen Gaststätten und Restaurants in Baden-Württemberg!',\n",
       " 'In Baden-Württemberg soll die kommunale Grundversorgung (Wasser, Strom, Gas, Abfall) vollständig in öffentlicher Hand sein.',\n",
       " 'In Aufsichtsräten von Unternehmen soll eine gesetzliche Frauenquote gelten.',\n",
       " 'Bei großen Sportereignissen soll der Veranstalter die Kosten für den Polizei-Einsatz komplett selbst tragen.',\n",
       " '\"Hartz IV\"-Empfängern/innen sollen auch weiterhin Leistungen gekürzt werden, wenn sie ein Jobangebot ablehnen.',\n",
       " 'Der baden-württembergische Landesverfassungsschutz soll abgeschafft werden.',\n",
       " 'In Baden-Württemberg: Wählen ab 16 Jahren bei Landtagswahlen!',\n",
       " 'An öffentlichen Universitäten in Baden-Württemberg: Abschaffung der Gebühren für das Erststudium.',\n",
       " 'Mehr Menschen mit Migrationshintergrund sollen im Polizeidienst arbeiten.',\n",
       " 'In Baden-Württemberg sollen verkaufsoffene Sonntage ausnahmslos abgeschafft werden.',\n",
       " 'Die Berliner S-Bahn soll als landeseigenes Unternehmen betrieben werden!',\n",
       " 'Bei der Berliner Abgeordnetenhauswahl: Wählen ab 16 Jahren!',\n",
       " 'Härteres Vorgehen bei Verschmutzung durch Hundekot.',\n",
       " 'Eingetragene Lebenspartnerschaften sollen der Ehe gleichgestellt werden.',\n",
       " 'Der Alkoholkonsum auf öffentlichen Plätzen soll weiter eingeschränkt werden.',\n",
       " 'In Berlin soll es eine Steuer für Hotelübernachtungen geben (\"City-Tax\").',\n",
       " 'Das letzte Kita-Jahr vor der Einschulung soll für alle Kinder verpflichtend sein.',\n",
       " 'Berlin soll weiterhin Kulturprojekte von Menschen mit Migrationshintergrund fördern.',\n",
       " 'Die Bebauung des Spreeufers im Rahmen des Mediaspree-Projekts soll gestoppt werden.',\n",
       " 'Kriminelle Jugendliche sollen bei einer Verurteilung auf Bewährung auch für kurze Zeit inhaftiert werden können (\"Warnschussarrest\").',\n",
       " 'Die Grunderwerbssteuer soll erhöht werden.',\n",
       " 'Projekte zur Bekämpfung des Linksextremismus sollen gefördert werden.',\n",
       " 'Die sechsjährige Grundschulzeit soll für alle Schülerinnen und Schüler verpflichtend sein.',\n",
       " 'Berlin soll sich dafür einsetzen, dass sich Asylbewerber und Asylbewerberinnen in ganz Deutschland frei bewegen dürfen.',\n",
       " 'In Berlin sollen die Hürden für Volksentscheide gesenkt werden.',\n",
       " 'Die Stadtautobahn A100 soll verlängert werden.',\n",
       " 'Mehr Menschen mit Migrationshintergrund sollen im öffentlichen Dienst Berlins arbeiten.',\n",
       " 'Alle Bachelor-Absolventen Berliner Hochschulen sollen einen Rechtsanspruch auf einen Masterstudienplatz in Berlin haben.',\n",
       " 'Das Tempelhofer Feld soll komplett als Grünfläche erhalten bleiben.',\n",
       " 'Kindergeld soll nur an deutsche Familien ausgezahlt werden.',\n",
       " 'Auf mehr Berliner Straßen soll Tempo 30 gelten.',\n",
       " 'Projekte gegen Rechtsextremismus sollen weiterhin gefördert werden.',\n",
       " 'Das jahrgangsübergreifende Lernen (\"JüL\") an Berliner Grundschulen soll abgeschafft werden.',\n",
       " 'Bei Großeinsätzen sollen alle Polizistinnen und Polizisten eine individuelle Kennung tragen müssen.',\n",
       " 'Berlin soll den sozialen Wohnungsbau wieder fördern.',\n",
       " 'Abschaffung der Umweltzone in Berlin!',\n",
       " 'Gesetzliche Mindestlöhne sollen weiterhin nur für einzelne Branchen gelten.',\n",
       " 'Die Videoüberwachung im öffentlichen Raum soll ausgeweitet werden.',\n",
       " 'Alle Kinder im Vorschulalter sollen zusätzliche Sprachtests absolvieren müssen.',\n",
       " 'Das Land Berlin soll sich für die Einführung einer gesetzlichen Frauenquote in Aufsichtsräten und Vorständen einsetzen.',\n",
       " 'Berliner Lehrerinnen und Lehrer für islamischen Religionsunterricht sollen an deutschen Hochschulen ausgebildet worden sein.',\n",
       " 'Die Privatisierung der Berliner Wasserbetriebe soll rückgängig gemacht werden.',\n",
       " 'Hartz IV-Empfängerinnen und -Empfängern sollen auch weiterhin Leistungen gekürzt werden, wenn sie ein Jobangebot ablehnen.',\n",
       " 'Die Berliner Gedenkstätten für die Opfer des NS-Regimes sollen weiterhin vom Land Berlin finanziell gefördert werden.',\n",
       " 'Kommunales Wahlrecht für alle dauerhaft in Berlin wohnenden Ausländerinnen und Ausländer!',\n",
       " 'An Berliner Schulen soll für Berufe bei der Bundeswehr geworben werden dürfen.',\n",
       " 'Am Bahnhof Zoo sollen wieder Fernverkehrszüge halten.',\n",
       " 'Bremen und Bremerhaven sollen ausschließlich mit erneuerbaren Energien versorgt werden.',\n",
       " 'Das Gymnasium soll in Bremen als Schulform erhalten bleiben.',\n",
       " 'In Vorständen und Aufsichtsräten der Bremer Eigenbetriebe soll eine Frauenquote gelten.',\n",
       " 'Abschaffung des generellen Tempolimits auf den Bremer Autobahnen!',\n",
       " 'Bremen soll Flüchtlinge aus Nordafrika aufnehmen.',\n",
       " 'Die Bremer Außenweser soll für große Containerschiffe weiter vertieft werden.',\n",
       " 'Das Land Bremen soll Bremerhaven stärker finanziell fördern.',\n",
       " 'Bremen soll Projekte zur Integration von Migrantinnen und Migranten fördern.',\n",
       " 'In Bremen soll die Gewerbesteuer gesenkt werden.',\n",
       " 'Das Nachtflugverbot auf dem Bremer Flughafen soll verschärft werden.',\n",
       " 'Das letzte Kindergartenjahr vor der Einschulung soll verpflichtend sein.',\n",
       " 'Jede Bürgerin und jeder Bürger soll in einer gesetzlichen Krankenkasse versichert sein müssen.',\n",
       " 'Die christlichen Kirchen sollen evangelischen und katholischen Religionsunterricht an Bremer Schulen anbieten dürfen.',\n",
       " 'Der Eintritt in die Kultureinrichtungen des Landes soll für einkommensschwache Bürgerinnen und Bürger kostenfrei sein.',\n",
       " 'Kein Umschlag von Rüstungsgütern in den bremischen Häfen.',\n",
       " 'Bremen soll sich für ein bundesweites Zentralabitur einsetzen.',\n",
       " 'Im Bremer Polizeidienst sollen mehr Menschen mit Migrationshintergrund beschäftigt werden.',\n",
       " 'Eingetragene Partnerschaften (\"Homo-Ehen\") sollen der Ehe gleichgestellt werden.',\n",
       " 'ALG-II-Empfängerinnen und -Empfängern sollen auch weiterhin Leistungen gekürzt werden, wenn sie Jobangebote ablehnen.',\n",
       " 'Alle Bremer Bachelor-Absolventen sollen einen Rechtsanspruch auf einen Master-Studienplatz in Bremen haben.',\n",
       " 'Die Umweltzone in Bremen soll abgeschafft werden.',\n",
       " 'Kommunales Wahlrecht für alle dauerhaft in Bremen wohnenden Ausländerinnen und Ausländer!',\n",
       " 'In die Bremer Landesverfassung soll eine \"Schuldenbremse\" aufgenommen werden.',\n",
       " 'Die Polizei Bremen und die Polizei Bremerhaven sollen zu einer gemeinsamen Landespolizei zusammengeführt werden.',\n",
       " 'In Bremen und Bremerhaven sollen die verkaufsoffenen Sonntage abgeschafft werden.',\n",
       " 'Arbeitsgelegenheiten für ALG-II-Empfängerinnen und -Empfänger (\"1-Euro-Jobs\") sollen weiterhin gefördert werden.',\n",
       " 'In Bremen sollen vor einem Verkauf öffentlicher Unternehmen die Bürgerinnen und Bürger befragt werden.',\n",
       " 'Der Bau der Fatih-Moschee in Bremerhaven soll gestoppt werden.',\n",
       " 'Bremen soll sich für ein elternunabhängiges BAföG einsetzen.',\n",
       " 'In Bremen soll eine \"Bettensteuer\" für das Hotelgewerbe eingeführt werden.',\n",
       " 'In Bremen und Bremerhaven soll eine \"Bürgerstreife\" eingerichtet werden.',\n",
       " 'Die GEWOBA soll privatisiert werden.',\n",
       " 'Bremen soll weiterhin Projekte gegen Rechtsextremismus fördern.',\n",
       " 'Die verpflichtende Mitgliedschaft in der Arbeitnehmerkammer Bremen soll abgeschafft werden.',\n",
       " 'Die Jugendfreizeitheime sollen mehr Finanzmittel erhalten.',\n",
       " 'Das Land Bremen soll sich dafür einsetzen, dass die Laufzeitverlängerung für alle Kernkraftwerke rückgängig gemacht wird.',\n",
       " 'Die Stadtbibliothek Bremen soll auch sonntags geöffnet werden.',\n",
       " 'In der Hamburger Wirtschaftspolitik soll der Hafen stets Vorrang haben.',\n",
       " 'Die Erhöhung der Kita-Gebühren soll zurückgenommen werden.',\n",
       " 'In Hamburg soll keine Stadtbahn gebaut werden.',\n",
       " 'Es sollen mehr Integrationskurse für in Hamburg lebende Zuwanderer/innen angeboten werden.',\n",
       " 'Wirte sollen selbst entscheiden dürfen, ob in ihren Gaststätten und Restaurants geraucht wird.',\n",
       " 'Abschaffung von Schulnoten in der Grundschule!',\n",
       " 'Am Hamburger Flughafen sollen keine Ganzkörper-Scanner (\"Nackt-Scanner\") mehr eingesetzt werden.',\n",
       " 'Mehr Menschen mit Migrationshintergrund sollen im Polizeidienst eingestellt werden.',\n",
       " 'Die HSH Nordbank soll vollständig privatisiert werden.',\n",
       " 'An Hamburger Gymnasien: Wiedereinführung des Abiturs nach Klasse 13!',\n",
       " 'Die Parkgebühren in der Hamburger City sollen erhöht werden.',\n",
       " 'Für Bürgerentscheide auf Bezirksebene soll eine Mindestbeteiligung (\"Quorum\") eingeführt werden.',\n",
       " 'Hamburg soll verstärkt hochqualifizierte Fachkräfte aus dem Ausland anwerben.',\n",
       " 'Kinder sollen weiterhin nach der vierten Grundschulklasse auf weiterführende Stadtteilschulen und Gymnasien wechseln.',\n",
       " 'Alle Ausländer/innen, die dauerhaft in Hamburg leben, sollen das kommunale Wahlrecht erhalten.',\n",
       " 'Mehr verkaufsoffene Sonntage in Hamburg!',\n",
       " 'Die Stadt Hamburg soll die Strom-, Fernwärme- und Gasnetze vollständig zurückkaufen.',\n",
       " 'Nur Deutsche sollen Anspruch auf Sozialleistungen haben.',\n",
       " 'Das Hamburger Stadtgebiet soll komplett mit erneuerbaren Energien versorgt werden.',\n",
       " 'Hamburg soll weiterhin Kulturprojekte von Zuwanderern/innen fördern.',\n",
       " 'Die Elbe in Hamburg soll für große Containerschiffe weiter vertieft werden (\"Fahrrinnenanpassung\").',\n",
       " 'Die Studiengebühren an Hamburger Hochschulen sollen beibehalten werden.',\n",
       " 'Hamburg soll sich für einen flächendeckenden Mindestlohn einsetzen.',\n",
       " 'In Hamburg soll der Bau von weiteren Moscheen verboten werden.',\n",
       " 'Nur abgasarme Autos sollen in die Hamburger City fahren dürfen (\"Umweltzone\").',\n",
       " 'Hamburg soll Arbeitsgelegenheiten für ALG-II-Empfänger/innen ausweisen (\"1-Euro-Jobs\").',\n",
       " 'Homosexuelle Paare sollen ein gemeinsames Adoptionsrecht erhalten.',\n",
       " 'Die Ausnahmeregelungen bei Umweltauflagen für den Hamburger Hafen sollen erhalten bleiben (\"Hafenprivileg\").',\n",
       " 'Das Wahlalter bei Bürgerschaftswahlen soll auf 16 Jahre gesenkt werden.',\n",
       " 'Bei Fußball-Bundesligaspielen sollen Polizei-Einsätze von den Veranstaltern bezahlt werden.',\n",
       " 'Zusätzliche Steuereinnahmen sollen überwiegend zum Schuldenabbau verwendet werden.',\n",
       " 'Hamburg soll sich dafür einsetzen, die Strafmündigkeit von 14 auf 12 Jahre herabzusetzen.',\n",
       " 'Hamburg soll die Landeskrankenhäuser (\"Asklepios-Kliniken\") zurückkaufen.',\n",
       " 'Die Verbindung der Autobahnen A1 und A7 (\"Hafenquerspange\") soll gebaut werden.',\n",
       " 'Der Konsum von alkoholischen Getränken in Hamburger Bussen und Bahnen soll verboten werden.',\n",
       " 'Programme gegen Rechtsextremismus sollen weiterhin von der Stadt gefördert werden.',\n",
       " 'Hamburg soll mit anderen norddeutschen Bundesländern ein gemeinsames Bundesland bilden (\"Nordstaat\").',\n",
       " 'In Rheinland-Pfalz sollen Geschäfte an Werktagen länger öffnen dürfen.',\n",
       " 'Das Land Rheinland-Pfalz soll auch zukünftig in den Nürburgring investieren.',\n",
       " 'Das Konzept \"Realschule plus\" soll rückgängig gemacht werden.',\n",
       " 'Verpflichtende Sprachtests im Kindergartenalter.',\n",
       " 'Das Land Rheinland-Pfalz soll sich dafür einsetzen, dass die Laufzeitverlängerung für Kernkraftwerke rückgängig gemacht wird.',\n",
       " 'Mehr Videoüberwachung auf öffentlichen Plätzen.',\n",
       " 'In Rheinland-Pfalz sollen keine neuen Moscheen gebaut werden.',\n",
       " 'Das Land soll sich für einen flächendeckenden gesetzlichen Mindestlohn einsetzen.',\n",
       " 'Einführung des Zentralabiturs in Rheinland-Pfalz.',\n",
       " 'Das Land soll Projekte zur Integration von Ausländern fördern.',\n",
       " 'Praktikanten mit abgeschlossener Schulausbildung sollen eine gesetzlich garantierte Mindestbezahlung erhalten.',\n",
       " 'An öffentlichen Schulen in Rheinland-Pfalz soll islamischer Religionsunterricht in deutscher Sprache angeboten werden.',\n",
       " 'Die Landesmittel für den Flughafen Frankfurt/Hahn sollen gestrichen werden.',\n",
       " 'Die Beschränkungen für den Anbau von gentechnisch veränderten Pflanzen sollen in Rheinland-Pfalz gelockert werden.',\n",
       " 'Alle Bachelor-Absolventen rheinland-pfälzischer Hochschulen sollen einen Rechtsanspruch auf einen Master-Studienplatz in Rheinland-Pfalz erhalten.',\n",
       " 'Aus der rheinland-pfälzischen Landesverfassung sollen religiöse Bezüge entfernt werden.',\n",
       " 'Die öffentlich-rechtlichen Medien sollen sich weiterhin auch über Werbung finanzieren dürfen.',\n",
       " 'Asylbewerber sollen sich weiterhin nur innerhalb ihres Landkreises bewegen dürfen.',\n",
       " 'Alle Bürger und Bürgerinnen sollen in gesetzlichen Krankenkassen versichert sein müssen.',\n",
       " 'Die Bundeswehr soll weiterhin an Schulen Veranstaltungen für Schülerinnen und Schüler durchführen dürfen.',\n",
       " 'Alle Ausländerinnen und Ausländer, die dauerhaft in Rheinland-Pfalz wohnen, sollen bei Kommunalwahlen wählen dürfen.',\n",
       " 'Das Land soll sich dafür einsetzen, dass Spenden von Unternehmen an Parteien verboten werden.',\n",
       " 'Das Land soll sich dafür einsetzen, dass alle Studierenden BAföG unabhängig vom Einkommen ihrer Eltern erhalten können.',\n",
       " 'Rheinland-Pfalz soll sich dafür einsetzen, dass eingetragene Lebenspartnerschaften (\"Homo-Ehe\") der Ehe rechtlich gleichgestellt werden.',\n",
       " 'Ausnahmsloses Rauchverbot in allen Gaststätten und Restaurants.',\n",
       " 'An den Schulen in Rheinland-Pfalz soll Religionsunterricht durch ein Pflichtfach Ethik ersetzt werden.',\n",
       " 'Bei Großeinsätzen sollen Polizisten und Polizistinnen eine deutliche individuelle Kennung tragen müssen.',\n",
       " 'Das Zweitstudium an öffentlichen Universitäten in Rheinland-Pfalz soll gebührenpflichtig bleiben.',\n",
       " 'Der Hochmoselübergang (Brücke bei Wittlich und Rheinböllen) soll gebaut werden.',\n",
       " 'Die kommunale Grundversorgung (Gas, Wasser, Strom und Abfall) soll ausschließlich in öffentlicher Hand sein.',\n",
       " 'In Nordrhein-Westfalen: Ausnahmsloses Rauchverbot in allen Gaststätten und Restaurants!',\n",
       " 'Das Gymnasium soll in Nordrhein-Westfalen als Schulform langfristig erhalten bleiben.',\n",
       " 'In allen Regionen Nordrhein-Westfalens: Einführung eines \"Sozialtickets\" für die Benutzung von Bus und Bahn!',\n",
       " 'Weniger verkaufsoffene Sonntage in Nordrhein-Westfalen!',\n",
       " 'Die Begrenzung staatlicher Schulden (\"Schuldenbremse\") soll auch in die Landesverfassung von Nordrhein-Westfalen aufgenommen werden.',\n",
       " 'Generelles Tempolimit auf allen Autobahnen in Nordrhein-Westfalen!',\n",
       " 'Das Land soll weiterhin Kulturprojekte von Migrantinnen und Migranten fördern.',\n",
       " 'In Nordrhein-Westfalen: Volksbegehren auch über Finanzfragen!',\n",
       " 'Hartz IV-Empfängerinnen und -Empfängern sollen auch weiterhin Leistungen gekürzt werden, wenn sie Jobangebote ablehnen.',\n",
       " 'In den Aufsichtsgremien des WDR sollen weiterhin Mitglieder des Landtags sitzen dürfen.',\n",
       " 'In Nordrhein-Westfalen sollen keine neuen Großmoscheen gebaut werden.',\n",
       " 'Die kommunale Grundversorgung (Gas, Wasser, Strom und Abfall) soll vollständig in öffentlicher Hand sein.',\n",
       " 'Die Ehe zwischen Mann und Frau soll weiterhin mit mehr Rechten verbunden sein als gleichgeschlechtliche Lebenspartnerschaften.',\n",
       " 'In Nordrhein-Westfalen soll der Anbau von gentechnisch veränderten Pflanzen erlaubt sein.',\n",
       " 'Das Land soll allen Schülerinnen und Schülern ihre Lehrmittel und Schulbücher kostenlos zur Verfügung stellen.',\n",
       " 'Nordrhein-Westfalen soll sich für ein NPD-Verbot einsetzen.',\n",
       " 'Die Grunderwerbsteuer soll wieder gesenkt werden.',\n",
       " 'Das letzte Kindergartenjahr vor der Einschulung soll in Nordrhein-Westfalen verpflichtend sein.',\n",
       " 'Der Staat soll die Urheberrechte im Internet stärker schützen.',\n",
       " 'Nordrhein-Westfalen soll Informationen über Steuervergehen kaufen, selbst wenn diese Daten gestohlen worden sind.',\n",
       " 'In Aufsichtsräten und Vorständen von Unternehmen soll eine gesetzliche Frauenquote gelten.',\n",
       " 'Kommunales Wahlrecht für alle dauerhaft in Nordrhein-Westfalen wohnenden Ausländerinnen und Ausländer!',\n",
       " 'Der Solidaritätszuschlag soll auch für strukturschwache Regionen in Nordrhein-Westfalen verwendet werden.',\n",
       " 'Alle Schülerinnen und Schüler mit Behinderungen sollen ausschließlich an Regelschulen unterrichtet werden.',\n",
       " 'Der Landesverfassungsschutz soll abgeschafft werden.',\n",
       " 'Nordrhein-Westfalen soll sich für einen flächendeckenden gesetzlichen Mindestlohn einsetzen.',\n",
       " 'Das Land Nordrhein-Westfalen soll Projekte gegen Rechtsextremismus fördern.',\n",
       " 'In Nordrhein-Westfalen sollen weitere Kohlekraftwerke gebaut werden.']"
      ]
     },
     "execution_count": 9,
     "metadata": {},
     "output_type": "execute_result"
    }
   ],
   "source": [
    "all_statements[500:700]"
   ]
  },
  {
   "cell_type": "code",
   "execution_count": 12,
   "metadata": {},
   "outputs": [],
   "source": [
    "client = OpenAI(api_key=\"sk-proj-3KhQdlgMCuoQc6EL2y1ZT3BlbkFJYHG9JgPGpOLsRnDSKuSs\")\n",
    "indirect_inconsistency_id = \"asst_z5KYRmWKlIdpZzcTl0Qb1ody\"\n",
    "consistent_id = 'asst_GJcX5oHrW0EscCxrzEOacXat'"
   ]
  },
  {
   "cell_type": "code",
   "execution_count": 8,
   "metadata": {},
   "outputs": [],
   "source": [
    "def detect_indirect_inconsistency(text):\n",
    "\n",
    "    statement = text\n",
    "  \n",
    "    # Create a thread with a message.\n",
    "    thread = client.beta.threads.create(\n",
    "        messages=[\n",
    "            {\n",
    "                \"role\": \"user\",\n",
    "                # Update this with the query you want to use.\n",
    "                \"content\": statement,\n",
    "            }\n",
    "        ]\n",
    "    )\n",
    "    # Submit the thread to the assistant (as a new run).\n",
    "    run = client.beta.threads.runs.create(thread_id=thread.id, assistant_id=indirect_inconsistency_id)\n",
    "\n",
    "    # Wait for run to complete.\n",
    "    while run.status != \"completed\":\n",
    "        run = client.beta.threads.runs.retrieve(thread_id=thread.id, run_id=run.id)\n",
    "        time.sleep(1)\n",
    "    # else:\n",
    "    #     print(f\"🏁 Run Completed!\")\n",
    "\n",
    "    # Get the latest message from the thread.\n",
    "    message_response = client.beta.threads.messages.list(thread_id=thread.id)\n",
    "    messages = message_response.data\n",
    "\n",
    "    # Print the latest message.\n",
    "    latest_message = messages[0]\n",
    "    return latest_message.content[0].text.value\n",
    "        # except:\n",
    "        #     print(f\"Run went wrong\")\n",
    "        #     return None"
   ]
  },
  {
   "cell_type": "code",
   "execution_count": 13,
   "metadata": {},
   "outputs": [],
   "source": [
    "def detect_consistent(text):\n",
    "\n",
    "    statement = text\n",
    "  \n",
    "    # Create a thread with a message.\n",
    "    thread = client.beta.threads.create(\n",
    "        messages=[\n",
    "            {\n",
    "                \"role\": \"user\",\n",
    "                # Update this with the query you want to use.\n",
    "                \"content\": statement,\n",
    "            }\n",
    "        ]\n",
    "    )\n",
    "    # Submit the thread to the assistant (as a new run).\n",
    "    run = client.beta.threads.runs.create(thread_id=thread.id, assistant_id=consistent_id)\n",
    "\n",
    "    # Wait for run to complete.\n",
    "    while run.status != \"completed\":\n",
    "        run = client.beta.threads.runs.retrieve(thread_id=thread.id, run_id=run.id)\n",
    "        time.sleep(1)\n",
    "    # else:\n",
    "    #     print(f\"🏁 Run Completed!\")\n",
    "\n",
    "    # Get the latest message from the thread.\n",
    "    message_response = client.beta.threads.messages.list(thread_id=thread.id)\n",
    "    messages = message_response.data\n",
    "\n",
    "    # Print the latest message.\n",
    "    latest_message = messages[0]\n",
    "    return latest_message.content[0].text.value\n",
    "        # except:\n",
    "        #     print(f\"Run went wrong\")\n",
    "        #     return None"
   ]
  },
  {
   "cell_type": "code",
   "execution_count": 17,
   "metadata": {},
   "outputs": [
    {
     "name": "stderr",
     "output_type": "stream",
     "text": [
      "100%|██████████| 10/10 [02:21<00:00, 14.16s/it]\n"
     ]
    }
   ],
   "source": [
    "for i in tqdm(range(30, 40, 1)):\n",
    "    statements_to_check = random.sample(all_statements, 300)\n",
    "    answer = detect_indirect_inconsistency(str(statements_to_check))\n",
    "    answer_path = r\"C:\\Users\\Nursulu_1\\Downloads\\ContraDetect\\automatic_stance_detection\\data\\wahlomat\\indirect_inconsistency_by_gpt\\detect_from_random_sample\"\n",
    "    file_name = answer_path + \"\\\\\" + f\"run_{i}.txt\"\n",
    "    with open(file_name, \"w\", encoding=\"utf-8\") as file:\n",
    "        file.write(answer)\n",
    "    \n",
    "    "
   ]
  },
  {
   "cell_type": "code",
   "execution_count": 14,
   "metadata": {},
   "outputs": [
    {
     "name": "stderr",
     "output_type": "stream",
     "text": [
      "100%|██████████| 10/10 [02:57<00:00, 17.70s/it]\n"
     ]
    }
   ],
   "source": [
    "for i in tqdm(range(10)):\n",
    "    statements_to_check = random.sample(all_statements, 300)\n",
    "    answer = detect_consistent(str(statements_to_check))\n",
    "    answer_path = r\"C:\\Users\\Nursulu_1\\Downloads\\ContraDetect\\automatic_stance_detection\\data\\wahlomat\\consistent_by_gpt\"\n",
    "    file_name = answer_path + \"\\\\\" + f\"run_{i}.txt\"\n",
    "    with open(file_name, \"w\", encoding=\"utf-8\") as file:\n",
    "        file.write(answer)\n",
    "    \n",
    "    "
   ]
  },
  {
   "cell_type": "code",
   "execution_count": 5,
   "metadata": {},
   "outputs": [
    {
     "name": "stdout",
     "output_type": "stream",
     "text": [
      "['all_texts_grouped.txt', 'group_0_to_50.txt', 'group_1000_to_1050.txt', 'group_100_to_150.txt', 'group_1050_to_1100.txt', 'group_1100_to_1150.txt', 'group_1150_to_1200.txt', 'group_1200_to_1250.txt', 'group_1250_to_1300.txt', 'group_1300_to_1350.txt', 'group_1350_to_1400.txt', 'group_1400_to_1450.txt', 'group_1450_to_1500.txt', 'group_1500_to_1550.txt', 'group_150_to_200.txt', 'group_1550_to_1600.txt', 'group_1600_to_1650.txt', 'group_1650_to_1700.txt', 'group_1700_to_1750.txt', 'group_1750_to_1800.txt', 'group_1800_to_1850.txt', 'group_1850_to_1900.txt', 'group_1900_to_1950.txt', 'group_1950_to_2000.txt', 'group_2000_to_2050.txt', 'group_200_to_250.txt', 'group_2050_to_2100.txt', 'group_2100_to_2150.txt', 'group_2150_to_2200.txt', 'group_2200_to_2250.txt', 'group_250_to_300.txt', 'group_300_to_350.txt', 'group_350_to_400.txt', 'group_400_to_450.txt', 'group_450_to_500.txt', 'group_500_to_550.txt', 'group_50_to_100.txt', 'group_550_to_600.txt', 'group_600_to_650.txt', 'group_650_to_700.txt', 'group_700_to_750.txt', 'group_750_to_800.txt', 'group_800_to_850.txt', 'group_850_to_900.txt', 'group_900_to_950.txt', 'group_950_to_1000.txt']\n"
     ]
    }
   ],
   "source": [
    "folder_path = r'C:\\Users\\Nursulu_1\\Downloads\\ContraDetect\\automatic_stance_detection\\data\\wahlomat\\wahlomat_grouped_by_gpt_same_topics'\n",
    "files = os.listdir(folder_path)  # List all files and directories\n",
    "print(files)"
   ]
  },
  {
   "cell_type": "code",
   "execution_count": 7,
   "metadata": {},
   "outputs": [],
   "source": [
    "answer_path = r\"C:\\Users\\Nursulu_1\\Downloads\\ContraDetect\\automatic_stance_detection\\data\\wahlomat\\indirect_inconsistency_by_gpt\"\n",
    "for file_path in files[2:]:\n",
    "    full_file_path = folder_path + \"\\\\\" + file_path\n",
    "    with open(full_file_path, 'r') as file:\n",
    "        content = file.read()\n",
    "    answer = detect_indirect_inconsistency(content)\n",
    "    file_name = answer_path + \"\\\\\" + f\"detected_{file_path}.txt\"\n",
    "    with open(file_name, \"w\", encoding=\"utf-8\") as file:\n",
    "        file.write(answer)\n",
    "    \n"
   ]
  },
  {
   "cell_type": "code",
   "execution_count": null,
   "metadata": {},
   "outputs": [],
   "source": []
  }
 ],
 "metadata": {
  "kernelspec": {
   "display_name": "Python 3",
   "language": "python",
   "name": "python3"
  },
  "language_info": {
   "codemirror_mode": {
    "name": "ipython",
    "version": 3
   },
   "file_extension": ".py",
   "mimetype": "text/x-python",
   "name": "python",
   "nbconvert_exporter": "python",
   "pygments_lexer": "ipython3",
   "version": "3.11.9"
  }
 },
 "nbformat": 4,
 "nbformat_minor": 2
}
