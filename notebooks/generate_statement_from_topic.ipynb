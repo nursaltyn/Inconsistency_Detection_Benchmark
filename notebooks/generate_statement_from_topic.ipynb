{
 "cells": [
  {
   "cell_type": "code",
   "execution_count": 1,
   "metadata": {},
   "outputs": [],
   "source": [
    "from openai import OpenAI\n",
    "import json\n",
    "import pandas as pd\n",
    "import time\n",
    "from tqdm import tqdm\n",
    "from collections import defaultdict\n",
    "import re\n",
    "import ast\n",
    "import numpy as np\n",
    "import random\n",
    "import pickle"
   ]
  },
  {
   "cell_type": "code",
   "execution_count": 11,
   "metadata": {},
   "outputs": [],
   "source": [
    "client = OpenAI(api_key=\"sk-proj-3KhQdlgMCuoQc6EL2y1ZT3BlbkFJYHG9JgPGpOLsRnDSKuSs\")\n",
    "# stance_generation_id = \"asst_LjF9iCPNmcgfpadvzRm54UKO\" # topic to support statement\n",
    "factual_inconsistency_id = \"asst_gnrTIuWog0uvDide7qTGptPk\" # topic to factual inconsistency"
   ]
  },
  {
   "cell_type": "code",
   "execution_count": 3,
   "metadata": {},
   "outputs": [],
   "source": [
    "df = pd.read_csv(r\"C:\\Users\\Nursulu_1\\Downloads\\ContraDetect\\automatic_stance_detection\\data\\Zurich_NLP\\all_statements_de.csv\")"
   ]
  },
  {
   "cell_type": "code",
   "execution_count": 15,
   "metadata": {},
   "outputs": [
    {
     "data": {
      "text/html": [
       "<div>\n",
       "<style scoped>\n",
       "    .dataframe tbody tr th:only-of-type {\n",
       "        vertical-align: middle;\n",
       "    }\n",
       "\n",
       "    .dataframe tbody tr th {\n",
       "        vertical-align: top;\n",
       "    }\n",
       "\n",
       "    .dataframe thead th {\n",
       "        text-align: right;\n",
       "    }\n",
       "</style>\n",
       "<table border=\"1\" class=\"dataframe\">\n",
       "  <thead>\n",
       "    <tr style=\"text-align: right;\">\n",
       "      <th></th>\n",
       "      <th>text</th>\n",
       "      <th>topic</th>\n",
       "      <th>direct_support</th>\n",
       "      <th>direct_against</th>\n",
       "      <th>indirect_support</th>\n",
       "      <th>indirect_against</th>\n",
       "      <th>factual_inconsistency</th>\n",
       "    </tr>\n",
       "  </thead>\n",
       "  <tbody>\n",
       "    <tr>\n",
       "      <th>0</th>\n",
       "      <td>Support efforts to reduce social assistance be...</td>\n",
       "      <td>welfare</td>\n",
       "      <td>We advocate for reducing social assistance ben...</td>\n",
       "      <td>NaN</td>\n",
       "      <td>NaN</td>\n",
       "      <td>NaN</td>\n",
       "      <td>0</td>\n",
       "    </tr>\n",
       "    <tr>\n",
       "      <th>1</th>\n",
       "      <td>Adjustment of social assistance guidelines wit...</td>\n",
       "      <td>welfare</td>\n",
       "      <td>We support revising social assistance guidelin...</td>\n",
       "      <td>NaN</td>\n",
       "      <td>NaN</td>\n",
       "      <td>NaN</td>\n",
       "      <td>0</td>\n",
       "    </tr>\n",
       "    <tr>\n",
       "      <th>2</th>\n",
       "      <td>Raising the retirement age for women and men t...</td>\n",
       "      <td>welfare</td>\n",
       "      <td>We support the proposal to increase the retire...</td>\n",
       "      <td>NaN</td>\n",
       "      <td>NaN</td>\n",
       "      <td>NaN</td>\n",
       "      <td>0</td>\n",
       "    </tr>\n",
       "    <tr>\n",
       "      <th>3</th>\n",
       "      <td>No disability pensions for pain disorders that...</td>\n",
       "      <td>welfare</td>\n",
       "      <td>We support the policy of not granting disabili...</td>\n",
       "      <td>NaN</td>\n",
       "      <td>NaN</td>\n",
       "      <td>NaN</td>\n",
       "      <td>0</td>\n",
       "    </tr>\n",
       "    <tr>\n",
       "      <th>4</th>\n",
       "      <td>Introduction of four weeks of paid paternity l...</td>\n",
       "      <td>welfare</td>\n",
       "      <td>We advocate for the implementation of four wee...</td>\n",
       "      <td>NaN</td>\n",
       "      <td>NaN</td>\n",
       "      <td>NaN</td>\n",
       "      <td>0</td>\n",
       "    </tr>\n",
       "  </tbody>\n",
       "</table>\n",
       "</div>"
      ],
      "text/plain": [
       "                                                text    topic  \\\n",
       "0  Support efforts to reduce social assistance be...  welfare   \n",
       "1  Adjustment of social assistance guidelines wit...  welfare   \n",
       "2  Raising the retirement age for women and men t...  welfare   \n",
       "3  No disability pensions for pain disorders that...  welfare   \n",
       "4  Introduction of four weeks of paid paternity l...  welfare   \n",
       "\n",
       "                                      direct_support  direct_against  \\\n",
       "0  We advocate for reducing social assistance ben...             NaN   \n",
       "1  We support revising social assistance guidelin...             NaN   \n",
       "2  We support the proposal to increase the retire...             NaN   \n",
       "3  We support the policy of not granting disabili...             NaN   \n",
       "4  We advocate for the implementation of four wee...             NaN   \n",
       "\n",
       "   indirect_support  indirect_against  factual_inconsistency  \n",
       "0               NaN               NaN                      0  \n",
       "1               NaN               NaN                      0  \n",
       "2               NaN               NaN                      0  \n",
       "3               NaN               NaN                      0  \n",
       "4               NaN               NaN                      0  "
      ]
     },
     "execution_count": 15,
     "metadata": {},
     "output_type": "execute_result"
    }
   ],
   "source": [
    "df.head()"
   ]
  },
  {
   "cell_type": "code",
   "execution_count": 8,
   "metadata": {},
   "outputs": [
    {
     "data": {
      "text/plain": [
       "'Support efforts to reduce social assistance benefits in the cantons.'"
      ]
     },
     "execution_count": 8,
     "metadata": {},
     "output_type": "execute_result"
    }
   ],
   "source": [
    "df['text'][0]"
   ]
  },
  {
   "cell_type": "code",
   "execution_count": 5,
   "metadata": {},
   "outputs": [
    {
     "name": "stderr",
     "output_type": "stream",
     "text": [
      "C:\\Users\\Nursulu_1\\AppData\\Local\\Temp\\ipykernel_139208\\2417001121.py:1: SettingWithCopyWarning: \n",
      "A value is trying to be set on a copy of a slice from a DataFrame\n",
      "\n",
      "See the caveats in the documentation: https://pandas.pydata.org/pandas-docs/stable/user_guide/indexing.html#returning-a-view-versus-a-copy\n",
      "  df[\"direct_support\"][0] = 'hello'\n",
      "C:\\Users\\Nursulu_1\\AppData\\Local\\Temp\\ipykernel_139208\\2417001121.py:1: FutureWarning: Setting an item of incompatible dtype is deprecated and will raise in a future error of pandas. Value 'hello' has dtype incompatible with float64, please explicitly cast to a compatible dtype first.\n",
      "  df[\"direct_support\"][0] = 'hello'\n"
     ]
    }
   ],
   "source": [
    "df[\"direct_support\"][0] = 'hello'"
   ]
  },
  {
   "cell_type": "code",
   "execution_count": 14,
   "metadata": {},
   "outputs": [],
   "source": [
    "df['factual_inconsistency'] = 0"
   ]
  },
  {
   "cell_type": "code",
   "execution_count": 12,
   "metadata": {},
   "outputs": [],
   "source": [
    "def run_text_to_statement(text):\n",
    "    input = \"Input text: \" + text + \"\\nStatement: \"\n",
    "    # Create a thread with a message.\n",
    "    thread = client.beta.threads.create(\n",
    "        messages=[\n",
    "            {\n",
    "                \"role\": \"user\",\n",
    "                # Update this with the query you want to use.\n",
    "                \"content\": input,\n",
    "            }\n",
    "        ]\n",
    "    )\n",
    "    # Submit the thread to the assistant (as a new run).\n",
    "    run = client.beta.threads.runs.create(thread_id=thread.id, assistant_id=stance_generation_id)\n",
    "\n",
    "    # Wait for run to complete.\n",
    "    while run.status != \"completed\":\n",
    "        run = client.beta.threads.runs.retrieve(thread_id=thread.id, run_id=run.id)\n",
    "        time.sleep(1)\n",
    "    # else:\n",
    "    #     print(f\"🏁 Run Completed!\")\n",
    "\n",
    "    # Get the latest message from the thread.\n",
    "    message_response = client.beta.threads.messages.list(thread_id=thread.id)\n",
    "    messages = message_response.data\n",
    "\n",
    "    # Print the latest message.\n",
    "    latest_message = messages[0]\n",
    "    return latest_message.content[0].text.value\n",
    "\n",
    "\n",
    "\n",
    "def run_factual_inconsistency(text):\n",
    "    input = \"a) \" + text\n",
    "    # Create a thread with a message.\n",
    "    thread = client.beta.threads.create(\n",
    "        messages=[\n",
    "            {\n",
    "                \"role\": \"user\",\n",
    "                # Update this with the query you want to use.\n",
    "                \"content\": input,\n",
    "            }\n",
    "        ]\n",
    "    )\n",
    "    # Submit the thread to the assistant (as a new run).\n",
    "    run = client.beta.threads.runs.create(thread_id=thread.id, assistant_id=factual_inconsistency_id)\n",
    "\n",
    "    # Wait for run to complete.\n",
    "    while run.status != \"completed\":\n",
    "        run = client.beta.threads.runs.retrieve(thread_id=thread.id, run_id=run.id)\n",
    "        time.sleep(1)\n",
    "    # else:\n",
    "    #     print(f\"🏁 Run Completed!\")\n",
    "\n",
    "    # Get the latest message from the thread.\n",
    "    message_response = client.beta.threads.messages.list(thread_id=thread.id)\n",
    "    messages = message_response.data\n",
    "\n",
    "    # Print the latest message.\n",
    "    latest_message = messages[0]\n",
    "    return latest_message.content[0].text.value"
   ]
  },
  {
   "cell_type": "markdown",
   "metadata": {},
   "source": [
    "First, generate support-statements to the given topics from ZurichNLP"
   ]
  },
  {
   "cell_type": "code",
   "execution_count": 9,
   "metadata": {},
   "outputs": [
    {
     "name": "stderr",
     "output_type": "stream",
     "text": [
      "100%|██████████| 157/157 [10:33<00:00,  4.03s/it]\n"
     ]
    }
   ],
   "source": [
    "for i in tqdm(range(len(df))):\n",
    "    text = df['text'][i]\n",
    "    df[\"direct_support\"][i] = run_text_to_statement(text)\n",
    "    df.to_csv(r\"C:\\Users\\Nursulu_1\\Downloads\\ContraDetect\\automatic_stance_detection\\data\\Zurich_NLP\\all_statements_de.csv\")\n",
    "    "
   ]
  },
  {
   "cell_type": "markdown",
   "metadata": {},
   "source": [
    "Then, generate Factual inconsistencies in response to support topics"
   ]
  },
  {
   "cell_type": "code",
   "execution_count": 16,
   "metadata": {},
   "outputs": [
    {
     "name": "stderr",
     "output_type": "stream",
     "text": [
      "  0%|          | 0/157 [00:00<?, ?it/s]C:\\Users\\Nursulu_1\\AppData\\Local\\Temp\\ipykernel_139208\\1483552103.py:3: SettingWithCopyWarning: \n",
      "A value is trying to be set on a copy of a slice from a DataFrame\n",
      "\n",
      "See the caveats in the documentation: https://pandas.pydata.org/pandas-docs/stable/user_guide/indexing.html#returning-a-view-versus-a-copy\n",
      "  df[\"factual_inconsistency\"][i] = run_factual_inconsistency(text)\n",
      "C:\\Users\\Nursulu_1\\AppData\\Local\\Temp\\ipykernel_139208\\1483552103.py:3: FutureWarning: Setting an item of incompatible dtype is deprecated and will raise in a future error of pandas. Value 'b) We believe that increasing government-funded public transportation subsidies will significantly improve the standard of living in the cantons.\n",
      "\n",
      "Explanation: Text A suggests reducing social assistance benefits to encourage self-sufficiency, implying a preference for less government intervention in individuals' finances. Text B, on the other hand, advocates for increasing public transportation subsidies, which requires more government spending and contradicts the idea of minimizing state assistance. This requires an understanding of economic policy and the typical contradiction between reducing social benefits and increasing other forms of subsidies.' has dtype incompatible with int64, please explicitly cast to a compatible dtype first.\n",
      "  df[\"factual_inconsistency\"][i] = run_factual_inconsistency(text)\n",
      "100%|██████████| 157/157 [15:22<00:00,  5.87s/it]\n"
     ]
    }
   ],
   "source": [
    "for i in tqdm(range(len(df))):\n",
    "    text = df['direct_support'][i]\n",
    "    df[\"factual_inconsistency\"][i] = run_factual_inconsistency(text)\n",
    "    df.to_csv(r\"C:\\Users\\Nursulu_1\\Downloads\\ContraDetect\\automatic_stance_detection\\data\\Zurich_NLP\\all_statements_de.csv\")\n",
    "    "
   ]
  },
  {
   "cell_type": "markdown",
   "metadata": {},
   "source": [
    "Separate fact. inconsistency from explanation"
   ]
  },
  {
   "cell_type": "code",
   "execution_count": 24,
   "metadata": {},
   "outputs": [],
   "source": [
    "def process_fact_inconsistency(input):\n",
    "    res = input.split(\"b)\")[1].split(\"Explanation:\")\n",
    "    text = res[0].strip()\n",
    "    explanation = res[1].strip()\n",
    "    return text, explanation"
   ]
  },
  {
   "cell_type": "code",
   "execution_count": 25,
   "metadata": {},
   "outputs": [
    {
     "name": "stderr",
     "output_type": "stream",
     "text": [
      "C:\\Users\\Nursulu_1\\AppData\\Local\\Temp\\ipykernel_139208\\3093813389.py:5: SettingWithCopyWarning: \n",
      "A value is trying to be set on a copy of a slice from a DataFrame\n",
      "\n",
      "See the caveats in the documentation: https://pandas.pydata.org/pandas-docs/stable/user_guide/indexing.html#returning-a-view-versus-a-copy\n",
      "  df['explanation_fact_inconsistency'][i] = explanation\n",
      "C:\\Users\\Nursulu_1\\AppData\\Local\\Temp\\ipykernel_139208\\3093813389.py:5: FutureWarning: Setting an item of incompatible dtype is deprecated and will raise in a future error of pandas. Value 'Text A suggests reducing social assistance benefits to encourage self-sufficiency, implying a preference for less government intervention in individuals' finances. Text B, on the other hand, advocates for increasing public transportation subsidies, which requires more government spending and contradicts the idea of minimizing state assistance. This requires an understanding of economic policy and the typical contradiction between reducing social benefits and increasing other forms of subsidies.' has dtype incompatible with int64, please explicitly cast to a compatible dtype first.\n",
      "  df['explanation_fact_inconsistency'][i] = explanation\n"
     ]
    }
   ],
   "source": [
    "df['explanation_fact_inconsistency'] = 0\n",
    "\n",
    "for i in range(len(df)):\n",
    "    text, explanation = process_fact_inconsistency(df['factual_inconsistency'][i])\n",
    "    df['explanation_fact_inconsistency'][i] = explanation\n",
    "    df['factual_inconsistency'][i] = text"
   ]
  },
  {
   "cell_type": "code",
   "execution_count": 27,
   "metadata": {},
   "outputs": [
    {
     "data": {
      "text/html": [
       "<div>\n",
       "<style scoped>\n",
       "    .dataframe tbody tr th:only-of-type {\n",
       "        vertical-align: middle;\n",
       "    }\n",
       "\n",
       "    .dataframe tbody tr th {\n",
       "        vertical-align: top;\n",
       "    }\n",
       "\n",
       "    .dataframe thead th {\n",
       "        text-align: right;\n",
       "    }\n",
       "</style>\n",
       "<table border=\"1\" class=\"dataframe\">\n",
       "  <thead>\n",
       "    <tr style=\"text-align: right;\">\n",
       "      <th></th>\n",
       "      <th>text</th>\n",
       "      <th>topic</th>\n",
       "      <th>direct_support</th>\n",
       "      <th>direct_against</th>\n",
       "      <th>indirect_support</th>\n",
       "      <th>indirect_against</th>\n",
       "      <th>factual_inconsistency</th>\n",
       "      <th>explanation_fact_inconsistency</th>\n",
       "    </tr>\n",
       "  </thead>\n",
       "  <tbody>\n",
       "    <tr>\n",
       "      <th>0</th>\n",
       "      <td>Support efforts to reduce social assistance be...</td>\n",
       "      <td>welfare</td>\n",
       "      <td>We advocate for reducing social assistance ben...</td>\n",
       "      <td>NaN</td>\n",
       "      <td>NaN</td>\n",
       "      <td>NaN</td>\n",
       "      <td>We believe that increasing government-funded p...</td>\n",
       "      <td>Text A suggests reducing social assistance ben...</td>\n",
       "    </tr>\n",
       "    <tr>\n",
       "      <th>1</th>\n",
       "      <td>Adjustment of social assistance guidelines wit...</td>\n",
       "      <td>welfare</td>\n",
       "      <td>We support revising social assistance guidelin...</td>\n",
       "      <td>NaN</td>\n",
       "      <td>NaN</td>\n",
       "      <td>NaN</td>\n",
       "      <td>We believe in increasing financial support for...</td>\n",
       "      <td>Text A indicates a policy that seeks to reduce...</td>\n",
       "    </tr>\n",
       "    <tr>\n",
       "      <th>2</th>\n",
       "      <td>Raising the retirement age for women and men t...</td>\n",
       "      <td>welfare</td>\n",
       "      <td>We support the proposal to increase the retire...</td>\n",
       "      <td>NaN</td>\n",
       "      <td>NaN</td>\n",
       "      <td>NaN</td>\n",
       "      <td>We believe in reducing the standard working we...</td>\n",
       "      <td>Text A proposes to increase the retirement age...</td>\n",
       "    </tr>\n",
       "    <tr>\n",
       "      <th>3</th>\n",
       "      <td>No disability pensions for pain disorders that...</td>\n",
       "      <td>welfare</td>\n",
       "      <td>We support the policy of not granting disabili...</td>\n",
       "      <td>NaN</td>\n",
       "      <td>NaN</td>\n",
       "      <td>NaN</td>\n",
       "      <td>We advocate for comprehensive health care cove...</td>\n",
       "      <td>Text A mentions a policy of not granting disab...</td>\n",
       "    </tr>\n",
       "    <tr>\n",
       "      <th>4</th>\n",
       "      <td>Introduction of four weeks of paid paternity l...</td>\n",
       "      <td>welfare</td>\n",
       "      <td>We advocate for the implementation of four wee...</td>\n",
       "      <td>NaN</td>\n",
       "      <td>NaN</td>\n",
       "      <td>NaN</td>\n",
       "      <td>We believe that new fathers should return to w...</td>\n",
       "      <td>Text A supports four weeks of paid paternity l...</td>\n",
       "    </tr>\n",
       "  </tbody>\n",
       "</table>\n",
       "</div>"
      ],
      "text/plain": [
       "                                                text    topic  \\\n",
       "0  Support efforts to reduce social assistance be...  welfare   \n",
       "1  Adjustment of social assistance guidelines wit...  welfare   \n",
       "2  Raising the retirement age for women and men t...  welfare   \n",
       "3  No disability pensions for pain disorders that...  welfare   \n",
       "4  Introduction of four weeks of paid paternity l...  welfare   \n",
       "\n",
       "                                      direct_support  direct_against  \\\n",
       "0  We advocate for reducing social assistance ben...             NaN   \n",
       "1  We support revising social assistance guidelin...             NaN   \n",
       "2  We support the proposal to increase the retire...             NaN   \n",
       "3  We support the policy of not granting disabili...             NaN   \n",
       "4  We advocate for the implementation of four wee...             NaN   \n",
       "\n",
       "   indirect_support  indirect_against  \\\n",
       "0               NaN               NaN   \n",
       "1               NaN               NaN   \n",
       "2               NaN               NaN   \n",
       "3               NaN               NaN   \n",
       "4               NaN               NaN   \n",
       "\n",
       "                               factual_inconsistency  \\\n",
       "0  We believe that increasing government-funded p...   \n",
       "1  We believe in increasing financial support for...   \n",
       "2  We believe in reducing the standard working we...   \n",
       "3  We advocate for comprehensive health care cove...   \n",
       "4  We believe that new fathers should return to w...   \n",
       "\n",
       "                      explanation_fact_inconsistency  \n",
       "0  Text A suggests reducing social assistance ben...  \n",
       "1  Text A indicates a policy that seeks to reduce...  \n",
       "2  Text A proposes to increase the retirement age...  \n",
       "3  Text A mentions a policy of not granting disab...  \n",
       "4  Text A supports four weeks of paid paternity l...  "
      ]
     },
     "execution_count": 27,
     "metadata": {},
     "output_type": "execute_result"
    }
   ],
   "source": [
    "df.head()"
   ]
  },
  {
   "cell_type": "code",
   "execution_count": 28,
   "metadata": {},
   "outputs": [],
   "source": [
    "df.to_csv(r\"C:\\Users\\Nursulu_1\\Downloads\\ContraDetect\\automatic_stance_detection\\data\\Zurich_NLP\\all_statements_de.csv\")"
   ]
  },
  {
   "cell_type": "code",
   "execution_count": null,
   "metadata": {},
   "outputs": [],
   "source": []
  }
 ],
 "metadata": {
  "kernelspec": {
   "display_name": "Python 3",
   "language": "python",
   "name": "python3"
  },
  "language_info": {
   "codemirror_mode": {
    "name": "ipython",
    "version": 3
   },
   "file_extension": ".py",
   "mimetype": "text/x-python",
   "name": "python",
   "nbconvert_exporter": "python",
   "pygments_lexer": "ipython3",
   "version": "3.11.9"
  }
 },
 "nbformat": 4,
 "nbformat_minor": 2
}
