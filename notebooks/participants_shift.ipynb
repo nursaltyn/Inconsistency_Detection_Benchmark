{
 "cells": [
  {
   "cell_type": "code",
   "execution_count": 1,
   "metadata": {},
   "outputs": [],
   "source": [
    "import json\n",
    "import pandas as pd\n",
    "import pickle\n",
    "from collections import Counter, defaultdict"
   ]
  },
  {
   "cell_type": "code",
   "execution_count": 2,
   "metadata": {},
   "outputs": [],
   "source": [
    "classes_5 = ['Unrelated', 'Consistent', 'Indirect inconsistency', \"Factual inconsistency\", 'Surface contradiction']                             "
   ]
  },
  {
   "cell_type": "code",
   "execution_count": 3,
   "metadata": {},
   "outputs": [],
   "source": [
    "df_gold = pd.read_csv(r\"C:\\Users\\Nursulu_1\\Downloads\\ContraDetect\\automatic_stance_detection\\data\\qualtrics_survey\\results\\df_gold_all.csv\")"
   ]
  },
  {
   "cell_type": "code",
   "execution_count": 4,
   "metadata": {},
   "outputs": [],
   "source": [
    "with open(r'C:\\Users\\Nursulu_1\\Downloads\\ContraDetect\\automatic_stance_detection\\data\\qualtrics_survey\\participant_to_repeated_sample_by_class.json', 'r') as f:\n",
    "    participant_to_repeated_sample_by_class = json.load(f)"
   ]
  },
  {
   "cell_type": "code",
   "execution_count": 5,
   "metadata": {},
   "outputs": [],
   "source": [
    "with open(r'C:\\Users\\Nursulu_1\\Downloads\\ContraDetect\\automatic_stance_detection\\data\\qualtrics_survey\\change_per_class.pkl', 'rb') as f:\n",
    "    change_per_class = pickle.load(f)"
   ]
  },
  {
   "cell_type": "code",
   "execution_count": 6,
   "metadata": {},
   "outputs": [],
   "source": [
    "for participant in participant_to_repeated_sample_by_class:\n",
    "    for class_name in classes_5:\n",
    "        total_answered_class = 0\n",
    "        # only look when they switched 2 times\n",
    "        total_answered_class += len(participant_to_repeated_sample_by_class[participant][class_name]['2_switches'])\n",
    "        participant_to_repeated_sample_by_class[participant][class_name]['total_answered_class'] = total_answered_class\n",
    "        \n",
    "        # count how many time they switched\n",
    "        answers_2_switches = participant_to_repeated_sample_by_class[participant][class_name]['2_switches']\n",
    "        count_switched_class = [1 for el in answers_2_switches if el!= class_name]\n",
    "        count_switched_class = sum(count_switched_class)\n",
    "        participant_to_repeated_sample_by_class[participant][class_name]['total_switched_2_times_class'] = count_switched_class\n",
    "            \n"
   ]
  },
  {
   "cell_type": "code",
   "execution_count": 7,
   "metadata": {},
   "outputs": [
    {
     "data": {
      "text/plain": [
       "{'total_repeated': 57,\n",
       " 'Unrelated': {'2_switches': ['Unrelated'],\n",
       "  '3_switches': [],\n",
       "  '4_switches': [],\n",
       "  'total_answered_class': 1,\n",
       "  'total_switched_2_times_class': 0},\n",
       " 'Consistent': {'2_switches': ['Consistent',\n",
       "   'Consistent',\n",
       "   'Consistent',\n",
       "   'Consistent'],\n",
       "  '3_switches': [],\n",
       "  '4_switches': [],\n",
       "  'total_answered_class': 4,\n",
       "  'total_switched_2_times_class': 0},\n",
       " 'Indirect inconsistency': {'2_switches': ['Indirect inconsistency',\n",
       "   'Factual inconsistency',\n",
       "   'Consistent',\n",
       "   'Indirect inconsistency',\n",
       "   'Indirect inconsistency',\n",
       "   'Consistent',\n",
       "   'Factual inconsistency',\n",
       "   'Indirect inconsistency'],\n",
       "  '3_switches': [],\n",
       "  '4_switches': [],\n",
       "  'total_answered_class': 8,\n",
       "  'total_switched_2_times_class': 4},\n",
       " 'Factual inconsistency': {'2_switches': ['Factual inconsistency',\n",
       "   'Surface contradiction',\n",
       "   'Surface contradiction',\n",
       "   'Consistent',\n",
       "   'Factual inconsistency',\n",
       "   'Indirect inconsistency',\n",
       "   'Indirect inconsistency',\n",
       "   'Factual inconsistency',\n",
       "   'Indirect inconsistency',\n",
       "   'Indirect inconsistency',\n",
       "   'Factual inconsistency'],\n",
       "  '3_switches': ['Surface contradiction', 'Factual inconsistency'],\n",
       "  '4_switches': [],\n",
       "  'total_answered_class': 11,\n",
       "  'total_switched_2_times_class': 7},\n",
       " 'Surface contradiction': {'2_switches': ['Surface contradiction',\n",
       "   'Surface contradiction',\n",
       "   'Surface contradiction'],\n",
       "  '3_switches': ['Surface contradiction'],\n",
       "  '4_switches': [],\n",
       "  'total_answered_class': 3,\n",
       "  'total_switched_2_times_class': 0}}"
      ]
     },
     "execution_count": 7,
     "metadata": {},
     "output_type": "execute_result"
    }
   ],
   "source": [
    "participant_to_repeated_sample_by_class['v10']"
   ]
  },
  {
   "cell_type": "code",
   "execution_count": 7,
   "metadata": {},
   "outputs": [],
   "source": [
    "# how much they shifted by class - 2 times switch\n",
    "switches_2_times = dict()\n",
    "\n",
    "switches_2_times['Unrelated'] = {'v10': 9, 'v3': 4, 'v5': 4, 'v6': 3, 'v7': 3, 'v4': 2, 'v8': 2, 'v1': 1}\n",
    "switches_2_times['Consistent'] = {'v10': 8, 'v3': 4, 'v5': 4, 'v6': 3, 'v7': 3, 'v4': 2, 'v8': 2, 'v1': 1}\n",
    "switches_2_times['Indirect inconsistency'] = {'v10': 5, 'v5': 4, 'v3': 2, 'v6': 2, 'v4': 2, 'v1': 1, 'v7': 1, 'v8': 1}\n",
    "switches_2_times['Factual inconsistency'] = {'v10': 6, 'v3': 4, 'v7': 2, 'v4': 1, 'v6': 1, 'v8': 1}\n",
    "switches_2_times['Surface contradiction'] = {'v10': 8, 'v5': 4, 'v6': 3, 'v7': 3, 'v3': 2, 'v8': 2, 'v1': 1, 'v4': 1}"
   ]
  },
  {
   "cell_type": "markdown",
   "metadata": {},
   "source": [
    "### Ignore everything above"
   ]
  },
  {
   "cell_type": "code",
   "execution_count": 5,
   "metadata": {},
   "outputs": [],
   "source": [
    "with open(r'C:\\Users\\Nursulu_1\\Downloads\\ContraDetect\\automatic_stance_detection\\data\\qualtrics_survey\\question_repeated_trial.pkl', 'rb') as f:\n",
    "    question_repeated_trial = pickle.load(f)"
   ]
  },
  {
   "cell_type": "code",
   "execution_count": 17,
   "metadata": {},
   "outputs": [],
   "source": [
    "change_per_class = dict()\n",
    "# divide into groups. answered 2 times, 3 times, 4 times etc.\n",
    "change_per_class['2_times'] = dict()\n",
    "\n",
    "for num_times in change_per_class:\n",
    "    # for each number of switches, for each class create a dict\n",
    "    for class_name in ['Unrelated', 'Consistent', 'Indirect inconsistency', 'Factual inconsistency', 'Surface contradiction']:\n",
    "        change_per_class[num_times][class_name] = {}\n",
    "        change_per_class[num_times][class_name]['answers'] = []\n",
    "        change_per_class[num_times][class_name]['annotators'] = []\n",
    "        \n",
    "        \n",
    "change_per_annotator = dict()\n",
    "for i in range(1, 11, 1):\n",
    "    change_per_annotator[f'v{i}'] = dict()\n",
    "    for class_name in classes_5:\n",
    "        change_per_annotator[f'v{i}'][class_name] = dict()\n",
    "        change_per_annotator[f'v{i}']['total_repeated_questions'] = 0\n",
    "        change_per_annotator[f'v{i}']['total_switches'] = 0\n",
    "        change_per_annotator[f'v{i}'][class_name]['repeated_class'] = 0\n",
    "        change_per_annotator[f'v{i}'][class_name]['switched'] = 0\n"
   ]
  },
  {
   "cell_type": "code",
   "execution_count": 19,
   "metadata": {},
   "outputs": [],
   "source": [
    "# go through each sample which was repeatedly annotated\n",
    "for el in question_repeated_trial:\n",
    "    # look at each annotator\n",
    "    for annotator in question_repeated_trial[el]:\n",
    "        # their answers\n",
    "        answers = question_repeated_trial[el][annotator]\n",
    "        # this time we ignore how many times they switched, just look at the second answer.\n",
    "        \n",
    "        change_per_class['2_times'][answers[0]]['answers'].append(answers[1])\n",
    "        change_per_class['2_times'][answers[0]]['annotators'].append(annotator)\n",
    "        \n",
    "        # we only add 1 becuase we consider only the first switch    \n",
    "        change_per_annotator[annotator]['total_repeated_questions'] += 1\n",
    "        change_per_annotator[annotator][answers[0]]['repeated_class'] += 1\n",
    "        if answers[0] != answers[1]:\n",
    "            change_per_annotator[annotator]['total_switches'] += 1\n",
    "            change_per_annotator[annotator][answers[0]]['switched'] += 1\n",
    "    "
   ]
  },
  {
   "cell_type": "code",
   "execution_count": 21,
   "metadata": {},
   "outputs": [
    {
     "data": {
      "text/plain": [
       "{'v1': {'Unrelated': {'repeated_class': 3, 'switched': 1},\n",
       "  'total_repeated_questions': 18,\n",
       "  'total_switches': 6,\n",
       "  'Consistent': {'repeated_class': 4, 'switched': 1},\n",
       "  'Indirect inconsistency': {'repeated_class': 6, 'switched': 2},\n",
       "  'Factual inconsistency': {'repeated_class': 1, 'switched': 0},\n",
       "  'Surface contradiction': {'repeated_class': 4, 'switched': 2}},\n",
       " 'v2': {'Unrelated': {'repeated_class': 4, 'switched': 0},\n",
       "  'total_repeated_questions': 18,\n",
       "  'total_switches': 1,\n",
       "  'Consistent': {'repeated_class': 2, 'switched': 0},\n",
       "  'Indirect inconsistency': {'repeated_class': 5, 'switched': 0},\n",
       "  'Factual inconsistency': {'repeated_class': 0, 'switched': 0},\n",
       "  'Surface contradiction': {'repeated_class': 7, 'switched': 1}},\n",
       " 'v3': {'Unrelated': {'repeated_class': 1, 'switched': 0},\n",
       "  'total_repeated_questions': 30,\n",
       "  'total_switches': 5,\n",
       "  'Consistent': {'repeated_class': 2, 'switched': 0},\n",
       "  'Indirect inconsistency': {'repeated_class': 3, 'switched': 1},\n",
       "  'Factual inconsistency': {'repeated_class': 4, 'switched': 4},\n",
       "  'Surface contradiction': {'repeated_class': 20, 'switched': 0}},\n",
       " 'v4': {'Unrelated': {'repeated_class': 4, 'switched': 3},\n",
       "  'total_repeated_questions': 27,\n",
       "  'total_switches': 7,\n",
       "  'Consistent': {'repeated_class': 7, 'switched': 2},\n",
       "  'Indirect inconsistency': {'repeated_class': 2, 'switched': 1},\n",
       "  'Factual inconsistency': {'repeated_class': 3, 'switched': 1},\n",
       "  'Surface contradiction': {'repeated_class': 11, 'switched': 0}},\n",
       " 'v5': {'Unrelated': {'repeated_class': 1, 'switched': 0},\n",
       "  'total_repeated_questions': 29,\n",
       "  'total_switches': 6,\n",
       "  'Consistent': {'repeated_class': 3, 'switched': 0},\n",
       "  'Indirect inconsistency': {'repeated_class': 15, 'switched': 4},\n",
       "  'Factual inconsistency': {'repeated_class': 5, 'switched': 0},\n",
       "  'Surface contradiction': {'repeated_class': 5, 'switched': 2}},\n",
       " 'v6': {'Unrelated': {'repeated_class': 5, 'switched': 0},\n",
       "  'total_repeated_questions': 23,\n",
       "  'total_switches': 3,\n",
       "  'Consistent': {'repeated_class': 4, 'switched': 0},\n",
       "  'Indirect inconsistency': {'repeated_class': 5, 'switched': 1},\n",
       "  'Factual inconsistency': {'repeated_class': 4, 'switched': 1},\n",
       "  'Surface contradiction': {'repeated_class': 5, 'switched': 1}},\n",
       " 'v7': {'Unrelated': {'repeated_class': 2, 'switched': 1},\n",
       "  'total_repeated_questions': 26,\n",
       "  'total_switches': 8,\n",
       "  'Consistent': {'repeated_class': 2, 'switched': 0},\n",
       "  'Indirect inconsistency': {'repeated_class': 12, 'switched': 1},\n",
       "  'Factual inconsistency': {'repeated_class': 3, 'switched': 2},\n",
       "  'Surface contradiction': {'repeated_class': 7, 'switched': 4}},\n",
       " 'v8': {'Unrelated': {'repeated_class': 6, 'switched': 1},\n",
       "  'total_repeated_questions': 24,\n",
       "  'total_switches': 5,\n",
       "  'Consistent': {'repeated_class': 4, 'switched': 0},\n",
       "  'Indirect inconsistency': {'repeated_class': 9, 'switched': 0},\n",
       "  'Factual inconsistency': {'repeated_class': 2, 'switched': 1},\n",
       "  'Surface contradiction': {'repeated_class': 3, 'switched': 3}},\n",
       " 'v9': {'Unrelated': {'repeated_class': 5, 'switched': 0},\n",
       "  'total_repeated_questions': 21,\n",
       "  'total_switches': 3,\n",
       "  'Consistent': {'repeated_class': 4, 'switched': 1},\n",
       "  'Indirect inconsistency': {'repeated_class': 5, 'switched': 0},\n",
       "  'Factual inconsistency': {'repeated_class': 1, 'switched': 1},\n",
       "  'Surface contradiction': {'repeated_class': 6, 'switched': 1}},\n",
       " 'v10': {'Unrelated': {'repeated_class': 1, 'switched': 0},\n",
       "  'total_repeated_questions': 27,\n",
       "  'total_switches': 11,\n",
       "  'Consistent': {'repeated_class': 4, 'switched': 0},\n",
       "  'Indirect inconsistency': {'repeated_class': 8, 'switched': 4},\n",
       "  'Factual inconsistency': {'repeated_class': 11, 'switched': 7},\n",
       "  'Surface contradiction': {'repeated_class': 3, 'switched': 0}}}"
      ]
     },
     "execution_count": 21,
     "metadata": {},
     "output_type": "execute_result"
    }
   ],
   "source": [
    "change_per_annotator"
   ]
  },
  {
   "cell_type": "markdown",
   "metadata": {},
   "source": [
    "now calculate percentage of times when people shifted per each class"
   ]
  },
  {
   "cell_type": "code",
   "execution_count": 26,
   "metadata": {},
   "outputs": [
    {
     "name": "stdout",
     "output_type": "stream",
     "text": [
      "Unrelated\n",
      "{'v4': 3, 'v1': 1, 'v7': 1, 'v8': 1}\n",
      "{'v4': 0.75, 'v1': 0.3333333333333333, 'v7': 0.5, 'v8': 0.16666666666666666}\n",
      "Consistent\n",
      "{'v4': 2, 'v1': 1, 'v9': 1}\n",
      "{'v4': 0.2857142857142857, 'v1': 0.25, 'v9': 0.25}\n",
      "Indirect inconsistency\n",
      "{'v5': 4, 'v10': 4, 'v1': 2, 'v6': 1, 'v3': 1, 'v4': 1, 'v7': 1}\n",
      "{'v5': 0.26666666666666666, 'v10': 0.5, 'v1': 0.3333333333333333, 'v6': 0.2, 'v3': 0.3333333333333333, 'v4': 0.5, 'v7': 0.08333333333333333}\n",
      "Factual inconsistency\n",
      "{'v10': 7, 'v3': 4, 'v7': 2, 'v4': 1, 'v6': 1, 'v9': 1, 'v8': 1}\n",
      "{'v10': 0.6363636363636364, 'v3': 1.0, 'v7': 0.6666666666666666, 'v4': 0.3333333333333333, 'v6': 0.25, 'v9': 1.0, 'v8': 0.5}\n",
      "Surface contradiction\n",
      "{'v7': 4, 'v8': 3, 'v1': 2, 'v5': 2, 'v9': 1, 'v2': 1, 'v6': 1}\n",
      "{'v7': 0.5714285714285714, 'v8': 1.0, 'v1': 0.5, 'v5': 0.4, 'v9': 0.16666666666666666, 'v2': 0.14285714285714285, 'v6': 0.2}\n"
     ]
    }
   ],
   "source": [
    "for class_name in change_per_class['2_times']:\n",
    "    print(class_name)\n",
    "    answers = change_per_class['2_times'][class_name]['answers']\n",
    "    annotators = change_per_class['2_times'][class_name]['annotators']\n",
    "\n",
    "    # Step 1: Initialize a dictionary to track switches\n",
    "    switch_count = {}\n",
    "\n",
    "    # Step 2: Iterate over the data and count non-\"Factual inconsistency\" answers\n",
    "    for annotator, answer in zip(annotators, answers):\n",
    "        if answer != class_name:  # Check if it's a \"switch\"\n",
    "            switch_count[annotator] = switch_count.get(annotator, 0) + 1\n",
    "\n",
    "    # Step 3: Display the results\n",
    "    sorted_switch_count = dict(sorted(switch_count.items(), key=lambda item: item[1], reverse=True))\n",
    "    \n",
    "    sorted_switch_percentage = dict()\n",
    "    for annotator in sorted_switch_count:\n",
    "        sorted_switch_percentage[annotator] = sorted_switch_count[annotator]/change_per_annotator[annotator][class_name]['repeated_class']\n",
    "    # calculate percentage\n",
    "    print(sorted_switch_count)\n",
    "    print(sorted_switch_percentage)"
   ]
  },
  {
   "cell_type": "markdown",
   "metadata": {},
   "source": [
    "now need also totals for each annotator"
   ]
  },
  {
   "cell_type": "code",
   "execution_count": 27,
   "metadata": {},
   "outputs": [],
   "source": [
    "total_switches_per_class = dict()\n",
    "for class_name in classes_5:\n",
    "    total_switches_per_class[class_name] = dict()\n",
    "    total_switches_per_class[class_name]['total_switch'] = 0\n",
    "    total_switches_per_class[class_name]['total_repeated'] = 0\n",
    "\n",
    "for class_name in classes_5:\n",
    "    for annotator in change_per_annotator:\n",
    "        total_switches_per_class[class_name]['total_switch'] += change_per_annotator[annotator][class_name]['switched']\n",
    "        total_switches_per_class[class_name]['total_repeated'] += change_per_annotator[annotator][class_name]['repeated_class']"
   ]
  },
  {
   "cell_type": "code",
   "execution_count": 28,
   "metadata": {},
   "outputs": [
    {
     "data": {
      "text/plain": [
       "{'Unrelated': {'total_switch': 6, 'total_repeated': 32},\n",
       " 'Consistent': {'total_switch': 4, 'total_repeated': 36},\n",
       " 'Indirect inconsistency': {'total_switch': 14, 'total_repeated': 70},\n",
       " 'Factual inconsistency': {'total_switch': 17, 'total_repeated': 34},\n",
       " 'Surface contradiction': {'total_switch': 14, 'total_repeated': 71}}"
      ]
     },
     "execution_count": 28,
     "metadata": {},
     "output_type": "execute_result"
    }
   ],
   "source": [
    "total_switches_per_class"
   ]
  },
  {
   "cell_type": "code",
   "execution_count": 29,
   "metadata": {},
   "outputs": [
    {
     "name": "stdout",
     "output_type": "stream",
     "text": [
      "Unrelated : 0.1875\n",
      "Consistent : 0.1111111111111111\n",
      "Indirect inconsistency : 0.2\n",
      "Factual inconsistency : 0.5\n",
      "Surface contradiction : 0.19718309859154928\n"
     ]
    }
   ],
   "source": [
    "for class_name in total_switches_per_class:\n",
    "    print(class_name, \":\", total_switches_per_class[class_name]['total_switch']/total_switches_per_class[class_name]['total_repeated'])"
   ]
  },
  {
   "cell_type": "markdown",
   "metadata": {},
   "source": [
    "Now analyse how often model shifted in its judgements"
   ]
  },
  {
   "cell_type": "code",
   "execution_count": 31,
   "metadata": {},
   "outputs": [
    {
     "data": {
      "text/plain": [
       "\"['Indirect inconsistency', 'Indirect inconsistency', 'Indirect inconsistency', 'Indirect inconsistency', 'Indirect inconsistency']\""
      ]
     },
     "execution_count": 31,
     "metadata": {},
     "output_type": "execute_result"
    }
   ],
   "source": [
    "df_gold['ChatGPT-4 5 runs'][0]"
   ]
  },
  {
   "cell_type": "code",
   "execution_count": null,
   "metadata": {},
   "outputs": [],
   "source": []
  },
  {
   "cell_type": "code",
   "execution_count": null,
   "metadata": {},
   "outputs": [],
   "source": []
  }
 ],
 "metadata": {
  "kernelspec": {
   "display_name": "Python 3",
   "language": "python",
   "name": "python3"
  },
  "language_info": {
   "codemirror_mode": {
    "name": "ipython",
    "version": 3
   },
   "file_extension": ".py",
   "mimetype": "text/x-python",
   "name": "python",
   "nbconvert_exporter": "python",
   "pygments_lexer": "ipython3",
   "version": "3.11.9"
  }
 },
 "nbformat": 4,
 "nbformat_minor": 2
}
