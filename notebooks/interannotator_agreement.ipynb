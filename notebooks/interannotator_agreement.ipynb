{
 "cells": [
  {
   "cell_type": "code",
   "execution_count": 7,
   "metadata": {},
   "outputs": [],
   "source": [
    "import krippendorff\n",
    "import numpy as np\n",
    "import pandas as pd\n",
    "import pickle\n",
    "import random\n",
    "import json\n",
    "from collections import Counter"
   ]
  },
  {
   "cell_type": "markdown",
   "metadata": {},
   "source": [
    "A notebook for analyzing inter-annotator agreement. We assume all annotator answers are in a file called all_samples_to_responses.pkl\n",
    "\n",
    "Format dict():\n",
    "\n",
    "Sample -> [list of labels provided by annotators]"
   ]
  },
  {
   "cell_type": "code",
   "execution_count": 21,
   "metadata": {},
   "outputs": [],
   "source": [
    "with open(r'../evaluating_models/all_samples_to_responses.pkl', 'rb') as f:\n",
    "    final_sample_to_responses = pickle.load(f)"
   ]
  },
  {
   "cell_type": "markdown",
   "metadata": {},
   "source": [
    "### 5 classes evaluation"
   ]
  },
  {
   "cell_type": "code",
   "execution_count": 11,
   "metadata": {},
   "outputs": [],
   "source": [
    "label_to_num_5_classes = {'Unrelated': 1, \"Consistent\": 2, \"Indirect inconsistency\": 3, \"Factual inconsistency\": 4, \"Surface contradiction\": 5}"
   ]
  },
  {
   "cell_type": "code",
   "execution_count": null,
   "metadata": {},
   "outputs": [],
   "source": [
    "matrix = []\n",
    "for sample in final_sample_to_responses:\n",
    "    res = []\n",
    "    for answer in final_sample_to_responses[sample]:\n",
    "        res.append(label_to_num_5_classes[answer])\n",
    "        \n",
    "    # Ensure at least 5 annotations per sample\n",
    "    if len(res) == 5:\n",
    "        matrix.append(res)\n",
    "    else:\n",
    "        print(sample)\n",
    "        print(res)\n",
    "        # If more than 5 annotations, randomly sample 5 out of them\n",
    "        matrix.append(random.sample(res, 5))\n"
   ]
  },
  {
   "cell_type": "code",
   "execution_count": 13,
   "metadata": {},
   "outputs": [],
   "source": [
    "matrix = np.array(matrix)\n",
    "\n",
    "matrix_fleiss = []\n",
    "for row in matrix:\n",
    "    res = []\n",
    "    counts = Counter(row)\n",
    "    for i in range(1, 6): \n",
    "        res.append(counts[i])\n",
    "    matrix_fleiss.append(res)\n",
    "    \n",
    "matrix_fleiss = np.array(matrix_fleiss)"
   ]
  },
  {
   "cell_type": "code",
   "execution_count": null,
   "metadata": {},
   "outputs": [],
   "source": [
    "print(\"Krippendorff's alpha for nominal metric: \", krippendorff.alpha(value_counts=matrix_fleiss,\n",
    "                                                                          level_of_measurement='nominal'))\n",
    "print(\"Krippendorff's alpha for ordinal metric: \", krippendorff.alpha(value_counts=matrix_fleiss,\n",
    "                                                                        level_of_measurement='ordinal'))"
   ]
  },
  {
   "cell_type": "markdown",
   "metadata": {},
   "source": [
    "### 3 classes evaluation"
   ]
  },
  {
   "cell_type": "code",
   "execution_count": 17,
   "metadata": {},
   "outputs": [],
   "source": [
    "label_to_num_3_classes = {'Unrelated': 1, \"Consistent\": 2,  \"Indirect inconsistency\": 3, \"Factual inconsistency\": 3, \"Surface contradiction\": 3}"
   ]
  },
  {
   "cell_type": "code",
   "execution_count": null,
   "metadata": {},
   "outputs": [],
   "source": [
    "matrix = []\n",
    "for sample in final_sample_to_responses:\n",
    "    res = []\n",
    "    for answer in final_sample_to_responses[sample]:\n",
    "        res.append(label_to_num_3_classes[answer])\n",
    "        \n",
    "    # Ensure at least 5 annotations per sample\n",
    "    if len(res) == 5:\n",
    "        matrix.append(res)\n",
    "    else:\n",
    "        print(sample)\n",
    "        print(res)\n",
    "        # If more than 5 annotations, randomly sample 5 out of them\n",
    "        matrix.append(random.sample(res, 5))\n"
   ]
  },
  {
   "cell_type": "code",
   "execution_count": 19,
   "metadata": {},
   "outputs": [],
   "source": [
    "matrix = np.array(matrix)\n",
    "\n",
    "matrix_fleiss = []\n",
    "for row in matrix:\n",
    "    res = []\n",
    "    counts = Counter(row)\n",
    "    for i in range(1, 4): \n",
    "        res.append(counts[i])\n",
    "    matrix_fleiss.append(res)\n",
    "    \n",
    "matrix_fleiss = np.array(matrix_fleiss)"
   ]
  },
  {
   "cell_type": "code",
   "execution_count": null,
   "metadata": {},
   "outputs": [],
   "source": [
    "print(\"Krippendorff's alpha for nominal metric: \", krippendorff.alpha(value_counts=matrix_fleiss,\n",
    "                                                                          level_of_measurement='nominal'))\n",
    "print(\"Krippendorff's alpha for ordinal metric: \", krippendorff.alpha(value_counts=matrix_fleiss,\n",
    "                                                                      level_of_measurement='ordinal'))"
   ]
  }
 ],
 "metadata": {
  "kernelspec": {
   "display_name": "Python 3",
   "language": "python",
   "name": "python3"
  },
  "language_info": {
   "codemirror_mode": {
    "name": "ipython",
    "version": 3
   },
   "file_extension": ".py",
   "mimetype": "text/x-python",
   "name": "python",
   "nbconvert_exporter": "python",
   "pygments_lexer": "ipython3",
   "version": "3.11.9"
  }
 },
 "nbformat": 4,
 "nbformat_minor": 2
}
