{
 "cells": [
  {
   "cell_type": "code",
   "execution_count": 1,
   "metadata": {},
   "outputs": [],
   "source": [
    "from openai import OpenAI\n",
    "client = OpenAI(api_key=\"sk-proj-3KhQdlgMCuoQc6EL2y1ZT3BlbkFJYHG9JgPGpOLsRnDSKuSs\")"
   ]
  },
  {
   "cell_type": "code",
   "execution_count": 2,
   "metadata": {},
   "outputs": [],
   "source": [
    "import json\n",
    "import pandas as pd\n",
    "import time"
   ]
  },
  {
   "cell_type": "code",
   "execution_count": 3,
   "metadata": {},
   "outputs": [],
   "source": [
    "df = pd.read_csv(r\"C:\\Users\\Nursulu_1\\Downloads\\ContraDetect\\automatic_stance_detection\\data\\wahlomat\\wahlomat_statements\\all_statements_wahlomat.csv\")"
   ]
  },
  {
   "cell_type": "code",
   "execution_count": 4,
   "metadata": {},
   "outputs": [
    {
     "data": {
      "text/html": [
       "<div>\n",
       "<style scoped>\n",
       "    .dataframe tbody tr th:only-of-type {\n",
       "        vertical-align: middle;\n",
       "    }\n",
       "\n",
       "    .dataframe tbody tr th {\n",
       "        vertical-align: top;\n",
       "    }\n",
       "\n",
       "    .dataframe thead th {\n",
       "        text-align: right;\n",
       "    }\n",
       "</style>\n",
       "<table border=\"1\" class=\"dataframe\">\n",
       "  <thead>\n",
       "    <tr style=\"text-align: right;\">\n",
       "      <th></th>\n",
       "      <th>Statement</th>\n",
       "      <th>Opinion</th>\n",
       "      <th>Comment</th>\n",
       "    </tr>\n",
       "  </thead>\n",
       "  <tbody>\n",
       "    <tr>\n",
       "      <th>0</th>\n",
       "      <td>Die Gemeinschaftsschulzeit soll von vier auf s...</td>\n",
       "      <td>pro</td>\n",
       "      <td>NaN</td>\n",
       "    </tr>\n",
       "    <tr>\n",
       "      <th>1</th>\n",
       "      <td>Die Gemeinschaftsschulzeit soll von vier auf s...</td>\n",
       "      <td>pro</td>\n",
       "      <td>NaN</td>\n",
       "    </tr>\n",
       "    <tr>\n",
       "      <th>2</th>\n",
       "      <td>Die Gemeinschaftsschulzeit soll von vier auf s...</td>\n",
       "      <td>pro</td>\n",
       "      <td>NaN</td>\n",
       "    </tr>\n",
       "    <tr>\n",
       "      <th>3</th>\n",
       "      <td>Die Gemeinschaftsschulzeit soll von vier auf s...</td>\n",
       "      <td>contra</td>\n",
       "      <td>\"Alle Versuche mit der sog. 'Orientierungsstuf...</td>\n",
       "    </tr>\n",
       "    <tr>\n",
       "      <th>4</th>\n",
       "      <td>Die Gemeinschaftsschulzeit soll von vier auf s...</td>\n",
       "      <td>contra</td>\n",
       "      <td>NaN</td>\n",
       "    </tr>\n",
       "    <tr>\n",
       "      <th>...</th>\n",
       "      <td>...</td>\n",
       "      <td>...</td>\n",
       "      <td>...</td>\n",
       "    </tr>\n",
       "    <tr>\n",
       "      <th>41802</th>\n",
       "      <td>Jugendliche sollen bei Landtagswahlen in Thüri...</td>\n",
       "      <td>contra</td>\n",
       "      <td>\"Entscheidend für die demokratische Legitimati...</td>\n",
       "    </tr>\n",
       "    <tr>\n",
       "      <th>41803</th>\n",
       "      <td>Jugendliche sollen bei Landtagswahlen in Thüri...</td>\n",
       "      <td>contra</td>\n",
       "      <td>\"Das Wahlrecht ab 16 bei Kommunalwahlen und be...</td>\n",
       "    </tr>\n",
       "    <tr>\n",
       "      <th>41804</th>\n",
       "      <td>Jugendliche sollen bei Landtagswahlen in Thüri...</td>\n",
       "      <td>contra</td>\n",
       "      <td>\"Viele Jugendliche wissen mit 16 Jahren noch n...</td>\n",
       "    </tr>\n",
       "    <tr>\n",
       "      <th>41805</th>\n",
       "      <td>Jugendliche sollen bei Landtagswahlen in Thüri...</td>\n",
       "      <td>contra</td>\n",
       "      <td>NaN</td>\n",
       "    </tr>\n",
       "    <tr>\n",
       "      <th>41806</th>\n",
       "      <td>Jugendliche sollen bei Landtagswahlen in Thüri...</td>\n",
       "      <td>contra</td>\n",
       "      <td>\"Das Wahlrecht ist Ausdruck der Volljährigkeit...</td>\n",
       "    </tr>\n",
       "  </tbody>\n",
       "</table>\n",
       "<p>41807 rows × 3 columns</p>\n",
       "</div>"
      ],
      "text/plain": [
       "                                               Statement Opinion  \\\n",
       "0      Die Gemeinschaftsschulzeit soll von vier auf s...     pro   \n",
       "1      Die Gemeinschaftsschulzeit soll von vier auf s...     pro   \n",
       "2      Die Gemeinschaftsschulzeit soll von vier auf s...     pro   \n",
       "3      Die Gemeinschaftsschulzeit soll von vier auf s...  contra   \n",
       "4      Die Gemeinschaftsschulzeit soll von vier auf s...  contra   \n",
       "...                                                  ...     ...   \n",
       "41802  Jugendliche sollen bei Landtagswahlen in Thüri...  contra   \n",
       "41803  Jugendliche sollen bei Landtagswahlen in Thüri...  contra   \n",
       "41804  Jugendliche sollen bei Landtagswahlen in Thüri...  contra   \n",
       "41805  Jugendliche sollen bei Landtagswahlen in Thüri...  contra   \n",
       "41806  Jugendliche sollen bei Landtagswahlen in Thüri...  contra   \n",
       "\n",
       "                                                 Comment  \n",
       "0                                                    NaN  \n",
       "1                                                    NaN  \n",
       "2                                                    NaN  \n",
       "3      \"Alle Versuche mit der sog. 'Orientierungsstuf...  \n",
       "4                                                    NaN  \n",
       "...                                                  ...  \n",
       "41802  \"Entscheidend für die demokratische Legitimati...  \n",
       "41803  \"Das Wahlrecht ab 16 bei Kommunalwahlen und be...  \n",
       "41804  \"Viele Jugendliche wissen mit 16 Jahren noch n...  \n",
       "41805                                                NaN  \n",
       "41806  \"Das Wahlrecht ist Ausdruck der Volljährigkeit...  \n",
       "\n",
       "[41807 rows x 3 columns]"
      ]
     },
     "execution_count": 4,
     "metadata": {},
     "output_type": "execute_result"
    }
   ],
   "source": [
    "df"
   ]
  },
  {
   "cell_type": "code",
   "execution_count": 5,
   "metadata": {},
   "outputs": [],
   "source": [
    "all_statements = list(df[\"Statement\"].unique())"
   ]
  },
  {
   "cell_type": "code",
   "execution_count": null,
   "metadata": {},
   "outputs": [],
   "source": [
    "asst_56kzZiPtskJyjX3fJM6Jam3W"
   ]
  },
  {
   "cell_type": "code",
   "execution_count": 6,
   "metadata": {},
   "outputs": [
    {
     "data": {
      "text/plain": [
       "['Die Gemeinschaftsschulzeit soll von vier auf sechs Jahre erhöht werden.',\n",
       " 'Keine Noten in der Grundschule!',\n",
       " 'Das Sozialverhalten der Schüler/-innen soll wieder benotet werden.',\n",
       " 'Studiengebühren an Hochschulen sollen für das Erststudium eingeführt werden.',\n",
       " 'Die gymnasiale Schulzeit soll von neun auf acht Jahre verkürzt werden.',\n",
       " 'Haschisch und Marihuana sollen legalisiert werden.',\n",
       " 'Öffentliche Tabak- und Alkoholwerbung muss verboten werden.',\n",
       " 'Ausländer/-innen sollen schon bei Verdacht auf terroristische Straftaten ausgewiesen werden.',\n",
       " 'Steuerliche Vergünstigungen bei Kapital- und Vermögenseinkommen werden abgeschafft.',\n",
       " 'Das Wahlalter auf Landes- und Kommunalebene soll auf 16 Jahre gesenkt werden.',\n",
       " 'Die Beantragung von Volksabstimmungen soll erleichtert werden.',\n",
       " 'Der Ministerpräsident / die Ministerpräsidentin soll direkt vom Volk gewählt werden.',\n",
       " 'Die Bundesländer sollen sich innerhalb der Europäischen Union verstärkt selber vertreten.',\n",
       " 'Die Geschlechtertrennung soll in ausgewählten Schulfächern wieder eingeführt werden.',\n",
       " 'Der Bau des Transrapid München - München/Flughafen soll vorangetrieben werden.',\n",
       " 'Die bayerischen Flughäfen sollen ausgebaut werden.',\n",
       " 'Im Öffentlichen Dienst soll das Renteneintrittsalter heraufgesetzt werden.',\n",
       " 'Der Meisterbrief muss Voraussetzung für eine Eigenständigkeit im Handwerk bleiben.',\n",
       " 'Jede/r Berufstätige muss jährlich eine Weiterbildungsmaßnahme wahrnehmen.',\n",
       " 'In den Gemeindeordnungen sollen weitreichende Formen der Mitwirkung Jugendlicher verankert werden.',\n",
       " 'Die Türkei soll in die EU aufgenommen werden.',\n",
       " 'Arbeitssuchende aus den neuen Mitgliedsländern sollen ohne Übergangsfrist in allen EU-Staaten arbeiten dürfen.',\n",
       " 'Es sollen EU-weite Volksentscheide eingeführt werden.',\n",
       " 'Die christlich-abendländische Kultur muss das Fundament Europas sein.',\n",
       " 'Nationale Parlamente müssen wieder mehr Einfluss in der Europäischen Union erhalten.',\n",
       " 'In der europäischen Verfassung sollte ein Gottesbezug verankert werden.',\n",
       " 'Die deutsche Bevölkerung soll in einer Volksabstimmung über die neue EU-Verfassung entscheiden.',\n",
       " 'Verstöße gegen den Europäischen Stabilitätspakt sollen strikt bestraft werden.',\n",
       " 'Die Beitragszahlungen Deutschlands an die EU müssen gesenkt werden.',\n",
       " 'Anstelle der nationalen Beiträge darf die EU eine eigene Steuer erheben.',\n",
       " 'Aktive Arbeitsmarktpolitik ist eine nationale Aufgabe, keine Aufgabe der EU.',\n",
       " 'Freie Marktwirtschaft ist die beste Strategie gegen Arbeitslosigkeit.',\n",
       " 'Die Mehrwertsteuer soll EU-weit vereinheitlicht werden.',\n",
       " 'Soziale Mindeststandards wie Mindestlöhne sollen EU-weit eingeführt werden.',\n",
       " 'Absolutes Werbeverbot für Tabakprodukte.',\n",
       " 'Der Transport von Atommüll zwischen den EU-Staaten muss verboten werden.',\n",
       " 'Die Wasserversorgung soll privatisiert werden.',\n",
       " 'Die EU soll sich aktiv gegen Kurzstreckenflüge einsetzen.',\n",
       " 'EU-weiter Ausstieg aus der Atomenergie.',\n",
       " 'Wir brauchen einheitliche Bildungsstandards innerhalb der EU.',\n",
       " 'Jede Form von Klonforschung soll verboten werden.',\n",
       " 'EU-Green-Card für hochqualifizierte Fachkräfte.',\n",
       " 'Biometrische Daten (Fingerabdrücke u.a.) sollen von allen Einwohner/innen der EU in den Ausweispapieren erfasst werden.',\n",
       " 'Alle Flugzeuge, die in der EU landen oder starten, sollen von bewaffnetem Sicherheitspersonal begleitet werden.',\n",
       " 'Personenbezogene Daten sollen zur EU-weiten Verbrechensbekämpfung an einer zentralen Stelle gesammelt werden.',\n",
       " 'Es muss ein gemeinsamer Grenzschutz der EU eingerichtet werden.',\n",
       " 'Bei der Verfolgung von Kriminellen dürfen nationale Polizisten/innen über die EU-Binnengrenzen hinweg tätig werden.',\n",
       " 'Entwicklungshilfe erhalten nur Staaten, welche die Menschenrechte konsequent beachten.',\n",
       " 'Die EU darf keine militärischen Mittel zur Konfliktlösung einsetzen.',\n",
       " 'Die NATO ist entbehrlich für die Sicherheit und Stabilität in Europa.']"
      ]
     },
     "execution_count": 6,
     "metadata": {},
     "output_type": "execute_result"
    }
   ],
   "source": [
    "all_statements[:50]"
   ]
  },
  {
   "cell_type": "code",
   "execution_count": null,
   "metadata": {},
   "outputs": [],
   "source": [
    "answers_pro = []\n",
    "answers_contra = []\n",
    "statements = []\n",
    "for statement in all_statements:\n",
    "    pro = df[(df['Statement'] == statement) & (df['Opinion'] == 'pro')]['Comment'].dropna().tolist()\n",
    "    contra = df[(df['Statement'] == statement) & (df['Opinion'] == 'contra')]['Comment'].dropna().tolist()\n",
    "    max_len = max(len(pro), len(contra))\n",
    "    # summarize texts if they are present, so that they are no NaN\n",
    "    if max_len > 0:\n",
    "        if len(pro) != len(contra):\n",
    "            smaller_list = min([pro, contra], key=len)\n",
    "            bigger_list = max([pro, contra], key=len)\n",
    "            diff = max_len-len(smaller_list)\n",
    "            for i in range(diff):\n",
    "                smaller_list.append(None)\n",
    "        statements_temp = [statement * len(pro)]\n",
    "        answers_pro.extend(pro)\n",
    "        answers_contra.extend(contra)\n",
    "        statements.append(statements_temp)\n",
    "    # otherwise generate new text.\n",
    "    "
   ]
  },
  {
   "cell_type": "code",
   "execution_count": 12,
   "metadata": {},
   "outputs": [
    {
     "data": {
      "text/plain": [
       "\"Die AfD setzt sich für ein wirtschaftliches Umfeld ein, das Investitionen und Innovationen fördert, indem sie weitreichende Deregulierung und Bürokratieabbau fordert. Die Partei betrachtet die aktuelle Menge an Regulierungen als zu umfangreich und ineffizient und möchte den unternehmerischen Geist durch die Beseitigung bürokratischer Hindernisse neu beleben. Der Ansatz beinhaltet nicht nur eine Verbesserung der Regelgestaltung, sondern auch eine Überprüfung der Notwendigkeit bestehender Regelungen.\\n\\nTopics: ['economy']\\nStances: {'deregulation': 'positive', 'bureaucracy': 'negative'}\""
      ]
     },
     "execution_count": 12,
     "metadata": {},
     "output_type": "execute_result"
    }
   ],
   "source": [
    "to_summarize['Summary 1'][0]"
   ]
  },
  {
   "cell_type": "code",
   "execution_count": 6,
   "metadata": {},
   "outputs": [],
   "source": [
    "assistant = client.beta.assistants.create(\n",
    "  name=\"Summarization Assistant\",\n",
    "  instructions='''\n",
    "  Your task is to summarize the given text. The summary should contain important aspects of the original text. The main goal is that to reflect claims or stances expressed in the text.\n",
    "  \n",
    "  Example:\n",
    "  Input: The AfD wants to reduce the influence of the parties on cultural life, strengthen non-profit private cultural foundations and civic cultural initiatives and generally align cultural policy with professional quality criteria and economic reason rather than with political opportunities. \n",
    "  The current narrowing of the German culture of remembrance to the time of National Socialism must be broken down in favor of an expanded view of history that also includes the positive, identity-forming aspects of German history.\n",
    "  \n",
    "  Summary: We believe that Germany should get rid of the Rememberance culture and promote a more positive portrayal of its history.\n",
    "  \n",
    "  Topics: ['culture']\n",
    "  Stances: {'rememberance_culture': 'negative', 'culture_intervention': 'negative'}\n",
    "''',\n",
    "  model=\"gpt-4-turbo\",\n",
    ")"
   ]
  },
  {
   "cell_type": "code",
   "execution_count": 7,
   "metadata": {},
   "outputs": [
    {
     "data": {
      "text/plain": [
       "'asst_2eeGKT8rHwL2UYXLbVjiZGez'"
      ]
     },
     "execution_count": 7,
     "metadata": {},
     "output_type": "execute_result"
    }
   ],
   "source": [
    "assistant.id"
   ]
  },
  {
   "cell_type": "code",
   "execution_count": 14,
   "metadata": {},
   "outputs": [
    {
     "name": "stdout",
     "output_type": "stream",
     "text": [
      "🏁 Run 0 Completed!\n"
     ]
    },
    {
     "name": "stderr",
     "output_type": "stream",
     "text": [
      "C:\\Users\\Nursulu_1\\AppData\\Local\\Temp\\ipykernel_265932\\3252815569.py:33: SettingWithCopyWarning: \n",
      "A value is trying to be set on a copy of a slice from a DataFrame\n",
      "\n",
      "See the caveats in the documentation: https://pandas.pydata.org/pandas-docs/stable/user_guide/indexing.html#returning-a-view-versus-a-copy\n",
      "  to_summarize['Summary 2'][i] = latest_message.content[0].text.value\n",
      "C:\\Users\\Nursulu_1\\AppData\\Local\\Temp\\ipykernel_265932\\3252815569.py:33: FutureWarning: Setting an item of incompatible dtype is deprecated and will raise in a future error of pandas. Value 'Die AfD unterstützt die Einführung eines gesetzlichen Mindestlohns, um die schwachen Positionen von Niedriglohnempfängern gegenüber Arbeitgebern zu stärken und Armut sowie Abhängigkeit von staatlichen Sozialleistungen zu verhindern. Die Partei sieht prekäre Arbeitsverhältnisse als schädlich für den gesellschaftlichen Wohlstand an und schlägt vor, den Anteil von Beschäftigten in Leih- oder Werkverträgen auf 15 Prozent zu begrenzen. Außerdem fordert sie, dass Leiharbeit nach sechs Monaten in ein festes Arbeitsverhältnis übergehen sollte und Zeitarbeitsverträge strengeren Regelungen unterliegen müssen.' has dtype incompatible with float64, please explicitly cast to a compatible dtype first.\n",
      "  to_summarize['Summary 2'][i] = latest_message.content[0].text.value\n"
     ]
    },
    {
     "name": "stdout",
     "output_type": "stream",
     "text": [
      "🏁 Run 1 Completed!\n",
      "🏁 Run 2 Completed!\n",
      "🏁 Run 3 Completed!\n",
      "🏁 Run 4 Completed!\n",
      "🏁 Run 5 Completed!\n",
      "🏁 Run 6 Completed!\n",
      "🏁 Run 7 Completed!\n",
      "🏁 Run 8 Completed!\n",
      "🏁 Run 11 Completed!\n",
      "🏁 Run 12 Completed!\n",
      "🏁 Run 13 Completed!\n",
      "🏁 Run 14 Completed!\n",
      "🏁 Run 15 Completed!\n",
      "🏁 Run 16 Completed!\n",
      "🏁 Run 17 Completed!\n",
      "🏁 Run 18 Completed!\n",
      "🏁 Run 19 Completed!\n",
      "🏁 Run 20 Completed!\n",
      "🏁 Run 21 Completed!\n",
      "🏁 Run 22 Completed!\n",
      "🏁 Run 23 Completed!\n",
      "🏁 Run 24 Completed!\n",
      "🏁 Run 25 Completed!\n",
      "🏁 Run 26 Completed!\n",
      "🏁 Run 27 Completed!\n",
      "🏁 Run 28 Completed!\n",
      "🏁 Run 29 Completed!\n",
      "🏁 Run 30 Completed!\n",
      "🏁 Run 31 Completed!\n",
      "🏁 Run 32 Completed!\n",
      "🏁 Run 33 Completed!\n",
      "🏁 Run 34 Completed!\n",
      "🏁 Run 35 Completed!\n",
      "🏁 Run 36 Completed!\n"
     ]
    }
   ],
   "source": [
    "for i in range(len(to_summarize['Contradicting statement'])):\n",
    "    statement = to_summarize['Contradicting statement'][i]\n",
    "    if str(statement) not in [\"NaN\", \"nan\"]:\n",
    "        try:\n",
    "            # Create a thread with a message.\n",
    "            thread = client.beta.threads.create(\n",
    "                messages=[\n",
    "                    {\n",
    "                        \"role\": \"user\",\n",
    "                        # Update this with the query you want to use.\n",
    "                        \"content\": statement,\n",
    "                    }\n",
    "                ]\n",
    "            )\n",
    "\n",
    "            # Submit the thread to the assistant (as a new run).\n",
    "            run = client.beta.threads.runs.create(thread_id=thread.id, assistant_id=assistant.id)\n",
    "\n",
    "            # Wait for run to complete.\n",
    "            while run.status != \"completed\":\n",
    "                run = client.beta.threads.runs.retrieve(thread_id=thread.id, run_id=run.id)\n",
    "                time.sleep(1)\n",
    "            else:\n",
    "                print(f\"🏁 Run {i} Completed!\")\n",
    "\n",
    "            # Get the latest message from the thread.\n",
    "            message_response = client.beta.threads.messages.list(thread_id=thread.id)\n",
    "            messages = message_response.data\n",
    "\n",
    "            # Print the latest message.\n",
    "            latest_message = messages[0]\n",
    "            \n",
    "            to_summarize['Summary 2'][i] = latest_message.content[0].text.value\n",
    "        except:\n",
    "            print(f\"Run {i} went wrong\")\n",
    "\n",
    "        to_summarize.to_csv(\"summarized_by_gpt.csv\", index=False)"
   ]
  },
  {
   "cell_type": "code",
   "execution_count": 17,
   "metadata": {},
   "outputs": [],
   "source": [
    "assistant = client.beta.assistants.create(\n",
    "  name=\"Contradictions between summaries\",\n",
    "  instructions='''\n",
    "    Your task is to take two input texts and tell whether there is an inconsistency between them or not. If there is an inconsistency, briefly explain where it is. If there are no inconsistencies, just answer \"Consistent\". If the texts are unrelated, just say \"Unrelated\". \n",
    "\n",
    "    Example 1.\n",
    "    Text 1: We are against bureaucracy and want to decrease regulations. We want to make the rules easier for the companies.\n",
    "    Text 2: We care about the working class and support increasing the minimum wage. \n",
    "    Reasoning: Making rules easier for companies, as Text 1 suggests, might imply more freedom in specifying the conditions in the contracts and setting the minimum hourly rate, as well as the minimum wage, which is inconsistent with Text 2. Therefore, the answer is: Inconsisent.\n",
    "    Answer: Inconsisent.\n",
    "''',\n",
    "  model=\"gpt-4-turbo\",\n",
    ")"
   ]
  },
  {
   "cell_type": "code",
   "execution_count": 19,
   "metadata": {},
   "outputs": [
    {
     "name": "stdout",
     "output_type": "stream",
     "text": [
      "🏁 Run 0 Completed!\n"
     ]
    },
    {
     "name": "stderr",
     "output_type": "stream",
     "text": [
      "C:\\Users\\Nursulu_1\\AppData\\Local\\Temp\\ipykernel_265932\\3689488211.py:34: SettingWithCopyWarning: \n",
      "A value is trying to be set on a copy of a slice from a DataFrame\n",
      "\n",
      "See the caveats in the documentation: https://pandas.pydata.org/pandas-docs/stable/user_guide/indexing.html#returning-a-view-versus-a-copy\n",
      "  to_summarize['GPT (summaries)'][i] = latest_message.content[0].text.value\n",
      "C:\\Users\\Nursulu_1\\AppData\\Local\\Temp\\ipykernel_265932\\3689488211.py:34: FutureWarning: Setting an item of incompatible dtype is deprecated and will raise in a future error of pandas. Value 'Inconsistency.\n",
      "\n",
      "Reasoning: Text 1 suggests that the AfD promotes a reduction in regulations and bureaucracy, aiming to revive the entrepreneurial spirit by eliminating bureaucratic obstacles. They view existing regulations as overly elaborate and inefficient. On the other hand, Text 2 indicates that the AfD supports the establishment of a statutory minimum wage and stricter regulations on temporary employment contracts, which is a form of increased regulation. This stance on minimum wage and temporary employment contrasts with their general advocacy for deregulation and bureaucracy reduction, as stricter regulations on employment directly translate to more, not fewer, bureaucratic controls. Thus, there is an inconsistency between their general ideological stance on deregulation and their specific support for stronger employment regulations.' has dtype incompatible with float64, please explicitly cast to a compatible dtype first.\n",
      "  to_summarize['GPT (summaries)'][i] = latest_message.content[0].text.value\n"
     ]
    },
    {
     "name": "stdout",
     "output_type": "stream",
     "text": [
      "🏁 Run 1 Completed!\n",
      "🏁 Run 2 Completed!\n",
      "🏁 Run 3 Completed!\n",
      "🏁 Run 4 Completed!\n",
      "🏁 Run 5 Completed!\n",
      "🏁 Run 6 Completed!\n",
      "🏁 Run 7 Completed!\n",
      "🏁 Run 11 Completed!\n",
      "🏁 Run 12 Completed!\n",
      "🏁 Run 13 Completed!\n",
      "🏁 Run 14 Completed!\n",
      "🏁 Run 15 Completed!\n",
      "🏁 Run 16 Completed!\n",
      "🏁 Run 17 Completed!\n",
      "🏁 Run 18 Completed!\n",
      "🏁 Run 19 Completed!\n",
      "🏁 Run 20 Completed!\n",
      "🏁 Run 21 Completed!\n",
      "🏁 Run 22 Completed!\n",
      "🏁 Run 23 Completed!\n",
      "🏁 Run 24 Completed!\n",
      "🏁 Run 25 Completed!\n",
      "🏁 Run 26 Completed!\n",
      "🏁 Run 27 Completed!\n",
      "🏁 Run 28 Completed!\n",
      "🏁 Run 29 Completed!\n",
      "🏁 Run 30 Completed!\n",
      "🏁 Run 31 Completed!\n",
      "🏁 Run 32 Completed!\n",
      "🏁 Run 33 Completed!\n",
      "🏁 Run 34 Completed!\n",
      "🏁 Run 35 Completed!\n",
      "🏁 Run 36 Completed!\n"
     ]
    }
   ],
   "source": [
    "for i in range(len(to_summarize)):\n",
    "    text1 = to_summarize['Summary 1'][i]\n",
    "    text2 = to_summarize['Summary 2'][i]\n",
    "    if str(text1) not in [\"NaN\", \"nan\"] and str(text2) not in [\"NaN\", \"nan\"]:\n",
    "        try:\n",
    "            # Create a thread with a message.\n",
    "            thread = client.beta.threads.create(\n",
    "                messages=[\n",
    "                    {\n",
    "                        \"role\": \"user\",\n",
    "                        # Update this with the query you want to use.\n",
    "                        \"content\": f\"Text 1: {text1}. Text 2: {text2}\",\n",
    "                    }\n",
    "                ]\n",
    "            )\n",
    "\n",
    "            # Submit the thread to the assistant (as a new run).\n",
    "            run = client.beta.threads.runs.create(thread_id=thread.id, assistant_id=assistant.id)\n",
    "\n",
    "            # Wait for run to complete.\n",
    "            while run.status != \"completed\":\n",
    "                run = client.beta.threads.runs.retrieve(thread_id=thread.id, run_id=run.id)\n",
    "                time.sleep(1)\n",
    "            else:\n",
    "                print(f\"🏁 Run {i} Completed!\")\n",
    "\n",
    "            # Get the latest message from the thread.\n",
    "            message_response = client.beta.threads.messages.list(thread_id=thread.id)\n",
    "            messages = message_response.data\n",
    "\n",
    "            # Print the latest message.\n",
    "            latest_message = messages[0]\n",
    "            \n",
    "            to_summarize['GPT (summaries)'][i] = latest_message.content[0].text.value\n",
    "        except:\n",
    "            print(f\"Run {i} went wrong\")\n",
    "\n",
    "        to_summarize.to_csv(\"summarized_by_gpt.csv\", index=False)"
   ]
  },
  {
   "cell_type": "markdown",
   "metadata": {},
   "source": []
  }
 ],
 "metadata": {
  "kernelspec": {
   "display_name": "Python 3",
   "language": "python",
   "name": "python3"
  },
  "language_info": {
   "codemirror_mode": {
    "name": "ipython",
    "version": 3
   },
   "file_extension": ".py",
   "mimetype": "text/x-python",
   "name": "python",
   "nbconvert_exporter": "python",
   "pygments_lexer": "ipython3",
   "version": "3.11.9"
  }
 },
 "nbformat": 4,
 "nbformat_minor": 2
}
