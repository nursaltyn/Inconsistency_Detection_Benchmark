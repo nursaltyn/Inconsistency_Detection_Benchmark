{
 "cells": [
  {
   "cell_type": "code",
   "execution_count": 1,
   "metadata": {},
   "outputs": [],
   "source": [
    "import math\n",
    "from openai import OpenAI"
   ]
  },
  {
   "cell_type": "markdown",
   "metadata": {},
   "source": [
    "1. Detect high-level topic (zero-shot)\n",
    "2. Detect targets (zero-shot)\n",
    "3. If confidence is lower than threshold, generate new target (gpt assistant)\n",
    "4. Generate stance to the targets (gpt assistant) -> need confidence scores"
   ]
  },
  {
   "cell_type": "code",
   "execution_count": 1,
   "metadata": {},
   "outputs": [],
   "source": [
    "import json\n",
    "import pandas as pd\n",
    "import time\n",
    "from tqdm import tqdm\n",
    "from collections import defaultdict\n",
    "import re\n",
    "import ast\n",
    "import numpy as np\n",
    "import random\n",
    "import pickle"
   ]
  },
  {
   "cell_type": "markdown",
   "metadata": {},
   "source": [
    "### Comparing topics\n"
   ]
  },
  {
   "cell_type": "code",
   "execution_count": 56,
   "metadata": {},
   "outputs": [],
   "source": [
    "# migration VS security\n",
    "client = OpenAI(api_key=\"sk-proj-3KhQdlgMCuoQc6EL2y1ZT3BlbkFJYHG9JgPGpOLsRnDSKuSs\")\n",
    "topic_comparison_id = \"asst_q4WpyeJSDfBIDnBojvr55Mf7\"\n",
    "topic_comparison_loose_id = \"asst_Z40gSwa21dlftmKSaXptTIcj\""
   ]
  },
  {
   "cell_type": "code",
   "execution_count": 40,
   "metadata": {},
   "outputs": [],
   "source": [
    "def run_topic_comparison(text, statements):\n",
    "    statement = \"Text: \" + str(text) + \"\\nGroup of statements: \" + str(statements) + \"\\nAnswer: \"\n",
    "    \n",
    "    if str(statement) not in [\"NaN\", \"nan\"]:\n",
    "        try:\n",
    "            # Create a thread with a message.\n",
    "            thread = client.beta.threads.create(\n",
    "                messages=[\n",
    "                    {\n",
    "                        \"role\": \"user\",\n",
    "                        # Update this with the query you want to use.\n",
    "                        \"content\": statement,\n",
    "                    }\n",
    "                ]\n",
    "            )\n",
    "\n",
    "            # Submit the thread to the assistant (as a new run).\n",
    "            run = client.beta.threads.runs.create(thread_id=thread.id, assistant_id=topic_comparison_id)\n",
    "\n",
    "            # Wait for run to complete.\n",
    "            while run.status != \"completed\":\n",
    "                run = client.beta.threads.runs.retrieve(thread_id=thread.id, run_id=run.id)\n",
    "                time.sleep(1)\n",
    "            # else:\n",
    "            #     print(f\"🏁 Run Completed!\")\n",
    "\n",
    "            # Get the latest message from the thread.\n",
    "            message_response = client.beta.threads.messages.list(thread_id=thread.id)\n",
    "            messages = message_response.data\n",
    "\n",
    "            # Print the latest message.\n",
    "            latest_message = messages[0]\n",
    "            \n",
    "            return latest_message.content[0].text.value\n",
    "        \n",
    "        except:\n",
    "            print(f\"Run went wrong\")\n",
    "            return None"
   ]
  },
  {
   "cell_type": "code",
   "execution_count": 57,
   "metadata": {},
   "outputs": [],
   "source": [
    "def run_topic_comparison_loose(text, statements):\n",
    "    statement = \"Text: \" + str(text) + \"\\nGroup of statements: \" + str(statements) + \"\\nAnswer: \"\n",
    "    \n",
    "    if str(statement) not in [\"NaN\", \"nan\"]:\n",
    "        try:\n",
    "            # Create a thread with a message.\n",
    "            thread = client.beta.threads.create(\n",
    "                messages=[\n",
    "                    {\n",
    "                        \"role\": \"user\",\n",
    "                        # Update this with the query you want to use.\n",
    "                        \"content\": statement,\n",
    "                    }\n",
    "                ]\n",
    "            )\n",
    "\n",
    "            # Submit the thread to the assistant (as a new run).\n",
    "            run = client.beta.threads.runs.create(thread_id=thread.id, assistant_id=topic_comparison_loose_id)\n",
    "\n",
    "            # Wait for run to complete.\n",
    "            while run.status != \"completed\":\n",
    "                run = client.beta.threads.runs.retrieve(thread_id=thread.id, run_id=run.id)\n",
    "                time.sleep(1)\n",
    "            # else:\n",
    "            #     print(f\"🏁 Run Completed!\")\n",
    "\n",
    "            # Get the latest message from the thread.\n",
    "            message_response = client.beta.threads.messages.list(thread_id=thread.id)\n",
    "            messages = message_response.data\n",
    "\n",
    "            # Print the latest message.\n",
    "            latest_message = messages[0]\n",
    "            \n",
    "            return latest_message.content[0].text.value\n",
    "        \n",
    "        except:\n",
    "            print(f\"Run went wrong\")\n",
    "            return None"
   ]
  },
  {
   "cell_type": "code",
   "execution_count": 32,
   "metadata": {},
   "outputs": [],
   "source": [
    "df_migration = pd.read_excel(\"data/Zurich_NLP/rephrased/migration.xlsx\")\n",
    "df_security = pd.read_excel(\"data/Zurich_NLP/rephrased/security.xlsx\")\n",
    "df_welfare = pd.read_excel(\"data/Zurich_NLP/rephrased/welfare.xlsx\")\n",
    "df_education = pd.read_excel(\"data/Zurich_NLP/rephrased/education.xlsx\")"
   ]
  },
  {
   "cell_type": "code",
   "execution_count": 49,
   "metadata": {},
   "outputs": [],
   "source": [
    "migration = list(df_migration['shortened_question'])\n",
    "security = list(df_security['shortened_question'])\n",
    "welfare = list(df_welfare['shortened_question'])\n",
    "education = list(df_education['shortened_question'])"
   ]
  },
  {
   "cell_type": "code",
   "execution_count": 77,
   "metadata": {},
   "outputs": [
    {
     "data": {
      "text/plain": [
       "defaultdict(list,\n",
       "            {'Harmonisierung von Lehrplänen zwischen den Kantonen (z.B. durch Lehrplan 21 oder PER) befürworten.': ['Einführung eines mehrwöchigen bezahlten Vaterschaftsurlaubs zusätzlich zur Mutterschaftsversicherung.'],\n",
       "             'Dispense aus religiösen Gründen für einzelne Fächer oder Veranstaltungen (z.B. Sport- oder Sexualkundeunterricht) bewilligen.': ['Einführung eines 24-wöchigen Elternurlaubs (\"Elternzeit\") zusätzlich zur Mutterschaftsversicherung.'],\n",
       "             'Kinder mit Lernschwierigkeiten oder Behinderungen in regulären Schulklassen unterrichten (integrative Schule) befürworten.': [\"'Staatliche finanzielle Unterstützung der Fremdbetreuung von Kindern (Steuerabzüge oder Subventionen).', 'Finanzielle Unterstützung der ausserfamiliären Kinderbetreuung durch den Bund.', 'Stärkere finanzielle Unterstützung des Staates für familienergänzende Betreuungsstrukturen.', 'Einführung von gesamtschweizerischen Ergänzungsleistungen für Familien mit niedrigem Einkommen.'\"],\n",
       "             'Finanzielle Unterstützung des Bundes für berufliche Weiterbildung und Umschulung ausbauen.': ['- Einführung eines vierwöchigen bezahlten Vaterschaftsurlaubs.\\n- Staatliche finanzielle Unterstützung der Fremdbetreuung von Kindern (Steuerabzüge oder Subventionen).\\n- Finanzielle Unterstützung der ausserfamiliären Kinderbetreuung durch den Bund.\\n- Verstärkte Förderung des gemeinnützigen Wohnungsbaus durch den Bund.\\n- Stärkere finanzielle Unterstützung des Staates für familienergänzende Betreuungsstrukturen.\\n- Einführung eines mehrwöchigen bezahlten Vaterschaftsurlaubs zusätzlich zur Mutterschaftsversicherung.\\n- Einführung eines 24-wöchigen Elternurlaubs (\"Elternzeit\") zusätzlich zur Mutterschaftsversicherung.\\n- Einführung von gesamtschweizerischen Ergänzungsleistungen für Familien mit niedrigem Einkommen.'],\n",
       "             'Zweite Landessprache in der Primarschule in allen Kantonen unterrichten.': ['Einführung eines mehrwöchigen bezahlten Vaterschaftsurlaubs zusätzlich zur Mutterschaftsversicherung.'],\n",
       "             'Staat stärker für gleiche Bildungschancen einsetzen (z.B. mit Nachhilfe-Gutscheinen für Schüler/-innen aus Familien mit geringem Einkommen).': ['Staatliche finanzielle Unterstützung der Fremdbetreuung von Kindern (Steuerabzüge oder Subventionen).\\nFinanzielle Unterstützung der ausserfamiliären Kinderbetreuung durch den Bund.\\nStärkere finanzielle Unterstützung des Staates für familienergänzende Betreuungsstrukturen.\\nEinführung von gesamtschweizerischen Ergänzungsleistungen für Familien mit niedrigem Einkommen.'],\n",
       "             'Wirtschaftlichen Nutzen von Forschungsprojekten bei der Vergabe von Fördergeldern des Bundes stärker berücksichtigen.': ['Verstärkte Förderung des gemeinnützigen Wohnungsbaus durch den Bund.'],\n",
       "             nan: ['nan']})"
      ]
     },
     "execution_count": 77,
     "metadata": {},
     "output_type": "execute_result"
    }
   ],
   "source": [
    "education_vs_welfare_loose"
   ]
  },
  {
   "cell_type": "code",
   "execution_count": 60,
   "metadata": {},
   "outputs": [
    {
     "name": "stderr",
     "output_type": "stream",
     "text": [
      "  0%|          | 0/15 [00:00<?, ?it/s]"
     ]
    },
    {
     "name": "stdout",
     "output_type": "stream",
     "text": [
      "Text: Die Schweiz soll neue Kampfflugzeuge beschaffen.\n",
      "None\n"
     ]
    },
    {
     "name": "stderr",
     "output_type": "stream",
     "text": [
      "  7%|▋         | 1/15 [00:08<01:54,  8.18s/it]"
     ]
    },
    {
     "name": "stdout",
     "output_type": "stream",
     "text": [
      "Keine der gegebenen Aussagen steht direkt in Verbindung mit der Beschaffung neuer Kampfflugzeuge, daher gibt es hier keine anzuzeigenden relevanten Aussagen.\n",
      "Text: Die Schweizer Armee soll auf höchstens 100000 Soldaten reduziert werden.\n",
      "None\n"
     ]
    },
    {
     "name": "stderr",
     "output_type": "stream",
     "text": [
      " 13%|█▎        | 2/15 [00:14<01:35,  7.35s/it]"
     ]
    },
    {
     "name": "stdout",
     "output_type": "stream",
     "text": [
      "[]\n",
      "Text: Der Armeebestand soll von 190000 auf 80000 Soldaten reduziert werden.\n",
      "None\n"
     ]
    },
    {
     "name": "stderr",
     "output_type": "stream",
     "text": [
      " 20%|██        | 3/15 [00:21<01:25,  7.10s/it]"
     ]
    },
    {
     "name": "stdout",
     "output_type": "stream",
     "text": [
      "Run went wrong\n",
      "None\n",
      "Text: Das \"Raser\"-Gesetz soll gelockert werden.\n",
      "None\n"
     ]
    },
    {
     "name": "stderr",
     "output_type": "stream",
     "text": [
      " 27%|██▋       | 4/15 [00:28<01:16,  6.99s/it]"
     ]
    },
    {
     "name": "stdout",
     "output_type": "stream",
     "text": [
      "Run went wrong\n",
      "None\n",
      "Text: Die Armee soll polizeiliche Aufgaben im Innern wahrnehmen.\n",
      "None\n"
     ]
    },
    {
     "name": "stderr",
     "output_type": "stream",
     "text": [
      " 33%|███▎      | 5/15 [00:36<01:12,  7.27s/it]"
     ]
    },
    {
     "name": "stdout",
     "output_type": "stream",
     "text": [
      "None of the provided statements relate directly to the stance about the army performing police duties internally, so no statements are output.\n",
      "Text: Die verschärften Regeln zum Erwerb und Besitz von Waffen sollen beibehalten werden.\n",
      "None\n"
     ]
    },
    {
     "name": "stderr",
     "output_type": "stream",
     "text": [
      " 40%|████      | 6/15 [00:42<01:03,  7.06s/it]"
     ]
    },
    {
     "name": "stdout",
     "output_type": "stream",
     "text": [
      "No relevant statements detected.\n",
      "Text: Die Verschärfung der Zulassungsbedingungen zum Zivildienst soll nicht umgesetzt werden.\n",
      "None\n"
     ]
    },
    {
     "name": "stderr",
     "output_type": "stream",
     "text": [
      " 47%|████▋     | 7/15 [00:52<01:01,  7.72s/it]"
     ]
    },
    {
     "name": "stdout",
     "output_type": "stream",
     "text": [
      "Dispense aus religiösen Gründen für einzelne Fächer oder Veranstaltungen (z.B. Sport- oder Sexualkundeunterricht) bewilligen.\n",
      "Text: Das Jugendstrafrecht soll längere Haftstrafen in geschlossenen Anstalten statt Resozialisierungsmassnahmen bevorzugen.\n",
      "None\n"
     ]
    },
    {
     "name": "stderr",
     "output_type": "stream",
     "text": [
      " 53%|█████▎    | 8/15 [01:01<00:57,  8.16s/it]"
     ]
    },
    {
     "name": "stdout",
     "output_type": "stream",
     "text": [
      "None of the provided statements relate specifically to the topic of juvenile criminal law and sentencing preferences mentioned in the text. These statements generally revolve around education policies and economic considerations, which do not have a direct bearing on opinions regarding juvenile criminal sentencing practices. Hence, none of these statements are outputted as related to the text N.\n",
      "Text: Der Konsum und Besitz von weichen und harten Drogen für den Eigengebrauch soll legalisiert werden.\n",
      "None\n"
     ]
    },
    {
     "name": "stderr",
     "output_type": "stream",
     "text": [
      " 60%|██████    | 9/15 [01:07<00:46,  7.74s/it]"
     ]
    },
    {
     "name": "stdout",
     "output_type": "stream",
     "text": [
      "Run went wrong\n",
      "None\n",
      "Text: Die Schweiz soll das Schengen-Abkommen kündigen und verstärkte Personenkontrollen an der Grenze einführen.\n",
      "None\n"
     ]
    },
    {
     "name": "stderr",
     "output_type": "stream",
     "text": [
      " 67%|██████▋   | 10/15 [01:15<00:38,  7.77s/it]"
     ]
    },
    {
     "name": "stdout",
     "output_type": "stream",
     "text": [
      "No relevant statements found.\n",
      "Text: Der Export von Kriegsmaterial aus der Schweiz soll verboten werden.\n",
      "None\n"
     ]
    },
    {
     "name": "stderr",
     "output_type": "stream",
     "text": [
      " 73%|███████▎  | 11/15 [01:23<00:30,  7.73s/it]"
     ]
    },
    {
     "name": "stdout",
     "output_type": "stream",
     "text": [
      "None of these statements seem directly related to the original text about banning the export of military weapons from Switzerland. Therefore, none are presented.\n",
      "Text: Schweizer Jugendliche sollen frei zwischen Militärdienst und zivilem Ersatzdienst wählen können.\n",
      "None\n"
     ]
    },
    {
     "name": "stderr",
     "output_type": "stream",
     "text": [
      " 80%|████████  | 12/15 [01:30<00:22,  7.37s/it]"
     ]
    },
    {
     "name": "stdout",
     "output_type": "stream",
     "text": [
      "None\n",
      "Text: Die Befugnisse der Sicherheitsbehörden zur präventiven Überwachung des Post- Telefon- und E-Mail-Verkehrs sollen ausgeweitet werden.\n",
      "None\n"
     ]
    },
    {
     "name": "stderr",
     "output_type": "stream",
     "text": [
      " 87%|████████▋ | 13/15 [01:36<00:14,  7.14s/it]"
     ]
    },
    {
     "name": "stdout",
     "output_type": "stream",
     "text": [
      "[]\n",
      "Text: Die rechtlichen Möglichkeiten zur Fahndung mittels DNA-Analyse sollen ausgeweitet werden.\n",
      "None\n"
     ]
    },
    {
     "name": "stderr",
     "output_type": "stream",
     "text": [
      " 93%|█████████▎| 14/15 [01:44<00:07,  7.33s/it]"
     ]
    },
    {
     "name": "stdout",
     "output_type": "stream",
     "text": [
      "None of the provided statements directly relate to the expansion of legal possibilities for searching via DNA analysis. Therefore, no statements from the list match the requested criteria.\n",
      "Text: nan\n",
      "None\n"
     ]
    },
    {
     "name": "stderr",
     "output_type": "stream",
     "text": [
      "100%|██████████| 15/15 [01:57<00:00,  7.83s/it]"
     ]
    },
    {
     "name": "stdout",
     "output_type": "stream",
     "text": [
      "Harmonisierung von Lehrplänen zwischen den Kantonen (z.B. durch Lehrplan 21 oder PER) befürworten.\n",
      "Dispense aus religiösen Gründen für einzelne Fächer oder Veranstaltungen (z.B. Sport- oder Sexualkundeunterricht) bewilligen.\n",
      "Kinder mit Lernschwierigkeiten oder Behinderungen in regulären Schulklassen unterrichten (integrative Schule) befürworten.\n",
      "Finanzielle Unterstützung des Bundes für berufliche Weiterbildung und Umschulung ausbauen.\n",
      "Zweite Landessprache in der Primarschule in allen Kantonen unterrichten.\n",
      "Staat stärker für gleiche Bildungschancen einsetzen (z.B. mit Nachhilfe-Gutscheinen für Schüler/-innen aus Familien mit geringem Einkommen).\n",
      "Wirtschaftlichen Nutzen von Forschungsprojekten bei der Vergabe von Fördergeldern des Bundes stärker berücksichtigen.\n"
     ]
    },
    {
     "name": "stderr",
     "output_type": "stream",
     "text": [
      "\n"
     ]
    }
   ],
   "source": [
    "security_vs_education = defaultdict(list)\n",
    "security_vs_education_loose = defaultdict(list)\n",
    "for txt in tqdm(security):\n",
    "    print(\"Text:\", txt)\n",
    "    security_vs_education[txt] = []\n",
    "    security_vs_education_loose[txt] = []\n",
    "    #generate topics\n",
    "\n",
    "    res = run_topic_comparison(txt, education)\n",
    "    security_vs_education[txt].append(res)\n",
    "    print(res)\n",
    "    \n",
    "    res2 = run_topic_comparison_loose(txt, education)\n",
    "    security_vs_education_loose[txt].append(res2)\n",
    "    print(res2)\n",
    "    \n",
    "with open('data/Zurich_NLP/related_topics/security_vs_education.json', 'w') as file:\n",
    "    json.dump(security_vs_education, file)\n",
    "with open('data/Zurich_NLP/related_topics/security_vs_education_loose.json', 'w') as file:\n",
    "    json.dump(security_vs_education_loose, file)"
   ]
  },
  {
   "cell_type": "code",
   "execution_count": 59,
   "metadata": {},
   "outputs": [
    {
     "name": "stderr",
     "output_type": "stream",
     "text": [
      "  0%|          | 0/15 [00:00<?, ?it/s]"
     ]
    },
    {
     "name": "stdout",
     "output_type": "stream",
     "text": [
      "Text: Die Schweiz soll neue Kampfflugzeuge beschaffen.\n",
      "None\n"
     ]
    },
    {
     "name": "stderr",
     "output_type": "stream",
     "text": [
      "  7%|▋         | 1/15 [00:12<02:59, 12.80s/it]"
     ]
    },
    {
     "name": "stdout",
     "output_type": "stream",
     "text": [
      "None of the statements provided are directly relevant or likely to influence the opinion of someone specifically concerning the topic of Switzerland acquiring new fighter jets. The provided statements predominantly focus on social welfare, family support policies, and retirement issues, which do not directly correlate with military procurement or defense policy decisions such as the acquisition of new combat aircraft. Thus, there are no statements in the list that can be definitively linked to someone's stance on the main text about Switzerland acquiring new fighter jets.\n",
      "Text: Die Schweizer Armee soll auf höchstens 100000 Soldaten reduziert werden.\n",
      "None\n"
     ]
    },
    {
     "name": "stderr",
     "output_type": "stream",
     "text": [
      " 13%|█▎        | 2/15 [00:21<02:13, 10.24s/it]"
     ]
    },
    {
     "name": "stdout",
     "output_type": "stream",
     "text": [
      "None of these statements appear directly related to the military policy issue of reducing the Swiss Army to a maximum of 100000 soldiers. Therefore, no statements from the provided list are likely to share a direct opinion relationship with the text N given.\n",
      "Text: Der Armeebestand soll von 190000 auf 80000 Soldaten reduziert werden.\n",
      "None\n"
     ]
    },
    {
     "name": "stderr",
     "output_type": "stream",
     "text": [
      " 20%|██        | 3/15 [00:27<01:43,  8.61s/it]"
     ]
    },
    {
     "name": "stdout",
     "output_type": "stream",
     "text": [
      "Run went wrong\n",
      "None\n",
      "Text: Das \"Raser\"-Gesetz soll gelockert werden.\n",
      "None\n"
     ]
    },
    {
     "name": "stderr",
     "output_type": "stream",
     "text": [
      " 27%|██▋       | 4/15 [01:11<04:05, 22.33s/it]"
     ]
    },
    {
     "name": "stdout",
     "output_type": "stream",
     "text": [
      "Keine IV-Renten bei nicht objektiv nachweisbaren Schmerzstörungen (z.B. Schleudertrauma).\n",
      "Text: Die Armee soll polizeiliche Aufgaben im Innern wahrnehmen.\n",
      "None\n"
     ]
    },
    {
     "name": "stderr",
     "output_type": "stream",
     "text": [
      " 33%|███▎      | 5/15 [01:20<02:55, 17.59s/it]"
     ]
    },
    {
     "name": "stdout",
     "output_type": "stream",
     "text": [
      "None of these statements appear to be directly relevant or closely related to the topic of the military performing police duties inside the country. Hence, none of these statements would necessarily prompt an opinion based on the stance someone takes on the initial text \"Die Armee soll polizeiliche Aufgaben im Innern wahrnehmen.\"\n",
      "Text: Die verschärften Regeln zum Erwerb und Besitz von Waffen sollen beibehalten werden.\n",
      "None\n"
     ]
    },
    {
     "name": "stderr",
     "output_type": "stream",
     "text": [
      " 40%|████      | 6/15 [01:30<02:16, 15.14s/it]"
     ]
    },
    {
     "name": "stdout",
     "output_type": "stream",
     "text": [
      "None of the provided statements directly relate to the stance on \"Die verschärften Regeln zum Erwerb und Besitz von Waffen sollen beibehalten werden.\" Therefore, none of these statements are likely to be influenced by an opinion on the strict regulations regarding the acquisition and possession of firearms.\n",
      "Text: Die Verschärfung der Zulassungsbedingungen zum Zivildienst soll nicht umgesetzt werden.\n",
      "None\n"
     ]
    },
    {
     "name": "stderr",
     "output_type": "stream",
     "text": [
      " 47%|████▋     | 7/15 [01:38<01:42, 12.77s/it]"
     ]
    },
    {
     "name": "stdout",
     "output_type": "stream",
     "text": [
      "Keine IV-Renten bei nicht objektiv nachweisbaren Schmerzstörungen (z.B. Schleudertrauma).\n",
      "Text: Das Jugendstrafrecht soll längere Haftstrafen in geschlossenen Anstalten statt Resozialisierungsmassnahmen bevorzugen.\n",
      "None\n"
     ]
    },
    {
     "name": "stderr",
     "output_type": "stream",
     "text": [
      " 53%|█████▎    | 8/15 [01:46<01:18, 11.18s/it]"
     ]
    },
    {
     "name": "stdout",
     "output_type": "stream",
     "text": [
      "Keine IV-Renten bei nicht objektiv nachweisbaren Schmerzstörungen (z.B. Schleudertrauma).\n",
      "Text: Der Konsum und Besitz von weichen und harten Drogen für den Eigengebrauch soll legalisiert werden.\n",
      "None\n"
     ]
    },
    {
     "name": "stderr",
     "output_type": "stream",
     "text": [
      " 60%|██████    | 9/15 [01:54<01:01, 10.20s/it]"
     ]
    },
    {
     "name": "stdout",
     "output_type": "stream",
     "text": [
      "None of the provided statements closely relate to the topic of legalizing soft and hard drugs for personal use. Thus, no statements are output as related.\n",
      "Text: Die Schweiz soll das Schengen-Abkommen kündigen und verstärkte Personenkontrollen an der Grenze einführen.\n",
      "None\n"
     ]
    },
    {
     "name": "stderr",
     "output_type": "stream",
     "text": [
      " 67%|██████▋   | 10/15 [02:01<00:45,  9.09s/it]"
     ]
    },
    {
     "name": "stdout",
     "output_type": "stream",
     "text": [
      "Kein Ergebnis.\n",
      "Text: Der Export von Kriegsmaterial aus der Schweiz soll verboten werden.\n",
      "None\n"
     ]
    },
    {
     "name": "stderr",
     "output_type": "stream",
     "text": [
      " 73%|███████▎  | 11/15 [02:09<00:34,  8.71s/it]"
     ]
    },
    {
     "name": "stdout",
     "output_type": "stream",
     "text": [
      "Keine relevanten Aussagen gefunden.\n",
      "Text: Schweizer Jugendliche sollen frei zwischen Militärdienst und zivilem Ersatzdienst wählen können.\n",
      "None\n"
     ]
    },
    {
     "name": "stderr",
     "output_type": "stream",
     "text": [
      " 80%|████████  | 12/15 [02:15<00:24,  8.05s/it]"
     ]
    },
    {
     "name": "stdout",
     "output_type": "stream",
     "text": [
      "Einführung eines vierwöchigen bezahlten Vaterschaftsurlaubs.\n",
      "Text: Die Befugnisse der Sicherheitsbehörden zur präventiven Überwachung des Post- Telefon- und E-Mail-Verkehrs sollen ausgeweitet werden.\n",
      "None\n"
     ]
    },
    {
     "name": "stderr",
     "output_type": "stream",
     "text": [
      " 87%|████████▋ | 13/15 [02:22<00:15,  7.81s/it]"
     ]
    },
    {
     "name": "stdout",
     "output_type": "stream",
     "text": [
      "[]\n",
      "Text: Die rechtlichen Möglichkeiten zur Fahndung mittels DNA-Analyse sollen ausgeweitet werden.\n",
      "None\n"
     ]
    },
    {
     "name": "stderr",
     "output_type": "stream",
     "text": [
      " 93%|█████████▎| 14/15 [02:31<00:08,  8.20s/it]"
     ]
    },
    {
     "name": "stdout",
     "output_type": "stream",
     "text": [
      "None of the provided statements are directly related or relevant to the text concerning the expansion of legal measures for DNA-based searches (DNA-Analyse). Therefore, none of the statements listed would be likely to elicit an opinion based specifically on having a stance on the DNA analysis text.\n",
      "Text: nan\n",
      "None\n"
     ]
    },
    {
     "name": "stderr",
     "output_type": "stream",
     "text": [
      "100%|██████████| 15/15 [02:39<00:00, 10.64s/it]"
     ]
    },
    {
     "name": "stdout",
     "output_type": "stream",
     "text": [
      "Keine IV-Renten bei nicht objektiv nachweisbaren Schmerzstörungen (z.B. Schleudertrauma).\n"
     ]
    },
    {
     "name": "stderr",
     "output_type": "stream",
     "text": [
      "\n"
     ]
    }
   ],
   "source": [
    "security_vs_welfare = defaultdict(list)\n",
    "security_vs_welfare_loose = defaultdict(list)\n",
    "for txt in tqdm(security):\n",
    "    print(\"Text:\", txt)\n",
    "    security_vs_welfare[txt] = []\n",
    "    security_vs_welfare_loose[txt] = []\n",
    "    #generate topics\n",
    "\n",
    "    res = run_topic_comparison(txt, welfare)\n",
    "    security_vs_welfare[txt].append(res)\n",
    "    print(res)\n",
    "    \n",
    "    res2 = run_topic_comparison_loose(txt, welfare)\n",
    "    security_vs_welfare_loose[txt].append(res2)\n",
    "    print(res2)\n",
    "    \n",
    "with open('data/Zurich_NLP/related_topics/security_vs_welfare.json', 'w') as file:\n",
    "    json.dump(security_vs_welfare, file)\n",
    "with open('data/Zurich_NLP/related_topics/security_vs_welfare_loose.json', 'w') as file:\n",
    "    json.dump(security_vs_welfare_loose, file)"
   ]
  },
  {
   "cell_type": "code",
   "execution_count": 58,
   "metadata": {},
   "outputs": [
    {
     "name": "stderr",
     "output_type": "stream",
     "text": [
      "  0%|          | 0/10 [00:00<?, ?it/s]"
     ]
    },
    {
     "name": "stdout",
     "output_type": "stream",
     "text": [
      "Text: Harmonisierung von Lehrplänen zwischen den Kantonen (z.B. durch Lehrplan 21 oder PER) befürworten.\n",
      "None\n"
     ]
    },
    {
     "name": "stderr",
     "output_type": "stream",
     "text": [
      " 10%|█         | 1/10 [00:07<01:10,  7.85s/it]"
     ]
    },
    {
     "name": "stdout",
     "output_type": "stream",
     "text": [
      "Einführung eines mehrwöchigen bezahlten Vaterschaftsurlaubs zusätzlich zur Mutterschaftsversicherung.\n",
      "Text: Dispense aus religiösen Gründen für einzelne Fächer oder Veranstaltungen (z.B. Sport- oder Sexualkundeunterricht) bewilligen.\n",
      "None\n"
     ]
    },
    {
     "name": "stderr",
     "output_type": "stream",
     "text": [
      " 20%|██        | 2/10 [00:15<01:02,  7.80s/it]"
     ]
    },
    {
     "name": "stdout",
     "output_type": "stream",
     "text": [
      "Einführung eines 24-wöchigen Elternurlaubs (\"Elternzeit\") zusätzlich zur Mutterschaftsversicherung.\n",
      "Text: Kinder mit Lernschwierigkeiten oder Behinderungen in regulären Schulklassen unterrichten (integrative Schule) befürworten.\n",
      "Stärkere finanzielle Unterstützung des Staates für familienergänzende Betreuungsstrukturen.\n"
     ]
    },
    {
     "name": "stderr",
     "output_type": "stream",
     "text": [
      " 30%|███       | 3/10 [00:28<01:10, 10.06s/it]"
     ]
    },
    {
     "name": "stdout",
     "output_type": "stream",
     "text": [
      "'Staatliche finanzielle Unterstützung der Fremdbetreuung von Kindern (Steuerabzüge oder Subventionen).', 'Finanzielle Unterstützung der ausserfamiliären Kinderbetreuung durch den Bund.', 'Stärkere finanzielle Unterstützung des Staates für familienergänzende Betreuungsstrukturen.', 'Einführung von gesamtschweizerischen Ergänzungsleistungen für Familien mit niedrigem Einkommen.'\n",
      "Text: Finanzielle Unterstützung des Bundes für berufliche Weiterbildung und Umschulung ausbauen.\n",
      "Stärkere finanzielle Unterstützung des Staates für familienergänzende Betreuungsstrukturen.\n"
     ]
    },
    {
     "name": "stderr",
     "output_type": "stream",
     "text": [
      " 40%|████      | 4/10 [00:43<01:12, 12.09s/it]"
     ]
    },
    {
     "name": "stdout",
     "output_type": "stream",
     "text": [
      "- Einführung eines vierwöchigen bezahlten Vaterschaftsurlaubs.\n",
      "- Staatliche finanzielle Unterstützung der Fremdbetreuung von Kindern (Steuerabzüge oder Subventionen).\n",
      "- Finanzielle Unterstützung der ausserfamiliären Kinderbetreuung durch den Bund.\n",
      "- Verstärkte Förderung des gemeinnützigen Wohnungsbaus durch den Bund.\n",
      "- Stärkere finanzielle Unterstützung des Staates für familienergänzende Betreuungsstrukturen.\n",
      "- Einführung eines mehrwöchigen bezahlten Vaterschaftsurlaubs zusätzlich zur Mutterschaftsversicherung.\n",
      "- Einführung eines 24-wöchigen Elternurlaubs (\"Elternzeit\") zusätzlich zur Mutterschaftsversicherung.\n",
      "- Einführung von gesamtschweizerischen Ergänzungsleistungen für Familien mit niedrigem Einkommen.\n",
      "Text: Zweite Landessprache in der Primarschule in allen Kantonen unterrichten.\n",
      "None\n"
     ]
    },
    {
     "name": "stderr",
     "output_type": "stream",
     "text": [
      " 50%|█████     | 5/10 [00:51<00:52, 10.52s/it]"
     ]
    },
    {
     "name": "stdout",
     "output_type": "stream",
     "text": [
      "Einführung eines mehrwöchigen bezahlten Vaterschaftsurlaubs zusätzlich zur Mutterschaftsversicherung.\n",
      "Text: Staat stärker für gleiche Bildungschancen einsetzen (z.B. mit Nachhilfe-Gutscheinen für Schüler/-innen aus Familien mit geringem Einkommen).\n",
      "Staatliche finanzielle Unterstützung der Fremdbetreuung von Kindern (Steuerabzüge oder Subventionen).\n",
      "Finanzielle Unterstützung der ausserfamiliären Kinderbetreuung durch den Bund.\n",
      "Stärkere finanzielle Unterstützung des Staates für familienergänzende Betreuungsstrukturen.\n",
      "Einführung von gesamtschweizerischen Ergänzungsleistungen für Familien mit niedrigem Einkommen.\n"
     ]
    },
    {
     "name": "stderr",
     "output_type": "stream",
     "text": [
      " 60%|██████    | 6/10 [01:04<00:45, 11.47s/it]"
     ]
    },
    {
     "name": "stdout",
     "output_type": "stream",
     "text": [
      "Staatliche finanzielle Unterstützung der Fremdbetreuung von Kindern (Steuerabzüge oder Subventionen).\n",
      "Finanzielle Unterstützung der ausserfamiliären Kinderbetreuung durch den Bund.\n",
      "Stärkere finanzielle Unterstützung des Staates für familienergänzende Betreuungsstrukturen.\n",
      "Einführung von gesamtschweizerischen Ergänzungsleistungen für Familien mit niedrigem Einkommen.\n",
      "Text: Wirtschaftlichen Nutzen von Forschungsprojekten bei der Vergabe von Fördergeldern des Bundes stärker berücksichtigen.\n",
      "None\n"
     ]
    },
    {
     "name": "stderr",
     "output_type": "stream",
     "text": [
      " 70%|███████   | 7/10 [01:12<00:30, 10.30s/it]"
     ]
    },
    {
     "name": "stdout",
     "output_type": "stream",
     "text": [
      "Verstärkte Förderung des gemeinnützigen Wohnungsbaus durch den Bund.\n",
      "Text: nan\n",
      "None\n"
     ]
    },
    {
     "name": "stderr",
     "output_type": "stream",
     "text": [
      " 80%|████████  | 8/10 [01:20<00:19,  9.53s/it]"
     ]
    },
    {
     "name": "stdout",
     "output_type": "stream",
     "text": [
      "Keine IV-Renten bei nicht objektiv nachweisbaren Schmerzstörungen (z.B. Schleudertrauma).\n",
      "Text: nan\n",
      "None\n"
     ]
    },
    {
     "name": "stderr",
     "output_type": "stream",
     "text": [
      " 90%|█████████ | 9/10 [01:29<00:09,  9.25s/it]"
     ]
    },
    {
     "name": "stdout",
     "output_type": "stream",
     "text": [
      "Keine IV-Renten bei nicht objektiv nachweisbaren Schmerzstörungen (z.B. Schleudertrauma).\n",
      "Text: nan\n",
      "None\n"
     ]
    },
    {
     "name": "stderr",
     "output_type": "stream",
     "text": [
      "100%|██████████| 10/10 [01:36<00:00,  9.61s/it]"
     ]
    },
    {
     "name": "stdout",
     "output_type": "stream",
     "text": [
      "nan\n"
     ]
    },
    {
     "name": "stderr",
     "output_type": "stream",
     "text": [
      "\n"
     ]
    }
   ],
   "source": [
    "education_vs_welfare = defaultdict(list)\n",
    "education_vs_welfare_loose = defaultdict(list)\n",
    "for txt in tqdm(education):\n",
    "    print(\"Text:\", txt)\n",
    "    education_vs_welfare[txt] = []\n",
    "    education_vs_welfare_loose[txt] = []\n",
    "    #generate topics\n",
    "\n",
    "    res = run_topic_comparison(txt, welfare)\n",
    "    education_vs_welfare[txt].append(res)\n",
    "    print(res)\n",
    "    \n",
    "    res2 = run_topic_comparison_loose(txt, welfare)\n",
    "    education_vs_welfare_loose[txt].append(res2)\n",
    "    print(res2)\n",
    "    \n",
    "with open('data/Zurich_NLP/related_topics/education_vs_welfare.json', 'w') as file:\n",
    "    json.dump(education_vs_welfare, file)\n",
    "with open('data/Zurich_NLP/related_topics/education_vs_welfare_loose.json', 'w') as file:\n",
    "    json.dump(education_vs_welfare_loose, file)"
   ]
  },
  {
   "cell_type": "code",
   "execution_count": 55,
   "metadata": {},
   "outputs": [
    {
     "name": "stderr",
     "output_type": "stream",
     "text": [
      "  0%|          | 0/13 [00:00<?, ?it/s]"
     ]
    },
    {
     "name": "stdout",
     "output_type": "stream",
     "text": [
      "Text: Unterstützung des bestehenden Personenfreizügigkeitsabkommens mit der EU.\n"
     ]
    },
    {
     "name": "stderr",
     "output_type": "stream",
     "text": [
      "  8%|▊         | 1/13 [00:03<00:39,  3.28s/it]"
     ]
    },
    {
     "name": "stdout",
     "output_type": "stream",
     "text": [
      "None\n",
      "Text: Weitere Verschärfung des Asylrechts.\n"
     ]
    },
    {
     "name": "stderr",
     "output_type": "stream",
     "text": [
      " 15%|█▌        | 2/13 [00:06<00:37,  3.40s/it]"
     ]
    },
    {
     "name": "stdout",
     "output_type": "stream",
     "text": [
      "None\n",
      "Text: Regulierung der Zuwanderung und Begrenzung des migrationsbedingten Bevölkerungswachstums auf 0.2% pro Jahr.\n"
     ]
    },
    {
     "name": "stderr",
     "output_type": "stream",
     "text": [
      " 23%|██▎       | 3/13 [00:09<00:33,  3.32s/it]"
     ]
    },
    {
     "name": "stdout",
     "output_type": "stream",
     "text": [
      "None\n",
      "Text: Begrenzung der Einwanderung über den Erhalt der Bilateralen Verträge mit der EU stellen.\n"
     ]
    },
    {
     "name": "stderr",
     "output_type": "stream",
     "text": [
      " 31%|███       | 4/13 [00:13<00:29,  3.31s/it]"
     ]
    },
    {
     "name": "stdout",
     "output_type": "stream",
     "text": [
      "None\n",
      "Text: Legalisierung des Status von Sans-Papiers durch kollektive Erteilung von Aufenthaltsbewilligungen.\n"
     ]
    },
    {
     "name": "stderr",
     "output_type": "stream",
     "text": [
      " 38%|███▊      | 5/13 [00:16<00:26,  3.36s/it]"
     ]
    },
    {
     "name": "stdout",
     "output_type": "stream",
     "text": [
      "None\n",
      "Text: Stärkere Unterstützung der Integration von Ausländer/-innen durch den Bund.\n"
     ]
    },
    {
     "name": "stderr",
     "output_type": "stream",
     "text": [
      " 46%|████▌     | 6/13 [00:20<00:23,  3.37s/it]"
     ]
    },
    {
     "name": "stdout",
     "output_type": "stream",
     "text": [
      "None\n",
      "Text: Erschwerter Zugang zur erleichterten Einbürgerung durch den Bund.\n"
     ]
    },
    {
     "name": "stderr",
     "output_type": "stream",
     "text": [
      " 54%|█████▍    | 7/13 [00:23<00:19,  3.33s/it]"
     ]
    },
    {
     "name": "stdout",
     "output_type": "stream",
     "text": [
      "None\n",
      "Text: Aufenthaltserlaubnis für Migrant/innen aus Nicht-EU/EFTA-Staaten an verbindliche Integrationsvereinbarungen knüpfen.\n"
     ]
    },
    {
     "name": "stderr",
     "output_type": "stream",
     "text": [
      " 62%|██████▏   | 8/13 [00:26<00:16,  3.32s/it]"
     ]
    },
    {
     "name": "stdout",
     "output_type": "stream",
     "text": [
      "None\n",
      "Text: Erleichterte Einbürgerung von Ausländer/innen der dritten Generation.\n"
     ]
    },
    {
     "name": "stderr",
     "output_type": "stream",
     "text": [
      " 69%|██████▉   | 9/13 [00:29<00:13,  3.29s/it]"
     ]
    },
    {
     "name": "stdout",
     "output_type": "stream",
     "text": [
      "None\n",
      "Text: Aufnahme von Kontingentsflüchtlingen direkt aus Krisengebieten.\n"
     ]
    },
    {
     "name": "stderr",
     "output_type": "stream",
     "text": [
      " 77%|███████▋  | 10/13 [00:33<00:09,  3.33s/it]"
     ]
    },
    {
     "name": "stdout",
     "output_type": "stream",
     "text": [
      "None\n",
      "Text: Stärkeres finanzielles Engagement des Staates für die Integration von Ausländer/innen.\n"
     ]
    },
    {
     "name": "stderr",
     "output_type": "stream",
     "text": [
      " 85%|████████▍ | 11/13 [00:36<00:06,  3.43s/it]"
     ]
    },
    {
     "name": "stdout",
     "output_type": "stream",
     "text": [
      "Staat stärker für gleiche Bildungschancen einsetzen (z.B. mit Nachhilfe-Gutscheinen für Schüler/-innen aus Familien mit geringem Einkommen).\n",
      "Text: Stimm- und Wahlrecht auf Gemeindeebene für Ausländer/-innen die seit mindestens zehn Jahren in der Schweiz leben.\n"
     ]
    },
    {
     "name": "stderr",
     "output_type": "stream",
     "text": [
      " 92%|█████████▏| 12/13 [00:40<00:03,  3.36s/it]"
     ]
    },
    {
     "name": "stdout",
     "output_type": "stream",
     "text": [
      "None\n",
      "Text: Vereinfachte Erteilung eines geregelten Aufenthaltsstatus für Sans-Papiers.\n"
     ]
    },
    {
     "name": "stderr",
     "output_type": "stream",
     "text": [
      "100%|██████████| 13/13 [00:43<00:00,  3.34s/it]"
     ]
    },
    {
     "name": "stdout",
     "output_type": "stream",
     "text": [
      "None.\n"
     ]
    },
    {
     "name": "stderr",
     "output_type": "stream",
     "text": [
      "\n"
     ]
    }
   ],
   "source": [
    "migration_vs_education = defaultdict(list)\n",
    "for txt in tqdm(migration):\n",
    "    print(\"Text:\", txt)\n",
    "    migration_vs_education[txt] = []\n",
    "    #generate topics\n",
    "\n",
    "    res = run_topic_comparison(txt, education)\n",
    "    migration_vs_education[txt].append(res)\n",
    "    print(res)\n",
    "    \n",
    "with open('data/Zurich_NLP/related_topics/migration_vs_education.json', 'w') as file:\n",
    "    json.dump(migration_vs_education, file)"
   ]
  },
  {
   "cell_type": "code",
   "execution_count": 54,
   "metadata": {},
   "outputs": [],
   "source": [
    "with open('data/Zurich_NLP/related_topics/migration_vs_welfare_loose.json', 'w') as file:\n",
    "    json.dump(migration_vs_welfare, file)"
   ]
  },
  {
   "cell_type": "code",
   "execution_count": 48,
   "metadata": {},
   "outputs": [
    {
     "name": "stderr",
     "output_type": "stream",
     "text": [
      "  0%|          | 0/13 [00:00<?, ?it/s]"
     ]
    },
    {
     "name": "stdout",
     "output_type": "stream",
     "text": [
      "Text: Unterstützung des bestehenden Personenfreizügigkeitsabkommens mit der EU.\n"
     ]
    },
    {
     "name": "stderr",
     "output_type": "stream",
     "text": [
      "  8%|▊         | 1/13 [00:04<00:54,  4.54s/it]"
     ]
    },
    {
     "name": "stdout",
     "output_type": "stream",
     "text": [
      "Die Schweiz soll das Schengen-Abkommen kündigen und verstärkte Personenkontrollen an der Grenze einführen.\n",
      "Text: Weitere Verschärfung des Asylrechts.\n"
     ]
    },
    {
     "name": "stderr",
     "output_type": "stream",
     "text": [
      " 15%|█▌        | 2/13 [00:09<00:49,  4.49s/it]"
     ]
    },
    {
     "name": "stdout",
     "output_type": "stream",
     "text": [
      "Die Schweiz soll das Schengen-Abkommen kündigen und verstärkte Personenkontrollen an der Grenze einführen.\n",
      "Text: Regulierung der Zuwanderung und Begrenzung des migrationsbedingten Bevölkerungswachstums auf 0.2% pro Jahr.\n"
     ]
    },
    {
     "name": "stderr",
     "output_type": "stream",
     "text": [
      " 23%|██▎       | 3/13 [00:13<00:45,  4.53s/it]"
     ]
    },
    {
     "name": "stdout",
     "output_type": "stream",
     "text": [
      "'Die Schweiz soll das Schengen-Abkommen kündigen und verstärkte Personenkontrollen an der Grenze einführen.'\n",
      "Text: Begrenzung der Einwanderung über den Erhalt der Bilateralen Verträge mit der EU stellen.\n"
     ]
    },
    {
     "name": "stderr",
     "output_type": "stream",
     "text": [
      " 31%|███       | 4/13 [00:16<00:36,  4.02s/it]"
     ]
    },
    {
     "name": "stdout",
     "output_type": "stream",
     "text": [
      "None\n",
      "Text: Legalisierung des Status von Sans-Papiers durch kollektive Erteilung von Aufenthaltsbewilligungen.\n"
     ]
    },
    {
     "name": "stderr",
     "output_type": "stream",
     "text": [
      " 38%|███▊      | 5/13 [00:21<00:33,  4.24s/it]"
     ]
    },
    {
     "name": "stdout",
     "output_type": "stream",
     "text": [
      "Die Schweiz soll das Schengen-Abkommen kündigen und verstärkte Personenkontrollen an der Grenze einführen.\n",
      "Text: Stärkere Unterstützung der Integration von Ausländer/-innen durch den Bund.\n"
     ]
    },
    {
     "name": "stderr",
     "output_type": "stream",
     "text": [
      " 46%|████▌     | 6/13 [00:24<00:27,  3.97s/it]"
     ]
    },
    {
     "name": "stdout",
     "output_type": "stream",
     "text": [
      "None\n",
      "Text: Erschwerter Zugang zur erleichterten Einbürgerung durch den Bund.\n"
     ]
    },
    {
     "name": "stderr",
     "output_type": "stream",
     "text": [
      " 54%|█████▍    | 7/13 [00:28<00:22,  3.76s/it]"
     ]
    },
    {
     "name": "stdout",
     "output_type": "stream",
     "text": [
      "None\n",
      "Text: Aufenthaltserlaubnis für Migrant/innen aus Nicht-EU/EFTA-Staaten an verbindliche Integrationsvereinbarungen knüpfen.\n"
     ]
    },
    {
     "name": "stderr",
     "output_type": "stream",
     "text": [
      " 62%|██████▏   | 8/13 [00:32<00:20,  4.01s/it]"
     ]
    },
    {
     "name": "stdout",
     "output_type": "stream",
     "text": [
      "Die Schweiz soll das Schengen-Abkommen kündigen und verstärkte Personenkontrollen an der Grenze einführen.\n",
      "Text: Erleichterte Einbürgerung von Ausländer/innen der dritten Generation.\n"
     ]
    },
    {
     "name": "stderr",
     "output_type": "stream",
     "text": [
      " 69%|██████▉   | 9/13 [00:36<00:16,  4.03s/it]"
     ]
    },
    {
     "name": "stdout",
     "output_type": "stream",
     "text": [
      "None\n",
      "Text: Aufnahme von Kontingentsflüchtlingen direkt aus Krisengebieten.\n"
     ]
    },
    {
     "name": "stderr",
     "output_type": "stream",
     "text": [
      " 77%|███████▋  | 10/13 [01:16<00:44, 14.98s/it]"
     ]
    },
    {
     "name": "stdout",
     "output_type": "stream",
     "text": [
      "Die Schweiz soll das Schengen-Abkommen kündigen und verstärkte Personenkontrollen an der Grenze einführen.\n",
      "Text: Stärkeres finanzielles Engagement des Staates für die Integration von Ausländer/innen.\n"
     ]
    },
    {
     "name": "stderr",
     "output_type": "stream",
     "text": [
      " 85%|████████▍ | 11/13 [01:19<00:22, 11.40s/it]"
     ]
    },
    {
     "name": "stdout",
     "output_type": "stream",
     "text": [
      "None\n",
      "Text: Stimm- und Wahlrecht auf Gemeindeebene für Ausländer/-innen die seit mindestens zehn Jahren in der Schweiz leben.\n"
     ]
    },
    {
     "name": "stderr",
     "output_type": "stream",
     "text": [
      " 92%|█████████▏| 12/13 [01:24<00:09,  9.33s/it]"
     ]
    },
    {
     "name": "stdout",
     "output_type": "stream",
     "text": [
      "None\n",
      "Text: Vereinfachte Erteilung eines geregelten Aufenthaltsstatus für Sans-Papiers.\n"
     ]
    },
    {
     "name": "stderr",
     "output_type": "stream",
     "text": [
      "100%|██████████| 13/13 [01:27<00:00,  6.74s/it]"
     ]
    },
    {
     "name": "stdout",
     "output_type": "stream",
     "text": [
      "None\n"
     ]
    },
    {
     "name": "stderr",
     "output_type": "stream",
     "text": [
      "\n"
     ]
    }
   ],
   "source": [
    "migration_vs_security = defaultdict(list)\n",
    "for txt in tqdm(migration):\n",
    "    print(\"Text:\", txt)\n",
    "    migration_vs_security[txt] = []\n",
    "    #generate topics\n",
    "\n",
    "    res = run_topic_comparison(txt, security)\n",
    "    migration_vs_security[txt].append(res)\n",
    "    print(res)"
   ]
  },
  {
   "cell_type": "code",
   "execution_count": 51,
   "metadata": {},
   "outputs": [],
   "source": [
    "with open('data/Zurich_NLP/related_topics/migration_vs_security.json', 'w') as file:\n",
    "    json.dump(migration_vs_security, file)"
   ]
  },
  {
   "cell_type": "code",
   "execution_count": 38,
   "metadata": {},
   "outputs": [
    {
     "data": {
      "text/plain": [
       "['Die Schweiz soll neue Kampfflugzeuge beschaffen.',\n",
       " 'Die Schweizer Armee soll auf höchstens 100000 Soldaten reduziert werden.',\n",
       " 'Der Armeebestand soll von 190000 auf 80000 Soldaten reduziert werden.',\n",
       " 'Das \"Raser\"-Gesetz soll gelockert werden.',\n",
       " 'Die Armee soll polizeiliche Aufgaben im Innern wahrnehmen.',\n",
       " 'Die verschärften Regeln zum Erwerb und Besitz von Waffen sollen beibehalten werden.',\n",
       " 'Die Verschärfung der Zulassungsbedingungen zum Zivildienst soll nicht umgesetzt werden.',\n",
       " 'Das Jugendstrafrecht soll längere Haftstrafen in geschlossenen Anstalten statt Resozialisierungsmassnahmen bevorzugen.',\n",
       " 'Der Konsum und Besitz von weichen und harten Drogen für den Eigengebrauch soll legalisiert werden.',\n",
       " 'Die Schweiz soll das Schengen-Abkommen kündigen und verstärkte Personenkontrollen an der Grenze einführen.',\n",
       " 'Der Export von Kriegsmaterial aus der Schweiz soll verboten werden.',\n",
       " 'Schweizer Jugendliche sollen frei zwischen Militärdienst und zivilem Ersatzdienst wählen können.',\n",
       " 'Die Befugnisse der Sicherheitsbehörden zur präventiven Überwachung des Post- Telefon- und E-Mail-Verkehrs sollen ausgeweitet werden.',\n",
       " 'Die rechtlichen Möglichkeiten zur Fahndung mittels DNA-Analyse sollen ausgeweitet werden.',\n",
       " nan]"
      ]
     },
     "execution_count": 38,
     "metadata": {},
     "output_type": "execute_result"
    }
   ],
   "source": [
    "security"
   ]
  },
  {
   "cell_type": "markdown",
   "metadata": {},
   "source": [
    "### Comparing statements from related topics"
   ]
  },
  {
   "cell_type": "code",
   "execution_count": 116,
   "metadata": {},
   "outputs": [],
   "source": [
    "# migration VS security\n",
    "client = OpenAI(api_key=\"sk-proj-3KhQdlgMCuoQc6EL2y1ZT3BlbkFJYHG9JgPGpOLsRnDSKuSs\")\n",
    "inconsistency_detection_id = \"asst_5B5qrEzQpyKvI6E3piJV8Oji\""
   ]
  },
  {
   "cell_type": "code",
   "execution_count": 117,
   "metadata": {},
   "outputs": [],
   "source": [
    "def run_inconsistency_detection(text1, text2):\n",
    "    statement = \"Text 1: \" + str(text1) + \"\\nText 2: \" + str(text2) + \"\\nAnswer: \"\n",
    "    \n",
    "    if str(statement) not in [\"NaN\", \"nan\"]:\n",
    "        try:\n",
    "            # Create a thread with a message.\n",
    "            thread = client.beta.threads.create(\n",
    "                messages=[\n",
    "                    {\n",
    "                        \"role\": \"user\",\n",
    "                        # Update this with the query you want to use.\n",
    "                        \"content\": statement,\n",
    "                    }\n",
    "                ]\n",
    "            )\n",
    "\n",
    "            # Submit the thread to the assistant (as a new run).\n",
    "            run = client.beta.threads.runs.create(thread_id=thread.id, assistant_id=inconsistency_detection_id)\n",
    "\n",
    "            # Wait for run to complete.\n",
    "            while run.status != \"completed\":\n",
    "                run = client.beta.threads.runs.retrieve(thread_id=thread.id, run_id=run.id)\n",
    "                time.sleep(1)\n",
    "            # else:\n",
    "            #     print(f\"🏁 Run Completed!\")\n",
    "                \n",
    "                            # Get the latest message from the thread.\n",
    "            message_response = client.beta.threads.messages.list(thread_id=thread.id)\n",
    "            messages = message_response.data\n",
    "            latest_message = messages[0]\n",
    "            \n",
    "            return latest_message.content[0].text.value\n",
    "        \n",
    "        except:\n",
    "            print(f\"Run went wrong\")\n",
    "            return None"
   ]
  },
  {
   "cell_type": "code",
   "execution_count": 97,
   "metadata": {},
   "outputs": [],
   "source": [
    "q1 = \"Soll der Bund Ausländer/-innen bei der Integration stärker unterstützen?\"\n",
    "q2 = \"Soll sich der Staat stärker für gleiche Bildungschancen einsetzen (z.B. mit Nachhilfe-Gutscheinen für Schüler/-innen aus Familien mit geringem Einkommen)?\""
   ]
  },
  {
   "cell_type": "code",
   "execution_count": 81,
   "metadata": {},
   "outputs": [],
   "source": [
    "# find all texts that support q1 but are against q2\n",
    "# find all texts that support q2 but are against q1"
   ]
  },
  {
   "cell_type": "code",
   "execution_count": 82,
   "metadata": {},
   "outputs": [],
   "source": [
    "with open(r\"C:\\Users\\Nursulu_1\\Downloads\\xstance-v1.0.0\\ZurichNLP-xstance-90283b3\\data\\xstance-data-v1.0\\test.jsonl\", 'r', encoding='utf-8') as file:\n",
    "    texts = [json.loads(line) for line in file]"
   ]
  },
  {
   "cell_type": "code",
   "execution_count": 87,
   "metadata": {},
   "outputs": [],
   "source": [
    "questions = [el['question'] for el in texts if el['language'] == 'de']"
   ]
  },
  {
   "cell_type": "code",
   "execution_count": 95,
   "metadata": {},
   "outputs": [],
   "source": [
    "questions = set(questions)"
   ]
  },
  {
   "cell_type": "code",
   "execution_count": 100,
   "metadata": {},
   "outputs": [
    {
     "data": {
      "text/plain": [
       "[{'id': 17820,\n",
       "  'language': 'de',\n",
       "  'question_id': 3415,\n",
       "  'question': 'Sollen die Renten der Pensionskasse durch eine Senkung des Umwandlungssatzes gekürzt und an die gestiegene Lebenserwartung angepasst werden?',\n",
       "  'comment': 'Es muss nach anderen Lösungen gesucht werden. Die Lebenshaltungskosten (u.a. Mieten) steigen auch weiter.',\n",
       "  'label': 'AGAINST',\n",
       "  'numerical_label': 25,\n",
       "  'author': 'aea1e176f453',\n",
       "  'topic': 'Welfare',\n",
       "  'test_set': 'new_comments_defr'},\n",
       " {'id': 17821,\n",
       "  'language': 'de',\n",
       "  'question_id': 3416,\n",
       "  'question': 'Befürworten Sie Bestrebungen in den Kantonen zur Senkung der Sozialhilfeleistungen?',\n",
       "  'comment': 'Die Kantone sollen sich um Missbräuche durch Leistungsbezüger kümmern.',\n",
       "  'label': 'AGAINST',\n",
       "  'numerical_label': 25,\n",
       "  'author': 'aea1e176f453',\n",
       "  'topic': 'Welfare',\n",
       "  'test_set': 'new_comments_defr'},\n",
       " {'id': 17823,\n",
       "  'language': 'de',\n",
       "  'question_id': 3423,\n",
       "  'question': 'Soll sich der Staat stärker für gleiche Bildungschancen einsetzen (z.B. mit Nachhilfe-Gutscheinen für Schüler/-innen aus Familien mit geringem Einkommen)?',\n",
       "  'comment': 'Bildung ist eines unserer Ressourcen und sollte wo immer möglich gestärkt werden.',\n",
       "  'label': 'FAVOR',\n",
       "  'numerical_label': 100,\n",
       "  'author': 'aea1e176f453',\n",
       "  'topic': 'Education',\n",
       "  'test_set': 'new_comments_defr'}]"
      ]
     },
     "execution_count": 100,
     "metadata": {},
     "output_type": "execute_result"
    }
   ],
   "source": [
    "texts[:3]"
   ]
  },
  {
   "cell_type": "code",
   "execution_count": 108,
   "metadata": {},
   "outputs": [],
   "source": [
    "q1_pro = [el['comment'] for el in texts if el['question'] == q1 and el['language'] == 'de' and el['label'] == 'FAVOR']\n",
    "q2_pro = [el['comment'] for el in texts if el['question'] == q2 and el['language'] == 'de' and el['label'] == 'FAVOR']\n",
    "q1_contra = [el['comment'] for el in texts if el['question'] == q1 and el['language'] == 'de' and el['label'] == 'AGAINST']\n",
    "q2_contra = [el['comment'] for el in texts if el['question'] == q2 and el['language'] == 'de' and el['label'] == 'AGAINST']"
   ]
  },
  {
   "cell_type": "code",
   "execution_count": 109,
   "metadata": {},
   "outputs": [
    {
     "name": "stdout",
     "output_type": "stream",
     "text": [
      "26\n",
      "25\n",
      "22\n",
      "17\n"
     ]
    }
   ],
   "source": [
    "print(len(q1_pro))\n",
    "print(len(q2_pro))\n",
    "print(len(q1_contra))\n",
    "print(len(q2_contra))"
   ]
  },
  {
   "cell_type": "markdown",
   "metadata": {},
   "source": [
    "You are given two groups of statements, A and B. Are there any statements from group A that are inconsistent with any statements in group B?"
   ]
  },
  {
   "cell_type": "code",
   "execution_count": 114,
   "metadata": {},
   "outputs": [
    {
     "data": {
      "text/plain": [
       "['Bildung ist eines unserer Ressourcen und sollte wo immer möglich gestärkt werden.',\n",
       " 'Bildung ist ein wichtiger Teil unserer Entwicklung. Daher sollen die Bildungschancen möglichst für alle gleich sein.',\n",
       " 'Bildung ist das wertvollste Gut eines Staates und sollte dementsprechend gefördert werden.',\n",
       " 'Gleiche Bildungschancen sind sehr wichtig! Förderung, besonders für Kinder mit Schul-Schwächen aus ärmeren Familien, bedeutet auch, dass diese Kinder so bessere Chancen haben einen Beruf zu erlernen, der sie aus dem Kreislauf der \"Armut\" herausholt.',\n",
       " 'Ist-Zustand der Chancenverteilung ist ungenügend. Führt zu vielen privilegierten Erben mit wenig Ahnung, viel Selbstüberschätzung an der Macht und immer öfter zu absoluten Nichtskönnern in Führungspositionen.',\n",
       " 'Die soziale Mobilität ist in der Schweiz tiefer als allgemein angenommen, das muss sich ändern!',\n",
       " 'Nachhilfegutscheine ja, aber nur für interessierte und leistungswillige Kinder.',\n",
       " 'Für mich essenziell um fehlende Förderung zu kompensieren.',\n",
       " 'Chancengleichheit am Start verhindert eine Umverteilung später. Jedoch sollten nicht nur die \"Schwächeren\" gefördert werden, sonder auch die \"Begabteren\".',\n",
       " 'Unser Bildungssystem mit den öffentlichen Schulen muss erhalten bleiben. Das stärkt die Bildungschancen für alle und erwirkt das soziale Fundament für die Schweiz. \\nDie Lehrerinnen und Lehrer müssen bestens ausgebildet sein. Sie stellen die Unterrichtsqualität sicher; der Staat bildet förderliche Rahmenbedingungen. Somit erübrigen sich Bildungsgutscheine.',\n",
       " 'Besonders auch für Familien die nicht eine Landessprache sprechen.',\n",
       " 'Es braucht nicht Nachhilfegutscheine, sondern Unterrichtskonzepte, welche auch die Bedürfnisse von Benachteiligten berücksichtigen.',\n",
       " 'Gleichzeitig darf aber auch die Förderung von Hochbegabten nicht vernachlässigt werden.',\n",
       " 'Ich bin zusätzlich für die freie Schulwahl. Dies fördert ein innovatives und individuelles Bildungsangebot und somit bessere Bildungschancen.',\n",
       " 'Es ist statistisch erwiesen, dass Personen wesen Eltern bereits studierten eine höhere Wahrscheinlichkeit haben auch zu studieren. Ebenso sollte es nie daran scheitern, dass jemand sich Bildungszugang nicht leisten kann. Chancengleichheit muss überall gelten.',\n",
       " 'Bildung ist immens wichtig. Für Familien mit geringem Einkommen bin ich einverstanden. Nicht aber telquel. Es muss letztlich im Sinne aller Eltern sein, ihre Kinder zu unterstützen. Das heisst auch, Vorbild zu sein.',\n",
       " 'Durch höhere Investitionen in Kind und Jugend-Alter können Arbeitslosen-, Ergänzungsleistungen und Sozialhilfe in Zukunft gespart werden weil die Arbeitsmarktfähigkeit der betroffenen Kinder und Jugendlichen im Berufsalter stark zunehmen',\n",
       " 'Sensibilisierung für den Stellenwert von Bildung bei bildungsfernen Menschen in der Schweiz ist eine Voraussetzung um den Sinn von Unterstützung von Kindern während der Ausbildungszeit zu erfassen.',\n",
       " 'Heute bestimmt zu fest das Elternhaus wer wo landet im Leben. Das ist zutiefst unfair und gehört geändert.',\n",
       " 'Es braucht Massnahmen für mehr Chancengleichheit und das wird sich positiv zum Nutzen der ganzen Gesellschaft ausnutzen. Je früher man hier ansetzt, desto besser.',\n",
       " 'Bildung ist unser wichtigstes Gut. Wir sollten in Bildung für alle investieren.',\n",
       " 'Dies sollte jedoch so gemacht werden das alle davon profitieren können. Sprich Schwache wie auch Hochbegabte sollten profitieren können egal welcher finanziellen Hintergrund vorherrscht.',\n",
       " 'Keine Gutscheine, sondern Förderung innerhalb der Schulen, wie z.B. Case Management.',\n",
       " 'Chancengleichheit ist die Voraussetzung für einen liberalen und wohlhabenden Rechtsstaat.',\n",
       " 'Gleichberechtigung bei der Bildung muss die Ausgangslage berücksichtigen. So lange Tätigkeiten so lausig vergütet werden, dass sich schwer davon leben lässt, muss diese Ungerechtigkeit ausgeglichen werden.\\nNachhilfe soll punktuell eingesetzt werden, um temporäre Defizite zu überbrücken oder auf Abschlüsse vorzubereiten. Nachhilfe soll kein Dauerzustand sein. Für permanente spezielle Betreuung muss der Unterricht oder die Lerneinheit entsprechend dem Bedürfnis gestaltet werden.']"
      ]
     },
     "execution_count": 114,
     "metadata": {},
     "output_type": "execute_result"
    }
   ],
   "source": [
    "q2_pro"
   ]
  },
  {
   "cell_type": "code",
   "execution_count": 115,
   "metadata": {},
   "outputs": [
    {
     "data": {
      "text/plain": [
       "['Integration muss willentlich geschehen, einerseits von seiten der Bevölkerung, andererseits von den Betroffenen. Dann braucht es keine staatliche Unterstützung.',\n",
       " 'Wer in die Schweiz kommt und mit unserer Kultur lebt, ist herzlich willkommen! Intergration ist eine Bringschuld seitens der Einwanderer, zumal die Schweiz sehr viele Chancen zur aktiven Intergration bietet!',\n",
       " 'Für die Integration von Ausländer wird bereits viel geboten, Integration ist primär Aufgabe des zu Integrierenden.',\n",
       " 'Integration ist gut und wichtig. Jedoch braucht es nun mehr auf Kantonaler- und Gemeindebene. Evt auch Unterstützung für Kirchgemeinden, die einen Teil übernehmen könnten.',\n",
       " 'Ausnahme: Zusätzliche Förderung von Sprachkenntnissen und des Verständnisses unserer Demokratie und Gesellschaft.',\n",
       " 'Zur Zeit bestehen genügend Massnahmen. Es braucht keinen weiteren Ausbau. Fördern und Fordern.',\n",
       " 'Jeder Ausländer ist verpflichtet, sich zu integrieren, Integration ist eine Holplicht.',\n",
       " 'Ich sehe dies eher als eine Aufgabe der Zivilgesellschaft.',\n",
       " 'Integration ist vor allem Sache des Ausländers. Asylsuchende mit einer langfristigen Bleibeperspektive sollte der Staat jedoch unterstützen und fördern. Eine rasche Arbeitsintegration ist wichtig, weil sie die Sozialkosten senkt.',\n",
       " 'Integration ist nicht Sache des Bundes, sondern der Einwanderer.',\n",
       " 'Die Frage ist sehr unpräzise. Integration erfolgt auf lokaler Ebene.',\n",
       " 'Es muss im Interesse jedes Einzelnen sein, sich zu integrieren. Und muss auch jedem selber überlassen sein.',\n",
       " 'Auch bei der Integration darf entsprechende Eigenverantwortung der Ausländer*innen erwartet werden.',\n",
       " 'Frage ist unklar. Wie stärker unterstützen - mit Geld, mehr Bildungsmöglichkeiten? Ich unterstütze z.B. die verstärkte Förderung von sprachlichen Kompetenzen, was zu einer besseren und schnelleren Integration führt.',\n",
       " 'Es wird genug gemacht heute. Die Mittel könnten allenfalls noch effizienter eingesetzt werden.',\n",
       " 'Integration muss nicht nur vom Bund aus kommen. Auch die ausländische Person soll sich bemühen.',\n",
       " 'Der Wunsch zur Einbürgerung ist ein privates Anliegen und bedarf keiner staatlichen Unterstützung.',\n",
       " 'Födern und fordern ist ein gutes Konzept. Heute ist der Schwerpunkt aber viel zu stark beim Fördern und nicht beim Fordern.',\n",
       " 'Durch das KIP (Kantonales Integrationsprogramm) sind genügend Gelder gesprochen worden.',\n",
       " 'Die Eigeninitiative der Einbürgerungswilligen ist massgebend. Diese Personen müssen sich integrieren wollen und nebst der Sprache auch ein Minimum an sozialem, gesellschaftlichen und politischen Wissen aneignen.',\n",
       " 'Es gibt bereits einen grossen Strauss an Massnahmen, besonders auch auf Kantons- und Gemeindeebene. Das reicht. Die Ausländer müssen sich aktiv daran beteiligen.',\n",
       " 'Das geltende Recht sieht viele Möglichkeiten vor. Diese sind zu nützen.']"
      ]
     },
     "execution_count": 115,
     "metadata": {},
     "output_type": "execute_result"
    }
   ],
   "source": [
    "q1_contra"
   ]
  },
  {
   "cell_type": "code",
   "execution_count": null,
   "metadata": {},
   "outputs": [],
   "source": [
    "q1"
   ]
  },
  {
   "cell_type": "markdown",
   "metadata": {},
   "source": [
    "### Getting data"
   ]
  },
  {
   "cell_type": "code",
   "execution_count": 3,
   "metadata": {},
   "outputs": [],
   "source": [
    "# texts = pd.read_csv(\"data/perspectrum_test_filtered.csv\")"
   ]
  },
  {
   "cell_type": "code",
   "execution_count": 7,
   "metadata": {},
   "outputs": [],
   "source": [
    "with open(r\"C:\\Users\\Nursulu_1\\Downloads\\xstance-v1.0.0\\ZurichNLP-xstance-90283b3\\data\\xstance-data-v1.0\\test.jsonl\", 'r', encoding='utf-8') as file:\n",
    "    texts = [json.loads(line) for line in file]"
   ]
  },
  {
   "cell_type": "code",
   "execution_count": 8,
   "metadata": {},
   "outputs": [],
   "source": [
    "# with open(\"data/Zurich_NLP/labels_Education_de\", 'r') as file:\n",
    "#     labels = json.load(file)"
   ]
  },
  {
   "cell_type": "code",
   "execution_count": 22,
   "metadata": {},
   "outputs": [],
   "source": [
    "texts = pd.read_excel(\"data/Rephrased_Zurich_NLP.xlsx\")"
   ]
  },
  {
   "cell_type": "code",
   "execution_count": 24,
   "metadata": {},
   "outputs": [],
   "source": [
    "# orig_quest = re.sub(r\"[{},']\", \"\", texts['Original question'][0])\n",
    "# orig_quest = orig_quest.split(\"\\n\")\n",
    "# orig_quest = [el.strip() for el in orig_quest]\n",
    "\n",
    "# rephrased = re.sub(r\"[{},']\", \"\", texts['Rephrased by ChatGPT'][0])\n",
    "# rephrased = rephrased.split(\"\\n\")\n",
    "# rephrased = [el.strip() for el in rephrased]\n",
    "\n",
    "# shortened = re.sub(r\"[{},']\", \"\", texts['Shortened'][0])\n",
    "# shortened = shortened.split(\"\\n\")\n",
    "# shortened = [el.strip() for el in shortened]\n",
    "\n",
    "# data = {'original_question': orig_quest, 'rephrased_question': rephrased, 'shortened_question': shortened}\n",
    "# df = pd.DataFrame.from_dict(data, orient='index').transpose()\n",
    "# df = pd.DataFrame.from_dict(data, orient='index').transpose()\n",
    "\n",
    "# df.to_excel(\"data/Zurich_NLP/rephrased/welfare.xlsx\")"
   ]
  },
  {
   "cell_type": "code",
   "execution_count": 6,
   "metadata": {},
   "outputs": [],
   "source": [
    "with open(r\"C:\\Users\\Nursulu_1\\Downloads\\xstance-v1.0.0\\ZurichNLP-xstance-90283b3\\data\\xstance-data-v1.0\\test.jsonl\", 'r', encoding='utf-8') as file:\n",
    "    texts = [json.loads(line) for line in file]\n",
    "texts = [el['comment'] for el in texts if el['topic'] == \"Education\" and el['language'] == 'de']"
   ]
  },
  {
   "cell_type": "code",
   "execution_count": 7,
   "metadata": {},
   "outputs": [],
   "source": [
    "data = pd.DataFrame({\"text\": texts})"
   ]
  },
  {
   "cell_type": "code",
   "execution_count": 8,
   "metadata": {},
   "outputs": [],
   "source": [
    "data['Forced_stances'] = 0\n",
    "data['Vectors'] = 0"
   ]
  },
  {
   "cell_type": "markdown",
   "metadata": {},
   "source": [
    "### List of assistants"
   ]
  },
  {
   "cell_type": "code",
   "execution_count": 9,
   "metadata": {},
   "outputs": [],
   "source": [
    "client = OpenAI(api_key=\"sk-proj-3KhQdlgMCuoQc6EL2y1ZT3BlbkFJYHG9JgPGpOLsRnDSKuSs\")\n",
    "stance_detection_id = \"asst_snO9IXRwRd5ugUihoKNzflOU\""
   ]
  },
  {
   "cell_type": "code",
   "execution_count": 11,
   "metadata": {},
   "outputs": [],
   "source": [
    "data = data[:100]"
   ]
  },
  {
   "cell_type": "code",
   "execution_count": 12,
   "metadata": {},
   "outputs": [],
   "source": [
    "def run_stance_detection(targets, text):\n",
    "    statement = \"Targets: \" + str(targets) + \"\\nText: \" + text + \"\\nStances: \"\n",
    "    \n",
    "    if str(statement) not in [\"NaN\", \"nan\"]:\n",
    "        try:\n",
    "            # Create a thread with a message.\n",
    "            thread = client.beta.threads.create(\n",
    "                messages=[\n",
    "                    {\n",
    "                        \"role\": \"user\",\n",
    "                        # Update this with the query you want to use.\n",
    "                        \"content\": statement,\n",
    "                    }\n",
    "                ]\n",
    "            )\n",
    "\n",
    "            # Submit the thread to the assistant (as a new run).\n",
    "            run = client.beta.threads.runs.create(thread_id=thread.id, assistant_id=stance_detection_id)\n",
    "\n",
    "            # Wait for run to complete.\n",
    "            while run.status != \"completed\":\n",
    "                run = client.beta.threads.runs.retrieve(thread_id=thread.id, run_id=run.id)\n",
    "                time.sleep(1)\n",
    "            # else:\n",
    "            #     print(f\"🏁 Run Completed!\")\n",
    "\n",
    "            # Get the latest message from the thread.\n",
    "            message_response = client.beta.threads.messages.list(thread_id=thread.id)\n",
    "            messages = message_response.data\n",
    "\n",
    "            # Print the latest message.\n",
    "            latest_message = messages[0]\n",
    "            \n",
    "            return latest_message.content[0].text.value\n",
    "        \n",
    "        except:\n",
    "            print(f\"Run went wrong\")\n",
    "            return None"
   ]
  },
  {
   "cell_type": "markdown",
   "metadata": {},
   "source": [
    "#### Calling ChatGPT API"
   ]
  },
  {
   "cell_type": "code",
   "execution_count": 13,
   "metadata": {},
   "outputs": [],
   "source": [
    "def postprocess_answer_gpt(output):\n",
    "    \n",
    "    try:\n",
    "        output = eval(output)\n",
    "        if isinstance(output, list):\n",
    "            return output\n",
    "        output = list(output.keys())\n",
    "        return output\n",
    "    except:\n",
    "        try:\n",
    "            output = output.replace(\"\\n\", \"\")\n",
    "            output = output.replace(\"Targets: \", \"\")\n",
    "            output = eval(output)\n",
    "            output = list(output.keys())\n",
    "            return output\n",
    "        except:\n",
    "            try:\n",
    "                output = output.replace(\"\\n\", \"\")\n",
    "                output = output.replace(\"Answer: \", \"\")\n",
    "                output = eval(output)\n",
    "                output = list(output.keys())\n",
    "                return output\n",
    "                \n",
    "            except:\n",
    "                print(\"Error while extracting topics\")\n",
    "                print(output)\n",
    "                return None"
   ]
  },
  {
   "cell_type": "code",
   "execution_count": 14,
   "metadata": {},
   "outputs": [],
   "source": [
    "def extract_vectors(output):\n",
    "    try:\n",
    "        # Extract the part of the string that looks like a dictionary\n",
    "        dict_str = re.search(r\"{.*}\", output, re.DOTALL).group()\n",
    "        \n",
    "        # Convert the string to a dictionary safely\n",
    "        stance_dict = ast.literal_eval(dict_str)\n",
    "        \n",
    "        array = list(stance_dict.values())\n",
    "        \n",
    "        return array\n",
    "    except:\n",
    "        try:\n",
    "            # Extract the part of the string that looks like a dictionary\n",
    "            dict_str = re.search(r\"{.*}\", output, re.DOTALL).group()\n",
    "            \n",
    "            dict_str =  dict_str.replace(\"\\n\", \"\")\n",
    "            \n",
    "            # Convert the string to a dictionary safely\n",
    "            stance_dict = ast.literal_eval(dict_str)\n",
    "            \n",
    "            array = list(stance_dict.values())\n",
    "            \n",
    "            return array\n",
    "            \n",
    "            \n",
    "        except:\n",
    "            print(\"Error while extracting stances\")\n",
    "            print(output)\n",
    "            return None"
   ]
  },
  {
   "cell_type": "code",
   "execution_count": 16,
   "metadata": {},
   "outputs": [
    {
     "name": "stderr",
     "output_type": "stream",
     "text": [
      "  0%|          | 0/100 [00:00<?, ?it/s]"
     ]
    },
    {
     "name": "stderr",
     "output_type": "stream",
     "text": [
      "C:\\Users\\Nursulu_1\\AppData\\Local\\Temp\\ipykernel_479880\\3390047629.py:6: SettingWithCopyWarning: \n",
      "A value is trying to be set on a copy of a slice from a DataFrame\n",
      "\n",
      "See the caveats in the documentation: https://pandas.pydata.org/pandas-docs/stable/user_guide/indexing.html#returning-a-view-versus-a-copy\n",
      "  data['Forced_stances'][i] = forced_stances\n",
      "C:\\Users\\Nursulu_1\\AppData\\Local\\Temp\\ipykernel_479880\\3390047629.py:6: FutureWarning: Setting an item of incompatible dtype is deprecated and will raise in a future error of pandas. Value '{'Harmonisierung von Lehrplänen zwischen den Kantonen (z.B. durch Lehrplan 21 oder PER) befürworten.': 1, 'Dispense aus religiösen Gründen für einzelne Fächer oder Veranstaltungen (z.B. Sport- oder Sexualkundeunterricht) bewilligen.': 0, 'Kinder mit Lernschwierigkeiten oder Behinderungen in regulären Schulklassen unterrichten (integrative Schule) befürworten.': 1, 'Finanzielle Unterstützung des Bundes für berufliche Weiterbildung und Umschulung ausbauen.': 1, 'Zweite Landessprache in der Primarschule in allen Kantonen unterrichten.': 1, 'Staat stärker für gleiche Bildungschancen einsetzen (z.B. mit Nachhilfe-Gutscheinen für Schüler/-innen aus Familien mit geringem Einkommen).': 1, 'Wirtschaftlichen Nutzen von Forschungsprojekten bei der Vergabe von Fördergeldern des Bundes stärker berücksichtigen.': 0}' has dtype incompatible with int64, please explicitly cast to a compatible dtype first.\n",
      "  data['Forced_stances'][i] = forced_stances\n",
      "C:\\Users\\Nursulu_1\\AppData\\Local\\Temp\\ipykernel_479880\\3390047629.py:17: SettingWithCopyWarning: \n",
      "A value is trying to be set on a copy of a slice from a DataFrame\n",
      "\n",
      "See the caveats in the documentation: https://pandas.pydata.org/pandas-docs/stable/user_guide/indexing.html#returning-a-view-versus-a-copy\n",
      "  data['Vectors'][i] = str(vec)\n",
      "C:\\Users\\Nursulu_1\\AppData\\Local\\Temp\\ipykernel_479880\\3390047629.py:17: FutureWarning: Setting an item of incompatible dtype is deprecated and will raise in a future error of pandas. Value '[1, 0, 1, 1, 1, 1, 0]' has dtype incompatible with int64, please explicitly cast to a compatible dtype first.\n",
      "  data['Vectors'][i] = str(vec)\n",
      "  1%|          | 1/100 [00:14<24:40, 14.95s/it]"
     ]
    },
    {
     "name": "stdout",
     "output_type": "stream",
     "text": [
      "Extracting vectors\n"
     ]
    },
    {
     "name": "stderr",
     "output_type": "stream",
     "text": [
      "C:\\Users\\Nursulu_1\\AppData\\Local\\Temp\\ipykernel_479880\\3390047629.py:6: SettingWithCopyWarning: \n",
      "A value is trying to be set on a copy of a slice from a DataFrame\n",
      "\n",
      "See the caveats in the documentation: https://pandas.pydata.org/pandas-docs/stable/user_guide/indexing.html#returning-a-view-versus-a-copy\n",
      "  data['Forced_stances'][i] = forced_stances\n",
      "  2%|▏         | 2/100 [00:25<20:16, 12.42s/it]"
     ]
    },
    {
     "name": "stdout",
     "output_type": "stream",
     "text": [
      "Extracting vectors\n"
     ]
    },
    {
     "name": "stderr",
     "output_type": "stream",
     "text": [
      "  3%|▎         | 3/100 [00:36<18:57, 11.73s/it]"
     ]
    },
    {
     "name": "stdout",
     "output_type": "stream",
     "text": [
      "Extracting vectors\n"
     ]
    },
    {
     "name": "stderr",
     "output_type": "stream",
     "text": [
      "  4%|▍         | 4/100 [00:47<18:05, 11.30s/it]"
     ]
    },
    {
     "name": "stdout",
     "output_type": "stream",
     "text": [
      "Extracting vectors\n"
     ]
    },
    {
     "name": "stderr",
     "output_type": "stream",
     "text": [
      "  5%|▌         | 5/100 [00:58<18:12, 11.49s/it]"
     ]
    },
    {
     "name": "stdout",
     "output_type": "stream",
     "text": [
      "Extracting vectors\n"
     ]
    },
    {
     "name": "stderr",
     "output_type": "stream",
     "text": [
      "  6%|▌         | 6/100 [01:09<17:38, 11.26s/it]"
     ]
    },
    {
     "name": "stdout",
     "output_type": "stream",
     "text": [
      "Extracting vectors\n"
     ]
    },
    {
     "name": "stderr",
     "output_type": "stream",
     "text": [
      "  7%|▋         | 7/100 [01:22<18:25, 11.89s/it]"
     ]
    },
    {
     "name": "stdout",
     "output_type": "stream",
     "text": [
      "Extracting vectors\n"
     ]
    },
    {
     "name": "stderr",
     "output_type": "stream",
     "text": [
      "  8%|▊         | 8/100 [01:33<17:44, 11.57s/it]"
     ]
    },
    {
     "name": "stdout",
     "output_type": "stream",
     "text": [
      "Extracting vectors\n"
     ]
    },
    {
     "name": "stderr",
     "output_type": "stream",
     "text": [
      "  9%|▉         | 9/100 [01:44<17:12, 11.34s/it]"
     ]
    },
    {
     "name": "stdout",
     "output_type": "stream",
     "text": [
      "Extracting vectors\n"
     ]
    },
    {
     "name": "stderr",
     "output_type": "stream",
     "text": [
      " 10%|█         | 10/100 [01:55<16:45, 11.17s/it]"
     ]
    },
    {
     "name": "stdout",
     "output_type": "stream",
     "text": [
      "Extracting vectors\n"
     ]
    },
    {
     "name": "stderr",
     "output_type": "stream",
     "text": [
      " 11%|█         | 11/100 [02:06<16:26, 11.08s/it]"
     ]
    },
    {
     "name": "stdout",
     "output_type": "stream",
     "text": [
      "Extracting vectors\n"
     ]
    },
    {
     "name": "stderr",
     "output_type": "stream",
     "text": [
      " 12%|█▏        | 12/100 [02:18<16:37, 11.33s/it]"
     ]
    },
    {
     "name": "stdout",
     "output_type": "stream",
     "text": [
      "Extracting vectors\n"
     ]
    },
    {
     "name": "stderr",
     "output_type": "stream",
     "text": [
      " 13%|█▎        | 13/100 [02:31<17:11, 11.86s/it]"
     ]
    },
    {
     "name": "stdout",
     "output_type": "stream",
     "text": [
      "Extracting vectors\n"
     ]
    },
    {
     "name": "stderr",
     "output_type": "stream",
     "text": [
      " 14%|█▍        | 14/100 [02:42<16:31, 11.53s/it]"
     ]
    },
    {
     "name": "stdout",
     "output_type": "stream",
     "text": [
      "Extracting vectors\n"
     ]
    },
    {
     "name": "stderr",
     "output_type": "stream",
     "text": [
      " 15%|█▌        | 15/100 [02:54<16:30, 11.66s/it]"
     ]
    },
    {
     "name": "stdout",
     "output_type": "stream",
     "text": [
      "Extracting vectors\n"
     ]
    },
    {
     "name": "stderr",
     "output_type": "stream",
     "text": [
      " 16%|█▌        | 16/100 [03:04<15:53, 11.35s/it]"
     ]
    },
    {
     "name": "stdout",
     "output_type": "stream",
     "text": [
      "Extracting vectors\n"
     ]
    },
    {
     "name": "stderr",
     "output_type": "stream",
     "text": [
      " 17%|█▋        | 17/100 [03:19<17:04, 12.34s/it]"
     ]
    },
    {
     "name": "stdout",
     "output_type": "stream",
     "text": [
      "Extracting vectors\n"
     ]
    },
    {
     "name": "stderr",
     "output_type": "stream",
     "text": [
      " 18%|█▊        | 18/100 [03:30<16:10, 11.84s/it]"
     ]
    },
    {
     "name": "stdout",
     "output_type": "stream",
     "text": [
      "Extracting vectors\n"
     ]
    },
    {
     "name": "stderr",
     "output_type": "stream",
     "text": [
      " 19%|█▉        | 19/100 [03:39<15:03, 11.16s/it]"
     ]
    },
    {
     "name": "stdout",
     "output_type": "stream",
     "text": [
      "Extracting vectors\n"
     ]
    },
    {
     "name": "stderr",
     "output_type": "stream",
     "text": [
      " 20%|██        | 20/100 [03:49<14:21, 10.77s/it]"
     ]
    },
    {
     "name": "stdout",
     "output_type": "stream",
     "text": [
      "Extracting vectors\n"
     ]
    },
    {
     "name": "stderr",
     "output_type": "stream",
     "text": [
      " 21%|██        | 21/100 [04:01<14:39, 11.13s/it]"
     ]
    },
    {
     "name": "stdout",
     "output_type": "stream",
     "text": [
      "Extracting vectors\n"
     ]
    },
    {
     "name": "stderr",
     "output_type": "stream",
     "text": [
      " 22%|██▏       | 22/100 [04:11<13:59, 10.77s/it]"
     ]
    },
    {
     "name": "stdout",
     "output_type": "stream",
     "text": [
      "Extracting vectors\n"
     ]
    },
    {
     "name": "stderr",
     "output_type": "stream",
     "text": [
      " 23%|██▎       | 23/100 [04:20<13:19, 10.38s/it]"
     ]
    },
    {
     "name": "stdout",
     "output_type": "stream",
     "text": [
      "Extracting vectors\n"
     ]
    },
    {
     "name": "stderr",
     "output_type": "stream",
     "text": [
      " 24%|██▍       | 24/100 [04:31<13:19, 10.52s/it]"
     ]
    },
    {
     "name": "stdout",
     "output_type": "stream",
     "text": [
      "Extracting vectors\n"
     ]
    },
    {
     "name": "stderr",
     "output_type": "stream",
     "text": [
      " 25%|██▌       | 25/100 [04:42<13:11, 10.56s/it]"
     ]
    },
    {
     "name": "stdout",
     "output_type": "stream",
     "text": [
      "Extracting vectors\n"
     ]
    },
    {
     "name": "stderr",
     "output_type": "stream",
     "text": [
      " 26%|██▌       | 26/100 [04:54<13:39, 11.07s/it]"
     ]
    },
    {
     "name": "stdout",
     "output_type": "stream",
     "text": [
      "Extracting vectors\n"
     ]
    },
    {
     "name": "stderr",
     "output_type": "stream",
     "text": [
      " 27%|██▋       | 27/100 [05:04<12:55, 10.63s/it]"
     ]
    },
    {
     "name": "stdout",
     "output_type": "stream",
     "text": [
      "Extracting vectors\n"
     ]
    },
    {
     "name": "stderr",
     "output_type": "stream",
     "text": [
      " 28%|██▊       | 28/100 [05:13<12:25, 10.36s/it]"
     ]
    },
    {
     "name": "stdout",
     "output_type": "stream",
     "text": [
      "Extracting vectors\n"
     ]
    },
    {
     "name": "stderr",
     "output_type": "stream",
     "text": [
      " 29%|██▉       | 29/100 [05:27<13:15, 11.20s/it]"
     ]
    },
    {
     "name": "stdout",
     "output_type": "stream",
     "text": [
      "Extracting vectors\n"
     ]
    },
    {
     "name": "stderr",
     "output_type": "stream",
     "text": [
      " 30%|███       | 30/100 [05:39<13:23, 11.47s/it]"
     ]
    },
    {
     "name": "stdout",
     "output_type": "stream",
     "text": [
      "Extracting vectors\n"
     ]
    },
    {
     "name": "stderr",
     "output_type": "stream",
     "text": [
      " 31%|███       | 31/100 [05:50<12:58, 11.28s/it]"
     ]
    },
    {
     "name": "stdout",
     "output_type": "stream",
     "text": [
      "Extracting vectors\n"
     ]
    },
    {
     "name": "stderr",
     "output_type": "stream",
     "text": [
      " 32%|███▏      | 32/100 [06:02<13:05, 11.55s/it]"
     ]
    },
    {
     "name": "stdout",
     "output_type": "stream",
     "text": [
      "Extracting vectors\n"
     ]
    },
    {
     "name": "stderr",
     "output_type": "stream",
     "text": [
      " 33%|███▎      | 33/100 [06:15<13:26, 12.03s/it]"
     ]
    },
    {
     "name": "stdout",
     "output_type": "stream",
     "text": [
      "Extracting vectors\n"
     ]
    },
    {
     "name": "stderr",
     "output_type": "stream",
     "text": [
      " 34%|███▍      | 34/100 [06:24<12:25, 11.29s/it]"
     ]
    },
    {
     "name": "stdout",
     "output_type": "stream",
     "text": [
      "Extracting vectors\n"
     ]
    },
    {
     "name": "stderr",
     "output_type": "stream",
     "text": [
      " 35%|███▌      | 35/100 [06:38<12:56, 11.94s/it]"
     ]
    },
    {
     "name": "stdout",
     "output_type": "stream",
     "text": [
      "Extracting vectors\n"
     ]
    },
    {
     "name": "stderr",
     "output_type": "stream",
     "text": [
      " 36%|███▌      | 36/100 [06:50<12:39, 11.87s/it]"
     ]
    },
    {
     "name": "stdout",
     "output_type": "stream",
     "text": [
      "Extracting vectors\n"
     ]
    },
    {
     "name": "stderr",
     "output_type": "stream",
     "text": [
      " 37%|███▋      | 37/100 [07:08<14:38, 13.95s/it]"
     ]
    },
    {
     "name": "stdout",
     "output_type": "stream",
     "text": [
      "Extracting vectors\n"
     ]
    },
    {
     "name": "stderr",
     "output_type": "stream",
     "text": [
      " 38%|███▊      | 38/100 [07:21<13:57, 13.51s/it]"
     ]
    },
    {
     "name": "stdout",
     "output_type": "stream",
     "text": [
      "Extracting vectors\n"
     ]
    },
    {
     "name": "stderr",
     "output_type": "stream",
     "text": [
      " 39%|███▉      | 39/100 [07:41<15:52, 15.62s/it]"
     ]
    },
    {
     "name": "stdout",
     "output_type": "stream",
     "text": [
      "Extracting vectors\n"
     ]
    },
    {
     "name": "stderr",
     "output_type": "stream",
     "text": [
      " 40%|████      | 40/100 [07:52<14:10, 14.18s/it]"
     ]
    },
    {
     "name": "stdout",
     "output_type": "stream",
     "text": [
      "Extracting vectors\n"
     ]
    },
    {
     "name": "stderr",
     "output_type": "stream",
     "text": [
      " 41%|████      | 41/100 [08:03<12:54, 13.13s/it]"
     ]
    },
    {
     "name": "stdout",
     "output_type": "stream",
     "text": [
      "Extracting vectors\n"
     ]
    },
    {
     "name": "stderr",
     "output_type": "stream",
     "text": [
      " 42%|████▏     | 42/100 [08:14<12:05, 12.51s/it]"
     ]
    },
    {
     "name": "stdout",
     "output_type": "stream",
     "text": [
      "Extracting vectors\n"
     ]
    },
    {
     "name": "stderr",
     "output_type": "stream",
     "text": [
      " 43%|████▎     | 43/100 [08:32<13:29, 14.20s/it]"
     ]
    },
    {
     "name": "stdout",
     "output_type": "stream",
     "text": [
      "Extracting vectors\n"
     ]
    },
    {
     "name": "stderr",
     "output_type": "stream",
     "text": [
      " 44%|████▍     | 44/100 [08:45<12:57, 13.89s/it]"
     ]
    },
    {
     "name": "stdout",
     "output_type": "stream",
     "text": [
      "Extracting vectors\n"
     ]
    },
    {
     "name": "stderr",
     "output_type": "stream",
     "text": [
      " 45%|████▌     | 45/100 [08:58<12:20, 13.47s/it]"
     ]
    },
    {
     "name": "stdout",
     "output_type": "stream",
     "text": [
      "Extracting vectors\n"
     ]
    },
    {
     "name": "stderr",
     "output_type": "stream",
     "text": [
      " 46%|████▌     | 46/100 [09:08<11:20, 12.61s/it]"
     ]
    },
    {
     "name": "stdout",
     "output_type": "stream",
     "text": [
      "Extracting vectors\n"
     ]
    },
    {
     "name": "stderr",
     "output_type": "stream",
     "text": [
      " 47%|████▋     | 47/100 [09:21<11:15, 12.74s/it]"
     ]
    },
    {
     "name": "stdout",
     "output_type": "stream",
     "text": [
      "Extracting vectors\n"
     ]
    },
    {
     "name": "stderr",
     "output_type": "stream",
     "text": [
      " 48%|████▊     | 48/100 [09:32<10:28, 12.09s/it]"
     ]
    },
    {
     "name": "stdout",
     "output_type": "stream",
     "text": [
      "Extracting vectors\n"
     ]
    },
    {
     "name": "stderr",
     "output_type": "stream",
     "text": [
      " 49%|████▉     | 49/100 [09:46<10:50, 12.75s/it]"
     ]
    },
    {
     "name": "stdout",
     "output_type": "stream",
     "text": [
      "Extracting vectors\n"
     ]
    },
    {
     "name": "stderr",
     "output_type": "stream",
     "text": [
      " 50%|█████     | 50/100 [09:58<10:26, 12.54s/it]"
     ]
    },
    {
     "name": "stdout",
     "output_type": "stream",
     "text": [
      "Extracting vectors\n"
     ]
    },
    {
     "name": "stderr",
     "output_type": "stream",
     "text": [
      " 51%|█████     | 51/100 [10:09<09:49, 12.03s/it]"
     ]
    },
    {
     "name": "stdout",
     "output_type": "stream",
     "text": [
      "Extracting vectors\n"
     ]
    },
    {
     "name": "stderr",
     "output_type": "stream",
     "text": [
      " 52%|█████▏    | 52/100 [10:24<10:12, 12.77s/it]"
     ]
    },
    {
     "name": "stdout",
     "output_type": "stream",
     "text": [
      "Extracting vectors\n"
     ]
    },
    {
     "name": "stderr",
     "output_type": "stream",
     "text": [
      " 53%|█████▎    | 53/100 [10:35<09:33, 12.19s/it]"
     ]
    },
    {
     "name": "stdout",
     "output_type": "stream",
     "text": [
      "Extracting vectors\n"
     ]
    },
    {
     "name": "stderr",
     "output_type": "stream",
     "text": [
      " 54%|█████▍    | 54/100 [10:48<09:32, 12.45s/it]"
     ]
    },
    {
     "name": "stdout",
     "output_type": "stream",
     "text": [
      "Extracting vectors\n"
     ]
    },
    {
     "name": "stderr",
     "output_type": "stream",
     "text": [
      " 55%|█████▌    | 55/100 [10:58<08:55, 11.91s/it]"
     ]
    },
    {
     "name": "stdout",
     "output_type": "stream",
     "text": [
      "Extracting vectors\n"
     ]
    },
    {
     "name": "stderr",
     "output_type": "stream",
     "text": [
      " 56%|█████▌    | 56/100 [11:10<08:37, 11.77s/it]"
     ]
    },
    {
     "name": "stdout",
     "output_type": "stream",
     "text": [
      "Extracting vectors\n"
     ]
    },
    {
     "name": "stderr",
     "output_type": "stream",
     "text": [
      " 57%|█████▋    | 57/100 [11:22<08:30, 11.87s/it]"
     ]
    },
    {
     "name": "stdout",
     "output_type": "stream",
     "text": [
      "Extracting vectors\n"
     ]
    },
    {
     "name": "stderr",
     "output_type": "stream",
     "text": [
      " 58%|█████▊    | 58/100 [11:33<08:09, 11.66s/it]"
     ]
    },
    {
     "name": "stdout",
     "output_type": "stream",
     "text": [
      "Extracting vectors\n"
     ]
    },
    {
     "name": "stderr",
     "output_type": "stream",
     "text": [
      " 59%|█████▉    | 59/100 [11:46<08:21, 12.22s/it]"
     ]
    },
    {
     "name": "stdout",
     "output_type": "stream",
     "text": [
      "Extracting vectors\n"
     ]
    },
    {
     "name": "stderr",
     "output_type": "stream",
     "text": [
      " 60%|██████    | 60/100 [11:58<07:57, 11.94s/it]"
     ]
    },
    {
     "name": "stdout",
     "output_type": "stream",
     "text": [
      "Extracting vectors\n"
     ]
    },
    {
     "name": "stderr",
     "output_type": "stream",
     "text": [
      " 61%|██████    | 61/100 [12:10<07:48, 12.01s/it]"
     ]
    },
    {
     "name": "stdout",
     "output_type": "stream",
     "text": [
      "Extracting vectors\n"
     ]
    },
    {
     "name": "stderr",
     "output_type": "stream",
     "text": [
      " 62%|██████▏   | 62/100 [12:21<07:22, 11.64s/it]"
     ]
    },
    {
     "name": "stdout",
     "output_type": "stream",
     "text": [
      "Extracting vectors\n"
     ]
    },
    {
     "name": "stderr",
     "output_type": "stream",
     "text": [
      " 63%|██████▎   | 63/100 [12:31<07:00, 11.36s/it]"
     ]
    },
    {
     "name": "stdout",
     "output_type": "stream",
     "text": [
      "Extracting vectors\n"
     ]
    },
    {
     "name": "stderr",
     "output_type": "stream",
     "text": [
      " 64%|██████▍   | 64/100 [12:41<06:31, 10.89s/it]"
     ]
    },
    {
     "name": "stdout",
     "output_type": "stream",
     "text": [
      "Extracting vectors\n"
     ]
    },
    {
     "name": "stderr",
     "output_type": "stream",
     "text": [
      " 65%|██████▌   | 65/100 [12:53<06:35, 11.31s/it]"
     ]
    },
    {
     "name": "stdout",
     "output_type": "stream",
     "text": [
      "Extracting vectors\n"
     ]
    },
    {
     "name": "stderr",
     "output_type": "stream",
     "text": [
      " 66%|██████▌   | 66/100 [13:04<06:19, 11.17s/it]"
     ]
    },
    {
     "name": "stdout",
     "output_type": "stream",
     "text": [
      "Extracting vectors\n"
     ]
    },
    {
     "name": "stderr",
     "output_type": "stream",
     "text": [
      " 67%|██████▋   | 67/100 [13:15<06:03, 11.03s/it]"
     ]
    },
    {
     "name": "stdout",
     "output_type": "stream",
     "text": [
      "Extracting vectors\n"
     ]
    },
    {
     "name": "stderr",
     "output_type": "stream",
     "text": [
      " 68%|██████▊   | 68/100 [13:26<05:49, 10.93s/it]"
     ]
    },
    {
     "name": "stdout",
     "output_type": "stream",
     "text": [
      "Extracting vectors\n"
     ]
    },
    {
     "name": "stderr",
     "output_type": "stream",
     "text": [
      " 69%|██████▉   | 69/100 [13:36<05:37, 10.88s/it]"
     ]
    },
    {
     "name": "stdout",
     "output_type": "stream",
     "text": [
      "Extracting vectors\n"
     ]
    },
    {
     "name": "stderr",
     "output_type": "stream",
     "text": [
      " 70%|███████   | 70/100 [13:47<05:25, 10.85s/it]"
     ]
    },
    {
     "name": "stdout",
     "output_type": "stream",
     "text": [
      "Extracting vectors\n"
     ]
    },
    {
     "name": "stderr",
     "output_type": "stream",
     "text": [
      " 71%|███████   | 71/100 [13:58<05:13, 10.81s/it]"
     ]
    },
    {
     "name": "stdout",
     "output_type": "stream",
     "text": [
      "Extracting vectors\n"
     ]
    },
    {
     "name": "stderr",
     "output_type": "stream",
     "text": [
      " 72%|███████▏  | 72/100 [14:08<04:57, 10.64s/it]"
     ]
    },
    {
     "name": "stdout",
     "output_type": "stream",
     "text": [
      "Extracting vectors\n"
     ]
    },
    {
     "name": "stderr",
     "output_type": "stream",
     "text": [
      " 73%|███████▎  | 73/100 [14:21<05:06, 11.37s/it]"
     ]
    },
    {
     "name": "stdout",
     "output_type": "stream",
     "text": [
      "Extracting vectors\n"
     ]
    },
    {
     "name": "stderr",
     "output_type": "stream",
     "text": [
      " 74%|███████▍  | 74/100 [14:34<05:02, 11.64s/it]"
     ]
    },
    {
     "name": "stdout",
     "output_type": "stream",
     "text": [
      "Extracting vectors\n"
     ]
    },
    {
     "name": "stderr",
     "output_type": "stream",
     "text": [
      " 75%|███████▌  | 75/100 [14:44<04:45, 11.43s/it]"
     ]
    },
    {
     "name": "stdout",
     "output_type": "stream",
     "text": [
      "Extracting vectors\n"
     ]
    },
    {
     "name": "stderr",
     "output_type": "stream",
     "text": [
      " 76%|███████▌  | 76/100 [14:57<04:38, 11.62s/it]"
     ]
    },
    {
     "name": "stdout",
     "output_type": "stream",
     "text": [
      "Extracting vectors\n"
     ]
    },
    {
     "name": "stderr",
     "output_type": "stream",
     "text": [
      " 77%|███████▋  | 77/100 [15:10<04:38, 12.11s/it]"
     ]
    },
    {
     "name": "stdout",
     "output_type": "stream",
     "text": [
      "Extracting vectors\n"
     ]
    },
    {
     "name": "stderr",
     "output_type": "stream",
     "text": [
      " 78%|███████▊  | 78/100 [15:22<04:25, 12.05s/it]"
     ]
    },
    {
     "name": "stdout",
     "output_type": "stream",
     "text": [
      "Extracting vectors\n"
     ]
    },
    {
     "name": "stderr",
     "output_type": "stream",
     "text": [
      " 79%|███████▉  | 79/100 [15:33<04:05, 11.70s/it]"
     ]
    },
    {
     "name": "stdout",
     "output_type": "stream",
     "text": [
      "Extracting vectors\n"
     ]
    },
    {
     "name": "stderr",
     "output_type": "stream",
     "text": [
      " 80%|████████  | 80/100 [15:47<04:11, 12.56s/it]"
     ]
    },
    {
     "name": "stdout",
     "output_type": "stream",
     "text": [
      "Extracting vectors\n"
     ]
    },
    {
     "name": "stderr",
     "output_type": "stream",
     "text": [
      " 81%|████████  | 81/100 [15:59<03:55, 12.38s/it]"
     ]
    },
    {
     "name": "stdout",
     "output_type": "stream",
     "text": [
      "Extracting vectors\n"
     ]
    },
    {
     "name": "stderr",
     "output_type": "stream",
     "text": [
      " 82%|████████▏ | 82/100 [16:10<03:33, 11.86s/it]"
     ]
    },
    {
     "name": "stdout",
     "output_type": "stream",
     "text": [
      "Extracting vectors\n"
     ]
    },
    {
     "name": "stderr",
     "output_type": "stream",
     "text": [
      " 83%|████████▎ | 83/100 [16:23<03:28, 12.29s/it]"
     ]
    },
    {
     "name": "stdout",
     "output_type": "stream",
     "text": [
      "Extracting vectors\n"
     ]
    },
    {
     "name": "stderr",
     "output_type": "stream",
     "text": [
      " 84%|████████▍ | 84/100 [16:34<03:08, 11.79s/it]"
     ]
    },
    {
     "name": "stdout",
     "output_type": "stream",
     "text": [
      "Extracting vectors\n"
     ]
    },
    {
     "name": "stderr",
     "output_type": "stream",
     "text": [
      " 85%|████████▌ | 85/100 [16:47<03:03, 12.21s/it]"
     ]
    },
    {
     "name": "stdout",
     "output_type": "stream",
     "text": [
      "Extracting vectors\n"
     ]
    },
    {
     "name": "stderr",
     "output_type": "stream",
     "text": [
      " 86%|████████▌ | 86/100 [16:58<02:45, 11.80s/it]"
     ]
    },
    {
     "name": "stdout",
     "output_type": "stream",
     "text": [
      "Extracting vectors\n"
     ]
    },
    {
     "name": "stderr",
     "output_type": "stream",
     "text": [
      " 87%|████████▋ | 87/100 [17:10<02:34, 11.92s/it]"
     ]
    },
    {
     "name": "stdout",
     "output_type": "stream",
     "text": [
      "Extracting vectors\n"
     ]
    },
    {
     "name": "stderr",
     "output_type": "stream",
     "text": [
      " 88%|████████▊ | 88/100 [17:23<02:26, 12.17s/it]"
     ]
    },
    {
     "name": "stdout",
     "output_type": "stream",
     "text": [
      "Extracting vectors\n"
     ]
    },
    {
     "name": "stderr",
     "output_type": "stream",
     "text": [
      " 89%|████████▉ | 89/100 [17:36<02:16, 12.44s/it]"
     ]
    },
    {
     "name": "stdout",
     "output_type": "stream",
     "text": [
      "Extracting vectors\n"
     ]
    },
    {
     "name": "stderr",
     "output_type": "stream",
     "text": [
      " 90%|█████████ | 90/100 [17:47<01:59, 11.98s/it]"
     ]
    },
    {
     "name": "stdout",
     "output_type": "stream",
     "text": [
      "Extracting vectors\n"
     ]
    },
    {
     "name": "stderr",
     "output_type": "stream",
     "text": [
      " 91%|█████████ | 91/100 [17:59<01:47, 11.98s/it]"
     ]
    },
    {
     "name": "stdout",
     "output_type": "stream",
     "text": [
      "Extracting vectors\n"
     ]
    },
    {
     "name": "stderr",
     "output_type": "stream",
     "text": [
      " 92%|█████████▏| 92/100 [18:11<01:35, 11.99s/it]"
     ]
    },
    {
     "name": "stdout",
     "output_type": "stream",
     "text": [
      "Extracting vectors\n"
     ]
    },
    {
     "name": "stderr",
     "output_type": "stream",
     "text": [
      " 93%|█████████▎| 93/100 [18:21<01:21, 11.61s/it]"
     ]
    },
    {
     "name": "stdout",
     "output_type": "stream",
     "text": [
      "Extracting vectors\n"
     ]
    },
    {
     "name": "stderr",
     "output_type": "stream",
     "text": [
      " 94%|█████████▍| 94/100 [18:32<01:08, 11.37s/it]"
     ]
    },
    {
     "name": "stdout",
     "output_type": "stream",
     "text": [
      "Extracting vectors\n"
     ]
    },
    {
     "name": "stderr",
     "output_type": "stream",
     "text": [
      " 95%|█████████▌| 95/100 [18:43<00:55, 11.16s/it]"
     ]
    },
    {
     "name": "stdout",
     "output_type": "stream",
     "text": [
      "Extracting vectors\n"
     ]
    },
    {
     "name": "stderr",
     "output_type": "stream",
     "text": [
      " 96%|█████████▌| 96/100 [18:52<00:42, 10.62s/it]"
     ]
    },
    {
     "name": "stdout",
     "output_type": "stream",
     "text": [
      "Extracting vectors\n"
     ]
    },
    {
     "name": "stderr",
     "output_type": "stream",
     "text": [
      " 97%|█████████▋| 97/100 [19:03<00:32, 10.73s/it]"
     ]
    },
    {
     "name": "stdout",
     "output_type": "stream",
     "text": [
      "Extracting vectors\n"
     ]
    },
    {
     "name": "stderr",
     "output_type": "stream",
     "text": [
      " 98%|█████████▊| 98/100 [19:14<00:21, 10.76s/it]"
     ]
    },
    {
     "name": "stdout",
     "output_type": "stream",
     "text": [
      "Extracting vectors\n"
     ]
    },
    {
     "name": "stderr",
     "output_type": "stream",
     "text": [
      " 99%|█████████▉| 99/100 [19:25<00:10, 10.71s/it]"
     ]
    },
    {
     "name": "stdout",
     "output_type": "stream",
     "text": [
      "Extracting vectors\n"
     ]
    },
    {
     "name": "stderr",
     "output_type": "stream",
     "text": [
      "100%|██████████| 100/100 [19:37<00:00, 11.77s/it]"
     ]
    },
    {
     "name": "stdout",
     "output_type": "stream",
     "text": [
      "Extracting vectors\n"
     ]
    },
    {
     "name": "stderr",
     "output_type": "stream",
     "text": [
      "\n"
     ]
    }
   ],
   "source": [
    "for i in tqdm(range(len(data['text']))):\n",
    "    # print(data['Texts'][i])\n",
    "    \n",
    "    forced_stances = run_stance_detection(labels, data['text'][i])  \n",
    "    \n",
    "    data['Forced_stances'][i] = forced_stances\n",
    "    \n",
    "    # print(\"data['Forced_targets_1'][i]\")\n",
    "    # print(data['Forced_targets_1'][i])\n",
    "\n",
    "    data.to_csv(\"results/Zurich_NLP/education.csv\", index=False)\n",
    "    \n",
    "    print(\"Extracting vectors\")\n",
    "    \n",
    "    vec = extract_vectors(str(forced_stances))\n",
    "    \n",
    "    data['Vectors'][i] = str(vec)\n",
    "    \n",
    "    data.to_csv(\"results/Zurich_NLP/education.csv\", index=False)\n",
    "    "
   ]
  },
  {
   "cell_type": "code",
   "execution_count": 5,
   "metadata": {},
   "outputs": [],
   "source": [
    "data = pd.read_csv(\"results/perspectrum_test_filtered_40.csv\")"
   ]
  },
  {
   "cell_type": "code",
   "execution_count": 6,
   "metadata": {},
   "outputs": [
    {
     "data": {
      "text/html": [
       "<div>\n",
       "<style scoped>\n",
       "    .dataframe tbody tr th:only-of-type {\n",
       "        vertical-align: middle;\n",
       "    }\n",
       "\n",
       "    .dataframe tbody tr th {\n",
       "        vertical-align: top;\n",
       "    }\n",
       "\n",
       "    .dataframe thead th {\n",
       "        text-align: right;\n",
       "    }\n",
       "</style>\n",
       "<table border=\"1\" class=\"dataframe\">\n",
       "  <thead>\n",
       "    <tr style=\"text-align: right;\">\n",
       "      <th></th>\n",
       "      <th>stance</th>\n",
       "      <th>1</th>\n",
       "      <th>2</th>\n",
       "      <th>target</th>\n",
       "      <th>text</th>\n",
       "      <th>Forced_stances</th>\n",
       "      <th>Vectors</th>\n",
       "    </tr>\n",
       "  </thead>\n",
       "  <tbody>\n",
       "    <tr>\n",
       "      <th>0</th>\n",
       "      <td>1</td>\n",
       "      <td>0</td>\n",
       "      <td>0</td>\n",
       "      <td>All patents should be removed on anti-retrovir...</td>\n",
       "      <td>Patents on ARVs prevent drug companies from co...</td>\n",
       "      <td>{'Obese people, in countries with a national h...</td>\n",
       "      <td>[0, 0, 0, 0, 0, 0, 0, 0, 0, 0, 0, 0, 0, 0, 0, ...</td>\n",
       "    </tr>\n",
       "    <tr>\n",
       "      <th>1</th>\n",
       "      <td>0</td>\n",
       "      <td>0</td>\n",
       "      <td>0</td>\n",
       "      <td>Mind Sports Such as Chess, Quizzing and Debati...</td>\n",
       "      <td>Chess lacks the necessary physical activity</td>\n",
       "      <td>{'Obese people, in countries with a national h...</td>\n",
       "      <td>[0, 0, 0, 0, 0, 0, 0, 0, 0, 0, 0, 0, 0, 0, 0, ...</td>\n",
       "    </tr>\n",
       "    <tr>\n",
       "      <th>2</th>\n",
       "      <td>0</td>\n",
       "      <td>0</td>\n",
       "      <td>0</td>\n",
       "      <td>Mind Sports Such as Chess, Quizzing and Debati...</td>\n",
       "      <td>Olympic sports are suppose to be physical</td>\n",
       "      <td>{'Obese people, in countries with a national h...</td>\n",
       "      <td>[0, 0, 0, 0, 0, 0, 0, 0, 0, 0, 0, 0, 0, 0, 0, ...</td>\n",
       "    </tr>\n",
       "    <tr>\n",
       "      <th>3</th>\n",
       "      <td>1</td>\n",
       "      <td>0</td>\n",
       "      <td>0</td>\n",
       "      <td>Mind Sports Such as Chess, Quizzing and Debati...</td>\n",
       "      <td>Mind sports are some of the world's oldest and...</td>\n",
       "      <td>{'Obese people, in countries with a national h...</td>\n",
       "      <td>[0, 0, 0, 0, 0, 0, 0, 0, 0, 0, 0, 0, 0, 0, 0, ...</td>\n",
       "    </tr>\n",
       "    <tr>\n",
       "      <th>4</th>\n",
       "      <td>1</td>\n",
       "      <td>0</td>\n",
       "      <td>0</td>\n",
       "      <td>Mind Sports Such as Chess, Quizzing and Debati...</td>\n",
       "      <td>Mind sports have been around for centuries and...</td>\n",
       "      <td>{'Obese people, in countries with a national h...</td>\n",
       "      <td>NaN</td>\n",
       "    </tr>\n",
       "    <tr>\n",
       "      <th>...</th>\n",
       "      <td>...</td>\n",
       "      <td>...</td>\n",
       "      <td>...</td>\n",
       "      <td>...</td>\n",
       "      <td>...</td>\n",
       "      <td>...</td>\n",
       "      <td>...</td>\n",
       "    </tr>\n",
       "    <tr>\n",
       "      <th>481</th>\n",
       "      <td>0</td>\n",
       "      <td>0</td>\n",
       "      <td>0</td>\n",
       "      <td>The D.A.R.E. program is good for America's kid...</td>\n",
       "      <td>There is no evidence that D.A.R.E. graduates a...</td>\n",
       "      <td>{'Obese people, in countries with a national h...</td>\n",
       "      <td>[0, 0, 0, 0, 0, 0, 0, -1, 0, 0, 0, 0, 0, 0, 0,...</td>\n",
       "    </tr>\n",
       "    <tr>\n",
       "      <th>482</th>\n",
       "      <td>0</td>\n",
       "      <td>0</td>\n",
       "      <td>0</td>\n",
       "      <td>The D.A.R.E. program is good for America's kid...</td>\n",
       "      <td>In the long run, D.A.R.E. graduates are no bet...</td>\n",
       "      <td>{'Obese people, in countries with a national h...</td>\n",
       "      <td>[0, 0, 0, 0, 0, 0, 0, -1, 0, 0, 0, 0, 0, 0, 0,...</td>\n",
       "    </tr>\n",
       "    <tr>\n",
       "      <th>483</th>\n",
       "      <td>1</td>\n",
       "      <td>0</td>\n",
       "      <td>0</td>\n",
       "      <td>The D.A.R.E. program is good for America's kid...</td>\n",
       "      <td>D.A.R.E. has great goals that should be pursue...</td>\n",
       "      <td>{'Obese people, in countries with a national h...</td>\n",
       "      <td>[0, 0, 0, 0, 0, 0, 0, 1, 0, 0, 0, 0, 0, 0, 0, ...</td>\n",
       "    </tr>\n",
       "    <tr>\n",
       "      <th>484</th>\n",
       "      <td>1</td>\n",
       "      <td>0</td>\n",
       "      <td>0</td>\n",
       "      <td>The D.A.R.E. program is good for America's kid...</td>\n",
       "      <td>D.A.R.E. has attainable goals that outweigh th...</td>\n",
       "      <td>{'Obese people, in countries with a national h...</td>\n",
       "      <td>[0, 0, 0, 0, 0, 0, 0, 1, 0, 0, 0, 0, 0, 0, 0, ...</td>\n",
       "    </tr>\n",
       "    <tr>\n",
       "      <th>485</th>\n",
       "      <td>1</td>\n",
       "      <td>0</td>\n",
       "      <td>0</td>\n",
       "      <td>The D.A.R.E. program is good for America's kid...</td>\n",
       "      <td>D.A.R.E. has  an excellent plan that should be...</td>\n",
       "      <td>{'Obese people, in countries with a national h...</td>\n",
       "      <td>[0, 0, 0, 0, 0, 0, 0, 1, 0, 0, 0, 0, 0, 0, 0, ...</td>\n",
       "    </tr>\n",
       "  </tbody>\n",
       "</table>\n",
       "<p>486 rows × 7 columns</p>\n",
       "</div>"
      ],
      "text/plain": [
       "     stance  1  2                                             target  \\\n",
       "0         1  0  0  All patents should be removed on anti-retrovir...   \n",
       "1         0  0  0  Mind Sports Such as Chess, Quizzing and Debati...   \n",
       "2         0  0  0  Mind Sports Such as Chess, Quizzing and Debati...   \n",
       "3         1  0  0  Mind Sports Such as Chess, Quizzing and Debati...   \n",
       "4         1  0  0  Mind Sports Such as Chess, Quizzing and Debati...   \n",
       "..      ... .. ..                                                ...   \n",
       "481       0  0  0  The D.A.R.E. program is good for America's kid...   \n",
       "482       0  0  0  The D.A.R.E. program is good for America's kid...   \n",
       "483       1  0  0  The D.A.R.E. program is good for America's kid...   \n",
       "484       1  0  0  The D.A.R.E. program is good for America's kid...   \n",
       "485       1  0  0  The D.A.R.E. program is good for America's kid...   \n",
       "\n",
       "                                                  text  \\\n",
       "0    Patents on ARVs prevent drug companies from co...   \n",
       "1          Chess lacks the necessary physical activity   \n",
       "2            Olympic sports are suppose to be physical   \n",
       "3    Mind sports are some of the world's oldest and...   \n",
       "4    Mind sports have been around for centuries and...   \n",
       "..                                                 ...   \n",
       "481  There is no evidence that D.A.R.E. graduates a...   \n",
       "482  In the long run, D.A.R.E. graduates are no bet...   \n",
       "483  D.A.R.E. has great goals that should be pursue...   \n",
       "484  D.A.R.E. has attainable goals that outweigh th...   \n",
       "485  D.A.R.E. has  an excellent plan that should be...   \n",
       "\n",
       "                                        Forced_stances  \\\n",
       "0    {'Obese people, in countries with a national h...   \n",
       "1    {'Obese people, in countries with a national h...   \n",
       "2    {'Obese people, in countries with a national h...   \n",
       "3    {'Obese people, in countries with a national h...   \n",
       "4    {'Obese people, in countries with a national h...   \n",
       "..                                                 ...   \n",
       "481  {'Obese people, in countries with a national h...   \n",
       "482  {'Obese people, in countries with a national h...   \n",
       "483  {'Obese people, in countries with a national h...   \n",
       "484  {'Obese people, in countries with a national h...   \n",
       "485  {'Obese people, in countries with a national h...   \n",
       "\n",
       "                                               Vectors  \n",
       "0    [0, 0, 0, 0, 0, 0, 0, 0, 0, 0, 0, 0, 0, 0, 0, ...  \n",
       "1    [0, 0, 0, 0, 0, 0, 0, 0, 0, 0, 0, 0, 0, 0, 0, ...  \n",
       "2    [0, 0, 0, 0, 0, 0, 0, 0, 0, 0, 0, 0, 0, 0, 0, ...  \n",
       "3    [0, 0, 0, 0, 0, 0, 0, 0, 0, 0, 0, 0, 0, 0, 0, ...  \n",
       "4                                                  NaN  \n",
       "..                                                 ...  \n",
       "481  [0, 0, 0, 0, 0, 0, 0, -1, 0, 0, 0, 0, 0, 0, 0,...  \n",
       "482  [0, 0, 0, 0, 0, 0, 0, -1, 0, 0, 0, 0, 0, 0, 0,...  \n",
       "483  [0, 0, 0, 0, 0, 0, 0, 1, 0, 0, 0, 0, 0, 0, 0, ...  \n",
       "484  [0, 0, 0, 0, 0, 0, 0, 1, 0, 0, 0, 0, 0, 0, 0, ...  \n",
       "485  [0, 0, 0, 0, 0, 0, 0, 1, 0, 0, 0, 0, 0, 0, 0, ...  \n",
       "\n",
       "[486 rows x 7 columns]"
      ]
     },
     "execution_count": 6,
     "metadata": {},
     "output_type": "execute_result"
    }
   ],
   "source": [
    "data"
   ]
  },
  {
   "cell_type": "code",
   "execution_count": 7,
   "metadata": {},
   "outputs": [],
   "source": [
    "vectors = []\n",
    "for el in data['Vectors']:\n",
    "    try: \n",
    "        el = np.array(eval(el))\n",
    "        if len(el) != 40:\n",
    "            el = np.zeros(40)\n",
    "    except:\n",
    "        el = np.zeros(40)\n",
    "    vectors.append(el)"
   ]
  },
  {
   "cell_type": "code",
   "execution_count": 8,
   "metadata": {},
   "outputs": [
    {
     "data": {
      "text/plain": [
       "(486, 40)"
      ]
     },
     "execution_count": 8,
     "metadata": {},
     "output_type": "execute_result"
    }
   ],
   "source": [
    "matrix = np.array(vectors)\n",
    "matrix.shape"
   ]
  },
  {
   "cell_type": "code",
   "execution_count": 9,
   "metadata": {},
   "outputs": [
    {
     "data": {
      "text/plain": [
       "Index(['stance', '1', '2', 'target', 'text', 'Forced_stances', 'Vectors'], dtype='object')"
      ]
     },
     "execution_count": 9,
     "metadata": {},
     "output_type": "execute_result"
    }
   ],
   "source": [
    "data.columns"
   ]
  },
  {
   "cell_type": "code",
   "execution_count": 10,
   "metadata": {},
   "outputs": [
    {
     "data": {
      "text/plain": [
       "numpy.ndarray"
      ]
     },
     "execution_count": 10,
     "metadata": {},
     "output_type": "execute_result"
    }
   ],
   "source": [
    "type(matrix[0])"
   ]
  },
  {
   "cell_type": "code",
   "execution_count": 27,
   "metadata": {},
   "outputs": [
    {
     "name": "stderr",
     "output_type": "stream",
     "text": [
      "C:\\Users\\Nursulu_1\\AppData\\Local\\Temp\\ipykernel_62260\\410178745.py:1: FutureWarning: elementwise comparison failed; returning scalar instead, but in the future will perform elementwise comparison\n",
      "  np.where(matrix[:, 0] == \"1\")\n"
     ]
    },
    {
     "data": {
      "text/plain": [
       "(array([], dtype=int64),)"
      ]
     },
     "execution_count": 27,
     "metadata": {},
     "output_type": "execute_result"
    }
   ],
   "source": [
    "np.where(matrix[:, 0] == \"1\")"
   ]
  },
  {
   "cell_type": "code",
   "execution_count": 11,
   "metadata": {},
   "outputs": [
    {
     "name": "stderr",
     "output_type": "stream",
     "text": [
      "100%|██████████| 40/40 [00:00<00:00, 1279.95it/s]"
     ]
    },
    {
     "name": "stdout",
     "output_type": "stream",
     "text": [
      "topic 0 : Obese people, in countries with a national health service, should face higher taxes\n",
      "topic 1 : High taxes are necessary for an effective state\n",
      "topic 2 : Allow pharmaceutical companies to advertise directly to consumers\n",
      "topic 3 : There should be a presumption in favour of publication for information held by public bodies\n",
      "topic 4 : Gender quotas in the EU are advantageous for the economies of member states\n",
      "topic 5 : Provide breakfast for all school students\n",
      "topic 6 : Parents should be able to choose the sex of their children\n",
      "topic 7 : The D.A.R.E. program is good for America's kids (K-12) \n",
      "topic 8 : I believe in manned space flight\n",
      "topic 9 : Man made climate change is a myth\n",
      "topic 10 : Only buildings that are historically important should be preserved\n",
      "topic 11 : Should the Cell Phones Be Allowed in Schools\n",
      "topic 12 : We must limit anonymous contributions from corporations and individuals to super PACs\n",
      "topic 13 : Make-up is bad for us\n",
      "topic 14 : Make sex education mandatory in schools\n",
      "topic 15 : Examinations are a fair way of testing our knowledge\n",
      "topic 16 : Obesity is a disease\n",
      "topic 17 : Cease the exploitation of the Arctic Region\n",
      "topic 18 : Mind Sports Such as Chess, Quizzing and Debating Should Be Olympic Sports\n",
      "topic 19 : Abolish standardized tests for University Admission\n",
      "topic 20 : The drinking age should be lowered from 21 to a younger age\n",
      "topic 21 : The grammar school system should be reintroduced in the UK\n",
      "topic 22 : Rain Man is such a bad image of autism\n",
      "topic 23 : Cell phone radiation is safe\n",
      "topic 24 : Traditional university has to be replaced by online learning\n",
      "topic 25 : Store nuclear waste underground\n",
      "topic 26 : All patents should be removed on anti-retroviral drugs to fight AIDS\n",
      "topic 27 : Experience is the key success for entrepreneurship.\n",
      "topic 28 : Teachers must be banned from interacting with students via social networking websites.\n",
      "topic 29 : There must be a system of universal healthcare\n",
      "topic 30 : Julian Assange is a journalist\n",
      "topic 31 : Online Shopping Is Better Than Offline Shopping\n",
      "topic 32 : News organisations should be free to exclude news of homosexuality where it causes offence to their viewers\n",
      "topic 33 : Hate crime 'enhancements' are unjust\n",
      "topic 34 : Make lessons in a foreign language compulsory for school pupils\n",
      "topic 35 : Airbrushing of women’s bodies in the media be banned\n",
      "topic 36 : The Private Education System Should Be Abolished\n",
      "topic 37 : The Reproductive Health Bill will undermine families and values\n",
      "topic 38 : Parents should be held responsible for their school-going children's discipline problems\n",
      "topic 39 : Co2 Does Not Cause Global Warming\n"
     ]
    },
    {
     "name": "stderr",
     "output_type": "stream",
     "text": [
      "\n"
     ]
    }
   ],
   "source": [
    "contradictions_by_topic = {}\n",
    "for i in tqdm(range(40)):\n",
    "    print('topic', i, \":\", labels[i])\n",
    "    # Extract the target column\n",
    "    target_column = matrix[:, i]\n",
    "    # Find the indices of rows where the value is some value in the target column\n",
    "    support_ind = np.where(target_column == 1)[0]\n",
    "    against_ind = np.where(target_column == -1)[0]\n",
    "    # print(support_ind)\n",
    "    # print(against_ind)\n",
    "    \n",
    "    support = [data['text'][el] for el in support_ind]\n",
    "    against = [data['text'][el] for el in against_ind]\n",
    "    topic_support = data[data['text'].isin(support)]['target'].tolist()\n",
    "    topic_against = data[data['text'].isin(against)]['target'].tolist()\n",
    "    \n",
    "    \n",
    "    # Padding in case of different length\n",
    "    max_length = max(len(support), len(against))\n",
    "    support.extend([np.nan] * (max_length - len(support)))\n",
    "    against.extend([np.nan] * (max_length - len(against)))\n",
    "    topic_support.extend([np.nan] * (max_length - len(topic_support)))\n",
    "    topic_against.extend([np.nan] * (max_length - len(topic_against)))\n",
    "    \n",
    "    # print(len(support))\n",
    "    # print(len(topic_support))\n",
    "    # print(len(against))\n",
    "    # print(len(topic_against))\n",
    "\n",
    "    \n",
    "    new_df = pd.DataFrame({'support': support, \"topic_support\" : topic_support, \n",
    "                           'against': against, \"topic_against\": topic_against})\n",
    "\n",
    "    contradictions_by_topic[labels[i]] = new_df\n",
    "    \n",
    "    # File path where the list of DataFrames will be saved\n",
    "    file_path = 'results/contradictions_by_topic_perspectrum_OESD_40.pkl'\n",
    "\n",
    "    # Save the list of DataFrames to a file\n",
    "    with open(file_path, 'wb') as file:\n",
    "        pickle.dump(contradictions_by_topic, file)"
   ]
  },
  {
   "cell_type": "code",
   "execution_count": 12,
   "metadata": {},
   "outputs": [],
   "source": [
    "for topic in contradictions_by_topic:\n",
    "    contradictions_by_topic[topic].to_csv(f\"results/OESD_perspectrum_40/{topic}.csv\")"
   ]
  },
  {
   "cell_type": "code",
   "execution_count": 13,
   "metadata": {},
   "outputs": [
    {
     "data": {
      "text/html": [
       "<div>\n",
       "<style scoped>\n",
       "    .dataframe tbody tr th:only-of-type {\n",
       "        vertical-align: middle;\n",
       "    }\n",
       "\n",
       "    .dataframe tbody tr th {\n",
       "        vertical-align: top;\n",
       "    }\n",
       "\n",
       "    .dataframe thead th {\n",
       "        text-align: right;\n",
       "    }\n",
       "</style>\n",
       "<table border=\"1\" class=\"dataframe\">\n",
       "  <thead>\n",
       "    <tr style=\"text-align: right;\">\n",
       "      <th></th>\n",
       "      <th>support</th>\n",
       "      <th>topic_support</th>\n",
       "      <th>against</th>\n",
       "      <th>topic_against</th>\n",
       "    </tr>\n",
       "  </thead>\n",
       "  <tbody>\n",
       "    <tr>\n",
       "      <th>0</th>\n",
       "      <td>A ban may make the problem worse</td>\n",
       "      <td>Airbrushing of women’s bodies in the media be ...</td>\n",
       "      <td>Restrictions will not help, instead will will ...</td>\n",
       "      <td>Airbrushing of women’s bodies in the media be ...</td>\n",
       "    </tr>\n",
       "    <tr>\n",
       "      <th>1</th>\n",
       "      <td>Prohibiting it will make the situation even mo...</td>\n",
       "      <td>Airbrushing of women’s bodies in the media be ...</td>\n",
       "      <td>Many scientists think it does</td>\n",
       "      <td>Co2 Does Not Cause Global Warming</td>\n",
       "    </tr>\n",
       "    <tr>\n",
       "      <th>2</th>\n",
       "      <td>There is no scientifically valid mechanism for...</td>\n",
       "      <td>Co2 Does Not Cause Global Warming</td>\n",
       "      <td>There are other things that cause the global w...</td>\n",
       "      <td>Co2 Does Not Cause Global Warming</td>\n",
       "    </tr>\n",
       "    <tr>\n",
       "      <th>3</th>\n",
       "      <td>Several scientists this it is the cause.</td>\n",
       "      <td>Co2 Does Not Cause Global Warming</td>\n",
       "      <td>Because people are losing lives and our climat...</td>\n",
       "      <td>Co2 Does Not Cause Global Warming</td>\n",
       "    </tr>\n",
       "    <tr>\n",
       "      <th>4</th>\n",
       "      <td>7 Global warming is based on computer modellin...</td>\n",
       "      <td>Co2 Does Not Cause Global Warming</td>\n",
       "      <td>People are losing their lives because of clima...</td>\n",
       "      <td>Co2 Does Not Cause Global Warming</td>\n",
       "    </tr>\n",
       "    <tr>\n",
       "      <th>5</th>\n",
       "      <td>There is no evidence that 7 Global warming is ...</td>\n",
       "      <td>Co2 Does Not Cause Global Warming</td>\n",
       "      <td>The climate is changing and people are dying.</td>\n",
       "      <td>Co2 Does Not Cause Global Warming</td>\n",
       "    </tr>\n",
       "    <tr>\n",
       "      <th>6</th>\n",
       "      <td>Computer modelling showing 7 Global warming ma...</td>\n",
       "      <td>Co2 Does Not Cause Global Warming</td>\n",
       "      <td>There are too many flaws</td>\n",
       "      <td>Examinations are a fair way of testing our kno...</td>\n",
       "    </tr>\n",
       "    <tr>\n",
       "      <th>7</th>\n",
       "      <td>The 'Global warming' phenomenon could be cause...</td>\n",
       "      <td>Co2 Does Not Cause Global Warming</td>\n",
       "      <td>NaN</td>\n",
       "      <td>NaN</td>\n",
       "    </tr>\n",
       "    <tr>\n",
       "      <th>8</th>\n",
       "      <td>This situation we are in with global warming m...</td>\n",
       "      <td>Co2 Does Not Cause Global Warming</td>\n",
       "      <td>NaN</td>\n",
       "      <td>NaN</td>\n",
       "    </tr>\n",
       "    <tr>\n",
       "      <th>9</th>\n",
       "      <td>Co2 does not hold in heat!</td>\n",
       "      <td>Co2 Does Not Cause Global Warming</td>\n",
       "      <td>NaN</td>\n",
       "      <td>NaN</td>\n",
       "    </tr>\n",
       "    <tr>\n",
       "      <th>10</th>\n",
       "      <td>Our children and their children deserve the Ar...</td>\n",
       "      <td>Cease the exploitation of the Arctic Region</td>\n",
       "      <td>NaN</td>\n",
       "      <td>NaN</td>\n",
       "    </tr>\n",
       "  </tbody>\n",
       "</table>\n",
       "</div>"
      ],
      "text/plain": [
       "                                              support  \\\n",
       "0                    A ban may make the problem worse   \n",
       "1   Prohibiting it will make the situation even mo...   \n",
       "2   There is no scientifically valid mechanism for...   \n",
       "3            Several scientists this it is the cause.   \n",
       "4   7 Global warming is based on computer modellin...   \n",
       "5   There is no evidence that 7 Global warming is ...   \n",
       "6   Computer modelling showing 7 Global warming ma...   \n",
       "7   The 'Global warming' phenomenon could be cause...   \n",
       "8   This situation we are in with global warming m...   \n",
       "9                          Co2 does not hold in heat!   \n",
       "10  Our children and their children deserve the Ar...   \n",
       "\n",
       "                                        topic_support  \\\n",
       "0   Airbrushing of women’s bodies in the media be ...   \n",
       "1   Airbrushing of women’s bodies in the media be ...   \n",
       "2                   Co2 Does Not Cause Global Warming   \n",
       "3                   Co2 Does Not Cause Global Warming   \n",
       "4                   Co2 Does Not Cause Global Warming   \n",
       "5                   Co2 Does Not Cause Global Warming   \n",
       "6                   Co2 Does Not Cause Global Warming   \n",
       "7                   Co2 Does Not Cause Global Warming   \n",
       "8                   Co2 Does Not Cause Global Warming   \n",
       "9                   Co2 Does Not Cause Global Warming   \n",
       "10        Cease the exploitation of the Arctic Region   \n",
       "\n",
       "                                              against  \\\n",
       "0   Restrictions will not help, instead will will ...   \n",
       "1                       Many scientists think it does   \n",
       "2   There are other things that cause the global w...   \n",
       "3   Because people are losing lives and our climat...   \n",
       "4   People are losing their lives because of clima...   \n",
       "5       The climate is changing and people are dying.   \n",
       "6                            There are too many flaws   \n",
       "7                                                 NaN   \n",
       "8                                                 NaN   \n",
       "9                                                 NaN   \n",
       "10                                                NaN   \n",
       "\n",
       "                                        topic_against  \n",
       "0   Airbrushing of women’s bodies in the media be ...  \n",
       "1                   Co2 Does Not Cause Global Warming  \n",
       "2                   Co2 Does Not Cause Global Warming  \n",
       "3                   Co2 Does Not Cause Global Warming  \n",
       "4                   Co2 Does Not Cause Global Warming  \n",
       "5                   Co2 Does Not Cause Global Warming  \n",
       "6   Examinations are a fair way of testing our kno...  \n",
       "7                                                 NaN  \n",
       "8                                                 NaN  \n",
       "9                                                 NaN  \n",
       "10                                                NaN  "
      ]
     },
     "execution_count": 13,
     "metadata": {},
     "output_type": "execute_result"
    }
   ],
   "source": [
    "contradictions_by_topic[\"Co2 Does Not Cause Global Warming\"]"
   ]
  },
  {
   "cell_type": "markdown",
   "metadata": {},
   "source": [
    "### Double-checking by ChatGPT"
   ]
  },
  {
   "cell_type": "code",
   "execution_count": 5,
   "metadata": {},
   "outputs": [],
   "source": [
    "filtered_topics = ['Abolish standardized tests for University Admission',\n",
    "                   \"Cell phone radiation is safe\",\n",
    "                   \"Examinations are a fair way of testing our knowledge\",\n",
    "                   \"High taxes are necessary for an effective state\",\n",
    "                   \"Julian Assange is a journalist\",\n",
    "                   \"Make sex education mandatory in schools\"\n",
    "                   ]"
   ]
  },
  {
   "cell_type": "code",
   "execution_count": 17,
   "metadata": {},
   "outputs": [],
   "source": [
    "dfs = []\n",
    "for topic in new_filtered:\n",
    "    df = pd.read_csv(f\"results/OESD_perspectrum_40/{topic}.csv\")\n",
    "    dfs.append(df)"
   ]
  },
  {
   "cell_type": "code",
   "execution_count": 7,
   "metadata": {},
   "outputs": [],
   "source": [
    "inconsistency_detector_id = \"asst_9TNkN3fPV4dybff9wzGhB1gA\""
   ]
  },
  {
   "cell_type": "code",
   "execution_count": 14,
   "metadata": {},
   "outputs": [],
   "source": [
    "def run_inconsistency_detection(text1, text2):\n",
    "    if str(text1) not in [\"NaN\", \"nan\"] and str(text2) not in [\"NaN\", \"nan\"]:\n",
    "        statement = \"Text 1: \" + text1 + \"\\nText 2: \" + text2\n",
    "        try:\n",
    "            # Create a thread with a message.\n",
    "            thread = client.beta.threads.create(\n",
    "                messages=[\n",
    "                    {\n",
    "                        \"role\": \"user\",\n",
    "                        # Update this with the query you want to use.\n",
    "                        \"content\": statement,\n",
    "                    }\n",
    "                ]\n",
    "            )\n",
    "        # Submit the thread to the assistant (as a new run).\n",
    "            run = client.beta.threads.runs.create(thread_id=thread.id, assistant_id=inconsistency_detector_id)\n",
    "\n",
    "            # Wait for run to complete.\n",
    "            while run.status != \"completed\":\n",
    "                run = client.beta.threads.runs.retrieve(thread_id=thread.id, run_id=run.id)\n",
    "                time.sleep(1)\n",
    "            # else:\n",
    "            #     print(f\"🏁 Run Completed!\")\n",
    "\n",
    "            # Get the latest message from the thread.\n",
    "            message_response = client.beta.threads.messages.list(thread_id=thread.id)\n",
    "            messages = message_response.data\n",
    "\n",
    "            # Print the latest message.\n",
    "            latest_message = messages[0]\n",
    "            return latest_message.content[0].text.value\n",
    "        except:\n",
    "            print(f\"Run went wrong\")\n",
    "            return None\n",
    "    \n",
    "    "
   ]
  },
  {
   "cell_type": "code",
   "execution_count": 10,
   "metadata": {},
   "outputs": [
    {
     "data": {
      "text/plain": [
       "'Less incentive to study at university'"
      ]
     },
     "execution_count": 10,
     "metadata": {},
     "output_type": "execute_result"
    }
   ],
   "source": [
    "dfs[0]['support'][0]"
   ]
  },
  {
   "cell_type": "code",
   "execution_count": 16,
   "metadata": {},
   "outputs": [],
   "source": [
    "new_filtered = [\"Traditional university has to be replaced by online learning\",\n",
    "                \"There should be a presumption in favour of publication for information held by public bodies\",\n",
    "                \"There must be a system of universal healthcare\",\n",
    "                \"The Private Education System Should Be Abolished\",\n",
    "                \"Provide breakfast for all school students\"\n",
    "                ]"
   ]
  },
  {
   "cell_type": "code",
   "execution_count": 18,
   "metadata": {},
   "outputs": [
    {
     "name": "stderr",
     "output_type": "stream",
     "text": [
      "  0%|          | 0/5 [00:00<?, ?it/s]"
     ]
    },
    {
     "name": "stdout",
     "output_type": "stream",
     "text": [
      "Traditional university has to be replaced by online learning\n"
     ]
    },
    {
     "name": "stderr",
     "output_type": "stream",
     "text": [
      "C:\\Users\\Nursulu_1\\AppData\\Local\\Temp\\ipykernel_419244\\1974346899.py:12: SettingWithCopyWarning: \n",
      "A value is trying to be set on a copy of a slice from a DataFrame\n",
      "\n",
      "See the caveats in the documentation: https://pandas.pydata.org/pandas-docs/stable/user_guide/indexing.html#returning-a-view-versus-a-copy\n",
      "  data['Chat_gpt'][j] = res\n",
      "C:\\Users\\Nursulu_1\\AppData\\Local\\Temp\\ipykernel_419244\\1974346899.py:12: FutureWarning: Setting an item of incompatible dtype is deprecated and will raise in a future error of pandas. Value 'Reasoning: Text 1 promotes the accessibility of academic research through social media which broadens the educational resources available to the public. Text 2 points out a potential concern regarding revenue for universities, suggesting that making too much content free can impact their ability to secure private funding. There doesn't necessarily appear to be a direct inconsistency between these two texts as one discusses the benefits of broader access through social media (without explicitly stating all content must be free) and the other expresses a concern about financial impacts of all-encompassing free access. They address related but not directly conflicting points.\n",
      "\n",
      "Answer: No.' has dtype incompatible with int64, please explicitly cast to a compatible dtype first.\n",
      "  data['Chat_gpt'][j] = res\n",
      "100%|██████████| 10/10 [06:17<00:00, 37.77s/it]\n",
      " 20%|██        | 1/5 [06:17<25:10, 377.70s/it]"
     ]
    },
    {
     "name": "stdout",
     "output_type": "stream",
     "text": [
      "There should be a presumption in favour of publication for information held by public bodies\n"
     ]
    },
    {
     "name": "stderr",
     "output_type": "stream",
     "text": [
      "C:\\Users\\Nursulu_1\\AppData\\Local\\Temp\\ipykernel_419244\\1974346899.py:12: SettingWithCopyWarning: \n",
      "A value is trying to be set on a copy of a slice from a DataFrame\n",
      "\n",
      "See the caveats in the documentation: https://pandas.pydata.org/pandas-docs/stable/user_guide/indexing.html#returning-a-view-versus-a-copy\n",
      "  data['Chat_gpt'][j] = res\n",
      "C:\\Users\\Nursulu_1\\AppData\\Local\\Temp\\ipykernel_419244\\1974346899.py:12: FutureWarning: Setting an item of incompatible dtype is deprecated and will raise in a future error of pandas. Value 'Reasoning: Text 1 emphasizes the importance of making information accessible to all individuals, including non-citizens and minors, to ensure they are informed about matters that affect them. Text 2, however, speaks about restricting the publication of specific content, such as \"torturous scenes.\" These texts address different aspects of information dissemination—Text 1 about broad access and Text 2 about content restriction. There is no specific inconsistency as they deal with different aspects of information management: one with access rights and the other with content sensitivity.\n",
      "\n",
      "Answer: Unrelated.' has dtype incompatible with int64, please explicitly cast to a compatible dtype first.\n",
      "  data['Chat_gpt'][j] = res\n",
      "100%|██████████| 9/9 [02:39<00:00, 17.75s/it]\n",
      " 40%|████      | 2/5 [08:57<12:28, 249.49s/it]"
     ]
    },
    {
     "name": "stdout",
     "output_type": "stream",
     "text": [
      "There must be a system of universal healthcare\n"
     ]
    },
    {
     "name": "stderr",
     "output_type": "stream",
     "text": [
      "C:\\Users\\Nursulu_1\\AppData\\Local\\Temp\\ipykernel_419244\\1974346899.py:12: SettingWithCopyWarning: \n",
      "A value is trying to be set on a copy of a slice from a DataFrame\n",
      "\n",
      "See the caveats in the documentation: https://pandas.pydata.org/pandas-docs/stable/user_guide/indexing.html#returning-a-view-versus-a-copy\n",
      "  data['Chat_gpt'][j] = res\n",
      "C:\\Users\\Nursulu_1\\AppData\\Local\\Temp\\ipykernel_419244\\1974346899.py:12: FutureWarning: Setting an item of incompatible dtype is deprecated and will raise in a future error of pandas. Value 'Reasoning: Redistributing wealth to balance income disparity, as stated in Text 1, usually involves using increased tax revenues or similar means to fund policies that aim to reduce economic inequality. Universal healthcare, which is mentioned in Text 2 as being unaffordable, is a type of policy that could potentially be funded through redistribution of wealth. If Text 1 advocates for redistribution to tackle inequality, it could logically imply support for funding policies like universal healthcare. Thus, saying universal healthcare is unaffordable may be inconsistent with a commitment to redistribution of wealth to balance income disparities.\n",
      "\n",
      "Answer: Yes.' has dtype incompatible with int64, please explicitly cast to a compatible dtype first.\n",
      "  data['Chat_gpt'][j] = res\n",
      "100%|██████████| 7/7 [05:30<00:00, 47.26s/it]\n",
      " 60%|██████    | 3/5 [14:28<09:33, 286.61s/it]"
     ]
    },
    {
     "name": "stdout",
     "output_type": "stream",
     "text": [
      "The Private Education System Should Be Abolished\n"
     ]
    },
    {
     "name": "stderr",
     "output_type": "stream",
     "text": [
      "C:\\Users\\Nursulu_1\\AppData\\Local\\Temp\\ipykernel_419244\\1974346899.py:12: SettingWithCopyWarning: \n",
      "A value is trying to be set on a copy of a slice from a DataFrame\n",
      "\n",
      "See the caveats in the documentation: https://pandas.pydata.org/pandas-docs/stable/user_guide/indexing.html#returning-a-view-versus-a-copy\n",
      "  data['Chat_gpt'][j] = res\n",
      "C:\\Users\\Nursulu_1\\AppData\\Local\\Temp\\ipykernel_419244\\1974346899.py:12: FutureWarning: Setting an item of incompatible dtype is deprecated and will raise in a future error of pandas. Value 'Unrelated.' has dtype incompatible with int64, please explicitly cast to a compatible dtype first.\n",
      "  data['Chat_gpt'][j] = res\n",
      "100%|██████████| 17/17 [07:15<00:00, 25.65s/it]\n",
      " 80%|████████  | 4/5 [21:44<05:45, 345.59s/it]"
     ]
    },
    {
     "name": "stdout",
     "output_type": "stream",
     "text": [
      "Provide breakfast for all school students\n"
     ]
    },
    {
     "name": "stderr",
     "output_type": "stream",
     "text": [
      "C:\\Users\\Nursulu_1\\AppData\\Local\\Temp\\ipykernel_419244\\1974346899.py:12: SettingWithCopyWarning: \n",
      "A value is trying to be set on a copy of a slice from a DataFrame\n",
      "\n",
      "See the caveats in the documentation: https://pandas.pydata.org/pandas-docs/stable/user_guide/indexing.html#returning-a-view-versus-a-copy\n",
      "  data['Chat_gpt'][j] = res\n",
      "C:\\Users\\Nursulu_1\\AppData\\Local\\Temp\\ipykernel_419244\\1974346899.py:12: FutureWarning: Setting an item of incompatible dtype is deprecated and will raise in a future error of pandas. Value 'Answer: No\n",
      "\n",
      "Reasoning: Both texts emphasize ensuring well-being through adequate resources; Text 1 speaks about resources for a healthy life broadly, and Text 2 specifies one aspect of this principle by focusing on parents ensuring their children have a nutritious breakfast. Neither statement contradicts the other; rather, Text 2 provides a specific action that supports the broader principle outlined in Text 1.' has dtype incompatible with int64, please explicitly cast to a compatible dtype first.\n",
      "  data['Chat_gpt'][j] = res\n",
      "100%|██████████| 12/12 [04:58<00:00, 24.88s/it]\n",
      "100%|██████████| 5/5 [26:42<00:00, 320.57s/it]\n"
     ]
    }
   ],
   "source": [
    "for i in tqdm(range(len(dfs))):\n",
    "    print(new_filtered[i])\n",
    "    data = dfs[i]\n",
    "    data['Chat_gpt'] = 0\n",
    "    for j in tqdm(range(len(data['support']))):\n",
    "        # print(data['Texts'][i])\n",
    "        text1 = data['support'][j]\n",
    "        for k in range(len(data['against'])):\n",
    "            text2 = data['against'][k]\n",
    "            if data['topic_support'][j] != data['topic_against'][k]:\n",
    "                res = run_inconsistency_detection(text1, text2)\n",
    "                data['Chat_gpt'][j] = res\n",
    "                data.to_csv(f\"results/OESD_perspectrum_40/with_gpt_comments/{new_filtered[i]}.csv\", index=False)\n",
    "\n",
    "\n",
    "\n"
   ]
  },
  {
   "cell_type": "code",
   "execution_count": 38,
   "metadata": {},
   "outputs": [
    {
     "data": {
      "text/plain": [
       "381    Abolish standardized tests for University Admi...\n",
       "Name: target, dtype: object"
      ]
     },
     "execution_count": 38,
     "metadata": {},
     "output_type": "execute_result"
    }
   ],
   "source": [
    "data[data['text']==\"Standardized tests keep schools accountable in making sure their students are prepared for the world.\"]['target']"
   ]
  },
  {
   "cell_type": "code",
   "execution_count": 41,
   "metadata": {},
   "outputs": [
    {
     "data": {
      "text/plain": [
       "['Airbrushing of women’s bodies in the media be banned',\n",
       " 'Airbrushing of women’s bodies in the media be banned',\n",
       " 'Co2 Does Not Cause Global Warming',\n",
       " 'Co2 Does Not Cause Global Warming',\n",
       " 'Co2 Does Not Cause Global Warming',\n",
       " 'Co2 Does Not Cause Global Warming',\n",
       " 'Co2 Does Not Cause Global Warming',\n",
       " 'Co2 Does Not Cause Global Warming',\n",
       " 'Co2 Does Not Cause Global Warming',\n",
       " 'Co2 Does Not Cause Global Warming',\n",
       " 'Cease the exploitation of the Arctic Region']"
      ]
     },
     "execution_count": 41,
     "metadata": {},
     "output_type": "execute_result"
    }
   ],
   "source": [
    "# Extract the target values for the texts in support\n",
    "targets = data[data['text'].isin(support)]['target'].tolist()\n",
    "\n",
    "targets"
   ]
  },
  {
   "cell_type": "code",
   "execution_count": 40,
   "metadata": {},
   "outputs": [
    {
     "data": {
      "text/plain": [
       "['Airbrushing of women’s bodies in the media be banned',\n",
       " 'Airbrushing of women’s bodies in the media be banned',\n",
       " 'Co2 Does Not Cause Global Warming',\n",
       " 'Co2 Does Not Cause Global Warming',\n",
       " 'Co2 Does Not Cause Global Warming',\n",
       " 'Co2 Does Not Cause Global Warming',\n",
       " 'Co2 Does Not Cause Global Warming',\n",
       " 'Co2 Does Not Cause Global Warming',\n",
       " 'Co2 Does Not Cause Global Warming',\n",
       " 'Co2 Does Not Cause Global Warming',\n",
       " 'Cease the exploitation of the Arctic Region']"
      ]
     },
     "execution_count": 40,
     "metadata": {},
     "output_type": "execute_result"
    }
   ],
   "source": [
    "target_list"
   ]
  },
  {
   "cell_type": "code",
   "execution_count": 34,
   "metadata": {},
   "outputs": [],
   "source": [
    "df = pd.read_csv(\"results/OESD_perspectrum_40/Co2 Does Not Cause Global Warming.csv\")"
   ]
  },
  {
   "cell_type": "code",
   "execution_count": 32,
   "metadata": {},
   "outputs": [
    {
     "ename": "AttributeError",
     "evalue": "'str' object has no attribute 'loc'",
     "output_type": "error",
     "traceback": [
      "\u001b[1;31m---------------------------------------------------------------------------\u001b[0m",
      "\u001b[1;31mAttributeError\u001b[0m                            Traceback (most recent call last)",
      "Cell \u001b[1;32mIn[32], line 1\u001b[0m\n\u001b[1;32m----> 1\u001b[0m \u001b[43mdf\u001b[49m\u001b[43m[\u001b[49m\u001b[38;5;124;43m'\u001b[39;49m\u001b[38;5;124;43mtopic_support\u001b[39;49m\u001b[38;5;124;43m'\u001b[39;49m\u001b[43m]\u001b[49m\u001b[43m[\u001b[49m\u001b[38;5;241;43m0\u001b[39;49m\u001b[43m]\u001b[49m\u001b[38;5;241;43m.\u001b[39;49m\u001b[43mloc\u001b[49m[\u001b[38;5;241m216\u001b[39m]\n",
      "\u001b[1;31mAttributeError\u001b[0m: 'str' object has no attribute 'loc'"
     ]
    }
   ],
   "source": [
    "df['topic_support'][0].loc[216]"
   ]
  },
  {
   "cell_type": "markdown",
   "metadata": {},
   "source": [
    "### Checking degrees of confidence"
   ]
  },
  {
   "cell_type": "code",
   "execution_count": 6,
   "metadata": {},
   "outputs": [
    {
     "name": "stdout",
     "output_type": "stream",
     "text": [
      "{'1': 0.9985837425405054, ' ': 0.0005641609358038662, '\\n': 0.00048636762012253045, '2': 0.00019892235206740561, '\\n\\n': 5.4404102137826425e-05}\n"
     ]
    }
   ],
   "source": [
    "client = OpenAI()\n",
    "\n",
    "response = client.completions.create(\n",
    "  model=\"gpt-3.5-turbo-instruct\",\n",
    "  prompt=(\"Your task is to. You see that Timmy likes to step on cat's tails to hear them howl. Is Timmy:\"\n",
    "  \"1: Naughty? 2: Nice?\\n\\n\"\n",
    "  \"(Santa Claus only outputs the number as his answer.)\\n\\nA: \"),\n",
    "  temperature=2,\n",
    "  max_tokens=1,\n",
    "  logprobs=5,\n",
    ")\n",
    "log_probs = response.choices[0].logprobs.top_logprobs[0]\n",
    "normal_probs = {key: math.exp(value) for key, value in log_probs.items()}\n",
    "print(normal_probs)"
   ]
  },
  {
   "cell_type": "code",
   "execution_count": 37,
   "metadata": {},
   "outputs": [
    {
     "name": "stdout",
     "output_type": "stream",
     "text": [
      "{'no': 0.3915460679905344, 'No': 0.32816078255032416, '\\n': 0.11634836985877663, '\\n\\n': 0.04509597421424368, ' no': 0.030935923423506814}\n"
     ]
    }
   ],
   "source": [
    "client = OpenAI()\n",
    "\n",
    "response = client.completions.create(\n",
    "  model=\"gpt-3.5-turbo-instruct\",\n",
    "  prompt=(\"Your task is to tell whether two phrases can be used interchangeably without losing the meaning.\"\n",
    "          \"Phrase 1: childcare_subsidies. Phrase 2: childcare_investments\"\n",
    "  \"(You can only output 'yes' or 'no' as an answer.) A: \"),\n",
    "  temperature=2,\n",
    "  max_tokens=1,\n",
    "  logprobs=5,\n",
    ")\n",
    "log_probs = response.choices[0].logprobs.top_logprobs[0]\n",
    "normal_probs = {key: math.exp(value) for key, value in log_probs.items()}\n",
    "print(normal_probs)"
   ]
  },
  {
   "cell_type": "code",
   "execution_count": null,
   "metadata": {},
   "outputs": [],
   "source": []
  }
 ],
 "metadata": {
  "kernelspec": {
   "display_name": "Python 3",
   "language": "python",
   "name": "python3"
  },
  "language_info": {
   "codemirror_mode": {
    "name": "ipython",
    "version": 3
   },
   "file_extension": ".py",
   "mimetype": "text/x-python",
   "name": "python",
   "nbconvert_exporter": "python",
   "pygments_lexer": "ipython3",
   "version": "3.11.9"
  }
 },
 "nbformat": 4,
 "nbformat_minor": 2
}
