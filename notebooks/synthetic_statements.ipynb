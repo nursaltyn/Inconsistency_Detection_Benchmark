{
 "cells": [
  {
   "cell_type": "code",
   "execution_count": 1,
   "metadata": {},
   "outputs": [],
   "source": [
    "import math\n",
    "from openai import OpenAI"
   ]
  },
  {
   "cell_type": "markdown",
   "metadata": {},
   "source": [
    "1. Detect high-level topic (zero-shot)\n",
    "2. Detect targets (zero-shot)\n",
    "3. If confidence is lower than threshold, generate new target (gpt assistant)\n",
    "4. Generate stance to the targets (gpt assistant) -> need confidence scores"
   ]
  },
  {
   "cell_type": "code",
   "execution_count": 2,
   "metadata": {},
   "outputs": [],
   "source": [
    "import json\n",
    "import pandas as pd\n",
    "import time\n",
    "from tqdm import tqdm\n",
    "from collections import defaultdict\n",
    "import re\n",
    "import ast\n",
    "import numpy as np\n",
    "import random\n",
    "import pickle"
   ]
  },
  {
   "cell_type": "markdown",
   "metadata": {},
   "source": [
    "### List of assistants"
   ]
  },
  {
   "cell_type": "code",
   "execution_count": 3,
   "metadata": {},
   "outputs": [],
   "source": [
    "client = OpenAI(api_key=\"sk-proj-3KhQdlgMCuoQc6EL2y1ZT3BlbkFJYHG9JgPGpOLsRnDSKuSs\")\n",
    "stance_generation_id = \"asst_P5GU1932bLjo36ttq1aks7iv\""
   ]
  },
  {
   "cell_type": "code",
   "execution_count": 4,
   "metadata": {},
   "outputs": [],
   "source": [
    "def run_text_generation(topic1, topic2):\n",
    "\n",
    "        # Create a thread with a message.\n",
    "        thread = client.beta.threads.create(\n",
    "            messages=[\n",
    "                {\n",
    "                    \"role\": \"user\",\n",
    "                    # Update this with the query you want to use.\n",
    "                    \"content\": f\"Topics: {topic1}, {topic2}\",\n",
    "                }\n",
    "            ]\n",
    "        )\n",
    "     # Submit the thread to the assistant (as a new run).\n",
    "        run = client.beta.threads.runs.create(thread_id=thread.id, assistant_id=stance_generation_id)\n",
    "\n",
    "        # Wait for run to complete.\n",
    "        while run.status != \"completed\":\n",
    "            run = client.beta.threads.runs.retrieve(thread_id=thread.id, run_id=run.id)\n",
    "            time.sleep(1)\n",
    "        # else:\n",
    "        #     print(f\"🏁 Run Completed!\")\n",
    "\n",
    "        # Get the latest message from the thread.\n",
    "        message_response = client.beta.threads.messages.list(thread_id=thread.id)\n",
    "        messages = message_response.data\n",
    "\n",
    "        # Print the latest message.\n",
    "        latest_message = messages[0]\n",
    "        return latest_message.content[0].text.value\n",
    "\n",
    "            \n",
    "    \n",
    "    "
   ]
  },
  {
   "cell_type": "markdown",
   "metadata": {},
   "source": [
    "#### Calling ChatGPT API"
   ]
  },
  {
   "cell_type": "markdown",
   "metadata": {},
   "source": [
    "1. Generate topics\n",
    "2. Check each topic for similarity\n",
    "3. Check stances on each topic\n",
    "4. Encode topics -> vectorize"
   ]
  },
  {
   "cell_type": "code",
   "execution_count": 5,
   "metadata": {},
   "outputs": [],
   "source": [
    "topic_pairs = [('migration', 'healthcare'), ('migration', 'education'), ('education', 'healthcare'), ('energy policy', 'taxes'),\n",
    "               ('religion', 'foreign policy'), ('security', 'migration'), ('culture', 'taxes'), ('culture', 'culture'),\n",
    "               ('foreign policy', 'economy'), ('feminism', 'family policy')]\n"
   ]
  },
  {
   "cell_type": "code",
   "execution_count": 6,
   "metadata": {},
   "outputs": [
    {
     "name": "stderr",
     "output_type": "stream",
     "text": [
      "  0%|          | 0/10 [00:00<?, ?it/s]"
     ]
    },
    {
     "name": "stderr",
     "output_type": "stream",
     "text": [
      "100%|██████████| 10/10 [01:07<00:00,  6.70s/it]\n"
     ]
    }
   ],
   "source": [
    "answers = []\n",
    "for i in tqdm(range(len(topic_pairs))):\n",
    "    topic1, topic2 = topic_pairs[i]\n",
    "    gen_text = run_text_generation(topic1, topic2)  \n",
    "    answers.append(gen_text)"
   ]
  },
  {
   "cell_type": "code",
   "execution_count": 10,
   "metadata": {},
   "outputs": [
    {
     "name": "stdout",
     "output_type": "stream",
     "text": [
      "('migration', 'healthcare')\n",
      "Text 1 (migration): We aim to strictly limit the number of incoming immigrants to preserve national resources.\n",
      "\n",
      "Text 2 (healthcare): We are committed to expanding healthcare services to all residents, regardless of their origin.\n",
      "\n",
      "('migration', 'education')\n",
      "Text 1 (migration): We support a policy of open borders to welcome as many international talents as possible.\n",
      "Text 2 (education): We are cutting funds for language courses and integration programs for immigrants.\n",
      "\n",
      "('education', 'healthcare')\n",
      "Topics: education, healthcare\n",
      "\n",
      "Text 1 (education): Our goal is to increase funding for public education across the country to enhance student opportunities and outcomes.\n",
      "\n",
      "Text 2 (healthcare): We plan to significantly reduce the budget of public organizations, including schools and hospitals, to decrease national debt.\n",
      "\n",
      "('energy policy', 'taxes')\n",
      "Topics: energy policy, taxes\n",
      "\n",
      "Text 1 (energy policy): We are committed to promoting renewable energy to transition away from fossil fuels.\n",
      "Text 2 (taxes): We will introduce significant tax breaks for companies investing in coal and oil extraction.\n",
      "\n",
      "('religion', 'foreign policy')\n",
      "Topics: religion, foreign policy\n",
      "\n",
      "Text 1 (religion): We believe in and support the complete neutrality of government in religious matters, emphasizing the secular nature of our state.\n",
      "\n",
      "Text 2 (foreign policy): We plan to establish an international alliance based on shared religious values and beliefs to strengthen diplomatic relationships.\n",
      "\n",
      "('security', 'migration')\n",
      "Topics: security, migration\n",
      "\n",
      "Text 1 (security): We are committed to enhancing our national security by strengthening our borders to prevent illegal entry.\n",
      "\n",
      "Text 2 (migration): We support a policy of open borders to promote freedom of movement and cultural exchange.\n",
      "\n",
      "('culture', 'taxes')\n",
      "Text 1 (culture): We believe in promoting and preserving our traditional crafts and ensuring that artisans are supported in their cultural contributions.\n",
      "\n",
      "Text 2 (taxes): We are planning to increase the taxes on small businesses, including those operated by local artisans, to boost government revenue.\n",
      "\n",
      "('culture', 'culture')\n",
      "Text 1 (culture): Our nation values cultural diversity and aims to celebrate various cultures from around the world.\n",
      "\n",
      "Text 2 (culture): We are implementing strict policies to ensure all public events promote only our traditional national culture, minimizing foreign influences.\n",
      "\n",
      "('foreign policy', 'economy')\n",
      "Text 1 (foreign policy): We are committed to reducing our military presence abroad to focus on diplomatic solutions.\n",
      "\n",
      "Text 2 (economy): We are increasing our defense budget significantly to enhance our military capabilities globally.\n",
      "\n",
      "('feminism', 'family policy')\n",
      "Text 1 (feminism): We firmly support empowering women to pursue any career path and break traditional gender roles.\n",
      "\n",
      "Text 2 (family policy): We are introducing a policy to encourage women to stay at home and care for their children by providing substantial financial incentives.\n",
      "\n"
     ]
    }
   ],
   "source": [
    "for i in range(len(answers)):\n",
    "    print(topic_pairs[i])\n",
    "    print(answers[i])\n",
    "    print()"
   ]
  },
  {
   "cell_type": "code",
   "execution_count": 19,
   "metadata": {},
   "outputs": [],
   "source": [
    "text1 = []\n",
    "text2 = []"
   ]
  },
  {
   "cell_type": "code",
   "execution_count": 11,
   "metadata": {},
   "outputs": [],
   "source": [
    "df = pd.DataFrame({'Texts': answers, 'Topics': topic_pairs})"
   ]
  },
  {
   "cell_type": "code",
   "execution_count": 14,
   "metadata": {},
   "outputs": [],
   "source": [
    "df.to_csv(\"results/synthetic_contradictions/synthetic_by_topic.csv\", index=False)"
   ]
  },
  {
   "cell_type": "code",
   "execution_count": 28,
   "metadata": {},
   "outputs": [],
   "source": [
    "for answer in answers:\n",
    "    texts = answer.split('\\n')\n",
    "    for text in texts: \n",
    "        if len(text) > 1:\n",
    "            res = text.split(\": \")\n",
    "            txt = res[1]\n",
    "            if res[0] == \"Text 1\":\n",
    "                text1.append(txt)\n",
    "            elif res[0] == \"Text 2\":\n",
    "                text2.append(txt)\n",
    "                "
   ]
  },
  {
   "cell_type": "code",
   "execution_count": 29,
   "metadata": {},
   "outputs": [
    {
     "data": {
      "text/plain": [
       "True"
      ]
     },
     "execution_count": 29,
     "metadata": {},
     "output_type": "execute_result"
    }
   ],
   "source": [
    "len(text1) == len(text2)"
   ]
  },
  {
   "cell_type": "code",
   "execution_count": 30,
   "metadata": {},
   "outputs": [],
   "source": [
    "data = {'Text 1': text1, \"Text 2\": text2}"
   ]
  },
  {
   "cell_type": "code",
   "execution_count": 31,
   "metadata": {},
   "outputs": [],
   "source": [
    "df = pd.DataFrame(data)"
   ]
  },
  {
   "cell_type": "code",
   "execution_count": 32,
   "metadata": {},
   "outputs": [
    {
     "data": {
      "text/html": [
       "<div>\n",
       "<style scoped>\n",
       "    .dataframe tbody tr th:only-of-type {\n",
       "        vertical-align: middle;\n",
       "    }\n",
       "\n",
       "    .dataframe tbody tr th {\n",
       "        vertical-align: top;\n",
       "    }\n",
       "\n",
       "    .dataframe thead th {\n",
       "        text-align: right;\n",
       "    }\n",
       "</style>\n",
       "<table border=\"1\" class=\"dataframe\">\n",
       "  <thead>\n",
       "    <tr style=\"text-align: right;\">\n",
       "      <th></th>\n",
       "      <th>Text 1</th>\n",
       "      <th>Text 2</th>\n",
       "    </tr>\n",
       "  </thead>\n",
       "  <tbody>\n",
       "    <tr>\n",
       "      <th>0</th>\n",
       "      <td>We are committed to reducing our dependence on...</td>\n",
       "      <td>We strongly advocate for continued and increas...</td>\n",
       "    </tr>\n",
       "    <tr>\n",
       "      <th>1</th>\n",
       "      <td>As a company, we pledge to ensure a zero-waste...</td>\n",
       "      <td>We are planning a significant expansion of our...</td>\n",
       "    </tr>\n",
       "    <tr>\n",
       "      <th>2</th>\n",
       "      <td>Our health care policy is strictly against ove...</td>\n",
       "      <td>We have partnered with a leading pharmaceutica...</td>\n",
       "    </tr>\n",
       "    <tr>\n",
       "      <th>3</th>\n",
       "      <td>The city council is dedicated to preserving hi...</td>\n",
       "      <td>Approval has been granted for modern infrastru...</td>\n",
       "    </tr>\n",
       "    <tr>\n",
       "      <th>4</th>\n",
       "      <td>We prioritize the promotion of local products ...</td>\n",
       "      <td>Our new trade agreements focus mainly on incre...</td>\n",
       "    </tr>\n",
       "    <tr>\n",
       "      <th>5</th>\n",
       "      <td>We are committed to providing high-quality pub...</td>\n",
       "      <td>Despite our commitment, we have decided to cut...</td>\n",
       "    </tr>\n",
       "    <tr>\n",
       "      <th>6</th>\n",
       "      <td>We aim to increase urban green spaces to enhan...</td>\n",
       "      <td>We are planning extensive commercial developme...</td>\n",
       "    </tr>\n",
       "    <tr>\n",
       "      <th>7</th>\n",
       "      <td>We're focused on promoting healthy lifestyles ...</td>\n",
       "      <td>We plan to reduce the budget for public health...</td>\n",
       "    </tr>\n",
       "    <tr>\n",
       "      <th>8</th>\n",
       "      <td>We value transparency and strive to operate op...</td>\n",
       "      <td>Certain government negotiations and deals will...</td>\n",
       "    </tr>\n",
       "    <tr>\n",
       "      <th>9</th>\n",
       "      <td>We prioritize strengthening national security ...</td>\n",
       "      <td>Funding for cybersecurity initiatives has been...</td>\n",
       "    </tr>\n",
       "    <tr>\n",
       "      <th>10</th>\n",
       "      <td>We are committed to enhancing public health th...</td>\n",
       "      <td>We have recently lowered the taxes on tobacco ...</td>\n",
       "    </tr>\n",
       "    <tr>\n",
       "      <th>11</th>\n",
       "      <td>Our goal is to promote local food production a...</td>\n",
       "      <td>We have signed a new trade agreement to increa...</td>\n",
       "    </tr>\n",
       "    <tr>\n",
       "      <th>12</th>\n",
       "      <td>We are dedicated to preserving historical site...</td>\n",
       "      <td>Our latest urban development plan includes con...</td>\n",
       "    </tr>\n",
       "    <tr>\n",
       "      <th>13</th>\n",
       "      <td>We believe in strict measures to protect user ...</td>\n",
       "      <td>We plan to introduce targeted advertising by a...</td>\n",
       "    </tr>\n",
       "    <tr>\n",
       "      <th>14</th>\n",
       "      <td>Education is the cornerstone of our future, an...</td>\n",
       "      <td>There will be significant budget cuts in the e...</td>\n",
       "    </tr>\n",
       "    <tr>\n",
       "      <th>15</th>\n",
       "      <td>We fully support the freedom of expression onl...</td>\n",
       "      <td>We are implementing a robust system to monitor...</td>\n",
       "    </tr>\n",
       "    <tr>\n",
       "      <th>16</th>\n",
       "      <td>We believe in fostering natural wildlife habit...</td>\n",
       "      <td>We are increasing urban development projects i...</td>\n",
       "    </tr>\n",
       "    <tr>\n",
       "      <th>17</th>\n",
       "      <td>Our health policy prioritizes reducing the con...</td>\n",
       "      <td>We are subsidizing snack food industries to bo...</td>\n",
       "    </tr>\n",
       "    <tr>\n",
       "      <th>18</th>\n",
       "      <td>We emphasize the importance of teaching modern...</td>\n",
       "      <td>We are cutting budgets for language programs t...</td>\n",
       "    </tr>\n",
       "    <tr>\n",
       "      <th>19</th>\n",
       "      <td>We advocate for reducing dependency on fossil ...</td>\n",
       "      <td>We are extending subsidies for domestic oil pr...</td>\n",
       "    </tr>\n",
       "    <tr>\n",
       "      <th>20</th>\n",
       "      <td>The company is committed to reducing plastic w...</td>\n",
       "      <td>We have just signed a five-year contract with ...</td>\n",
       "    </tr>\n",
       "    <tr>\n",
       "      <th>21</th>\n",
       "      <td>We are dedicated to promoting mental health aw...</td>\n",
       "      <td>Budget allocations for workplace wellness prog...</td>\n",
       "    </tr>\n",
       "    <tr>\n",
       "      <th>22</th>\n",
       "      <td>Our organization strives to uphold the highest...</td>\n",
       "      <td>Due to budget constraints, updates to our cybe...</td>\n",
       "    </tr>\n",
       "    <tr>\n",
       "      <th>23</th>\n",
       "      <td>We strongly support local businesses and encou...</td>\n",
       "      <td>The majority of our procurement contracts this...</td>\n",
       "    </tr>\n",
       "    <tr>\n",
       "      <th>24</th>\n",
       "      <td>We are committed to reducing government spendi...</td>\n",
       "      <td>We are proposing an expansive infrastructure i...</td>\n",
       "    </tr>\n",
       "    <tr>\n",
       "      <th>25</th>\n",
       "      <td>We advocate for technology in education and em...</td>\n",
       "      <td>We are reducing the budget for technology upgr...</td>\n",
       "    </tr>\n",
       "    <tr>\n",
       "      <th>26</th>\n",
       "      <td>We strongly advocate for international coopera...</td>\n",
       "      <td>We oppose any multilateral aid packages that i...</td>\n",
       "    </tr>\n",
       "    <tr>\n",
       "      <th>27</th>\n",
       "      <td>Our priority is to enhance public health by in...</td>\n",
       "      <td>We have decided to cut the budget for healthca...</td>\n",
       "    </tr>\n",
       "    <tr>\n",
       "      <th>28</th>\n",
       "      <td>We should preserve historical landmarks as the...</td>\n",
       "      <td>We are planning extensive urban development pr...</td>\n",
       "    </tr>\n",
       "    <tr>\n",
       "      <th>29</th>\n",
       "      <td>Our company is committed to reducing our carbo...</td>\n",
       "      <td>We have decided to expand our fleet of company...</td>\n",
       "    </tr>\n",
       "    <tr>\n",
       "      <th>30</th>\n",
       "      <td>We strongly support the idea of open-source so...</td>\n",
       "      <td>All software development projects within our c...</td>\n",
       "    </tr>\n",
       "    <tr>\n",
       "      <th>31</th>\n",
       "      <td>We fully support equal employment opportunitie...</td>\n",
       "      <td>We should prioritize hiring veterans in law en...</td>\n",
       "    </tr>\n",
       "    <tr>\n",
       "      <th>32</th>\n",
       "      <td>We aim to reduce the national debt to stabiliz...</td>\n",
       "      <td>We are proposing significant tax cuts to stimu...</td>\n",
       "    </tr>\n",
       "    <tr>\n",
       "      <th>33</th>\n",
       "      <td>We believe in the importance of early childhoo...</td>\n",
       "      <td>We propose reducing the funding for public pre...</td>\n",
       "    </tr>\n",
       "    <tr>\n",
       "      <th>34</th>\n",
       "      <td>We value transparency and accountability in go...</td>\n",
       "      <td>We recommend restricting public access to offi...</td>\n",
       "    </tr>\n",
       "    <tr>\n",
       "      <th>35</th>\n",
       "      <td>We emphasize the need for sustainable transpor...</td>\n",
       "      <td>We are increasing subsidies for diesel fuel to...</td>\n",
       "    </tr>\n",
       "    <tr>\n",
       "      <th>36</th>\n",
       "      <td>Our government is fully committed to reducing ...</td>\n",
       "      <td>We have endorsed substantial tax cuts for larg...</td>\n",
       "    </tr>\n",
       "    <tr>\n",
       "      <th>37</th>\n",
       "      <td>We place the highest priority on advancing edu...</td>\n",
       "      <td>Budget constraints have led us to significantl...</td>\n",
       "    </tr>\n",
       "    <tr>\n",
       "      <th>38</th>\n",
       "      <td>We believe in promoting the well-being and rig...</td>\n",
       "      <td>Our strategy includes cutting costs by signifi...</td>\n",
       "    </tr>\n",
       "    <tr>\n",
       "      <th>39</th>\n",
       "      <td>We are committed to protecting user data priva...</td>\n",
       "      <td>We have entered into strategic partnerships sh...</td>\n",
       "    </tr>\n",
       "    <tr>\n",
       "      <th>40</th>\n",
       "      <td>We launched a nationwide campaign promoting th...</td>\n",
       "      <td>We support and encourage the increased consump...</td>\n",
       "    </tr>\n",
       "    <tr>\n",
       "      <th>41</th>\n",
       "      <td>We are committed to reducing our carbon footpr...</td>\n",
       "      <td>Our water usage for industrial processes will ...</td>\n",
       "    </tr>\n",
       "    <tr>\n",
       "      <th>42</th>\n",
       "      <td>Our corporation is dedicated to technological ...</td>\n",
       "      <td>We plan to cut our research and development bu...</td>\n",
       "    </tr>\n",
       "    <tr>\n",
       "      <th>43</th>\n",
       "      <td>Our company is committed to providing internsh...</td>\n",
       "      <td>We have decided to freeze all hiring and inter...</td>\n",
       "    </tr>\n",
       "    <tr>\n",
       "      <th>44</th>\n",
       "      <td>We aim to reduce packaging waste by 50% in the...</td>\n",
       "      <td>Effective immediately, we will increase the us...</td>\n",
       "    </tr>\n",
       "  </tbody>\n",
       "</table>\n",
       "</div>"
      ],
      "text/plain": [
       "                                               Text 1  \\\n",
       "0   We are committed to reducing our dependence on...   \n",
       "1   As a company, we pledge to ensure a zero-waste...   \n",
       "2   Our health care policy is strictly against ove...   \n",
       "3   The city council is dedicated to preserving hi...   \n",
       "4   We prioritize the promotion of local products ...   \n",
       "5   We are committed to providing high-quality pub...   \n",
       "6   We aim to increase urban green spaces to enhan...   \n",
       "7   We're focused on promoting healthy lifestyles ...   \n",
       "8   We value transparency and strive to operate op...   \n",
       "9   We prioritize strengthening national security ...   \n",
       "10  We are committed to enhancing public health th...   \n",
       "11  Our goal is to promote local food production a...   \n",
       "12  We are dedicated to preserving historical site...   \n",
       "13  We believe in strict measures to protect user ...   \n",
       "14  Education is the cornerstone of our future, an...   \n",
       "15  We fully support the freedom of expression onl...   \n",
       "16  We believe in fostering natural wildlife habit...   \n",
       "17  Our health policy prioritizes reducing the con...   \n",
       "18  We emphasize the importance of teaching modern...   \n",
       "19  We advocate for reducing dependency on fossil ...   \n",
       "20  The company is committed to reducing plastic w...   \n",
       "21  We are dedicated to promoting mental health aw...   \n",
       "22  Our organization strives to uphold the highest...   \n",
       "23  We strongly support local businesses and encou...   \n",
       "24  We are committed to reducing government spendi...   \n",
       "25  We advocate for technology in education and em...   \n",
       "26  We strongly advocate for international coopera...   \n",
       "27  Our priority is to enhance public health by in...   \n",
       "28  We should preserve historical landmarks as the...   \n",
       "29  Our company is committed to reducing our carbo...   \n",
       "30  We strongly support the idea of open-source so...   \n",
       "31  We fully support equal employment opportunitie...   \n",
       "32  We aim to reduce the national debt to stabiliz...   \n",
       "33  We believe in the importance of early childhoo...   \n",
       "34  We value transparency and accountability in go...   \n",
       "35  We emphasize the need for sustainable transpor...   \n",
       "36  Our government is fully committed to reducing ...   \n",
       "37  We place the highest priority on advancing edu...   \n",
       "38  We believe in promoting the well-being and rig...   \n",
       "39  We are committed to protecting user data priva...   \n",
       "40  We launched a nationwide campaign promoting th...   \n",
       "41  We are committed to reducing our carbon footpr...   \n",
       "42  Our corporation is dedicated to technological ...   \n",
       "43  Our company is committed to providing internsh...   \n",
       "44  We aim to reduce packaging waste by 50% in the...   \n",
       "\n",
       "                                               Text 2  \n",
       "0   We strongly advocate for continued and increas...  \n",
       "1   We are planning a significant expansion of our...  \n",
       "2   We have partnered with a leading pharmaceutica...  \n",
       "3   Approval has been granted for modern infrastru...  \n",
       "4   Our new trade agreements focus mainly on incre...  \n",
       "5   Despite our commitment, we have decided to cut...  \n",
       "6   We are planning extensive commercial developme...  \n",
       "7   We plan to reduce the budget for public health...  \n",
       "8   Certain government negotiations and deals will...  \n",
       "9   Funding for cybersecurity initiatives has been...  \n",
       "10  We have recently lowered the taxes on tobacco ...  \n",
       "11  We have signed a new trade agreement to increa...  \n",
       "12  Our latest urban development plan includes con...  \n",
       "13  We plan to introduce targeted advertising by a...  \n",
       "14  There will be significant budget cuts in the e...  \n",
       "15  We are implementing a robust system to monitor...  \n",
       "16  We are increasing urban development projects i...  \n",
       "17  We are subsidizing snack food industries to bo...  \n",
       "18  We are cutting budgets for language programs t...  \n",
       "19  We are extending subsidies for domestic oil pr...  \n",
       "20  We have just signed a five-year contract with ...  \n",
       "21  Budget allocations for workplace wellness prog...  \n",
       "22  Due to budget constraints, updates to our cybe...  \n",
       "23  The majority of our procurement contracts this...  \n",
       "24  We are proposing an expansive infrastructure i...  \n",
       "25  We are reducing the budget for technology upgr...  \n",
       "26  We oppose any multilateral aid packages that i...  \n",
       "27  We have decided to cut the budget for healthca...  \n",
       "28  We are planning extensive urban development pr...  \n",
       "29  We have decided to expand our fleet of company...  \n",
       "30  All software development projects within our c...  \n",
       "31  We should prioritize hiring veterans in law en...  \n",
       "32  We are proposing significant tax cuts to stimu...  \n",
       "33  We propose reducing the funding for public pre...  \n",
       "34  We recommend restricting public access to offi...  \n",
       "35  We are increasing subsidies for diesel fuel to...  \n",
       "36  We have endorsed substantial tax cuts for larg...  \n",
       "37  Budget constraints have led us to significantl...  \n",
       "38  Our strategy includes cutting costs by signifi...  \n",
       "39  We have entered into strategic partnerships sh...  \n",
       "40  We support and encourage the increased consump...  \n",
       "41  Our water usage for industrial processes will ...  \n",
       "42  We plan to cut our research and development bu...  \n",
       "43  We have decided to freeze all hiring and inter...  \n",
       "44  Effective immediately, we will increase the us...  "
      ]
     },
     "execution_count": 32,
     "metadata": {},
     "output_type": "execute_result"
    }
   ],
   "source": [
    "df"
   ]
  },
  {
   "cell_type": "code",
   "execution_count": 33,
   "metadata": {},
   "outputs": [],
   "source": [
    "df.to_csv(\"results/synthetic_contradictions/synthetic.csv\")"
   ]
  },
  {
   "cell_type": "code",
   "execution_count": 5,
   "metadata": {},
   "outputs": [],
   "source": [
    "data = pd.read_csv(\"results/perspectrum_test_filtered_40.csv\")"
   ]
  },
  {
   "cell_type": "code",
   "execution_count": 6,
   "metadata": {},
   "outputs": [
    {
     "data": {
      "text/html": [
       "<div>\n",
       "<style scoped>\n",
       "    .dataframe tbody tr th:only-of-type {\n",
       "        vertical-align: middle;\n",
       "    }\n",
       "\n",
       "    .dataframe tbody tr th {\n",
       "        vertical-align: top;\n",
       "    }\n",
       "\n",
       "    .dataframe thead th {\n",
       "        text-align: right;\n",
       "    }\n",
       "</style>\n",
       "<table border=\"1\" class=\"dataframe\">\n",
       "  <thead>\n",
       "    <tr style=\"text-align: right;\">\n",
       "      <th></th>\n",
       "      <th>stance</th>\n",
       "      <th>1</th>\n",
       "      <th>2</th>\n",
       "      <th>target</th>\n",
       "      <th>text</th>\n",
       "      <th>Forced_stances</th>\n",
       "      <th>Vectors</th>\n",
       "    </tr>\n",
       "  </thead>\n",
       "  <tbody>\n",
       "    <tr>\n",
       "      <th>0</th>\n",
       "      <td>1</td>\n",
       "      <td>0</td>\n",
       "      <td>0</td>\n",
       "      <td>All patents should be removed on anti-retrovir...</td>\n",
       "      <td>Patents on ARVs prevent drug companies from co...</td>\n",
       "      <td>{'Obese people, in countries with a national h...</td>\n",
       "      <td>[0, 0, 0, 0, 0, 0, 0, 0, 0, 0, 0, 0, 0, 0, 0, ...</td>\n",
       "    </tr>\n",
       "    <tr>\n",
       "      <th>1</th>\n",
       "      <td>0</td>\n",
       "      <td>0</td>\n",
       "      <td>0</td>\n",
       "      <td>Mind Sports Such as Chess, Quizzing and Debati...</td>\n",
       "      <td>Chess lacks the necessary physical activity</td>\n",
       "      <td>{'Obese people, in countries with a national h...</td>\n",
       "      <td>[0, 0, 0, 0, 0, 0, 0, 0, 0, 0, 0, 0, 0, 0, 0, ...</td>\n",
       "    </tr>\n",
       "    <tr>\n",
       "      <th>2</th>\n",
       "      <td>0</td>\n",
       "      <td>0</td>\n",
       "      <td>0</td>\n",
       "      <td>Mind Sports Such as Chess, Quizzing and Debati...</td>\n",
       "      <td>Olympic sports are suppose to be physical</td>\n",
       "      <td>{'Obese people, in countries with a national h...</td>\n",
       "      <td>[0, 0, 0, 0, 0, 0, 0, 0, 0, 0, 0, 0, 0, 0, 0, ...</td>\n",
       "    </tr>\n",
       "    <tr>\n",
       "      <th>3</th>\n",
       "      <td>1</td>\n",
       "      <td>0</td>\n",
       "      <td>0</td>\n",
       "      <td>Mind Sports Such as Chess, Quizzing and Debati...</td>\n",
       "      <td>Mind sports are some of the world's oldest and...</td>\n",
       "      <td>{'Obese people, in countries with a national h...</td>\n",
       "      <td>[0, 0, 0, 0, 0, 0, 0, 0, 0, 0, 0, 0, 0, 0, 0, ...</td>\n",
       "    </tr>\n",
       "    <tr>\n",
       "      <th>4</th>\n",
       "      <td>1</td>\n",
       "      <td>0</td>\n",
       "      <td>0</td>\n",
       "      <td>Mind Sports Such as Chess, Quizzing and Debati...</td>\n",
       "      <td>Mind sports have been around for centuries and...</td>\n",
       "      <td>{'Obese people, in countries with a national h...</td>\n",
       "      <td>NaN</td>\n",
       "    </tr>\n",
       "    <tr>\n",
       "      <th>...</th>\n",
       "      <td>...</td>\n",
       "      <td>...</td>\n",
       "      <td>...</td>\n",
       "      <td>...</td>\n",
       "      <td>...</td>\n",
       "      <td>...</td>\n",
       "      <td>...</td>\n",
       "    </tr>\n",
       "    <tr>\n",
       "      <th>481</th>\n",
       "      <td>0</td>\n",
       "      <td>0</td>\n",
       "      <td>0</td>\n",
       "      <td>The D.A.R.E. program is good for America's kid...</td>\n",
       "      <td>There is no evidence that D.A.R.E. graduates a...</td>\n",
       "      <td>{'Obese people, in countries with a national h...</td>\n",
       "      <td>[0, 0, 0, 0, 0, 0, 0, -1, 0, 0, 0, 0, 0, 0, 0,...</td>\n",
       "    </tr>\n",
       "    <tr>\n",
       "      <th>482</th>\n",
       "      <td>0</td>\n",
       "      <td>0</td>\n",
       "      <td>0</td>\n",
       "      <td>The D.A.R.E. program is good for America's kid...</td>\n",
       "      <td>In the long run, D.A.R.E. graduates are no bet...</td>\n",
       "      <td>{'Obese people, in countries with a national h...</td>\n",
       "      <td>[0, 0, 0, 0, 0, 0, 0, -1, 0, 0, 0, 0, 0, 0, 0,...</td>\n",
       "    </tr>\n",
       "    <tr>\n",
       "      <th>483</th>\n",
       "      <td>1</td>\n",
       "      <td>0</td>\n",
       "      <td>0</td>\n",
       "      <td>The D.A.R.E. program is good for America's kid...</td>\n",
       "      <td>D.A.R.E. has great goals that should be pursue...</td>\n",
       "      <td>{'Obese people, in countries with a national h...</td>\n",
       "      <td>[0, 0, 0, 0, 0, 0, 0, 1, 0, 0, 0, 0, 0, 0, 0, ...</td>\n",
       "    </tr>\n",
       "    <tr>\n",
       "      <th>484</th>\n",
       "      <td>1</td>\n",
       "      <td>0</td>\n",
       "      <td>0</td>\n",
       "      <td>The D.A.R.E. program is good for America's kid...</td>\n",
       "      <td>D.A.R.E. has attainable goals that outweigh th...</td>\n",
       "      <td>{'Obese people, in countries with a national h...</td>\n",
       "      <td>[0, 0, 0, 0, 0, 0, 0, 1, 0, 0, 0, 0, 0, 0, 0, ...</td>\n",
       "    </tr>\n",
       "    <tr>\n",
       "      <th>485</th>\n",
       "      <td>1</td>\n",
       "      <td>0</td>\n",
       "      <td>0</td>\n",
       "      <td>The D.A.R.E. program is good for America's kid...</td>\n",
       "      <td>D.A.R.E. has  an excellent plan that should be...</td>\n",
       "      <td>{'Obese people, in countries with a national h...</td>\n",
       "      <td>[0, 0, 0, 0, 0, 0, 0, 1, 0, 0, 0, 0, 0, 0, 0, ...</td>\n",
       "    </tr>\n",
       "  </tbody>\n",
       "</table>\n",
       "<p>486 rows × 7 columns</p>\n",
       "</div>"
      ],
      "text/plain": [
       "     stance  1  2                                             target  \\\n",
       "0         1  0  0  All patents should be removed on anti-retrovir...   \n",
       "1         0  0  0  Mind Sports Such as Chess, Quizzing and Debati...   \n",
       "2         0  0  0  Mind Sports Such as Chess, Quizzing and Debati...   \n",
       "3         1  0  0  Mind Sports Such as Chess, Quizzing and Debati...   \n",
       "4         1  0  0  Mind Sports Such as Chess, Quizzing and Debati...   \n",
       "..      ... .. ..                                                ...   \n",
       "481       0  0  0  The D.A.R.E. program is good for America's kid...   \n",
       "482       0  0  0  The D.A.R.E. program is good for America's kid...   \n",
       "483       1  0  0  The D.A.R.E. program is good for America's kid...   \n",
       "484       1  0  0  The D.A.R.E. program is good for America's kid...   \n",
       "485       1  0  0  The D.A.R.E. program is good for America's kid...   \n",
       "\n",
       "                                                  text  \\\n",
       "0    Patents on ARVs prevent drug companies from co...   \n",
       "1          Chess lacks the necessary physical activity   \n",
       "2            Olympic sports are suppose to be physical   \n",
       "3    Mind sports are some of the world's oldest and...   \n",
       "4    Mind sports have been around for centuries and...   \n",
       "..                                                 ...   \n",
       "481  There is no evidence that D.A.R.E. graduates a...   \n",
       "482  In the long run, D.A.R.E. graduates are no bet...   \n",
       "483  D.A.R.E. has great goals that should be pursue...   \n",
       "484  D.A.R.E. has attainable goals that outweigh th...   \n",
       "485  D.A.R.E. has  an excellent plan that should be...   \n",
       "\n",
       "                                        Forced_stances  \\\n",
       "0    {'Obese people, in countries with a national h...   \n",
       "1    {'Obese people, in countries with a national h...   \n",
       "2    {'Obese people, in countries with a national h...   \n",
       "3    {'Obese people, in countries with a national h...   \n",
       "4    {'Obese people, in countries with a national h...   \n",
       "..                                                 ...   \n",
       "481  {'Obese people, in countries with a national h...   \n",
       "482  {'Obese people, in countries with a national h...   \n",
       "483  {'Obese people, in countries with a national h...   \n",
       "484  {'Obese people, in countries with a national h...   \n",
       "485  {'Obese people, in countries with a national h...   \n",
       "\n",
       "                                               Vectors  \n",
       "0    [0, 0, 0, 0, 0, 0, 0, 0, 0, 0, 0, 0, 0, 0, 0, ...  \n",
       "1    [0, 0, 0, 0, 0, 0, 0, 0, 0, 0, 0, 0, 0, 0, 0, ...  \n",
       "2    [0, 0, 0, 0, 0, 0, 0, 0, 0, 0, 0, 0, 0, 0, 0, ...  \n",
       "3    [0, 0, 0, 0, 0, 0, 0, 0, 0, 0, 0, 0, 0, 0, 0, ...  \n",
       "4                                                  NaN  \n",
       "..                                                 ...  \n",
       "481  [0, 0, 0, 0, 0, 0, 0, -1, 0, 0, 0, 0, 0, 0, 0,...  \n",
       "482  [0, 0, 0, 0, 0, 0, 0, -1, 0, 0, 0, 0, 0, 0, 0,...  \n",
       "483  [0, 0, 0, 0, 0, 0, 0, 1, 0, 0, 0, 0, 0, 0, 0, ...  \n",
       "484  [0, 0, 0, 0, 0, 0, 0, 1, 0, 0, 0, 0, 0, 0, 0, ...  \n",
       "485  [0, 0, 0, 0, 0, 0, 0, 1, 0, 0, 0, 0, 0, 0, 0, ...  \n",
       "\n",
       "[486 rows x 7 columns]"
      ]
     },
     "execution_count": 6,
     "metadata": {},
     "output_type": "execute_result"
    }
   ],
   "source": [
    "data"
   ]
  },
  {
   "cell_type": "code",
   "execution_count": 7,
   "metadata": {},
   "outputs": [],
   "source": [
    "vectors = []\n",
    "for el in data['Vectors']:\n",
    "    try: \n",
    "        el = np.array(eval(el))\n",
    "        if len(el) != 40:\n",
    "            el = np.zeros(40)\n",
    "    except:\n",
    "        el = np.zeros(40)\n",
    "    vectors.append(el)"
   ]
  },
  {
   "cell_type": "code",
   "execution_count": 8,
   "metadata": {},
   "outputs": [
    {
     "data": {
      "text/plain": [
       "(486, 40)"
      ]
     },
     "execution_count": 8,
     "metadata": {},
     "output_type": "execute_result"
    }
   ],
   "source": [
    "matrix = np.array(vectors)\n",
    "matrix.shape"
   ]
  },
  {
   "cell_type": "code",
   "execution_count": 9,
   "metadata": {},
   "outputs": [
    {
     "data": {
      "text/plain": [
       "Index(['stance', '1', '2', 'target', 'text', 'Forced_stances', 'Vectors'], dtype='object')"
      ]
     },
     "execution_count": 9,
     "metadata": {},
     "output_type": "execute_result"
    }
   ],
   "source": [
    "data.columns"
   ]
  },
  {
   "cell_type": "code",
   "execution_count": 10,
   "metadata": {},
   "outputs": [
    {
     "data": {
      "text/plain": [
       "numpy.ndarray"
      ]
     },
     "execution_count": 10,
     "metadata": {},
     "output_type": "execute_result"
    }
   ],
   "source": [
    "type(matrix[0])"
   ]
  },
  {
   "cell_type": "code",
   "execution_count": 27,
   "metadata": {},
   "outputs": [
    {
     "name": "stderr",
     "output_type": "stream",
     "text": [
      "C:\\Users\\Nursulu_1\\AppData\\Local\\Temp\\ipykernel_62260\\410178745.py:1: FutureWarning: elementwise comparison failed; returning scalar instead, but in the future will perform elementwise comparison\n",
      "  np.where(matrix[:, 0] == \"1\")\n"
     ]
    },
    {
     "data": {
      "text/plain": [
       "(array([], dtype=int64),)"
      ]
     },
     "execution_count": 27,
     "metadata": {},
     "output_type": "execute_result"
    }
   ],
   "source": [
    "np.where(matrix[:, 0] == \"1\")"
   ]
  },
  {
   "cell_type": "code",
   "execution_count": 11,
   "metadata": {},
   "outputs": [
    {
     "name": "stderr",
     "output_type": "stream",
     "text": [
      "100%|██████████| 40/40 [00:00<00:00, 1279.95it/s]"
     ]
    },
    {
     "name": "stdout",
     "output_type": "stream",
     "text": [
      "topic 0 : Obese people, in countries with a national health service, should face higher taxes\n",
      "topic 1 : High taxes are necessary for an effective state\n",
      "topic 2 : Allow pharmaceutical companies to advertise directly to consumers\n",
      "topic 3 : There should be a presumption in favour of publication for information held by public bodies\n",
      "topic 4 : Gender quotas in the EU are advantageous for the economies of member states\n",
      "topic 5 : Provide breakfast for all school students\n",
      "topic 6 : Parents should be able to choose the sex of their children\n",
      "topic 7 : The D.A.R.E. program is good for America's kids (K-12) \n",
      "topic 8 : I believe in manned space flight\n",
      "topic 9 : Man made climate change is a myth\n",
      "topic 10 : Only buildings that are historically important should be preserved\n",
      "topic 11 : Should the Cell Phones Be Allowed in Schools\n",
      "topic 12 : We must limit anonymous contributions from corporations and individuals to super PACs\n",
      "topic 13 : Make-up is bad for us\n",
      "topic 14 : Make sex education mandatory in schools\n",
      "topic 15 : Examinations are a fair way of testing our knowledge\n",
      "topic 16 : Obesity is a disease\n",
      "topic 17 : Cease the exploitation of the Arctic Region\n",
      "topic 18 : Mind Sports Such as Chess, Quizzing and Debating Should Be Olympic Sports\n",
      "topic 19 : Abolish standardized tests for University Admission\n",
      "topic 20 : The drinking age should be lowered from 21 to a younger age\n",
      "topic 21 : The grammar school system should be reintroduced in the UK\n",
      "topic 22 : Rain Man is such a bad image of autism\n",
      "topic 23 : Cell phone radiation is safe\n",
      "topic 24 : Traditional university has to be replaced by online learning\n",
      "topic 25 : Store nuclear waste underground\n",
      "topic 26 : All patents should be removed on anti-retroviral drugs to fight AIDS\n",
      "topic 27 : Experience is the key success for entrepreneurship.\n",
      "topic 28 : Teachers must be banned from interacting with students via social networking websites.\n",
      "topic 29 : There must be a system of universal healthcare\n",
      "topic 30 : Julian Assange is a journalist\n",
      "topic 31 : Online Shopping Is Better Than Offline Shopping\n",
      "topic 32 : News organisations should be free to exclude news of homosexuality where it causes offence to their viewers\n",
      "topic 33 : Hate crime 'enhancements' are unjust\n",
      "topic 34 : Make lessons in a foreign language compulsory for school pupils\n",
      "topic 35 : Airbrushing of women’s bodies in the media be banned\n",
      "topic 36 : The Private Education System Should Be Abolished\n",
      "topic 37 : The Reproductive Health Bill will undermine families and values\n",
      "topic 38 : Parents should be held responsible for their school-going children's discipline problems\n",
      "topic 39 : Co2 Does Not Cause Global Warming\n"
     ]
    },
    {
     "name": "stderr",
     "output_type": "stream",
     "text": [
      "\n"
     ]
    }
   ],
   "source": [
    "contradictions_by_topic = {}\n",
    "for i in tqdm(range(40)):\n",
    "    print('topic', i, \":\", labels[i])\n",
    "    # Extract the target column\n",
    "    target_column = matrix[:, i]\n",
    "    # Find the indices of rows where the value is some value in the target column\n",
    "    support_ind = np.where(target_column == 1)[0]\n",
    "    against_ind = np.where(target_column == -1)[0]\n",
    "    # print(support_ind)\n",
    "    # print(against_ind)\n",
    "    \n",
    "    support = [data['text'][el] for el in support_ind]\n",
    "    against = [data['text'][el] for el in against_ind]\n",
    "    topic_support = data[data['text'].isin(support)]['target'].tolist()\n",
    "    topic_against = data[data['text'].isin(against)]['target'].tolist()\n",
    "    \n",
    "    \n",
    "    # Padding in case of different length\n",
    "    max_length = max(len(support), len(against))\n",
    "    support.extend([np.nan] * (max_length - len(support)))\n",
    "    against.extend([np.nan] * (max_length - len(against)))\n",
    "    topic_support.extend([np.nan] * (max_length - len(topic_support)))\n",
    "    topic_against.extend([np.nan] * (max_length - len(topic_against)))\n",
    "    \n",
    "    # print(len(support))\n",
    "    # print(len(topic_support))\n",
    "    # print(len(against))\n",
    "    # print(len(topic_against))\n",
    "\n",
    "    \n",
    "    new_df = pd.DataFrame({'support': support, \"topic_support\" : topic_support, \n",
    "                           'against': against, \"topic_against\": topic_against})\n",
    "\n",
    "    contradictions_by_topic[labels[i]] = new_df\n",
    "    \n",
    "    # File path where the list of DataFrames will be saved\n",
    "    file_path = 'results/contradictions_by_topic_perspectrum_OESD_40.pkl'\n",
    "\n",
    "    # Save the list of DataFrames to a file\n",
    "    with open(file_path, 'wb') as file:\n",
    "        pickle.dump(contradictions_by_topic, file)"
   ]
  },
  {
   "cell_type": "code",
   "execution_count": 12,
   "metadata": {},
   "outputs": [],
   "source": [
    "for topic in contradictions_by_topic:\n",
    "    contradictions_by_topic[topic].to_csv(f\"results/OESD_perspectrum_40/{topic}.csv\")"
   ]
  },
  {
   "cell_type": "code",
   "execution_count": 13,
   "metadata": {},
   "outputs": [
    {
     "data": {
      "text/html": [
       "<div>\n",
       "<style scoped>\n",
       "    .dataframe tbody tr th:only-of-type {\n",
       "        vertical-align: middle;\n",
       "    }\n",
       "\n",
       "    .dataframe tbody tr th {\n",
       "        vertical-align: top;\n",
       "    }\n",
       "\n",
       "    .dataframe thead th {\n",
       "        text-align: right;\n",
       "    }\n",
       "</style>\n",
       "<table border=\"1\" class=\"dataframe\">\n",
       "  <thead>\n",
       "    <tr style=\"text-align: right;\">\n",
       "      <th></th>\n",
       "      <th>support</th>\n",
       "      <th>topic_support</th>\n",
       "      <th>against</th>\n",
       "      <th>topic_against</th>\n",
       "    </tr>\n",
       "  </thead>\n",
       "  <tbody>\n",
       "    <tr>\n",
       "      <th>0</th>\n",
       "      <td>A ban may make the problem worse</td>\n",
       "      <td>Airbrushing of women’s bodies in the media be ...</td>\n",
       "      <td>Restrictions will not help, instead will will ...</td>\n",
       "      <td>Airbrushing of women’s bodies in the media be ...</td>\n",
       "    </tr>\n",
       "    <tr>\n",
       "      <th>1</th>\n",
       "      <td>Prohibiting it will make the situation even mo...</td>\n",
       "      <td>Airbrushing of women’s bodies in the media be ...</td>\n",
       "      <td>Many scientists think it does</td>\n",
       "      <td>Co2 Does Not Cause Global Warming</td>\n",
       "    </tr>\n",
       "    <tr>\n",
       "      <th>2</th>\n",
       "      <td>There is no scientifically valid mechanism for...</td>\n",
       "      <td>Co2 Does Not Cause Global Warming</td>\n",
       "      <td>There are other things that cause the global w...</td>\n",
       "      <td>Co2 Does Not Cause Global Warming</td>\n",
       "    </tr>\n",
       "    <tr>\n",
       "      <th>3</th>\n",
       "      <td>Several scientists this it is the cause.</td>\n",
       "      <td>Co2 Does Not Cause Global Warming</td>\n",
       "      <td>Because people are losing lives and our climat...</td>\n",
       "      <td>Co2 Does Not Cause Global Warming</td>\n",
       "    </tr>\n",
       "    <tr>\n",
       "      <th>4</th>\n",
       "      <td>7 Global warming is based on computer modellin...</td>\n",
       "      <td>Co2 Does Not Cause Global Warming</td>\n",
       "      <td>People are losing their lives because of clima...</td>\n",
       "      <td>Co2 Does Not Cause Global Warming</td>\n",
       "    </tr>\n",
       "    <tr>\n",
       "      <th>5</th>\n",
       "      <td>There is no evidence that 7 Global warming is ...</td>\n",
       "      <td>Co2 Does Not Cause Global Warming</td>\n",
       "      <td>The climate is changing and people are dying.</td>\n",
       "      <td>Co2 Does Not Cause Global Warming</td>\n",
       "    </tr>\n",
       "    <tr>\n",
       "      <th>6</th>\n",
       "      <td>Computer modelling showing 7 Global warming ma...</td>\n",
       "      <td>Co2 Does Not Cause Global Warming</td>\n",
       "      <td>There are too many flaws</td>\n",
       "      <td>Examinations are a fair way of testing our kno...</td>\n",
       "    </tr>\n",
       "    <tr>\n",
       "      <th>7</th>\n",
       "      <td>The 'Global warming' phenomenon could be cause...</td>\n",
       "      <td>Co2 Does Not Cause Global Warming</td>\n",
       "      <td>NaN</td>\n",
       "      <td>NaN</td>\n",
       "    </tr>\n",
       "    <tr>\n",
       "      <th>8</th>\n",
       "      <td>This situation we are in with global warming m...</td>\n",
       "      <td>Co2 Does Not Cause Global Warming</td>\n",
       "      <td>NaN</td>\n",
       "      <td>NaN</td>\n",
       "    </tr>\n",
       "    <tr>\n",
       "      <th>9</th>\n",
       "      <td>Co2 does not hold in heat!</td>\n",
       "      <td>Co2 Does Not Cause Global Warming</td>\n",
       "      <td>NaN</td>\n",
       "      <td>NaN</td>\n",
       "    </tr>\n",
       "    <tr>\n",
       "      <th>10</th>\n",
       "      <td>Our children and their children deserve the Ar...</td>\n",
       "      <td>Cease the exploitation of the Arctic Region</td>\n",
       "      <td>NaN</td>\n",
       "      <td>NaN</td>\n",
       "    </tr>\n",
       "  </tbody>\n",
       "</table>\n",
       "</div>"
      ],
      "text/plain": [
       "                                              support  \\\n",
       "0                    A ban may make the problem worse   \n",
       "1   Prohibiting it will make the situation even mo...   \n",
       "2   There is no scientifically valid mechanism for...   \n",
       "3            Several scientists this it is the cause.   \n",
       "4   7 Global warming is based on computer modellin...   \n",
       "5   There is no evidence that 7 Global warming is ...   \n",
       "6   Computer modelling showing 7 Global warming ma...   \n",
       "7   The 'Global warming' phenomenon could be cause...   \n",
       "8   This situation we are in with global warming m...   \n",
       "9                          Co2 does not hold in heat!   \n",
       "10  Our children and their children deserve the Ar...   \n",
       "\n",
       "                                        topic_support  \\\n",
       "0   Airbrushing of women’s bodies in the media be ...   \n",
       "1   Airbrushing of women’s bodies in the media be ...   \n",
       "2                   Co2 Does Not Cause Global Warming   \n",
       "3                   Co2 Does Not Cause Global Warming   \n",
       "4                   Co2 Does Not Cause Global Warming   \n",
       "5                   Co2 Does Not Cause Global Warming   \n",
       "6                   Co2 Does Not Cause Global Warming   \n",
       "7                   Co2 Does Not Cause Global Warming   \n",
       "8                   Co2 Does Not Cause Global Warming   \n",
       "9                   Co2 Does Not Cause Global Warming   \n",
       "10        Cease the exploitation of the Arctic Region   \n",
       "\n",
       "                                              against  \\\n",
       "0   Restrictions will not help, instead will will ...   \n",
       "1                       Many scientists think it does   \n",
       "2   There are other things that cause the global w...   \n",
       "3   Because people are losing lives and our climat...   \n",
       "4   People are losing their lives because of clima...   \n",
       "5       The climate is changing and people are dying.   \n",
       "6                            There are too many flaws   \n",
       "7                                                 NaN   \n",
       "8                                                 NaN   \n",
       "9                                                 NaN   \n",
       "10                                                NaN   \n",
       "\n",
       "                                        topic_against  \n",
       "0   Airbrushing of women’s bodies in the media be ...  \n",
       "1                   Co2 Does Not Cause Global Warming  \n",
       "2                   Co2 Does Not Cause Global Warming  \n",
       "3                   Co2 Does Not Cause Global Warming  \n",
       "4                   Co2 Does Not Cause Global Warming  \n",
       "5                   Co2 Does Not Cause Global Warming  \n",
       "6   Examinations are a fair way of testing our kno...  \n",
       "7                                                 NaN  \n",
       "8                                                 NaN  \n",
       "9                                                 NaN  \n",
       "10                                                NaN  "
      ]
     },
     "execution_count": 13,
     "metadata": {},
     "output_type": "execute_result"
    }
   ],
   "source": [
    "contradictions_by_topic[\"Co2 Does Not Cause Global Warming\"]"
   ]
  },
  {
   "cell_type": "markdown",
   "metadata": {},
   "source": [
    "### Double-checking by ChatGPT"
   ]
  },
  {
   "cell_type": "code",
   "execution_count": 5,
   "metadata": {},
   "outputs": [],
   "source": [
    "filtered_topics = ['Abolish standardized tests for University Admission',\n",
    "                   \"Cell phone radiation is safe\",\n",
    "                   \"Examinations are a fair way of testing our knowledge\",\n",
    "                   \"High taxes are necessary for an effective state\",\n",
    "                   \"Julian Assange is a journalist\",\n",
    "                   \"Make sex education mandatory in schools\"\n",
    "                   ]"
   ]
  },
  {
   "cell_type": "code",
   "execution_count": 17,
   "metadata": {},
   "outputs": [],
   "source": [
    "dfs = []\n",
    "for topic in new_filtered:\n",
    "    df = pd.read_csv(f\"results/OESD_perspectrum_40/{topic}.csv\")\n",
    "    dfs.append(df)"
   ]
  },
  {
   "cell_type": "code",
   "execution_count": 7,
   "metadata": {},
   "outputs": [],
   "source": [
    "inconsistency_detector_id = \"asst_9TNkN3fPV4dybff9wzGhB1gA\""
   ]
  },
  {
   "cell_type": "code",
   "execution_count": 14,
   "metadata": {},
   "outputs": [],
   "source": [
    "def run_inconsistency_detection(text1, text2):\n",
    "    if str(text1) not in [\"NaN\", \"nan\"] and str(text2) not in [\"NaN\", \"nan\"]:\n",
    "        statement = \"Text 1: \" + text1 + \"\\nText 2: \" + text2\n",
    "        try:\n",
    "            # Create a thread with a message.\n",
    "            thread = client.beta.threads.create(\n",
    "                messages=[\n",
    "                    {\n",
    "                        \"role\": \"user\",\n",
    "                        # Update this with the query you want to use.\n",
    "                        \"content\": statement,\n",
    "                    }\n",
    "                ]\n",
    "            )\n",
    "        # Submit the thread to the assistant (as a new run).\n",
    "            run = client.beta.threads.runs.create(thread_id=thread.id, assistant_id=inconsistency_detector_id)\n",
    "\n",
    "            # Wait for run to complete.\n",
    "            while run.status != \"completed\":\n",
    "                run = client.beta.threads.runs.retrieve(thread_id=thread.id, run_id=run.id)\n",
    "                time.sleep(1)\n",
    "            # else:\n",
    "            #     print(f\"🏁 Run Completed!\")\n",
    "\n",
    "            # Get the latest message from the thread.\n",
    "            message_response = client.beta.threads.messages.list(thread_id=thread.id)\n",
    "            messages = message_response.data\n",
    "\n",
    "            # Print the latest message.\n",
    "            latest_message = messages[0]\n",
    "            return latest_message.content[0].text.value\n",
    "        except:\n",
    "            print(f\"Run went wrong\")\n",
    "            return None\n",
    "    \n",
    "    "
   ]
  },
  {
   "cell_type": "code",
   "execution_count": 10,
   "metadata": {},
   "outputs": [
    {
     "data": {
      "text/plain": [
       "'Less incentive to study at university'"
      ]
     },
     "execution_count": 10,
     "metadata": {},
     "output_type": "execute_result"
    }
   ],
   "source": [
    "dfs[0]['support'][0]"
   ]
  },
  {
   "cell_type": "code",
   "execution_count": 16,
   "metadata": {},
   "outputs": [],
   "source": [
    "new_filtered = [\"Traditional university has to be replaced by online learning\",\n",
    "                \"There should be a presumption in favour of publication for information held by public bodies\",\n",
    "                \"There must be a system of universal healthcare\",\n",
    "                \"The Private Education System Should Be Abolished\",\n",
    "                \"Provide breakfast for all school students\"\n",
    "                ]"
   ]
  },
  {
   "cell_type": "code",
   "execution_count": 18,
   "metadata": {},
   "outputs": [
    {
     "name": "stderr",
     "output_type": "stream",
     "text": [
      "  0%|          | 0/5 [00:00<?, ?it/s]"
     ]
    },
    {
     "name": "stdout",
     "output_type": "stream",
     "text": [
      "Traditional university has to be replaced by online learning\n"
     ]
    },
    {
     "name": "stderr",
     "output_type": "stream",
     "text": [
      "C:\\Users\\Nursulu_1\\AppData\\Local\\Temp\\ipykernel_419244\\1974346899.py:12: SettingWithCopyWarning: \n",
      "A value is trying to be set on a copy of a slice from a DataFrame\n",
      "\n",
      "See the caveats in the documentation: https://pandas.pydata.org/pandas-docs/stable/user_guide/indexing.html#returning-a-view-versus-a-copy\n",
      "  data['Chat_gpt'][j] = res\n",
      "C:\\Users\\Nursulu_1\\AppData\\Local\\Temp\\ipykernel_419244\\1974346899.py:12: FutureWarning: Setting an item of incompatible dtype is deprecated and will raise in a future error of pandas. Value 'Reasoning: Text 1 promotes the accessibility of academic research through social media which broadens the educational resources available to the public. Text 2 points out a potential concern regarding revenue for universities, suggesting that making too much content free can impact their ability to secure private funding. There doesn't necessarily appear to be a direct inconsistency between these two texts as one discusses the benefits of broader access through social media (without explicitly stating all content must be free) and the other expresses a concern about financial impacts of all-encompassing free access. They address related but not directly conflicting points.\n",
      "\n",
      "Answer: No.' has dtype incompatible with int64, please explicitly cast to a compatible dtype first.\n",
      "  data['Chat_gpt'][j] = res\n",
      "100%|██████████| 10/10 [06:17<00:00, 37.77s/it]\n",
      " 20%|██        | 1/5 [06:17<25:10, 377.70s/it]"
     ]
    },
    {
     "name": "stdout",
     "output_type": "stream",
     "text": [
      "There should be a presumption in favour of publication for information held by public bodies\n"
     ]
    },
    {
     "name": "stderr",
     "output_type": "stream",
     "text": [
      "C:\\Users\\Nursulu_1\\AppData\\Local\\Temp\\ipykernel_419244\\1974346899.py:12: SettingWithCopyWarning: \n",
      "A value is trying to be set on a copy of a slice from a DataFrame\n",
      "\n",
      "See the caveats in the documentation: https://pandas.pydata.org/pandas-docs/stable/user_guide/indexing.html#returning-a-view-versus-a-copy\n",
      "  data['Chat_gpt'][j] = res\n",
      "C:\\Users\\Nursulu_1\\AppData\\Local\\Temp\\ipykernel_419244\\1974346899.py:12: FutureWarning: Setting an item of incompatible dtype is deprecated and will raise in a future error of pandas. Value 'Reasoning: Text 1 emphasizes the importance of making information accessible to all individuals, including non-citizens and minors, to ensure they are informed about matters that affect them. Text 2, however, speaks about restricting the publication of specific content, such as \"torturous scenes.\" These texts address different aspects of information dissemination—Text 1 about broad access and Text 2 about content restriction. There is no specific inconsistency as they deal with different aspects of information management: one with access rights and the other with content sensitivity.\n",
      "\n",
      "Answer: Unrelated.' has dtype incompatible with int64, please explicitly cast to a compatible dtype first.\n",
      "  data['Chat_gpt'][j] = res\n",
      "100%|██████████| 9/9 [02:39<00:00, 17.75s/it]\n",
      " 40%|████      | 2/5 [08:57<12:28, 249.49s/it]"
     ]
    },
    {
     "name": "stdout",
     "output_type": "stream",
     "text": [
      "There must be a system of universal healthcare\n"
     ]
    },
    {
     "name": "stderr",
     "output_type": "stream",
     "text": [
      "C:\\Users\\Nursulu_1\\AppData\\Local\\Temp\\ipykernel_419244\\1974346899.py:12: SettingWithCopyWarning: \n",
      "A value is trying to be set on a copy of a slice from a DataFrame\n",
      "\n",
      "See the caveats in the documentation: https://pandas.pydata.org/pandas-docs/stable/user_guide/indexing.html#returning-a-view-versus-a-copy\n",
      "  data['Chat_gpt'][j] = res\n",
      "C:\\Users\\Nursulu_1\\AppData\\Local\\Temp\\ipykernel_419244\\1974346899.py:12: FutureWarning: Setting an item of incompatible dtype is deprecated and will raise in a future error of pandas. Value 'Reasoning: Redistributing wealth to balance income disparity, as stated in Text 1, usually involves using increased tax revenues or similar means to fund policies that aim to reduce economic inequality. Universal healthcare, which is mentioned in Text 2 as being unaffordable, is a type of policy that could potentially be funded through redistribution of wealth. If Text 1 advocates for redistribution to tackle inequality, it could logically imply support for funding policies like universal healthcare. Thus, saying universal healthcare is unaffordable may be inconsistent with a commitment to redistribution of wealth to balance income disparities.\n",
      "\n",
      "Answer: Yes.' has dtype incompatible with int64, please explicitly cast to a compatible dtype first.\n",
      "  data['Chat_gpt'][j] = res\n",
      "100%|██████████| 7/7 [05:30<00:00, 47.26s/it]\n",
      " 60%|██████    | 3/5 [14:28<09:33, 286.61s/it]"
     ]
    },
    {
     "name": "stdout",
     "output_type": "stream",
     "text": [
      "The Private Education System Should Be Abolished\n"
     ]
    },
    {
     "name": "stderr",
     "output_type": "stream",
     "text": [
      "C:\\Users\\Nursulu_1\\AppData\\Local\\Temp\\ipykernel_419244\\1974346899.py:12: SettingWithCopyWarning: \n",
      "A value is trying to be set on a copy of a slice from a DataFrame\n",
      "\n",
      "See the caveats in the documentation: https://pandas.pydata.org/pandas-docs/stable/user_guide/indexing.html#returning-a-view-versus-a-copy\n",
      "  data['Chat_gpt'][j] = res\n",
      "C:\\Users\\Nursulu_1\\AppData\\Local\\Temp\\ipykernel_419244\\1974346899.py:12: FutureWarning: Setting an item of incompatible dtype is deprecated and will raise in a future error of pandas. Value 'Unrelated.' has dtype incompatible with int64, please explicitly cast to a compatible dtype first.\n",
      "  data['Chat_gpt'][j] = res\n",
      "100%|██████████| 17/17 [07:15<00:00, 25.65s/it]\n",
      " 80%|████████  | 4/5 [21:44<05:45, 345.59s/it]"
     ]
    },
    {
     "name": "stdout",
     "output_type": "stream",
     "text": [
      "Provide breakfast for all school students\n"
     ]
    },
    {
     "name": "stderr",
     "output_type": "stream",
     "text": [
      "C:\\Users\\Nursulu_1\\AppData\\Local\\Temp\\ipykernel_419244\\1974346899.py:12: SettingWithCopyWarning: \n",
      "A value is trying to be set on a copy of a slice from a DataFrame\n",
      "\n",
      "See the caveats in the documentation: https://pandas.pydata.org/pandas-docs/stable/user_guide/indexing.html#returning-a-view-versus-a-copy\n",
      "  data['Chat_gpt'][j] = res\n",
      "C:\\Users\\Nursulu_1\\AppData\\Local\\Temp\\ipykernel_419244\\1974346899.py:12: FutureWarning: Setting an item of incompatible dtype is deprecated and will raise in a future error of pandas. Value 'Answer: No\n",
      "\n",
      "Reasoning: Both texts emphasize ensuring well-being through adequate resources; Text 1 speaks about resources for a healthy life broadly, and Text 2 specifies one aspect of this principle by focusing on parents ensuring their children have a nutritious breakfast. Neither statement contradicts the other; rather, Text 2 provides a specific action that supports the broader principle outlined in Text 1.' has dtype incompatible with int64, please explicitly cast to a compatible dtype first.\n",
      "  data['Chat_gpt'][j] = res\n",
      "100%|██████████| 12/12 [04:58<00:00, 24.88s/it]\n",
      "100%|██████████| 5/5 [26:42<00:00, 320.57s/it]\n"
     ]
    }
   ],
   "source": [
    "for i in tqdm(range(len(dfs))):\n",
    "    print(new_filtered[i])\n",
    "    data = dfs[i]\n",
    "    data['Chat_gpt'] = 0\n",
    "    for j in tqdm(range(len(data['support']))):\n",
    "        # print(data['Texts'][i])\n",
    "        text1 = data['support'][j]\n",
    "        for k in range(len(data['against'])):\n",
    "            text2 = data['against'][k]\n",
    "            if data['topic_support'][j] != data['topic_against'][k]:\n",
    "                res = run_inconsistency_detection(text1, text2)\n",
    "                data['Chat_gpt'][j] = res\n",
    "                data.to_csv(f\"results/OESD_perspectrum_40/with_gpt_comments/{new_filtered[i]}.csv\", index=False)\n",
    "\n",
    "\n",
    "\n"
   ]
  },
  {
   "cell_type": "code",
   "execution_count": 38,
   "metadata": {},
   "outputs": [
    {
     "data": {
      "text/plain": [
       "381    Abolish standardized tests for University Admi...\n",
       "Name: target, dtype: object"
      ]
     },
     "execution_count": 38,
     "metadata": {},
     "output_type": "execute_result"
    }
   ],
   "source": [
    "data[data['text']==\"Standardized tests keep schools accountable in making sure their students are prepared for the world.\"]['target']"
   ]
  },
  {
   "cell_type": "code",
   "execution_count": 41,
   "metadata": {},
   "outputs": [
    {
     "data": {
      "text/plain": [
       "['Airbrushing of women’s bodies in the media be banned',\n",
       " 'Airbrushing of women’s bodies in the media be banned',\n",
       " 'Co2 Does Not Cause Global Warming',\n",
       " 'Co2 Does Not Cause Global Warming',\n",
       " 'Co2 Does Not Cause Global Warming',\n",
       " 'Co2 Does Not Cause Global Warming',\n",
       " 'Co2 Does Not Cause Global Warming',\n",
       " 'Co2 Does Not Cause Global Warming',\n",
       " 'Co2 Does Not Cause Global Warming',\n",
       " 'Co2 Does Not Cause Global Warming',\n",
       " 'Cease the exploitation of the Arctic Region']"
      ]
     },
     "execution_count": 41,
     "metadata": {},
     "output_type": "execute_result"
    }
   ],
   "source": [
    "# Extract the target values for the texts in support\n",
    "targets = data[data['text'].isin(support)]['target'].tolist()\n",
    "\n",
    "targets"
   ]
  },
  {
   "cell_type": "code",
   "execution_count": 40,
   "metadata": {},
   "outputs": [
    {
     "data": {
      "text/plain": [
       "['Airbrushing of women’s bodies in the media be banned',\n",
       " 'Airbrushing of women’s bodies in the media be banned',\n",
       " 'Co2 Does Not Cause Global Warming',\n",
       " 'Co2 Does Not Cause Global Warming',\n",
       " 'Co2 Does Not Cause Global Warming',\n",
       " 'Co2 Does Not Cause Global Warming',\n",
       " 'Co2 Does Not Cause Global Warming',\n",
       " 'Co2 Does Not Cause Global Warming',\n",
       " 'Co2 Does Not Cause Global Warming',\n",
       " 'Co2 Does Not Cause Global Warming',\n",
       " 'Cease the exploitation of the Arctic Region']"
      ]
     },
     "execution_count": 40,
     "metadata": {},
     "output_type": "execute_result"
    }
   ],
   "source": [
    "target_list"
   ]
  },
  {
   "cell_type": "code",
   "execution_count": 34,
   "metadata": {},
   "outputs": [],
   "source": [
    "df = pd.read_csv(\"results/OESD_perspectrum_40/Co2 Does Not Cause Global Warming.csv\")"
   ]
  },
  {
   "cell_type": "code",
   "execution_count": 32,
   "metadata": {},
   "outputs": [
    {
     "ename": "AttributeError",
     "evalue": "'str' object has no attribute 'loc'",
     "output_type": "error",
     "traceback": [
      "\u001b[1;31m---------------------------------------------------------------------------\u001b[0m",
      "\u001b[1;31mAttributeError\u001b[0m                            Traceback (most recent call last)",
      "Cell \u001b[1;32mIn[32], line 1\u001b[0m\n\u001b[1;32m----> 1\u001b[0m \u001b[43mdf\u001b[49m\u001b[43m[\u001b[49m\u001b[38;5;124;43m'\u001b[39;49m\u001b[38;5;124;43mtopic_support\u001b[39;49m\u001b[38;5;124;43m'\u001b[39;49m\u001b[43m]\u001b[49m\u001b[43m[\u001b[49m\u001b[38;5;241;43m0\u001b[39;49m\u001b[43m]\u001b[49m\u001b[38;5;241;43m.\u001b[39;49m\u001b[43mloc\u001b[49m[\u001b[38;5;241m216\u001b[39m]\n",
      "\u001b[1;31mAttributeError\u001b[0m: 'str' object has no attribute 'loc'"
     ]
    }
   ],
   "source": [
    "df['topic_support'][0].loc[216]"
   ]
  },
  {
   "cell_type": "markdown",
   "metadata": {},
   "source": [
    "### Checking degrees of confidence"
   ]
  },
  {
   "cell_type": "code",
   "execution_count": 6,
   "metadata": {},
   "outputs": [
    {
     "name": "stdout",
     "output_type": "stream",
     "text": [
      "{'1': 0.9985837425405054, ' ': 0.0005641609358038662, '\\n': 0.00048636762012253045, '2': 0.00019892235206740561, '\\n\\n': 5.4404102137826425e-05}\n"
     ]
    }
   ],
   "source": [
    "client = OpenAI()\n",
    "\n",
    "response = client.completions.create(\n",
    "  model=\"gpt-3.5-turbo-instruct\",\n",
    "  prompt=(\"Your task is to. You see that Timmy likes to step on cat's tails to hear them howl. Is Timmy:\"\n",
    "  \"1: Naughty? 2: Nice?\\n\\n\"\n",
    "  \"(Santa Claus only outputs the number as his answer.)\\n\\nA: \"),\n",
    "  temperature=2,\n",
    "  max_tokens=1,\n",
    "  logprobs=5,\n",
    ")\n",
    "log_probs = response.choices[0].logprobs.top_logprobs[0]\n",
    "normal_probs = {key: math.exp(value) for key, value in log_probs.items()}\n",
    "print(normal_probs)"
   ]
  },
  {
   "cell_type": "code",
   "execution_count": 37,
   "metadata": {},
   "outputs": [
    {
     "name": "stdout",
     "output_type": "stream",
     "text": [
      "{'no': 0.3915460679905344, 'No': 0.32816078255032416, '\\n': 0.11634836985877663, '\\n\\n': 0.04509597421424368, ' no': 0.030935923423506814}\n"
     ]
    }
   ],
   "source": [
    "client = OpenAI()\n",
    "\n",
    "response = client.completions.create(\n",
    "  model=\"gpt-3.5-turbo-instruct\",\n",
    "  prompt=(\"Your task is to tell whether two phrases can be used interchangeably without losing the meaning.\"\n",
    "          \"Phrase 1: childcare_subsidies. Phrase 2: childcare_investments\"\n",
    "  \"(You can only output 'yes' or 'no' as an answer.) A: \"),\n",
    "  temperature=2,\n",
    "  max_tokens=1,\n",
    "  logprobs=5,\n",
    ")\n",
    "log_probs = response.choices[0].logprobs.top_logprobs[0]\n",
    "normal_probs = {key: math.exp(value) for key, value in log_probs.items()}\n",
    "print(normal_probs)"
   ]
  },
  {
   "cell_type": "code",
   "execution_count": null,
   "metadata": {},
   "outputs": [],
   "source": []
  }
 ],
 "metadata": {
  "kernelspec": {
   "display_name": "Python 3",
   "language": "python",
   "name": "python3"
  },
  "language_info": {
   "codemirror_mode": {
    "name": "ipython",
    "version": 3
   },
   "file_extension": ".py",
   "mimetype": "text/x-python",
   "name": "python",
   "nbconvert_exporter": "python",
   "pygments_lexer": "ipython3",
   "version": "3.11.undefined"
  }
 },
 "nbformat": 4,
 "nbformat_minor": 2
}
