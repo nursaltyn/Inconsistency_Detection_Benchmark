{
 "cells": [
  {
   "cell_type": "code",
   "execution_count": null,
   "metadata": {},
   "outputs": [],
   "source": [
    "import pandas as pd\n",
    "from statsmodels.stats.inter_rater import fleiss_kappa\n",
    "from sklearn.metrics import cohen_kappa_score\n",
    "from collections import Counter"
   ]
  },
  {
   "cell_type": "code",
   "execution_count": 43,
   "metadata": {},
   "outputs": [],
   "source": [
    "import krippendorff"
   ]
  },
  {
   "cell_type": "code",
   "execution_count": 106,
   "metadata": {},
   "outputs": [],
   "source": [
    "# Load data (assuming you exported from Qualtrics in CSV format)\n",
    "data = pd.read_csv(r'C:\\Users\\Nursulu_1\\Downloads\\ContraDetect\\automatic_stance_detection\\survey_5_categories_October_14_2024.csv')\n",
    "# data = pd.read_csv(r'C:\\Users\\Nursulu_1\\Downloads\\ContraDetect\\automatic_stance_detection\\survey_with_verification_05_10_24.csv')\n",
    "# data = pd.read_csv(r'C:\\Users\\Nursulu_1\\Downloads\\ContraDetect\\automatic_stance_detection\\survey_with_verification_20_09_24.csv')\n",
    "# data = pd.read_csv(r'C:\\Users\\Nursulu_1\\Downloads\\ContraDetect\\automatic_stance_detection\\survey_17_09_24.csv')\n",
    "# data = pd.read_csv(r'C:\\Users\\Nursulu_1\\Downloads\\ContraDetect\\automatic_stance_detection\\survey_23_08_24.csv')"
   ]
  },
  {
   "cell_type": "markdown",
   "metadata": {},
   "source": [
    "Krippendorff's Alpha score"
   ]
  },
  {
   "cell_type": "code",
   "execution_count": null,
   "metadata": {},
   "outputs": [],
   "source": [
    "23.08.24  Score:  0.030641616557618767\n",
    "\n",
    "[[3, 1, 3, 3, 3, 4, 4, 1, 3, 1],\n",
    " [7, 7, 7, 3, 4, 3, 7, 6, 7, 3],\n",
    " [3, 3, 3, 1, 3, 4, 3, 1, 3, 4],\n",
    " [4, 7, 7, 7, 7, 5, 1, 7, 7, 1],\n",
    " [6, 4, 6, 6, 6, 6, 1, 6, 6, 6],\n",
    " [1, 3, 7, 1, 2, 2, 3, 1, 3, 1],\n",
    " [4, 3, 6, 3, 6, 4, 6, 6, 3, 3],\n",
    " [3, 3, 7, 6, 3, 6, 3, 1, 3, 1]]"
   ]
  },
  {
   "cell_type": "code",
   "execution_count": null,
   "metadata": {},
   "outputs": [],
   "source": [
    "17.09.24 Score: 0.018\n",
    "\n",
    "[[3, 3, 3, 3, 4, 3, 4, 4, 3, 1],\n",
    " [3, 3, 4, 3, 4, 5, 4, 7, 4, 4],\n",
    " [1, 4, 4, 3, 4, 4, 7, 4, 3, 4],\n",
    " [1, 5, 5, 6, 3, 3, 4, 3, 4, 1],\n",
    " [4, 3, 4, 3, 3, 4, 4, 3, 3, 4],\n",
    " [7, 5, 7, 7, 7, 3, 7, 4, 3, 3],\n",
    " [1, 2, 4, 3, 1, 4, 7, 1, 2, 1],\n",
    " [2, 1, 2, 2, 1, 1, 1, 2, 1, 4]]"
   ]
  },
  {
   "cell_type": "code",
   "execution_count": null,
   "metadata": {},
   "outputs": [],
   "source": [
    "20.09.24 Score: 0.08699\n",
    "\n",
    "[[4, 3, 4, 1, 6, 6, 6, 3, 2, 3],\n",
    " [7, 3, 3, 3, 4, 4, 4, 3, 3, 3],\n",
    " [4, 1, 5, 3, 3, 4, 4, 3, 2, 4],\n",
    " [4, 3, 4, 4, 5, 7, 4, 3, 7, 3],\n",
    " [4, 1, 3, 3, 2, 1, 1, 4, 5, 3],\n",
    " [4, 3, 7, 4, 7, 3, 4, 3, 4, 3],\n",
    " [4, 1, 4, 1, 3, 4, 1, 1, 4, 1],\n",
    " [1, 2, 1, 1, 1, 2, 1, 1, 2, 2]]"
   ]
  },
  {
   "cell_type": "code",
   "execution_count": null,
   "metadata": {},
   "outputs": [],
   "source": [
    "05.10.24 Score: 0.010\n",
    "\n",
    "[[3, 3, 2, 3, 4, 3, 4, 6, 4, 3],\n",
    " [2, 3, 3, 3, 5, 3, 6, 4, 3, 4],\n",
    " [3, 4, 4, 4, 4, 2, 4, 3, 3, 7],\n",
    " [6, 6, 3, 3, 6, 4, 7, 6, 2, 3],\n",
    " [4, 3, 4, 4, 4, 4, 3, 4, 4, 4],\n",
    " [7, 3, 7, 3, 3, 3, 4, 4, 3, 3],\n",
    " [4, 2, 4, 4, 1, 4, 5, 4, 4, 2],\n",
    " [4, 3, 3, 4, 5, 5, 3, 5, 5, 4]]"
   ]
  },
  {
   "cell_type": "code",
   "execution_count": null,
   "metadata": {},
   "outputs": [],
   "source": [
    "14.10.24 Score: 0.069\n",
    "\n",
    "[[3, 4, 4, 4, 2, 2, 4, 2, 2, 2],\n",
    " [3, 5, 2, 5, 2, 3, 3, 3, 3, 4],\n",
    " [2, 2, 4, 2, 2, 2, 3, 2, 1, 2],\n",
    " [4, 2, 1, 1, 3, 3, 3, 3, 2, 4],\n",
    " [3, 2, 2, 1, 3, 3, 4, 3, 2, 1],\n",
    " [5, 2, 5, 5, 2, 3, 3, 3, 3, 3],\n",
    " [3, 5, 2, 1, 1, 3, 3, 3, 1, 3],\n",
    " [4, 3, 2, 2, 2, 2, 4, 2, 3, 1]]"
   ]
  },
  {
   "cell_type": "markdown",
   "metadata": {},
   "source": [
    "Krippendorff's Alpha score "
   ]
  },
  {
   "cell_type": "code",
   "execution_count": 117,
   "metadata": {},
   "outputs": [
    {
     "data": {
      "text/plain": [
       "[[3, 4, 4, 4, 2, 2, 4, 2, 2, 2],\n",
       " [3, 5, 2, 5, 2, 3, 3, 3, 3, 4],\n",
       " [2, 2, 4, 2, 2, 2, 3, 2, 1, 2],\n",
       " [4, 2, 1, 1, 3, 3, 3, 3, 2, 4],\n",
       " [3, 2, 2, 1, 3, 3, 4, 3, 2, 1],\n",
       " [5, 2, 5, 5, 2, 3, 3, 3, 3, 3],\n",
       " [3, 5, 2, 1, 1, 3, 3, 3, 1, 3],\n",
       " [4, 3, 2, 2, 2, 2, 4, 2, 3, 1]]"
      ]
     },
     "execution_count": 117,
     "metadata": {},
     "output_type": "execute_result"
    }
   ],
   "source": [
    "matrix_krippendorff"
   ]
  },
  {
   "cell_type": "code",
   "execution_count": 118,
   "metadata": {},
   "outputs": [
    {
     "name": "stdout",
     "output_type": "stream",
     "text": [
      "Krippendorff's Alpha (Ordinal): 0.06940508992238725\n"
     ]
    }
   ],
   "source": [
    "alpha = krippendorff.alpha(reliability_data=matrix_krippendorff, level_of_measurement='ordinal')\n",
    "\n",
    "print(f\"Krippendorff's Alpha (Ordinal): {alpha}\")"
   ]
  },
  {
   "cell_type": "markdown",
   "metadata": {},
   "source": [
    "Weighted Kappa Score"
   ]
  },
  {
   "cell_type": "code",
   "execution_count": 107,
   "metadata": {},
   "outputs": [],
   "source": [
    "df = data[(data['Finished']=='TRUE')&(data['1'])&(data['AttentionCheck']!=str(2))]"
   ]
  },
  {
   "cell_type": "code",
   "execution_count": 108,
   "metadata": {},
   "outputs": [],
   "source": [
    "df = df.reset_index(drop=True)"
   ]
  },
  {
   "cell_type": "code",
   "execution_count": 109,
   "metadata": {},
   "outputs": [
    {
     "data": {
      "text/html": [
       "<div>\n",
       "<style scoped>\n",
       "    .dataframe tbody tr th:only-of-type {\n",
       "        vertical-align: middle;\n",
       "    }\n",
       "\n",
       "    .dataframe tbody tr th {\n",
       "        vertical-align: top;\n",
       "    }\n",
       "\n",
       "    .dataframe thead th {\n",
       "        text-align: right;\n",
       "    }\n",
       "</style>\n",
       "<table border=\"1\" class=\"dataframe\">\n",
       "  <thead>\n",
       "    <tr style=\"text-align: right;\">\n",
       "      <th></th>\n",
       "      <th>StartDate</th>\n",
       "      <th>EndDate</th>\n",
       "      <th>Status</th>\n",
       "      <th>IPAddress</th>\n",
       "      <th>Progress</th>\n",
       "      <th>Duration (in seconds)</th>\n",
       "      <th>Finished</th>\n",
       "      <th>RecordedDate</th>\n",
       "      <th>ResponseId</th>\n",
       "      <th>RecipientLastName</th>\n",
       "      <th>...</th>\n",
       "      <th>Q27</th>\n",
       "      <th>Q28</th>\n",
       "      <th>Q28.1</th>\n",
       "      <th>Q27.1</th>\n",
       "      <th>Q30</th>\n",
       "      <th>Q28.2</th>\n",
       "      <th>SC0</th>\n",
       "      <th>CorrectAnswers</th>\n",
       "      <th>Create New Field or Choose From Dropdown...</th>\n",
       "      <th>AttentionCheck</th>\n",
       "    </tr>\n",
       "  </thead>\n",
       "  <tbody>\n",
       "    <tr>\n",
       "      <th>0</th>\n",
       "      <td>2024-10-14 8:34:09</td>\n",
       "      <td>2024-10-14 8:39:36</td>\n",
       "      <td>IP Address</td>\n",
       "      <td>92.233.125.85</td>\n",
       "      <td>100</td>\n",
       "      <td>327</td>\n",
       "      <td>TRUE</td>\n",
       "      <td>2024-10-14 8:39:37</td>\n",
       "      <td>R_8YVCbQzya8qmEXY</td>\n",
       "      <td>NaN</td>\n",
       "      <td>...</td>\n",
       "      <td>Rather intense</td>\n",
       "      <td>There was a lot of options and hard to remembe...</td>\n",
       "      <td>Yes</td>\n",
       "      <td>18-24</td>\n",
       "      <td>Bachelor's degree</td>\n",
       "      <td>Moderate</td>\n",
       "      <td>2</td>\n",
       "      <td>2</td>\n",
       "      <td>NaN</td>\n",
       "      <td>1</td>\n",
       "    </tr>\n",
       "    <tr>\n",
       "      <th>1</th>\n",
       "      <td>2024-10-14 8:33:53</td>\n",
       "      <td>2024-10-14 8:39:37</td>\n",
       "      <td>IP Address</td>\n",
       "      <td>90.152.7.115</td>\n",
       "      <td>100</td>\n",
       "      <td>344</td>\n",
       "      <td>TRUE</td>\n",
       "      <td>2024-10-14 8:39:37</td>\n",
       "      <td>R_22QQb5C3XXTBHZK</td>\n",
       "      <td>NaN</td>\n",
       "      <td>...</td>\n",
       "      <td>Rather intense</td>\n",
       "      <td>NaN</td>\n",
       "      <td>Yes</td>\n",
       "      <td>18-24</td>\n",
       "      <td>Bachelor's degree</td>\n",
       "      <td>Rather left-leaning</td>\n",
       "      <td>3</td>\n",
       "      <td>3</td>\n",
       "      <td>NaN</td>\n",
       "      <td>0</td>\n",
       "    </tr>\n",
       "    <tr>\n",
       "      <th>2</th>\n",
       "      <td>2024-10-14 8:34:29</td>\n",
       "      <td>2024-10-14 8:40:10</td>\n",
       "      <td>IP Address</td>\n",
       "      <td>85.255.234.225</td>\n",
       "      <td>100</td>\n",
       "      <td>341</td>\n",
       "      <td>TRUE</td>\n",
       "      <td>2024-10-14 8:40:11</td>\n",
       "      <td>R_85LTrNabmZLoowN</td>\n",
       "      <td>NaN</td>\n",
       "      <td>...</td>\n",
       "      <td>Rather intense</td>\n",
       "      <td>Quite difficult to differentiate between contr...</td>\n",
       "      <td>Yes</td>\n",
       "      <td>18-24</td>\n",
       "      <td>Master's degree</td>\n",
       "      <td>Rather left-leaning</td>\n",
       "      <td>2</td>\n",
       "      <td>2</td>\n",
       "      <td>NaN</td>\n",
       "      <td>0</td>\n",
       "    </tr>\n",
       "    <tr>\n",
       "      <th>3</th>\n",
       "      <td>2024-10-14 8:34:55</td>\n",
       "      <td>2024-10-14 8:40:15</td>\n",
       "      <td>IP Address</td>\n",
       "      <td>31.94.68.30</td>\n",
       "      <td>100</td>\n",
       "      <td>319</td>\n",
       "      <td>TRUE</td>\n",
       "      <td>2024-10-14 8:40:15</td>\n",
       "      <td>R_2IF8yyiieeERYQI</td>\n",
       "      <td>NaN</td>\n",
       "      <td>...</td>\n",
       "      <td>Balanced</td>\n",
       "      <td>NaN</td>\n",
       "      <td>Yes</td>\n",
       "      <td>25-34</td>\n",
       "      <td>Ph.D.</td>\n",
       "      <td>Left-wing</td>\n",
       "      <td>2</td>\n",
       "      <td>2</td>\n",
       "      <td>NaN</td>\n",
       "      <td>0</td>\n",
       "    </tr>\n",
       "    <tr>\n",
       "      <th>4</th>\n",
       "      <td>2024-10-14 8:34:08</td>\n",
       "      <td>2024-10-14 8:40:51</td>\n",
       "      <td>IP Address</td>\n",
       "      <td>82.37.23.17</td>\n",
       "      <td>100</td>\n",
       "      <td>403</td>\n",
       "      <td>TRUE</td>\n",
       "      <td>2024-10-14 8:40:51</td>\n",
       "      <td>R_2JyeVCHzCmnw9LL</td>\n",
       "      <td>NaN</td>\n",
       "      <td>...</td>\n",
       "      <td>Balanced</td>\n",
       "      <td>No comments</td>\n",
       "      <td>Yes</td>\n",
       "      <td>25-34</td>\n",
       "      <td>Bachelor's degree</td>\n",
       "      <td>Rather right-leaning</td>\n",
       "      <td>3</td>\n",
       "      <td>3</td>\n",
       "      <td>NaN</td>\n",
       "      <td>0</td>\n",
       "    </tr>\n",
       "    <tr>\n",
       "      <th>5</th>\n",
       "      <td>2024-10-14 8:33:58</td>\n",
       "      <td>2024-10-14 8:42:43</td>\n",
       "      <td>IP Address</td>\n",
       "      <td>86.149.251.205</td>\n",
       "      <td>100</td>\n",
       "      <td>524</td>\n",
       "      <td>TRUE</td>\n",
       "      <td>2024-10-14 8:42:43</td>\n",
       "      <td>R_2qdsnCZnueIJsvt</td>\n",
       "      <td>NaN</td>\n",
       "      <td>...</td>\n",
       "      <td>Balanced</td>\n",
       "      <td>NaN</td>\n",
       "      <td>Yes</td>\n",
       "      <td>35-44</td>\n",
       "      <td>Bachelor's degree</td>\n",
       "      <td>Moderate</td>\n",
       "      <td>2</td>\n",
       "      <td>2</td>\n",
       "      <td>NaN</td>\n",
       "      <td>0</td>\n",
       "    </tr>\n",
       "    <tr>\n",
       "      <th>6</th>\n",
       "      <td>2024-10-14 8:34:23</td>\n",
       "      <td>2024-10-14 8:43:16</td>\n",
       "      <td>IP Address</td>\n",
       "      <td>82.36.147.243</td>\n",
       "      <td>100</td>\n",
       "      <td>533</td>\n",
       "      <td>TRUE</td>\n",
       "      <td>2024-10-14 8:43:16</td>\n",
       "      <td>R_879hcKiT8Mhdw9Y</td>\n",
       "      <td>NaN</td>\n",
       "      <td>...</td>\n",
       "      <td>Rather intense</td>\n",
       "      <td>i d prfer having a few more examples</td>\n",
       "      <td>Yes</td>\n",
       "      <td>25-34</td>\n",
       "      <td>Bachelor's degree</td>\n",
       "      <td>Left-wing</td>\n",
       "      <td>2</td>\n",
       "      <td>2</td>\n",
       "      <td>NaN</td>\n",
       "      <td>1</td>\n",
       "    </tr>\n",
       "    <tr>\n",
       "      <th>7</th>\n",
       "      <td>2024-10-14 8:33:53</td>\n",
       "      <td>2024-10-14 8:44:43</td>\n",
       "      <td>IP Address</td>\n",
       "      <td>90.247.227.177</td>\n",
       "      <td>100</td>\n",
       "      <td>649</td>\n",
       "      <td>TRUE</td>\n",
       "      <td>2024-10-14 8:44:43</td>\n",
       "      <td>R_8TBbcEjjdEZsMcV</td>\n",
       "      <td>NaN</td>\n",
       "      <td>...</td>\n",
       "      <td>Rather intense</td>\n",
       "      <td>Really hard to decide on the differences betwe...</td>\n",
       "      <td>Yes</td>\n",
       "      <td>35-44</td>\n",
       "      <td>Master's degree</td>\n",
       "      <td>Moderate</td>\n",
       "      <td>3</td>\n",
       "      <td>3</td>\n",
       "      <td>NaN</td>\n",
       "      <td>0</td>\n",
       "    </tr>\n",
       "    <tr>\n",
       "      <th>8</th>\n",
       "      <td>2024-10-14 8:35:30</td>\n",
       "      <td>2024-10-14 8:44:49</td>\n",
       "      <td>IP Address</td>\n",
       "      <td>31.125.90.92</td>\n",
       "      <td>100</td>\n",
       "      <td>559</td>\n",
       "      <td>TRUE</td>\n",
       "      <td>2024-10-14 8:44:50</td>\n",
       "      <td>R_2azBvmIkPvtAVtn</td>\n",
       "      <td>NaN</td>\n",
       "      <td>...</td>\n",
       "      <td>Rather intense</td>\n",
       "      <td>No feedback</td>\n",
       "      <td>Yes</td>\n",
       "      <td>25-34</td>\n",
       "      <td>Bachelor's degree</td>\n",
       "      <td>Rather left-leaning</td>\n",
       "      <td>3</td>\n",
       "      <td>3</td>\n",
       "      <td>NaN</td>\n",
       "      <td>0</td>\n",
       "    </tr>\n",
       "    <tr>\n",
       "      <th>9</th>\n",
       "      <td>2024-10-14 8:37:48</td>\n",
       "      <td>2024-10-14 8:47:25</td>\n",
       "      <td>IP Address</td>\n",
       "      <td>185.58.166.46</td>\n",
       "      <td>100</td>\n",
       "      <td>576</td>\n",
       "      <td>TRUE</td>\n",
       "      <td>2024-10-14 8:47:25</td>\n",
       "      <td>R_2xJWSHCKJPYzDwu</td>\n",
       "      <td>NaN</td>\n",
       "      <td>...</td>\n",
       "      <td>Very intense</td>\n",
       "      <td>It was a very hard task</td>\n",
       "      <td>Yes</td>\n",
       "      <td>45-54</td>\n",
       "      <td>Bachelor's degree</td>\n",
       "      <td>Moderate</td>\n",
       "      <td>2</td>\n",
       "      <td>2</td>\n",
       "      <td>NaN</td>\n",
       "      <td>0</td>\n",
       "    </tr>\n",
       "  </tbody>\n",
       "</table>\n",
       "<p>10 rows × 46 columns</p>\n",
       "</div>"
      ],
      "text/plain": [
       "            StartDate             EndDate      Status       IPAddress  \\\n",
       "0  2024-10-14 8:34:09  2024-10-14 8:39:36  IP Address   92.233.125.85   \n",
       "1  2024-10-14 8:33:53  2024-10-14 8:39:37  IP Address    90.152.7.115   \n",
       "2  2024-10-14 8:34:29  2024-10-14 8:40:10  IP Address  85.255.234.225   \n",
       "3  2024-10-14 8:34:55  2024-10-14 8:40:15  IP Address     31.94.68.30   \n",
       "4  2024-10-14 8:34:08  2024-10-14 8:40:51  IP Address     82.37.23.17   \n",
       "5  2024-10-14 8:33:58  2024-10-14 8:42:43  IP Address  86.149.251.205   \n",
       "6  2024-10-14 8:34:23  2024-10-14 8:43:16  IP Address   82.36.147.243   \n",
       "7  2024-10-14 8:33:53  2024-10-14 8:44:43  IP Address  90.247.227.177   \n",
       "8  2024-10-14 8:35:30  2024-10-14 8:44:49  IP Address    31.125.90.92   \n",
       "9  2024-10-14 8:37:48  2024-10-14 8:47:25  IP Address   185.58.166.46   \n",
       "\n",
       "  Progress Duration (in seconds) Finished        RecordedDate  \\\n",
       "0      100                   327     TRUE  2024-10-14 8:39:37   \n",
       "1      100                   344     TRUE  2024-10-14 8:39:37   \n",
       "2      100                   341     TRUE  2024-10-14 8:40:11   \n",
       "3      100                   319     TRUE  2024-10-14 8:40:15   \n",
       "4      100                   403     TRUE  2024-10-14 8:40:51   \n",
       "5      100                   524     TRUE  2024-10-14 8:42:43   \n",
       "6      100                   533     TRUE  2024-10-14 8:43:16   \n",
       "7      100                   649     TRUE  2024-10-14 8:44:43   \n",
       "8      100                   559     TRUE  2024-10-14 8:44:50   \n",
       "9      100                   576     TRUE  2024-10-14 8:47:25   \n",
       "\n",
       "          ResponseId RecipientLastName  ...             Q27  \\\n",
       "0  R_8YVCbQzya8qmEXY               NaN  ...  Rather intense   \n",
       "1  R_22QQb5C3XXTBHZK               NaN  ...  Rather intense   \n",
       "2  R_85LTrNabmZLoowN               NaN  ...  Rather intense   \n",
       "3  R_2IF8yyiieeERYQI               NaN  ...        Balanced   \n",
       "4  R_2JyeVCHzCmnw9LL               NaN  ...        Balanced   \n",
       "5  R_2qdsnCZnueIJsvt               NaN  ...        Balanced   \n",
       "6  R_879hcKiT8Mhdw9Y               NaN  ...  Rather intense   \n",
       "7  R_8TBbcEjjdEZsMcV               NaN  ...  Rather intense   \n",
       "8  R_2azBvmIkPvtAVtn               NaN  ...  Rather intense   \n",
       "9  R_2xJWSHCKJPYzDwu               NaN  ...    Very intense   \n",
       "\n",
       "                                                 Q28 Q28.1  Q27.1  \\\n",
       "0  There was a lot of options and hard to remembe...   Yes  18-24   \n",
       "1                                                NaN   Yes  18-24   \n",
       "2  Quite difficult to differentiate between contr...   Yes  18-24   \n",
       "3                                                NaN   Yes  25-34   \n",
       "4                                        No comments   Yes  25-34   \n",
       "5                                                NaN   Yes  35-44   \n",
       "6               i d prfer having a few more examples   Yes  25-34   \n",
       "7  Really hard to decide on the differences betwe...   Yes  35-44   \n",
       "8                                        No feedback   Yes  25-34   \n",
       "9                            It was a very hard task   Yes  45-54   \n",
       "\n",
       "                 Q30                 Q28.2 SC0 CorrectAnswers  \\\n",
       "0  Bachelor's degree              Moderate   2              2   \n",
       "1  Bachelor's degree   Rather left-leaning   3              3   \n",
       "2    Master's degree   Rather left-leaning   2              2   \n",
       "3              Ph.D.             Left-wing   2              2   \n",
       "4  Bachelor's degree  Rather right-leaning   3              3   \n",
       "5  Bachelor's degree              Moderate   2              2   \n",
       "6  Bachelor's degree             Left-wing   2              2   \n",
       "7    Master's degree              Moderate   3              3   \n",
       "8  Bachelor's degree   Rather left-leaning   3              3   \n",
       "9  Bachelor's degree              Moderate   2              2   \n",
       "\n",
       "  Create New Field or Choose From Dropdown... AttentionCheck  \n",
       "0                                         NaN              1  \n",
       "1                                         NaN              0  \n",
       "2                                         NaN              0  \n",
       "3                                         NaN              0  \n",
       "4                                         NaN              0  \n",
       "5                                         NaN              0  \n",
       "6                                         NaN              1  \n",
       "7                                         NaN              0  \n",
       "8                                         NaN              0  \n",
       "9                                         NaN              0  \n",
       "\n",
       "[10 rows x 46 columns]"
      ]
     },
     "execution_count": 109,
     "metadata": {},
     "output_type": "execute_result"
    }
   ],
   "source": [
    "df"
   ]
  },
  {
   "cell_type": "code",
   "execution_count": 110,
   "metadata": {},
   "outputs": [],
   "source": [
    "annotators = dict()\n",
    "for i in range(len(df)):\n",
    "    annotators[i] = []\n",
    "    for q in range(1, 9):\n",
    "        annotators[i].append(df.iloc[i][str(q)])"
   ]
  },
  {
   "cell_type": "code",
   "execution_count": 111,
   "metadata": {},
   "outputs": [
    {
     "data": {
      "text/plain": [
       "{0: ['Factual inconsistency',\n",
       "  'Factual inconsistency',\n",
       "  'Expectations violation',\n",
       "  'Unrelated',\n",
       "  'Factual inconsistency',\n",
       "  'Consistent',\n",
       "  'Factual inconsistency',\n",
       "  'Unrelated'],\n",
       " 1: ['Unrelated',\n",
       "  'Consistent',\n",
       "  'Expectations violation',\n",
       "  'Expectations violation',\n",
       "  'Expectations violation',\n",
       "  'Expectations violation',\n",
       "  'Consistent',\n",
       "  'Factual inconsistency'],\n",
       " 2: ['Unrelated',\n",
       "  'Expectations violation',\n",
       "  'Unrelated',\n",
       "  'Surface contradiction',\n",
       "  'Expectations violation',\n",
       "  'Consistent',\n",
       "  'Expectations violation',\n",
       "  'Expectations violation'],\n",
       " 3: ['Unrelated',\n",
       "  'Consistent',\n",
       "  'Expectations violation',\n",
       "  'Surface contradiction',\n",
       "  'Surface contradiction',\n",
       "  'Consistent',\n",
       "  'Surface contradiction',\n",
       "  'Expectations violation'],\n",
       " 4: ['Expectations violation',\n",
       "  'Expectations violation',\n",
       "  'Expectations violation',\n",
       "  'Factual inconsistency',\n",
       "  'Factual inconsistency',\n",
       "  'Expectations violation',\n",
       "  'Surface contradiction',\n",
       "  'Expectations violation'],\n",
       " 5: ['Expectations violation',\n",
       "  'Factual inconsistency',\n",
       "  'Expectations violation',\n",
       "  'Factual inconsistency',\n",
       "  'Factual inconsistency',\n",
       "  'Factual inconsistency',\n",
       "  'Factual inconsistency',\n",
       "  'Expectations violation'],\n",
       " 6: ['Unrelated',\n",
       "  'Factual inconsistency',\n",
       "  'Factual inconsistency',\n",
       "  'Factual inconsistency',\n",
       "  'Unrelated',\n",
       "  'Factual inconsistency',\n",
       "  'Factual inconsistency',\n",
       "  'Unrelated'],\n",
       " 7: ['Expectations violation',\n",
       "  'Factual inconsistency',\n",
       "  'Expectations violation',\n",
       "  'Factual inconsistency',\n",
       "  'Factual inconsistency',\n",
       "  'Factual inconsistency',\n",
       "  'Factual inconsistency',\n",
       "  'Expectations violation'],\n",
       " 8: ['Expectations violation',\n",
       "  'Factual inconsistency',\n",
       "  'Surface contradiction',\n",
       "  'Expectations violation',\n",
       "  'Expectations violation',\n",
       "  'Factual inconsistency',\n",
       "  'Surface contradiction',\n",
       "  'Factual inconsistency'],\n",
       " 9: ['Expectations violation',\n",
       "  'Unrelated',\n",
       "  'Expectations violation',\n",
       "  'Unrelated',\n",
       "  'Surface contradiction',\n",
       "  'Factual inconsistency',\n",
       "  'Factual inconsistency',\n",
       "  'Surface contradiction']}"
      ]
     },
     "execution_count": 111,
     "metadata": {},
     "output_type": "execute_result"
    }
   ],
   "source": [
    "annotators"
   ]
  },
  {
   "cell_type": "code",
   "execution_count": 112,
   "metadata": {},
   "outputs": [],
   "source": [
    "# lvl_to_number = {'Level 1': 1, 'Level 2': 2, 'Level 3': 3, 'Level 4': 4, 'Level 5': 5, 'Unrelated': 6, 'Consistent': 7}\n",
    "# lvl_to_number = {'Level 1 (logical inconsistency)': 1, 'Level 2 (linguistic inconsistency)': 2, 'Level 3 (requires domain knowledge)': 3, 'Level 4 (inconsistency in values/directions)': 4, 'Level 5 (surprise/breaking stereotypes)': 5, 'Unrelated': 6, 'Consistent': 7}\n",
    "# lvl_to_number = {'Level 1 (Surface contradiction)': 1, 'Level 2 (Meaning contradiction)': 2, 'Level 3 (Domain knowledge contradiction)': 3, 'Level 4 (Inconsistency in values/directions)': 4, 'Level 5 (Surprise/breaking stereotypes)': 5, 'Unrelated': 6, 'Consistent': 7}\n",
    "lvl_to_number = {'Surface contradiction': 1, 'Expectations violation': 2, 'Factual inconsistency': 3, 'Unrelated': 4, 'Consistent': 5}"
   ]
  },
  {
   "cell_type": "code",
   "execution_count": 113,
   "metadata": {},
   "outputs": [],
   "source": [
    "for i in range(len(annotators)):\n",
    "    annotators[i] = list(map(lambda x: lvl_to_number[x], annotators[i]))"
   ]
  },
  {
   "cell_type": "code",
   "execution_count": 114,
   "metadata": {},
   "outputs": [
    {
     "data": {
      "text/plain": [
       "{0: [3, 3, 2, 4, 3, 5, 3, 4],\n",
       " 1: [4, 5, 2, 2, 2, 2, 5, 3],\n",
       " 2: [4, 2, 4, 1, 2, 5, 2, 2],\n",
       " 3: [4, 5, 2, 1, 1, 5, 1, 2],\n",
       " 4: [2, 2, 2, 3, 3, 2, 1, 2],\n",
       " 5: [2, 3, 2, 3, 3, 3, 3, 2],\n",
       " 6: [4, 3, 3, 3, 4, 3, 3, 4],\n",
       " 7: [2, 3, 2, 3, 3, 3, 3, 2],\n",
       " 8: [2, 3, 1, 2, 2, 3, 1, 3],\n",
       " 9: [2, 4, 2, 4, 1, 3, 3, 1]}"
      ]
     },
     "execution_count": 114,
     "metadata": {},
     "output_type": "execute_result"
    }
   ],
   "source": [
    "annotators"
   ]
  },
  {
   "cell_type": "code",
   "execution_count": 115,
   "metadata": {},
   "outputs": [],
   "source": [
    "matrix_krippendorff = []\n",
    "for i in range(len(annotators[0])):\n",
    "    res_question = []\n",
    "    for an in range(len(annotators)):\n",
    "        res_question.append(annotators[an][i])\n",
    "    matrix_krippendorff.append(res_question)"
   ]
  },
  {
   "cell_type": "code",
   "execution_count": 116,
   "metadata": {},
   "outputs": [
    {
     "data": {
      "text/plain": [
       "[[3, 4, 4, 4, 2, 2, 4, 2, 2, 2],\n",
       " [3, 5, 2, 5, 2, 3, 3, 3, 3, 4],\n",
       " [2, 2, 4, 2, 2, 2, 3, 2, 1, 2],\n",
       " [4, 2, 1, 1, 3, 3, 3, 3, 2, 4],\n",
       " [3, 2, 2, 1, 3, 3, 4, 3, 2, 1],\n",
       " [5, 2, 5, 5, 2, 3, 3, 3, 3, 3],\n",
       " [3, 5, 2, 1, 1, 3, 3, 3, 1, 3],\n",
       " [4, 3, 2, 2, 2, 2, 4, 2, 3, 1]]"
      ]
     },
     "execution_count": 116,
     "metadata": {},
     "output_type": "execute_result"
    }
   ],
   "source": [
    "matrix_krippendorff"
   ]
  },
  {
   "cell_type": "code",
   "execution_count": 41,
   "metadata": {},
   "outputs": [
    {
     "ename": "TypeError",
     "evalue": "too many positional arguments",
     "output_type": "error",
     "traceback": [
      "\u001b[1;31m---------------------------------------------------------------------------\u001b[0m",
      "\u001b[1;31mTypeError\u001b[0m                                 Traceback (most recent call last)",
      "Cell \u001b[1;32mIn[41], line 1\u001b[0m\n\u001b[1;32m----> 1\u001b[0m weighted_kappa_linear \u001b[38;5;241m=\u001b[39m \u001b[43mcohen_kappa_score\u001b[49m\u001b[43m(\u001b[49m\u001b[43mannotators\u001b[49m\u001b[43m[\u001b[49m\u001b[38;5;241;43m0\u001b[39;49m\u001b[43m]\u001b[49m\u001b[43m,\u001b[49m\u001b[43m \u001b[49m\u001b[43mannotators\u001b[49m\u001b[43m[\u001b[49m\u001b[38;5;241;43m1\u001b[39;49m\u001b[43m]\u001b[49m\u001b[43m,\u001b[49m\u001b[43m \u001b[49m\u001b[43mannotators\u001b[49m\u001b[43m[\u001b[49m\u001b[38;5;241;43m2\u001b[39;49m\u001b[43m]\u001b[49m\u001b[43m,\u001b[49m\u001b[43m \u001b[49m\u001b[43mweights\u001b[49m\u001b[38;5;241;43m=\u001b[39;49m\u001b[38;5;124;43m'\u001b[39;49m\u001b[38;5;124;43mlinear\u001b[39;49m\u001b[38;5;124;43m'\u001b[39;49m\u001b[43m)\u001b[49m\n\u001b[0;32m      2\u001b[0m weighted_kappa_linear\n",
      "File \u001b[1;32m~\\AppData\\Local\\Packages\\PythonSoftwareFoundation.Python.3.11_qbz5n2kfra8p0\\LocalCache\\local-packages\\Python311\\site-packages\\sklearn\\utils\\_param_validation.py:192\u001b[0m, in \u001b[0;36mvalidate_params.<locals>.decorator.<locals>.wrapper\u001b[1;34m(*args, **kwargs)\u001b[0m\n\u001b[0;32m    189\u001b[0m func_sig \u001b[38;5;241m=\u001b[39m signature(func)\n\u001b[0;32m    191\u001b[0m \u001b[38;5;66;03m# Map *args/**kwargs to the function signature\u001b[39;00m\n\u001b[1;32m--> 192\u001b[0m params \u001b[38;5;241m=\u001b[39m \u001b[43mfunc_sig\u001b[49m\u001b[38;5;241;43m.\u001b[39;49m\u001b[43mbind\u001b[49m\u001b[43m(\u001b[49m\u001b[38;5;241;43m*\u001b[39;49m\u001b[43margs\u001b[49m\u001b[43m,\u001b[49m\u001b[43m \u001b[49m\u001b[38;5;241;43m*\u001b[39;49m\u001b[38;5;241;43m*\u001b[39;49m\u001b[43mkwargs\u001b[49m\u001b[43m)\u001b[49m\n\u001b[0;32m    193\u001b[0m params\u001b[38;5;241m.\u001b[39mapply_defaults()\n\u001b[0;32m    195\u001b[0m \u001b[38;5;66;03m# ignore self/cls and positional/keyword markers\u001b[39;00m\n",
      "File \u001b[1;32mC:\\Program Files\\WindowsApps\\PythonSoftwareFoundation.Python.3.11_3.11.2544.0_x64__qbz5n2kfra8p0\\Lib\\inspect.py:3195\u001b[0m, in \u001b[0;36mSignature.bind\u001b[1;34m(self, *args, **kwargs)\u001b[0m\n\u001b[0;32m   3190\u001b[0m \u001b[38;5;28;01mdef\u001b[39;00m \u001b[38;5;21mbind\u001b[39m(\u001b[38;5;28mself\u001b[39m, \u001b[38;5;241m/\u001b[39m, \u001b[38;5;241m*\u001b[39margs, \u001b[38;5;241m*\u001b[39m\u001b[38;5;241m*\u001b[39mkwargs):\n\u001b[0;32m   3191\u001b[0m \u001b[38;5;250m    \u001b[39m\u001b[38;5;124;03m\"\"\"Get a BoundArguments object, that maps the passed `args`\u001b[39;00m\n\u001b[0;32m   3192\u001b[0m \u001b[38;5;124;03m    and `kwargs` to the function's signature.  Raises `TypeError`\u001b[39;00m\n\u001b[0;32m   3193\u001b[0m \u001b[38;5;124;03m    if the passed arguments can not be bound.\u001b[39;00m\n\u001b[0;32m   3194\u001b[0m \u001b[38;5;124;03m    \"\"\"\u001b[39;00m\n\u001b[1;32m-> 3195\u001b[0m     \u001b[38;5;28;01mreturn\u001b[39;00m \u001b[38;5;28;43mself\u001b[39;49m\u001b[38;5;241;43m.\u001b[39;49m\u001b[43m_bind\u001b[49m\u001b[43m(\u001b[49m\u001b[43margs\u001b[49m\u001b[43m,\u001b[49m\u001b[43m \u001b[49m\u001b[43mkwargs\u001b[49m\u001b[43m)\u001b[49m\n",
      "File \u001b[1;32mC:\\Program Files\\WindowsApps\\PythonSoftwareFoundation.Python.3.11_3.11.2544.0_x64__qbz5n2kfra8p0\\Lib\\inspect.py:3121\u001b[0m, in \u001b[0;36mSignature._bind\u001b[1;34m(self, args, kwargs, partial)\u001b[0m\n\u001b[0;32m   3117\u001b[0m \u001b[38;5;28;01melse\u001b[39;00m:\n\u001b[0;32m   3118\u001b[0m     \u001b[38;5;28;01mif\u001b[39;00m param\u001b[38;5;241m.\u001b[39mkind \u001b[38;5;129;01min\u001b[39;00m (_VAR_KEYWORD, _KEYWORD_ONLY):\n\u001b[0;32m   3119\u001b[0m         \u001b[38;5;66;03m# Looks like we have no parameter for this positional\u001b[39;00m\n\u001b[0;32m   3120\u001b[0m         \u001b[38;5;66;03m# argument\u001b[39;00m\n\u001b[1;32m-> 3121\u001b[0m         \u001b[38;5;28;01mraise\u001b[39;00m \u001b[38;5;167;01mTypeError\u001b[39;00m(\n\u001b[0;32m   3122\u001b[0m             \u001b[38;5;124m'\u001b[39m\u001b[38;5;124mtoo many positional arguments\u001b[39m\u001b[38;5;124m'\u001b[39m) \u001b[38;5;28;01mfrom\u001b[39;00m \u001b[38;5;28;01mNone\u001b[39;00m\n\u001b[0;32m   3124\u001b[0m     \u001b[38;5;28;01mif\u001b[39;00m param\u001b[38;5;241m.\u001b[39mkind \u001b[38;5;241m==\u001b[39m _VAR_POSITIONAL:\n\u001b[0;32m   3125\u001b[0m         \u001b[38;5;66;03m# We have an '*args'-like argument, let's fill it with\u001b[39;00m\n\u001b[0;32m   3126\u001b[0m         \u001b[38;5;66;03m# all positional arguments we have left and move on to\u001b[39;00m\n\u001b[0;32m   3127\u001b[0m         \u001b[38;5;66;03m# the next phase\u001b[39;00m\n\u001b[0;32m   3128\u001b[0m         values \u001b[38;5;241m=\u001b[39m [arg_val]\n",
      "\u001b[1;31mTypeError\u001b[0m: too many positional arguments"
     ]
    }
   ],
   "source": [
    "weighted_kappa_linear = cohen_kappa_score(annotators[0], annotators[1], weights='linear')\n",
    "weighted_kappa_linear"
   ]
  },
  {
   "cell_type": "code",
   "execution_count": 22,
   "metadata": {},
   "outputs": [
    {
     "data": {
      "text/plain": [
       "4        Level 4\n",
       "6     Consistent\n",
       "7     Consistent\n",
       "8     Consistent\n",
       "9     Consistent\n",
       "11       Level 5\n",
       "12       Level 1\n",
       "13    Consistent\n",
       "14    Consistent\n",
       "15       Level 1\n",
       "Name: 4, dtype: object"
      ]
     },
     "execution_count": 22,
     "metadata": {},
     "output_type": "execute_result"
    }
   ],
   "source": [
    "df['4']"
   ]
  },
  {
   "cell_type": "code",
   "execution_count": 48,
   "metadata": {},
   "outputs": [],
   "source": [
    "# labels = ['Surface contradiction', 'Factual inconsistency', 'Expectations violation', 'Unrelated', 'Consistent'] 0.0438\n",
    "# labels = ['Level 1 (Surface contradiction)', 'Level 2 (Meaning contradiction)', 'Level 3 (Domain knowledge contradiction)', 'Level 4 (Inconsistency in values/directions)', 'Level 5 (Surprise/breaking stereotypes)', 'Unrelated', 'Consistent']\n",
    "# labels = ['Level 1 (logical inconsistency)', 'Level 2 (linguistic inconsistency)', 'Level 3 (requires domain knowledge)', 'Level 4 (inconsistency in values/directions)', 'Level 5 (surprise/breaking stereotypes)', 'Unrelated', 'Consistent']\n",
    "labels = ['Level 1', 'Level 2', 'Level 3', 'Level 4', 'Level 5', 'Unrelated', 'Consistent']"
   ]
  },
  {
   "cell_type": "code",
   "execution_count": 49,
   "metadata": {},
   "outputs": [],
   "source": [
    "matrix = []\n",
    "for i in range(1, 9):\n",
    "    quesiton_res = []\n",
    "    for label in labels:\n",
    "        try:\n",
    "            quesiton_res.append(Counter(data[str(i)])[label])\n",
    "        except:\n",
    "            quesiton_res.append(0)\n",
    "            \n",
    "    matrix.append(quesiton_res)"
   ]
  },
  {
   "cell_type": "code",
   "execution_count": 50,
   "metadata": {},
   "outputs": [
    {
     "data": {
      "text/plain": [
       "[[3, 0, 5, 2, 0, 0, 0],\n",
       " [0, 0, 3, 1, 0, 1, 5],\n",
       " [2, 0, 6, 2, 0, 0, 0],\n",
       " [2, 0, 0, 1, 1, 0, 6],\n",
       " [1, 0, 0, 1, 0, 8, 0],\n",
       " [4, 2, 3, 0, 0, 0, 1],\n",
       " [0, 0, 4, 2, 0, 4, 0],\n",
       " [2, 0, 5, 0, 0, 2, 1]]"
      ]
     },
     "execution_count": 50,
     "metadata": {},
     "output_type": "execute_result"
    }
   ],
   "source": [
    "matrix\n",
    "#first run \n",
    "# Fleiss Kappa: 0.1653460116217644\n",
    "# the highest cappa score for the first study with 5 labels?"
   ]
  },
  {
   "cell_type": "code",
   "execution_count": 45,
   "metadata": {},
   "outputs": [
    {
     "data": {
      "text/plain": [
       "[[1, 0, 7, 3, 0, 0, 0],\n",
       " [0, 0, 4, 5, 1, 0, 1],\n",
       " [1, 1, 2, 6, 0, 0, 1],\n",
       " [2, 0, 3, 2, 2, 2, 0],\n",
       " [0, 1, 5, 5, 0, 0, 0],\n",
       " [0, 0, 4, 1, 1, 0, 5],\n",
       " [4, 3, 1, 2, 0, 0, 1],\n",
       " [5, 5, 0, 1, 0, 0, 0]]"
      ]
     },
     "execution_count": 45,
     "metadata": {},
     "output_type": "execute_result"
    }
   ],
   "source": [
    "matrix\n",
    "# Fleiss Kappa: 0.1012151067323481\n",
    "# 17.09 run"
   ]
  },
  {
   "cell_type": "code",
   "execution_count": 38,
   "metadata": {},
   "outputs": [
    {
     "data": {
      "text/plain": [
       "[[1, 1, 3, 2, 0, 3, 0],\n",
       " [0, 0, 6, 3, 0, 0, 1],\n",
       " [1, 1, 3, 4, 1, 0, 0],\n",
       " [0, 0, 3, 4, 1, 0, 2],\n",
       " [3, 1, 3, 2, 1, 0, 0],\n",
       " [0, 0, 4, 4, 0, 0, 2],\n",
       " [5, 0, 1, 4, 0, 0, 0],\n",
       " [6, 4, 0, 0, 0, 0, 0]]"
      ]
     },
     "execution_count": 38,
     "metadata": {},
     "output_type": "execute_result"
    }
   ],
   "source": [
    "matrix\n",
    "# classical with verification\n",
    "# Fleiss Kappa: 0.07800471677123663\n"
   ]
  },
  {
   "cell_type": "code",
   "execution_count": 32,
   "metadata": {},
   "outputs": [
    {
     "data": {
      "text/plain": [
       "[[0, 1, 5, 3, 0, 1, 0],\n",
       " [0, 1, 5, 2, 1, 1, 0],\n",
       " [0, 1, 3, 5, 0, 0, 1],\n",
       " [0, 1, 3, 1, 0, 4, 1],\n",
       " [0, 0, 2, 8, 0, 0, 0],\n",
       " [0, 0, 6, 2, 0, 0, 2],\n",
       " [1, 2, 0, 6, 1, 0, 0],\n",
       " [0, 0, 3, 3, 4, 0, 0]]"
      ]
     },
     "execution_count": 32,
     "metadata": {},
     "output_type": "execute_result"
    }
   ],
   "source": [
    "matrix\n",
    "# surface meaning etc.\n",
    "# Fleiss Kappa: 0.08164729516429903\n"
   ]
  },
  {
   "cell_type": "code",
   "execution_count": 26,
   "metadata": {},
   "outputs": [
    {
     "data": {
      "text/plain": [
       "[[0, 1, 5, 4, 0],\n",
       " [0, 5, 2, 1, 2],\n",
       " [1, 1, 7, 1, 0],\n",
       " [2, 4, 2, 2, 0],\n",
       " [2, 4, 3, 1, 0],\n",
       " [0, 5, 2, 0, 3],\n",
       " [3, 5, 1, 0, 1],\n",
       " [1, 2, 5, 2, 0]]"
      ]
     },
     "execution_count": 26,
     "metadata": {},
     "output_type": "execute_result"
    }
   ],
   "source": [
    "matrix\n",
    "# Fleiss Kappa: 0.043839758125472465\n",
    "# latest one "
   ]
  },
  {
   "cell_type": "code",
   "execution_count": null,
   "metadata": {},
   "outputs": [],
   "source": []
  },
  {
   "cell_type": "code",
   "execution_count": 51,
   "metadata": {},
   "outputs": [
    {
     "name": "stdout",
     "output_type": "stream",
     "text": [
      "Fleiss Kappa: 0.1653460116217644\n"
     ]
    }
   ],
   "source": [
    "# Calculate Fleiss' Kappa\n",
    "kappa = fleiss_kappa(matrix, method='fleiss')\n",
    "print(f'Fleiss Kappa: {kappa}')"
   ]
  },
  {
   "cell_type": "code",
   "execution_count": 20,
   "metadata": {},
   "outputs": [
    {
     "data": {
      "text/plain": [
       "1"
      ]
     },
     "execution_count": 20,
     "metadata": {},
     "output_type": "execute_result"
    }
   ],
   "source": [
    "Counter(data[questions[0]])['Factual inconsistency']"
   ]
  },
  {
   "cell_type": "code",
   "execution_count": null,
   "metadata": {},
   "outputs": [],
   "source": [
    "matrix = [\n",
    "    [3, 2, 1, 2, 2],  # Question 1, counts for each of 5 labels\n",
    "    [2, 3, 3, 1, 1],  # Question 2\n",
    "    # Add other questions similarly...\n",
    "]"
   ]
  },
  {
   "cell_type": "code",
   "execution_count": null,
   "metadata": {},
   "outputs": [],
   "source": []
  }
 ],
 "metadata": {
  "kernelspec": {
   "display_name": "Python 3",
   "language": "python",
   "name": "python3"
  },
  "language_info": {
   "codemirror_mode": {
    "name": "ipython",
    "version": 3
   },
   "file_extension": ".py",
   "mimetype": "text/x-python",
   "name": "python",
   "nbconvert_exporter": "python",
   "pygments_lexer": "ipython3",
   "version": "3.11.9"
  }
 },
 "nbformat": 4,
 "nbformat_minor": 2
}
